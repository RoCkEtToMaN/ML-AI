{
  "nbformat": 4,
  "nbformat_minor": 0,
  "metadata": {
    "colab": {
      "name": "Sezione7: Eccezioni.ipynb",
      "provenance": [],
      "collapsed_sections": [],
      "authorship_tag": "ABX9TyN0sO9ccMOxce40kfm/Vi/5",
      "include_colab_link": true
    },
    "kernelspec": {
      "name": "python3",
      "display_name": "Python 3"
    }
  },
  "cells": [
    {
      "cell_type": "markdown",
      "metadata": {
        "id": "view-in-github",
        "colab_type": "text"
      },
      "source": [
        "<a href=\"https://colab.research.google.com/github/RoCkEtToMaN/Python/blob/master/Sezione7_Eccezioni.ipynb\" target=\"_parent\"><img src=\"https://colab.research.google.com/assets/colab-badge.svg\" alt=\"Open In Colab\"/></a>"
      ]
    },
    {
      "cell_type": "markdown",
      "metadata": {
        "id": "snu9JTwJJ4Vr",
        "colab_type": "text"
      },
      "source": [
        "# ***Le Eccezioni***\n",
        "\n",
        "## ***Introduzione***\n",
        "\n",
        "Le eccezioni sono eventi che Python, o qualsiasi altro pogramma,  scatena quando si verificano degli errori nel codice che causano le interruzioni imprevista del programma.\n",
        "\n",
        "![alt text](![alt text](C:\\Users\\glo\\Downloads\\bug1,png))\n",
        "FOTO\n",
        "\n",
        "\n",
        "Parlando con termini tecnici, quando si parlano di errori nel codice sorgente si parla di BUG.\n",
        "\n",
        "Il termine risalte al 1946 quando dei ricercatori americani provarono a capire il malfunzionamento di un Computer e trovarono che nel circuiti vi era una falena morta-----> BUG\n",
        "\n",
        "\n",
        "Parliamo di un altro termine a livello di programmazione che non si deve mai ignorare, CRASH.\n",
        "Ossia interruzione improvvisa del funzionamento di un programma.\n",
        "\n",
        "\n",
        "Parlando di BUG, ricordiamo nel 1996, l'Ariane5 razzo americani per l'esplorazione nello spazio, esplose dopo qualche secondo dalla sua partenza.\n",
        "Questo problema fu causata da un'unica variabile, che potenzialmente doveva essere di 64bit ma in realtà era di 16 bit e quindi poteva contenere un numero assai inferiore.\n",
        "\n",
        "FOTO\n",
        "\n",
        "\n",
        "\n",
        "## ***Anatomia di un'Eccezione***\n",
        "\n",
        "Consideriamo questo codice:\n",
        "\n",
        "\n",
        "\n",
        "```\n",
        "1    a = 10\n",
        "2    b = 0\n",
        "3    c = a/b\n",
        "\n",
        "```\n",
        "\n",
        "Proviamo ad eseguire una divisione per zero!\n",
        "Python (o qualsiasi altro tipo di linguaggio) genererà un'eccezione:\n"
      ]
    },
    {
      "cell_type": "code",
      "metadata": {
        "id": "xLTN_5MkIfvP",
        "colab_type": "code",
        "colab": {
          "base_uri": "https://localhost:8080/",
          "height": 195
        },
        "outputId": "a852ae02-3d10-4fe5-c693-087a81fa2629"
      },
      "source": [
        "a = 10\n",
        "b = 0\n",
        "c = a/b"
      ],
      "execution_count": null,
      "outputs": [
        {
          "output_type": "error",
          "ename": "ZeroDivisionError",
          "evalue": "ignored",
          "traceback": [
            "\u001b[0;31m---------------------------------------------------------------------------\u001b[0m",
            "\u001b[0;31mZeroDivisionError\u001b[0m                         Traceback (most recent call last)",
            "\u001b[0;32m<ipython-input-2-8899ab4192cf>\u001b[0m in \u001b[0;36m<module>\u001b[0;34m()\u001b[0m\n\u001b[1;32m      1\u001b[0m \u001b[0ma\u001b[0m \u001b[0;34m=\u001b[0m \u001b[0;36m10\u001b[0m\u001b[0;34m\u001b[0m\u001b[0;34m\u001b[0m\u001b[0m\n\u001b[1;32m      2\u001b[0m \u001b[0mb\u001b[0m \u001b[0;34m=\u001b[0m \u001b[0;36m0\u001b[0m\u001b[0;34m\u001b[0m\u001b[0;34m\u001b[0m\u001b[0m\n\u001b[0;32m----> 3\u001b[0;31m \u001b[0mc\u001b[0m \u001b[0;34m=\u001b[0m \u001b[0ma\u001b[0m\u001b[0;34m/\u001b[0m\u001b[0mb\u001b[0m\u001b[0;34m\u001b[0m\u001b[0;34m\u001b[0m\u001b[0m\n\u001b[0m",
            "\u001b[0;31mZeroDivisionError\u001b[0m: division by zero"
          ]
        }
      ]
    },
    {
      "cell_type": "markdown",
      "metadata": {
        "id": "rvsfNtEmA4a8",
        "colab_type": "text"
      },
      "source": [
        "\n",
        "\n",
        "```\n",
        "---------------------------------------------------------------------------\n",
        "ZeroDivisionError                         Traceback (most recent call last)\n",
        "<ipython-input-2-8899ab4192cf> in <module>()\n",
        "      1 a = 10\n",
        "      2 b = 0\n",
        "----> 3 c = a/b\n",
        "\n",
        "ZeroDivisionError: division by zero\n",
        "```\n",
        "Vediamo che indica la riga in cui è stata chiamata l'eccezione e successivamente che tipo di eccezione!\n",
        "\n",
        "\n",
        "IN questo modo si può andare ad interpretare un'eccezione ma non sempre è cosi sempre facile da determinare, sono annidati in altre funzioni o script.\n",
        "\n",
        "\n",
        "\n",
        "*   *Bug Annidati*: in questo caso\n",
        "\n",
        "       \n",
        "\n",
        "```\n",
        "def division(a,b):\n",
        "    return a/b\n",
        "\n",
        "division(10,0)\n",
        "```\n",
        "\n",
        "Quindi in questo caso l'eccezione è scatenata della riga 2 contenuta nella funzione Division.\n",
        "\n",
        "\n",
        "\n"
      ]
    },
    {
      "cell_type": "code",
      "metadata": {
        "id": "SxwAb2MsC3Kz",
        "colab_type": "code",
        "colab": {
          "base_uri": "https://localhost:8080/",
          "height": 296
        },
        "outputId": "568c405a-f59d-43a5-b491-f034675f841c"
      },
      "source": [
        "def division(a,b):\n",
        "    return a/b\n",
        "\n",
        "division(10,0)"
      ],
      "execution_count": null,
      "outputs": [
        {
          "output_type": "error",
          "ename": "ZeroDivisionError",
          "evalue": "ignored",
          "traceback": [
            "\u001b[0;31m---------------------------------------------------------------------------\u001b[0m",
            "\u001b[0;31mZeroDivisionError\u001b[0m                         Traceback (most recent call last)",
            "\u001b[0;32m<ipython-input-3-626d02399700>\u001b[0m in \u001b[0;36m<module>\u001b[0;34m()\u001b[0m\n\u001b[1;32m      2\u001b[0m     \u001b[0;32mreturn\u001b[0m \u001b[0ma\u001b[0m\u001b[0;34m/\u001b[0m\u001b[0mb\u001b[0m\u001b[0;34m\u001b[0m\u001b[0;34m\u001b[0m\u001b[0m\n\u001b[1;32m      3\u001b[0m \u001b[0;34m\u001b[0m\u001b[0m\n\u001b[0;32m----> 4\u001b[0;31m \u001b[0mdivision\u001b[0m\u001b[0;34m(\u001b[0m\u001b[0;36m10\u001b[0m\u001b[0;34m,\u001b[0m\u001b[0;36m0\u001b[0m\u001b[0;34m)\u001b[0m\u001b[0;34m\u001b[0m\u001b[0;34m\u001b[0m\u001b[0m\n\u001b[0m",
            "\u001b[0;32m<ipython-input-3-626d02399700>\u001b[0m in \u001b[0;36mdivision\u001b[0;34m(a, b)\u001b[0m\n\u001b[1;32m      1\u001b[0m \u001b[0;32mdef\u001b[0m \u001b[0mdivision\u001b[0m\u001b[0;34m(\u001b[0m\u001b[0ma\u001b[0m\u001b[0;34m,\u001b[0m\u001b[0mb\u001b[0m\u001b[0;34m)\u001b[0m\u001b[0;34m:\u001b[0m\u001b[0;34m\u001b[0m\u001b[0;34m\u001b[0m\u001b[0m\n\u001b[0;32m----> 2\u001b[0;31m     \u001b[0;32mreturn\u001b[0m \u001b[0ma\u001b[0m\u001b[0;34m/\u001b[0m\u001b[0mb\u001b[0m\u001b[0;34m\u001b[0m\u001b[0;34m\u001b[0m\u001b[0m\n\u001b[0m\u001b[1;32m      3\u001b[0m \u001b[0;34m\u001b[0m\u001b[0m\n\u001b[1;32m      4\u001b[0m \u001b[0mdivision\u001b[0m\u001b[0;34m(\u001b[0m\u001b[0;36m10\u001b[0m\u001b[0;34m,\u001b[0m\u001b[0;36m0\u001b[0m\u001b[0;34m)\u001b[0m\u001b[0;34m\u001b[0m\u001b[0;34m\u001b[0m\u001b[0m\n",
            "\u001b[0;31mZeroDivisionError\u001b[0m: division by zero"
          ]
        }
      ]
    },
    {
      "cell_type": "markdown",
      "metadata": {
        "id": "uZ0rk5hEDEWX",
        "colab_type": "text"
      },
      "source": [
        "\n",
        "\n",
        "```\n",
        "---------------------------------------------------------------------------\n",
        "ZeroDivisionError                         Traceback (most recent call last)\n",
        "<ipython-input-3-626d02399700> in <module>()\n",
        "      2     return a/b\n",
        "      3 \n",
        "----> 4 division(10,0)\n",
        "\n",
        "<ipython-input-3-626d02399700> in division(a, b)\n",
        "      1 def division(a,b):\n",
        "----> 2     return a/b\n",
        "      3 \n",
        "      4 division(10,0)\n",
        "\n",
        "ZeroDivisionError: division by zero\n",
        "```\n",
        "\n"
      ]
    },
    {
      "cell_type": "markdown",
      "metadata": {
        "id": "sPe--iIFDHky",
        "colab_type": "text"
      },
      "source": [
        "Volendo possiamo andare a vedere un bug ancor piu annidato:\n"
      ]
    },
    {
      "cell_type": "code",
      "metadata": {
        "id": "lKW211D6DNVJ",
        "colab_type": "code",
        "colab": {
          "base_uri": "https://localhost:8080/",
          "height": 471
        },
        "outputId": "3642c0db-5d1f-426f-c7b2-89c2f14370a5"
      },
      "source": [
        "def sum(a,b):\n",
        "    return a+b\n",
        "\n",
        "def diff(a,b):\n",
        "    return a-b\n",
        "\n",
        "def product(a,b):\n",
        "    return a*b\n",
        "\n",
        "def division(a,b):\n",
        "    return a/b\n",
        "\n",
        "def operation(a,b,op):\n",
        "    \n",
        "    if(op==\"+\"):\n",
        "        return sum(a,b)\n",
        "    if(op==\"-\"):\n",
        "        return diff(a,b)\n",
        "    if(op==\"*\"):\n",
        "        return product(a,b)\n",
        "    if(op==\"/\"):\n",
        "        return division(a,b)\n",
        "    \n",
        "    return none\n",
        "\n",
        "\n",
        "operation(10,0,\"/\")\n",
        "    "
      ],
      "execution_count": null,
      "outputs": [
        {
          "output_type": "error",
          "ename": "ZeroDivisionError",
          "evalue": "ignored",
          "traceback": [
            "\u001b[0;31m---------------------------------------------------------------------------\u001b[0m",
            "\u001b[0;31mZeroDivisionError\u001b[0m                         Traceback (most recent call last)",
            "\u001b[0;32m<ipython-input-7-4b33a9644b4a>\u001b[0m in \u001b[0;36m<module>\u001b[0;34m()\u001b[0m\n\u001b[1;32m     25\u001b[0m \u001b[0;34m\u001b[0m\u001b[0m\n\u001b[1;32m     26\u001b[0m \u001b[0;34m\u001b[0m\u001b[0m\n\u001b[0;32m---> 27\u001b[0;31m \u001b[0moperation\u001b[0m\u001b[0;34m(\u001b[0m\u001b[0;36m10\u001b[0m\u001b[0;34m,\u001b[0m\u001b[0;36m0\u001b[0m\u001b[0;34m,\u001b[0m\u001b[0;34m\"/\"\u001b[0m\u001b[0;34m)\u001b[0m\u001b[0;34m\u001b[0m\u001b[0;34m\u001b[0m\u001b[0m\n\u001b[0m\u001b[1;32m     28\u001b[0m \u001b[0;34m\u001b[0m\u001b[0m\n",
            "\u001b[0;32m<ipython-input-7-4b33a9644b4a>\u001b[0m in \u001b[0;36moperation\u001b[0;34m(a, b, op)\u001b[0m\n\u001b[1;32m     20\u001b[0m         \u001b[0;32mreturn\u001b[0m \u001b[0mproduct\u001b[0m\u001b[0;34m(\u001b[0m\u001b[0ma\u001b[0m\u001b[0;34m,\u001b[0m\u001b[0mb\u001b[0m\u001b[0;34m)\u001b[0m\u001b[0;34m\u001b[0m\u001b[0;34m\u001b[0m\u001b[0m\n\u001b[1;32m     21\u001b[0m     \u001b[0;32mif\u001b[0m\u001b[0;34m(\u001b[0m\u001b[0mop\u001b[0m\u001b[0;34m==\u001b[0m\u001b[0;34m\"/\"\u001b[0m\u001b[0;34m)\u001b[0m\u001b[0;34m:\u001b[0m\u001b[0;34m\u001b[0m\u001b[0;34m\u001b[0m\u001b[0m\n\u001b[0;32m---> 22\u001b[0;31m         \u001b[0;32mreturn\u001b[0m \u001b[0mdivision\u001b[0m\u001b[0;34m(\u001b[0m\u001b[0ma\u001b[0m\u001b[0;34m,\u001b[0m\u001b[0mb\u001b[0m\u001b[0;34m)\u001b[0m\u001b[0;34m\u001b[0m\u001b[0;34m\u001b[0m\u001b[0m\n\u001b[0m\u001b[1;32m     23\u001b[0m \u001b[0;34m\u001b[0m\u001b[0m\n\u001b[1;32m     24\u001b[0m     \u001b[0;32mreturn\u001b[0m \u001b[0mnone\u001b[0m\u001b[0;34m\u001b[0m\u001b[0;34m\u001b[0m\u001b[0m\n",
            "\u001b[0;32m<ipython-input-7-4b33a9644b4a>\u001b[0m in \u001b[0;36mdivision\u001b[0;34m(a, b)\u001b[0m\n\u001b[1;32m      9\u001b[0m \u001b[0;34m\u001b[0m\u001b[0m\n\u001b[1;32m     10\u001b[0m \u001b[0;32mdef\u001b[0m \u001b[0mdivision\u001b[0m\u001b[0;34m(\u001b[0m\u001b[0ma\u001b[0m\u001b[0;34m,\u001b[0m\u001b[0mb\u001b[0m\u001b[0;34m)\u001b[0m\u001b[0;34m:\u001b[0m\u001b[0;34m\u001b[0m\u001b[0;34m\u001b[0m\u001b[0m\n\u001b[0;32m---> 11\u001b[0;31m     \u001b[0;32mreturn\u001b[0m \u001b[0ma\u001b[0m\u001b[0;34m/\u001b[0m\u001b[0mb\u001b[0m\u001b[0;34m\u001b[0m\u001b[0;34m\u001b[0m\u001b[0m\n\u001b[0m\u001b[1;32m     12\u001b[0m \u001b[0;34m\u001b[0m\u001b[0m\n\u001b[1;32m     13\u001b[0m \u001b[0;32mdef\u001b[0m \u001b[0moperation\u001b[0m\u001b[0;34m(\u001b[0m\u001b[0ma\u001b[0m\u001b[0;34m,\u001b[0m\u001b[0mb\u001b[0m\u001b[0;34m,\u001b[0m\u001b[0mop\u001b[0m\u001b[0;34m)\u001b[0m\u001b[0;34m:\u001b[0m\u001b[0;34m\u001b[0m\u001b[0;34m\u001b[0m\u001b[0m\n",
            "\u001b[0;31mZeroDivisionError\u001b[0m: division by zero"
          ]
        }
      ]
    },
    {
      "cell_type": "markdown",
      "metadata": {
        "id": "7Q9-qxvMEVrD",
        "colab_type": "text"
      },
      "source": [
        "\n",
        "\n",
        "```\n",
        "---------------------------------------------------------------------------\n",
        "ZeroDivisionError                         Traceback (most recent call last)\n",
        "<ipython-input-7-4b33a9644b4a> in <module>()\n",
        "     25 \n",
        "     26 \n",
        "---> 27 operation(10,0,\"/\")\n",
        "     28 \n",
        "\n",
        "1 frames\n",
        "<ipython-input-7-4b33a9644b4a> in operation(a, b, op)\n",
        "     20         return product(a,b)\n",
        "     21     if(op==\"/\"):\n",
        "---> 22         return division(a,b)\n",
        "     23 \n",
        "     24     return none\n",
        "\n",
        "<ipython-input-7-4b33a9644b4a> in division(a, b)\n",
        "      9 \n",
        "     10 def division(a,b):\n",
        "---> 11     return a/b\n",
        "     12 \n",
        "     13 def operation(a,b,op):\n",
        "\n",
        "ZeroDivisionError: division by zero\n",
        "```\n",
        "\n"
      ]
    },
    {
      "cell_type": "code",
      "metadata": {
        "id": "SPrueKvgLWaZ",
        "colab_type": "code",
        "colab": {}
      },
      "source": [
        ""
      ],
      "execution_count": null,
      "outputs": []
    },
    {
      "cell_type": "markdown",
      "metadata": {
        "id": "YF_u13byEYy5",
        "colab_type": "text"
      },
      "source": [
        "Vediamo che vi è un passaggio in più che ci fa vedere il percorso che ha fatto l'eccezione!\n",
        "\n",
        "Se voglio conoscere l'istruzione esatta che ha invocato l'eccezione, basta guardare l'ultima riga sopra il nome dell'eccezione."
      ]
    },
    {
      "cell_type": "markdown",
      "metadata": {
        "id": "KYgm8uhFHE6d",
        "colab_type": "text"
      },
      "source": [
        "##Tipi di Eccezione\n",
        "\n",
        "Vediamo qualche tipo di eccezioni che si possono trovare, contando che sono veramente tanti ma cerchiamo di vedere quelle piu comuni.\n",
        "\n",
        "\n",
        "\n",
        "*   *Errori di sintassi*: magari inseriamo qualche parentesi sbagliata\n",
        "*   *Errori nei nomi*: quando utilizziamo variabile/funzione non dichiarata\n",
        "*   *Errori nelle operazioni*: tipo quando proviamo a fare delle operazioni tra variabili di tipo diverso\n",
        "*   *Errori Indice fuori dal Range*: quando proviamo ad accedere ad un indice i-esimo che non esiste nella lista/tupla\n",
        "\n",
        "\n",
        "*   *Errori di Chiave Mancante*: abbiamo in una lista/dizionario e proviamo ad                                accedere ad una chiave che non esiste\n",
        "*   *Errori di Conversione*: quando proviamo a convertire in un intero una stringa di caratteri\n",
        "\n",
        "\n",
        "*   *Errori Parametri Mancanti*: ad una funzione che stiamo invocando, passiamo in argomento un parametro in meno\n",
        "\n",
        "\n",
        "\n",
        "\n",
        "\n",
        "\n",
        "\n",
        "\n",
        "\n"
      ]
    },
    {
      "cell_type": "markdown",
      "metadata": {
        "id": "w_ITOAR3Em4L",
        "colab_type": "text"
      },
      "source": [
        "##***Come Gestire le Eccezioni: Try/Except***\n",
        "\n",
        "Per poter gestire un'eccezione, prima dobbiamo farla scatenare!\n",
        "\n",
        "Facciamo una divisione per zero:\n",
        "\n",
        "\n"
      ]
    },
    {
      "cell_type": "code",
      "metadata": {
        "id": "HyQKT-P_FwyY",
        "colab_type": "code",
        "colab": {
          "base_uri": "https://localhost:8080/",
          "height": 246
        },
        "outputId": "ff94ad4c-8911-4105-e8b0-a40e31de5af9"
      },
      "source": [
        "numbers=list(map(int, input().split()))    #split gestisce gli spazi tra parole di una lista\n",
        "a,b=numbers\n",
        "c=a/b\n",
        "\n",
        "print(c)"
      ],
      "execution_count": null,
      "outputs": [
        {
          "output_type": "stream",
          "text": [
            "3 0\n"
          ],
          "name": "stdout"
        },
        {
          "output_type": "error",
          "ename": "ZeroDivisionError",
          "evalue": "ignored",
          "traceback": [
            "\u001b[0;31m---------------------------------------------------------------------------\u001b[0m",
            "\u001b[0;31mZeroDivisionError\u001b[0m                         Traceback (most recent call last)",
            "\u001b[0;32m<ipython-input-18-1e7551424715>\u001b[0m in \u001b[0;36m<module>\u001b[0;34m()\u001b[0m\n\u001b[1;32m      1\u001b[0m \u001b[0mnumbers\u001b[0m\u001b[0;34m=\u001b[0m\u001b[0mlist\u001b[0m\u001b[0;34m(\u001b[0m\u001b[0mmap\u001b[0m\u001b[0;34m(\u001b[0m\u001b[0mint\u001b[0m\u001b[0;34m,\u001b[0m \u001b[0minput\u001b[0m\u001b[0;34m(\u001b[0m\u001b[0;34m)\u001b[0m\u001b[0;34m.\u001b[0m\u001b[0msplit\u001b[0m\u001b[0;34m(\u001b[0m\u001b[0;34m)\u001b[0m\u001b[0;34m)\u001b[0m\u001b[0;34m)\u001b[0m    \u001b[0;31m#split gestisce gli spazi tra parole di una lista\u001b[0m\u001b[0;34m\u001b[0m\u001b[0;34m\u001b[0m\u001b[0m\n\u001b[1;32m      2\u001b[0m \u001b[0ma\u001b[0m\u001b[0;34m,\u001b[0m\u001b[0mb\u001b[0m\u001b[0;34m=\u001b[0m\u001b[0mnumbers\u001b[0m\u001b[0;34m\u001b[0m\u001b[0;34m\u001b[0m\u001b[0m\n\u001b[0;32m----> 3\u001b[0;31m \u001b[0mc\u001b[0m\u001b[0;34m=\u001b[0m\u001b[0ma\u001b[0m\u001b[0;34m/\u001b[0m\u001b[0mb\u001b[0m\u001b[0;34m\u001b[0m\u001b[0;34m\u001b[0m\u001b[0m\n\u001b[0m\u001b[1;32m      4\u001b[0m \u001b[0;34m\u001b[0m\u001b[0m\n\u001b[1;32m      5\u001b[0m \u001b[0mprint\u001b[0m\u001b[0;34m(\u001b[0m\u001b[0mc\u001b[0m\u001b[0;34m)\u001b[0m\u001b[0;34m\u001b[0m\u001b[0;34m\u001b[0m\u001b[0m\n",
            "\u001b[0;31mZeroDivisionError\u001b[0m: division by zero"
          ]
        }
      ]
    },
    {
      "cell_type": "markdown",
      "metadata": {
        "id": "Kp2gWKzsH8s_",
        "colab_type": "text"
      },
      "source": [
        "Una volta che dividiamo per 0, otteniamo l'eccezione:\n",
        "\n",
        "\n",
        "\n",
        "```\n",
        "---------------------------------------------------------------------------\n",
        "ZeroDivisionError                         Traceback (most recent call last)\n",
        "<ipython-input-18-1e7551424715> in <module>()\n",
        "      1 numbers=list(map(int, input().split()))    #split gestisce gli spazi tra parole di una lista\n",
        "      2 a,b=numbers\n",
        "----> 3 c=a/b\n",
        "      4 \n",
        "      5 print(c)\n",
        "\n",
        "ZeroDivisionError: division by zero\n",
        "```\n",
        "\n"
      ]
    },
    {
      "cell_type": "markdown",
      "metadata": {
        "id": "GcLUt-MLMTMU",
        "colab_type": "text"
      },
      "source": [
        "COme si vede, alla riga 3.\n",
        "\n",
        "Per poter intercettare l'eccezione, si può utilizzare il blocco di codice \"Try/Except\".\n"
      ]
    },
    {
      "cell_type": "code",
      "metadata": {
        "id": "PA89c0KXMrgS",
        "colab_type": "code",
        "colab": {
          "base_uri": "https://localhost:8080/",
          "height": 50
        },
        "outputId": "efe464cf-22fe-4f5d-bc29-6c8c2453d218"
      },
      "source": [
        "try:\n",
        "    numbers=list(map(int, input().split()))    #split gestisce gli spazi tra parole di una lista\n",
        "    a,b=numbers\n",
        "    c=a/b\n",
        "   \n",
        "except:\n",
        "    c=-+1\n",
        "\n",
        "\n",
        "print(c)"
      ],
      "execution_count": null,
      "outputs": [
        {
          "output_type": "stream",
          "text": [
            "1 0\n",
            "-1\n"
          ],
          "name": "stdout"
        }
      ]
    },
    {
      "cell_type": "markdown",
      "metadata": {
        "id": "YYCbUBqSNKKH",
        "colab_type": "text"
      },
      "source": [
        "Vediamo come riusciamo a gestire l'eccezione senza far si che appaia l'errore visto a qualche riga sopra.\n",
        "\n",
        "Ma per questo codice, la divisione per zero non è l'unica eccezione che ci può accadere: possiamo mettere piu \"except\".\n",
        "\n"
      ]
    },
    {
      "cell_type": "code",
      "metadata": {
        "id": "hgJgeumEOMLP",
        "colab_type": "code",
        "colab": {}
      },
      "source": [
        "try:\n",
        "    numbers=list(map(int, input().split()))    #split gestisce gli spazi tra parole di una lista\n",
        "    a,b=numbers\n",
        "    c=a/b\n",
        "   \n",
        "except ZeroDivisionError:\n",
        "    c = -1\n",
        "\n",
        "except ValueError:\n",
        "    c = -2\n",
        "\n",
        "\n",
        "print(c)"
      ],
      "execution_count": null,
      "outputs": []
    },
    {
      "cell_type": "markdown",
      "metadata": {
        "id": "eLq-nTKBO9Hp",
        "colab_type": "text"
      },
      "source": [
        "Volendo possiamo andare ad aggiungere delle info sull'eccezione che si è verificata, quindi possiamo aggiungere un ALIAS per queste:\n"
      ]
    },
    {
      "cell_type": "code",
      "metadata": {
        "id": "G6jJ_0ERPQfN",
        "colab_type": "code",
        "colab": {
          "base_uri": "https://localhost:8080/",
          "height": 67
        },
        "outputId": "7c469c1f-6a8c-4eb2-da46-9114786cb489"
      },
      "source": [
        "try:\n",
        "    numbers=list(map(int, input().split()))    #split gestisce gli spazi tra parole di una lista\n",
        "    a,b=numbers\n",
        "    c=a/b\n",
        "   \n",
        "except ZeroDivisionError as e:\n",
        "    print(e)\n",
        "    c = -1\n",
        "\n",
        "except ValueError as e:\n",
        "    print(e)\n",
        "    c = -2\n",
        "\n",
        "\n",
        "print(c)"
      ],
      "execution_count": null,
      "outputs": [
        {
          "output_type": "stream",
          "text": [
            "1 x\n",
            "invalid literal for int() with base 10: 'x'\n",
            "-2\n"
          ],
          "name": "stdout"
        }
      ]
    },
    {
      "cell_type": "markdown",
      "metadata": {
        "id": "rDIm_3yDPlAh",
        "colab_type": "text"
      },
      "source": [
        "Possiamo aggiungere tutti except in base alle eccezioni che vogliamo intercettare."
      ]
    },
    {
      "cell_type": "markdown",
      "metadata": {
        "id": "FA8d9J4lP2rT",
        "colab_type": "text"
      },
      "source": [
        "##***Forzare Eccezioni: Raise***\n",
        "\n",
        "Puà essere utile forzare queste eccezioni.\n",
        "\n",
        "\n",
        "\n",
        "*   Esempio: vogliamo che i numeri inseriti siano due\n",
        "\n",
        "\n",
        "\n",
        "\n"
      ]
    },
    {
      "cell_type": "code",
      "metadata": {
        "id": "ezxLp1tNUvzt",
        "colab_type": "code",
        "colab": {
          "base_uri": "https://localhost:8080/",
          "height": 67
        },
        "outputId": "3d8aa201-f42c-4528-eb5e-8b1a62c2fce0"
      },
      "source": [
        "try:\n",
        "    numbers=list(map(int, input().split()))    #split gestisce gli spazi tra parole di una lista\n",
        "    if(len(numbers)!=2):      \n",
        "        raise ValueError\n",
        "        \n",
        "        \n",
        "    a,b=numbers\n",
        "    c=a/b\n",
        "   \n",
        "except ZeroDivisionError as e:\n",
        "    print(e)\n",
        "    c = -1\n",
        "\n",
        "except ValueError as e:\n",
        "    print(e)\n",
        "    c = -2\n",
        "    print(\"ValueError\")\n",
        "\n",
        "\n",
        "print(c)\n",
        "    "
      ],
      "execution_count": null,
      "outputs": [
        {
          "output_type": "stream",
          "text": [
            "1 0\n",
            "division by zero\n",
            "-1\n"
          ],
          "name": "stdout"
        }
      ]
    },
    {
      "cell_type": "markdown",
      "metadata": {
        "id": "zPQQJz8fX0_p",
        "colab_type": "text"
      },
      "source": [
        "Se cerchiamo il link delle eccezioni in Python, possiamo trovare tutto quello che ci può servire in modo rapido."
      ]
    },
    {
      "cell_type": "markdown",
      "metadata": {
        "id": "duFNgt9_ZF9S",
        "colab_type": "text"
      },
      "source": [
        "##***Eccezioni Personalizzate: Assert***\n",
        "\n",
        "Vediamo come generare eccezioni personalizzate: lo scopo è identico a quello di prima, ossia andare a rilevare se vengono inseriti un numero di numeri diversi da 2."
      ]
    },
    {
      "cell_type": "code",
      "metadata": {
        "id": "UxkNIvkvZT4O",
        "colab_type": "code",
        "colab": {
          "base_uri": "https://localhost:8080/",
          "height": 246
        },
        "outputId": "ff848b8a-b01c-45f8-b705-1830521fc6b3"
      },
      "source": [
        "try:\n",
        "    numbers=list(map(int, input().split()))    #split gestisce gli spazi tra parole di una lista\n",
        "    assert(len(numbers)==2), (\"%d sono i numeri inseriti e non sono 2\" %(len(numbers)))   \n",
        "       \n",
        "        \n",
        "        \n",
        "    a,b=numbers\n",
        "    c=a/b\n",
        "   \n",
        "except ZeroDivisionError as e:\n",
        "    print(e)\n",
        "    c = -1\n",
        "\n",
        "except ValueError as e:\n",
        "    print(e)\n",
        "    c = -2\n",
        "    print(\"ValueError\")\n",
        "\n",
        "\n",
        "print(c)"
      ],
      "execution_count": null,
      "outputs": [
        {
          "output_type": "stream",
          "text": [
            "1 2 3\n"
          ],
          "name": "stdout"
        },
        {
          "output_type": "error",
          "ename": "AssertionError",
          "evalue": "ignored",
          "traceback": [
            "\u001b[0;31m---------------------------------------------------------------------------\u001b[0m",
            "\u001b[0;31mAssertionError\u001b[0m                            Traceback (most recent call last)",
            "\u001b[0;32m<ipython-input-41-0b6b4738232f>\u001b[0m in \u001b[0;36m<module>\u001b[0;34m()\u001b[0m\n\u001b[1;32m      1\u001b[0m \u001b[0;32mtry\u001b[0m\u001b[0;34m:\u001b[0m\u001b[0;34m\u001b[0m\u001b[0;34m\u001b[0m\u001b[0m\n\u001b[1;32m      2\u001b[0m     \u001b[0mnumbers\u001b[0m\u001b[0;34m=\u001b[0m\u001b[0mlist\u001b[0m\u001b[0;34m(\u001b[0m\u001b[0mmap\u001b[0m\u001b[0;34m(\u001b[0m\u001b[0mint\u001b[0m\u001b[0;34m,\u001b[0m \u001b[0minput\u001b[0m\u001b[0;34m(\u001b[0m\u001b[0;34m)\u001b[0m\u001b[0;34m.\u001b[0m\u001b[0msplit\u001b[0m\u001b[0;34m(\u001b[0m\u001b[0;34m)\u001b[0m\u001b[0;34m)\u001b[0m\u001b[0;34m)\u001b[0m    \u001b[0;31m#split gestisce gli spazi tra parole di una lista\u001b[0m\u001b[0;34m\u001b[0m\u001b[0;34m\u001b[0m\u001b[0m\n\u001b[0;32m----> 3\u001b[0;31m     \u001b[0;32massert\u001b[0m\u001b[0;34m(\u001b[0m\u001b[0mlen\u001b[0m\u001b[0;34m(\u001b[0m\u001b[0mnumbers\u001b[0m\u001b[0;34m)\u001b[0m\u001b[0;34m==\u001b[0m\u001b[0;36m2\u001b[0m\u001b[0;34m)\u001b[0m\u001b[0;34m,\u001b[0m \u001b[0;34m(\u001b[0m\u001b[0;34m\"%d I numeri inseriti non sono 2\"\u001b[0m \u001b[0;34m%\u001b[0m\u001b[0;34m(\u001b[0m\u001b[0mlen\u001b[0m\u001b[0;34m(\u001b[0m\u001b[0mnumbers\u001b[0m\u001b[0;34m)\u001b[0m\u001b[0;34m)\u001b[0m\u001b[0;34m)\u001b[0m\u001b[0;34m\u001b[0m\u001b[0;34m\u001b[0m\u001b[0m\n\u001b[0m\u001b[1;32m      4\u001b[0m \u001b[0;34m\u001b[0m\u001b[0m\n\u001b[1;32m      5\u001b[0m \u001b[0;34m\u001b[0m\u001b[0m\n",
            "\u001b[0;31mAssertionError\u001b[0m: 3 I numeri inseriti non sono 2"
          ]
        }
      ]
    },
    {
      "cell_type": "markdown",
      "metadata": {
        "id": "qBJJ5zV-mU6e",
        "colab_type": "text"
      },
      "source": [
        "\n",
        "\n",
        "```\n",
        "---------------------------------------------------------------------------\n",
        "AssertionError                            Traceback (most recent call last)\n",
        "<ipython-input-39-4a39c7e373ab> in <module>()\n",
        "      1 try:\n",
        "      2     numbers=list(map(int, input().split()))    #split gestisce gli spazi tra parole di una lista\n",
        "----> 3     assert(len(numbers)==2), \"I numeri inseriti non sono 2\"\n",
        "      4 \n",
        "      5 \n",
        "\n",
        "AssertionError: I numeri inseriti non sono 2\n",
        "```\n",
        "\n"
      ]
    },
    {
      "cell_type": "markdown",
      "metadata": {
        "id": "pzmK-yMjmxay",
        "colab_type": "text"
      },
      "source": [
        "##***Statement Finally***\n",
        "\n",
        "Questo blocco di codice verrà eseguito sia se un eccezione si verifice oppure no.\n",
        "Serve in generale per andare a rilasciare delle risorse dalla memoria.\n",
        "\n"
      ]
    },
    {
      "cell_type": "code",
      "metadata": {
        "id": "M5h0jyJQn4Il",
        "colab_type": "code",
        "colab": {
          "base_uri": "https://localhost:8080/",
          "height": 50
        },
        "outputId": "175e472b-56d9-4aee-c5cd-36a166de389d"
      },
      "source": [
        "try:\n",
        "    numbers=list(map(int, input().split()))    #split gestisce gli spazi tra parole di una lista\n",
        "    assert(len(numbers)==2), (\"%d sono i numeri inseriti e non sono 2\" %(len(numbers)))          \n",
        "        \n",
        "    a,b=numbers\n",
        "    c=a/b\n",
        "   \n",
        "except ZeroDivisionError as e:\n",
        "    print(e)\n",
        "    c = -1\n",
        "\n",
        "except ValueError as e:\n",
        "    print(e)\n",
        "    c = -2\n",
        "    print(\"ValueError\")\n",
        "finally: \n",
        "    del a\n",
        "    del b\n",
        "\n",
        "print(c)"
      ],
      "execution_count": null,
      "outputs": [
        {
          "output_type": "stream",
          "text": [
            "5 2\n",
            "2.5\n"
          ],
          "name": "stdout"
        }
      ]
    },
    {
      "cell_type": "markdown",
      "metadata": {
        "id": "zrUPKadso61u",
        "colab_type": "text"
      },
      "source": [
        "Quindi se avessi bisogno di eseguire un blocco di codice sia se è stata verificato o no un eccezione, si usa Finally.\n",
        "In questo caso abbiamo liberato della memoria ma può adattarsi a tante altre cose."
      ]
    }
  ]
}