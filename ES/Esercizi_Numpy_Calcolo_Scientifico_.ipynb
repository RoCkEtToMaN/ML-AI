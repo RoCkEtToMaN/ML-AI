{
  "nbformat": 4,
  "nbformat_minor": 0,
  "metadata": {
    "colab": {
      "name": "Esercizi Numpy: Calcolo Scientifico .ipynb",
      "provenance": [],
      "collapsed_sections": [],
      "toc_visible": true,
      "authorship_tag": "ABX9TyNWZ3sZCqOz1BsmHOKf74eW",
      "include_colab_link": true
    },
    "kernelspec": {
      "name": "python3",
      "display_name": "Python 3"
    }
  },
  "cells": [
    {
      "cell_type": "markdown",
      "metadata": {
        "id": "view-in-github",
        "colab_type": "text"
      },
      "source": [
        "<a href=\"https://colab.research.google.com/github/RoCkEtToMaN/Python/blob/master/Esercizi_Numpy_Calcolo_Scientifico_.ipynb\" target=\"_parent\"><img src=\"https://colab.research.google.com/assets/colab-badge.svg\" alt=\"Open In Colab\"/></a>"
      ]
    },
    {
      "cell_type": "markdown",
      "metadata": {
        "id": "HpDHmEYYDDJf",
        "colab_type": "text"
      },
      "source": [
        "# ***Esercizi Numpy: Calcolo Scientifico***"
      ]
    },
    {
      "cell_type": "markdown",
      "metadata": {
        "id": "Z_b43BSLDZ6y",
        "colab_type": "text"
      },
      "source": [
        "##***Array Inverso***\n",
        "\n",
        "\n",
        "\n",
        "*   In input una Lista di numeri\n",
        "\n",
        "*   definire una funzione che Numpy inverta l'ordine degli elementi dell'array\n",
        "\n"
      ]
    },
    {
      "cell_type": "markdown",
      "metadata": {
        "id": "afAsWRcaGONa",
        "colab_type": "text"
      },
      "source": [
        "\n",
        "\n",
        "*   ***Suggerimento***: possiamo definire un particolare tipo di array in questo modo con Numpy\n",
        "\n",
        "\n"
      ]
    },
    {
      "cell_type": "code",
      "metadata": {
        "id": "t1yuj_FRHn4b",
        "colab_type": "code",
        "colab": {}
      },
      "source": [
        "import numpy as np\n",
        "\n",
        "a = np.array([1,2,3], float)\n",
        "print(a)"
      ],
      "execution_count": null,
      "outputs": []
    },
    {
      "cell_type": "code",
      "metadata": {
        "id": "o5Pf973CORiX",
        "colab_type": "code",
        "colab": {}
      },
      "source": [
        "import numpy as np\n",
        "\n",
        "def npInvert(array):\n",
        "\n",
        "     \n",
        "     array_int = np.array(array, float)\n",
        "     array_inv = array_int[::-1]\n",
        "     \n",
        "\n",
        "     return print(array_inv)"
      ],
      "execution_count": null,
      "outputs": []
    },
    {
      "cell_type": "code",
      "metadata": {
        "id": "WplPNLbP1o_v",
        "colab_type": "code",
        "colab": {
          "base_uri": "https://localhost:8080/",
          "height": 50
        },
        "outputId": "6aa004a7-e2b4-4e97-b6ac-1eb372263787"
      },
      "source": [
        "In = input(\"Inserire i valori dell'array: \").split()\n",
        "\n",
        "npInvert(In)"
      ],
      "execution_count": 48,
      "outputs": [
        {
          "output_type": "stream",
          "text": [
            "Inserire i valori dell'array: 1 2\n",
            "[2. 1.]\n"
          ],
          "name": "stdout"
        }
      ]
    },
    {
      "cell_type": "markdown",
      "metadata": {
        "id": "r-HgFIWqepqC",
        "colab_type": "text"
      },
      "source": [
        "##***Shape e Reshape***\n",
        "\n",
        "\n",
        "\n",
        "*   Acquisire in input una lista di 9 num interi\n",
        "*   Convertire la lista in un vettore 3x3\n",
        "\n",
        "\n",
        "Credo una shape di in e poi reshap la modello\n",
        "\n",
        "\n"
      ]
    },
    {
      "cell_type": "code",
      "metadata": {
        "id": "ptD6l0ZDfGhp",
        "colab_type": "code",
        "colab": {}
      },
      "source": [
        "import numpy as np\n",
        "\n",
        "def Re_shape(array):     \n",
        "\n",
        "    array = np.array(array, int)   \n",
        "     \n",
        "    return print(array.reshape(3,3))\n",
        "    "
      ],
      "execution_count": 66,
      "outputs": []
    },
    {
      "cell_type": "code",
      "metadata": {
        "id": "TqU4Nl-efBYh",
        "colab_type": "code",
        "colab": {
          "base_uri": "https://localhost:8080/",
          "height": 84
        },
        "outputId": "f83829a6-f01f-49ea-b8e8-d7e1c90235b7"
      },
      "source": [
        "In = input(\"Inserire i valori dell'array: \").split()\n",
        "\n",
        "Re_shape(In)"
      ],
      "execution_count": 67,
      "outputs": [
        {
          "output_type": "stream",
          "text": [
            "Inserire i valori dell'array: 1 2 3 4 5 6 7 8 9\n",
            "[[1 2 3]\n",
            " [4 5 6]\n",
            " [7 8 9]]\n"
          ],
          "name": "stdout"
        }
      ]
    },
    {
      "cell_type": "markdown",
      "metadata": {
        "id": "ID49fR8EpDFI",
        "colab_type": "text"
      },
      "source": [
        "##***Transpose and Flatten***\n",
        "\n",
        "\n",
        "\n",
        "*   Acquisisci in input due numeri N, M\n",
        "*   Acquisisci in input N righe con M interi ed utilizzarli per creare una matrice Numpy\n",
        "*   Stampa la matrice Trasposta\n",
        "*   Stampa la matrice Flatten\n",
        "\n",
        "\n",
        "\n",
        "\n",
        "\n",
        "* N.B. la matrice Trasposta con np la si ottiene con \".transpose()\"\n",
        "\n"
      ]
    },
    {
      "cell_type": "code",
      "metadata": {
        "id": "MwS54tVGqW72",
        "colab_type": "code",
        "colab": {}
      },
      "source": [
        "import numpy as np\n",
        "\n",
        "def TranFlat(N,M):     \n",
        "    randomM=np.random.randint(M + 1,size=[N,M])\n",
        "    randomT=np.transpose(randomM)\n",
        "    randomF=randomT.reshape(1,randomT.size) \n",
        "     \n",
        "    return print(\"Trasposta:\\n \"+ str(randomT)), print(\"\\nFlatten:\\n \"+ str(randomF))"
      ],
      "execution_count": 119,
      "outputs": []
    },
    {
      "cell_type": "code",
      "metadata": {
        "id": "11rVSkqsWuBM",
        "colab_type": "code",
        "colab": {}
      },
      "source": [
        "import numpy as np\n",
        "\n",
        "def TranFlat2(N,M):     \n",
        "    randomM=np.random.randint(M + 1,size=[N,M])\n",
        "         \n",
        "    return print(\"Trasposta:\\n \"+ str(randomM.transpose())), print(\"\\nFlatten:\\n \"+ str(randomM.flatten()))"
      ],
      "execution_count": 121,
      "outputs": []
    },
    {
      "cell_type": "code",
      "metadata": {
        "id": "HYS7yD8dpmkf",
        "colab_type": "code",
        "colab": {
          "base_uri": "https://localhost:8080/",
          "height": 217
        },
        "outputId": "b246da3b-b330-4195-a821-c1211141758b"
      },
      "source": [
        "N = int(input(\"Inserire N: \"))\n",
        "M = int(input(\"Inserire M: \"))\n",
        "TranFlat2(N,M)"
      ],
      "execution_count": 122,
      "outputs": [
        {
          "output_type": "stream",
          "text": [
            "Inserire N: 4\n",
            "Inserire M: 5\n",
            "Trasposta:\n",
            " [[5 5 2 3]\n",
            " [4 0 1 1]\n",
            " [2 3 5 2]\n",
            " [0 4 5 3]\n",
            " [3 3 0 3]]\n",
            "\n",
            "Flatten:\n",
            " [5 4 2 0 3 5 0 3 4 3 2 1 5 5 0 3 1 2 3 3]\n"
          ],
          "name": "stdout"
        },
        {
          "output_type": "execute_result",
          "data": {
            "text/plain": [
              "(None, None)"
            ]
          },
          "metadata": {
            "tags": []
          },
          "execution_count": 122
        }
      ]
    },
    {
      "cell_type": "markdown",
      "metadata": {
        "id": "Px9yvVVdX69U",
        "colab_type": "text"
      },
      "source": [
        "##***Aritmetica degli Array***\n",
        "\n",
        "\n",
        "\n",
        "\n",
        "*   Acquisisci due numeri N, M in input\n",
        "*   Acquisisci in input N righe con M interi ed utilizzarli per creare una matrice Numpy A\n",
        "*   Acquisisci in input N righe con M interi ed utilizzarli per creare una matrice Numpy B\n",
        "*   somma tra le matrici\n",
        "*    differenza tra le matrici\n",
        "*   prodotto tra le matrici\n",
        "*   divisione tra interi tra le matrici\n",
        "*   modulo tra le matrici\n",
        "*   A elevata a B\n",
        "\n",
        "\n",
        "\n",
        "\n",
        "\n",
        "\n",
        "\n"
      ]
    },
    {
      "cell_type": "code",
      "metadata": {
        "id": "TLKpGVtSsxDt",
        "colab_type": "code",
        "colab": {}
      },
      "source": [
        "import numpy as np\n",
        "\n",
        "def Aritmetica(N,M):\n",
        "\n",
        "    A=np.random.randint(M + 1,size=[N,M])\n",
        "    B=np.random.randint(M + 1,size=[N,M])\n",
        "\n",
        "    print(\"A: \\n\"+str(A))\n",
        "    print(\"B: \\n\"+str(B))\n",
        "    print(\"Somma: \\n\"+str(A+B))\n",
        "    print(\"Differenza: \\n\"+str(A-B))  \n",
        "    print(\"Prodotto: \\n\"+str(A*B)) \n",
        "    print(\"Divisione: \\n\"+str(A/B)) \n",
        "    print(\"Divisione per Interi: \\n\"+str(A//B)) \n",
        "    print(\"Modulo: \\n\"+str(A%B)) \n",
        "    print(\"Potenza: \\n\"+str(A**B)) "
      ],
      "execution_count": 2,
      "outputs": []
    },
    {
      "cell_type": "code",
      "metadata": {
        "id": "k2Jf1s6ysrDo",
        "colab_type": "code",
        "colab": {
          "base_uri": "https://localhost:8080/",
          "height": 502
        },
        "outputId": "dbc6c455-d0d8-4039-bc80-60869ec695e6"
      },
      "source": [
        "N = int(input(\"Inserire N: \"))\n",
        "M = int(input(\"Inserire M: \"))\n",
        "Aritmetica(N,M)"
      ],
      "execution_count": 4,
      "outputs": [
        {
          "output_type": "stream",
          "text": [
            "Inserire N: 2\n",
            "Inserire M: 3\n",
            "A: \n",
            "[[2 1 0]\n",
            " [3 1 1]]\n",
            "B: \n",
            "[[1 1 1]\n",
            " [3 2 2]]\n",
            "Somma: \n",
            "[[3 2 1]\n",
            " [6 3 3]]\n",
            "Differenza: \n",
            "[[ 1  0 -1]\n",
            " [ 0 -1 -1]]\n",
            "Prodotto: \n",
            "[[2 1 0]\n",
            " [9 2 2]]\n",
            "Divisione: \n",
            "[[2.  1.  0. ]\n",
            " [1.  0.5 0.5]]\n",
            "Divisione per Interi: \n",
            "[[2 1 0]\n",
            " [1 0 0]]\n",
            "Modulo: \n",
            "[[0 0 0]\n",
            " [0 1 1]]\n",
            "Potenza: \n",
            "[[ 2  1  0]\n",
            " [27  1  1]]\n"
          ],
          "name": "stdout"
        }
      ]
    }
  ]
}
