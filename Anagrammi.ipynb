{
  "nbformat": 4,
  "nbformat_minor": 0,
  "metadata": {
    "colab": {
      "name": "Anagrammi.ipynb",
      "provenance": [],
      "collapsed_sections": [],
      "authorship_tag": "ABX9TyPJlKU+a/je19XDZzFhS3Sm",
      "include_colab_link": true
    },
    "kernelspec": {
      "name": "python3",
      "display_name": "Python 3"
    }
  },
  "cells": [
    {
      "cell_type": "markdown",
      "metadata": {
        "id": "view-in-github",
        "colab_type": "text"
      },
      "source": [
        "<a href=\"https://colab.research.google.com/github/RoCkEtToMaN/Python/blob/master/Anagrammi.ipynb\" target=\"_parent\"><img src=\"https://colab.research.google.com/assets/colab-badge.svg\" alt=\"Open In Colab\"/></a>"
      ]
    },
    {
      "cell_type": "code",
      "metadata": {
        "id": "rxGxqA5ARUB9",
        "colab_type": "code",
        "colab": {}
      },
      "source": [
        "def AnagrammiCheck(parola1,parola2):\n",
        "    if (len(parola1) == len(parola2)):\n",
        "        for i in range(0,len(parola1)):\n",
        "            print(\"I: \" +str(i))\n",
        "            print(\"len(parola2)1: \" + str(len(parola2)))\n",
        "            for j in range(0,len(parola2)):\n",
        "                print(\"J: \" + str(j))\n",
        "                print(\"len(parola2)2: \" + str(len(parola2)))\n",
        "                if ( parola1[i] == parola2[j]):\n",
        "                    #print(\"una lettera scovata!\")\n",
        "                    #parola2[j]=''\n",
        "                    I=j\n",
        "                    parola2= ''.join([parola2[z] for z in range(len(parola2)) if z != I ]) \n",
        "                    print(\"PRINTO:\" + str(parola2))\n",
        "                    if (len(parola2) == 0):\n",
        "                        print(\"SONO ANAGRAMMI1!\")\n",
        "                    #print(\"len(parola2): \" + str(len(parola2)))\n",
        "                    break\n",
        "                \n",
        "                elif (i==len(parola1)-1 and j == len(parola2)-1):\n",
        "                    print(\"NON SONO ANAGRAMMI 1!\")   \n",
        "                    \n",
        "                      \n",
        "                \n",
        "            if (i == len(parola1)):\n",
        "                print(\"SONO ANAGRAMMI 2!\") \n",
        "                    # break\n",
        "               \n",
        "            \n",
        "    #elif ( j == len(parola1)):\n",
        "    else:\n",
        "        print(\"le due parole non sono anagrammi\")\n",
        "                   \n",
        "                  \n",
        "    "
      ],
      "execution_count": null,
      "outputs": []
    },
    {
      "cell_type": "code",
      "metadata": {
        "id": "--Ye2jCPkRrH",
        "colab_type": "code",
        "colab": {}
      },
      "source": [
        "new_str = ''.join([test_str[i] for i in range(len(test_str)) if i != 2 and if i !]) "
      ],
      "execution_count": null,
      "outputs": []
    },
    {
      "cell_type": "code",
      "metadata": {
        "id": "OZtwbfG8I-Cm",
        "colab_type": "code",
        "colab": {}
      },
      "source": [
        ""
      ],
      "execution_count": null,
      "outputs": []
    },
    {
      "cell_type": "code",
      "metadata": {
        "id": "4UOJgIby1aLY",
        "colab_type": "code",
        "colab": {}
      },
      "source": [
        ""
      ],
      "execution_count": null,
      "outputs": []
    },
    {
      "cell_type": "code",
      "metadata": {
        "id": "Fy2a5VnSXNuw",
        "colab_type": "code",
        "colab": {
          "base_uri": "https://localhost:8080/",
          "height": 67
        },
        "outputId": "7f1e421c-cbce-42ab-a0cc-9b59a20634bc"
      },
      "source": [
        "p1=input(\"inserisci p1: \")\n",
        "p2=input(\"inserisci p2: \")\n",
        "AnagrammiCheck(p1,p2)\n",
        "#type(p1)\n",
        "#p1[1]"
      ],
      "execution_count": null,
      "outputs": [
        {
          "output_type": "stream",
          "text": [
            "inserisci p1: asd\n",
            "inserisci p2: ee\n",
            "le due parole non sono anagrammi\n"
          ],
          "name": "stdout"
        }
      ]
    },
    {
      "cell_type": "code",
      "metadata": {
        "id": "p4fgHkdpX1G1",
        "colab_type": "code",
        "colab": {
          "base_uri": "https://localhost:8080/",
          "height": 35
        },
        "outputId": "1f98fd11-eba5-49c9-fbca-cc81b602656b"
      },
      "source": [
        "p1\n",
        "p2[3]"
      ],
      "execution_count": null,
      "outputs": [
        {
          "output_type": "execute_result",
          "data": {
            "application/vnd.google.colaboratory.intrinsic+json": {
              "type": "string"
            },
            "text/plain": [
              "'c'"
            ]
          },
          "metadata": {
            "tags": []
          },
          "execution_count": 55
        }
      ]
    },
    {
      "cell_type": "code",
      "metadata": {
        "id": "G43pc3jGmUtP",
        "colab_type": "code",
        "colab": {}
      },
      "source": [
        "prova=\"arrivederci\""
      ],
      "execution_count": null,
      "outputs": []
    },
    {
      "cell_type": "code",
      "metadata": {
        "id": "EEk6IlGXmXgE",
        "colab_type": "code",
        "colab": {}
      },
      "source": [
        "prova = ''.join([prova[i] for i in range(len(prova)) if i != 2 ]) "
      ],
      "execution_count": null,
      "outputs": []
    },
    {
      "cell_type": "code",
      "metadata": {
        "id": "N-lVVY24mfdF",
        "colab_type": "code",
        "colab": {
          "base_uri": "https://localhost:8080/",
          "height": 35
        },
        "outputId": "4cd9db17-aae7-443a-b4bc-386cd75396fb"
      },
      "source": [
        "prova"
      ],
      "execution_count": null,
      "outputs": [
        {
          "output_type": "execute_result",
          "data": {
            "application/vnd.google.colaboratory.intrinsic+json": {
              "type": "string"
            },
            "text/plain": [
              "'arivederci'"
            ]
          },
          "metadata": {
            "tags": []
          },
          "execution_count": 41
        }
      ]
    }
  ]
}