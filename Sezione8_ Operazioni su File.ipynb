{
 "cells": [
  {
   "cell_type": "markdown",
   "metadata": {
    "colab_type": "text",
    "id": "j-l-pdVf26BJ"
   },
   "source": [
    "#***Sezione8: Operazioni su File***\n",
    "\n",
    "Il video tutorial è basato su Jupyter ma quelle volte si utilizzasse Colab:\n",
    "\n",
    "\n",
    "*   Aggiungere il file in Files ed uploadarlo\n",
    "\n",
    "##***Caricare\\Aprire il file***\n",
    "\n",
    "Vediamo i sugenti codici:"
   ]
  },
  {
   "cell_type": "code",
   "execution_count": null,
   "metadata": {
    "colab": {
     "base_uri": "https://localhost:8080/",
     "height": 162
    },
    "colab_type": "code",
    "executionInfo": {
     "elapsed": 586,
     "status": "error",
     "timestamp": 1592663069447,
     "user": {
      "displayName": "Giacomo Lo",
      "photoUrl": "https://lh3.googleusercontent.com/a-/AOh14GhA26_Ey8AA96r7kF_QUv9pDKdl650vHdTT6w-h=s64",
      "userId": "02756650299822741221"
     },
     "user_tz": -120
    },
    "id": "zfnkZL_s8kVP",
    "outputId": "53e9a607-488f-4a68-a0e1-722fac216cdc"
   },
   "outputs": [
    {
     "ename": "FileNotFoundError",
     "evalue": "ignored",
     "output_type": "error",
     "traceback": [
      "\u001b[0;31m---------------------------------------------------------------------------\u001b[0m",
      "\u001b[0;31mFileNotFoundError\u001b[0m                         Traceback (most recent call last)",
      "\u001b[0;32m<ipython-input-34-e5bfdfc81a47>\u001b[0m in \u001b[0;36m<module>\u001b[0;34m()\u001b[0m\n\u001b[0;32m----> 1\u001b[0;31m \u001b[0mf\u001b[0m\u001b[0;34m=\u001b[0m\u001b[0mopen\u001b[0m\u001b[0;34m(\u001b[0m\u001b[0;34m\"C:\\\\Users\\\\glo\\\\Desktop\\\\PASS.txt\"\u001b[0m\u001b[0;34m)\u001b[0m   \u001b[0;31m##Doppio \\ per non chiamare i caratteri speciali\u001b[0m\u001b[0;34m\u001b[0m\u001b[0;34m\u001b[0m\u001b[0m\n\u001b[0m",
      "\u001b[0;31mFileNotFoundError\u001b[0m: [Errno 2] No such file or directory: 'C:\\\\Users\\\\glo\\\\Desktop\\\\PASS.txt'"
     ]
    }
   ],
   "source": [
    "f=open(\"C:\\\\Users\\\\glo\\\\Desktop\\\\PASS.txt\")   ##Doppio \\ per non chiamare i caratteri speciali"
   ]
  },
  {
   "cell_type": "code",
   "execution_count": null,
   "metadata": {
    "colab": {},
    "colab_type": "code",
    "id": "-MsSj8wQ0Ck8"
   },
   "outputs": [],
   "source": [
    "f = open(\"PASS.txt\")"
   ]
  },
  {
   "cell_type": "code",
   "execution_count": null,
   "metadata": {
    "colab": {
     "base_uri": "https://localhost:8080/",
     "height": 34
    },
    "colab_type": "code",
    "executionInfo": {
     "elapsed": 525,
     "status": "ok",
     "timestamp": 1592663111601,
     "user": {
      "displayName": "Giacomo Lo",
      "photoUrl": "https://lh3.googleusercontent.com/a-/AOh14GhA26_Ey8AA96r7kF_QUv9pDKdl650vHdTT6w-h=s64",
      "userId": "02756650299822741221"
     },
     "user_tz": -120
    },
    "id": "xiF4rLyA223e",
    "outputId": "9f3e74a8-7b83-4b9f-e6d0-48c1242081f5"
   },
   "outputs": [
    {
     "data": {
      "text/plain": [
       "_io.TextIOWrapper"
      ]
     },
     "execution_count": 42,
     "metadata": {
      "tags": []
     },
     "output_type": "execute_result"
    }
   ],
   "source": [
    "type(f)"
   ]
  },
  {
   "cell_type": "markdown",
   "metadata": {
    "colab_type": "text",
    "id": "6_5MmAwg_h-_"
   },
   "source": [
    "##***Leggere il contenuto del files***\n",
    "\n",
    "Vediamo come la variabile \"leggo\" conterrà tutte le info del file in una string ed infatti il tipo di file è proprio una stringa!"
   ]
  },
  {
   "cell_type": "code",
   "execution_count": null,
   "metadata": {
    "colab": {
     "base_uri": "https://localhost:8080/",
     "height": 178
    },
    "colab_type": "code",
    "executionInfo": {
     "elapsed": 535,
     "status": "error",
     "timestamp": 1592663064568,
     "user": {
      "displayName": "Giacomo Lo",
      "photoUrl": "https://lh3.googleusercontent.com/a-/AOh14GhA26_Ey8AA96r7kF_QUv9pDKdl650vHdTT6w-h=s64",
      "userId": "02756650299822741221"
     },
     "user_tz": -120
    },
    "id": "CbWpiNbM3KEk",
    "outputId": "e2ac7c45-9620-4273-904e-cf61b032d832"
   },
   "outputs": [
    {
     "ename": "AttributeError",
     "evalue": "ignored",
     "output_type": "error",
     "traceback": [
      "\u001b[0;31m---------------------------------------------------------------------------\u001b[0m",
      "\u001b[0;31mAttributeError\u001b[0m                            Traceback (most recent call last)",
      "\u001b[0;32m<ipython-input-33-18d32f904bc8>\u001b[0m in \u001b[0;36m<module>\u001b[0;34m()\u001b[0m\n\u001b[0;32m----> 1\u001b[0;31m \u001b[0mleggo\u001b[0m\u001b[0;34m=\u001b[0m\u001b[0mf\u001b[0m\u001b[0;34m.\u001b[0m\u001b[0mread\u001b[0m\u001b[0;34m(\u001b[0m\u001b[0;34m)\u001b[0m\u001b[0;34m\u001b[0m\u001b[0;34m\u001b[0m\u001b[0m\n\u001b[0m\u001b[1;32m      2\u001b[0m \u001b[0mtype\u001b[0m\u001b[0;34m(\u001b[0m\u001b[0mleggo\u001b[0m\u001b[0;34m)\u001b[0m\u001b[0;34m\u001b[0m\u001b[0;34m\u001b[0m\u001b[0m\n",
      "\u001b[0;31mAttributeError\u001b[0m: 'str' object has no attribute 'read'"
     ]
    }
   ],
   "source": [
    "leggo=f.read()\n",
    "type(leggo)"
   ]
  },
  {
   "cell_type": "markdown",
   "metadata": {
    "colab_type": "text",
    "id": "PRzeIIAn8VUx"
   },
   "source": []
  },
  {
   "cell_type": "code",
   "execution_count": null,
   "metadata": {
    "colab": {
     "base_uri": "https://localhost:8080/",
     "height": 1000
    },
    "colab_type": "code",
    "executionInfo": {
     "elapsed": 544,
     "status": "ok",
     "timestamp": 1592658839301,
     "user": {
      "displayName": "Giacomo Lo",
      "photoUrl": "https://lh3.googleusercontent.com/a-/AOh14GhA26_Ey8AA96r7kF_QUv9pDKdl650vHdTT6w-h=s64",
      "userId": "02756650299822741221"
     },
     "user_tz": -120
    },
    "id": "Q0MCZ9yh3SwM",
    "outputId": "28f6c6ff-fbde-4d34-f5bb-ae9065b5492b"
   },
   "outputs": [
    {
     "name": "stdout",
     "output_type": "stream",
     "text": [
      "GcmLox12345678!\n",
      "\n",
      "CRM: http://192.168.4.60/\n",
      "\n",
      " https://mmvsvcenter:9443\n",
      "\n",
      "MACCHINA TEST: 192.168.6.192\n",
      "\n",
      "http://crm.compacs.org\n",
      "\n",
      "NEW PASS: GcmLox123456!\n",
      "\n",
      "IP FISICO: 192.168.7.3\n",
      "\n",
      "Share (192.168.4.15) - Shortcut\n",
      "\n",
      "MANUALI : \\\\192.168.4.15\\Share\\ComPACS-PACS\\\n",
      "\n",
      "TeamViewer:  09-31204-477090-981844\n",
      "    \n",
      "             glo@MEDIMATIC.com\n",
      "             Gcmlo11!\n",
      "\n",
      "    \n",
      "            rockettoman@msn.com\n",
      "            Gcmlo11!\n",
      "\n",
      "\n",
      "\n",
      "CELL ALBERTO : 9582\n",
      "\n",
      "PADOVA:\n",
      "\n",
      "\n",
      "Massimiliano Rossi\n",
      "Username:    r001609\n",
      "Password:     cedr5gtu\n",
      "Servizio: ASSISTENZA_ESTERNA\n",
      "\n",
      "\n",
      "\n",
      "\n",
      "NEGRI:\n",
      "mvisciola\n",
      "0medimatic3\n",
      "\n",
      "aberruti\n",
      "0medimatic9\n",
      "\n",
      "\n",
      "NIGUARDA:\n",
      "\n",
      "masrossi\n",
      "0medimatic15\n",
      "\n",
      "mvisciola\n",
      "0medimatic9\n",
      "\n",
      "\n",
      "aberruti\n",
      "0medimatic9\n",
      "\n",
      "glo\n",
      "LaVespa1234567! -> LaVespa123456789!\n",
      "\n",
      "\n",
      "\n",
      "SERVER TEST: 192.168.6.190\n",
      "                       189\n",
      "SITO PER TESTARE CON SQL: https://www.w3schools.com/sql/\n",
      "\n",
      "\n",
      "Gcmlox11!\n",
      "\n",
      "\n",
      "SAN GIOVANNI:\n",
      "\n",
      "\n",
      "VPN0284\n",
      "TN7ZM9T6\n",
      "\n",
      "\n",
      "\n",
      "\n",
      "#HELSE NORD:\n",
      "\n",
      "- mvi0707eks\n",
      "- R2XftDuF\n",
      "\n",
      "\n",
      "Haut Leveque  WIN PPTP\n",
      "\n",
      "\n",
      "\n",
      "https.email.medimatic.con\\owa\n",
      "\n",
      "\n",
      "MARIO NEGRI:\n",
      "\n",
      "glo\n",
      "\n",
      "Giacomolo11! -> GcmLox11!\n",
      "\n",
      "\n",
      "magliano \n",
      "0medimatic3 -> 0medimatic4\n",
      "\n",
      "#BUGnet\n",
      "http://mmbugnetserv01.medimatic.locale/bugnet\n",
      "USER:glo, \n",
      "Password: Giacomo1\n",
      "\n",
      "\n",
      "#OUS\n",
      "Norway1234\n",
      "GcmLox11!\n",
      "username: extgiacol\n",
      "pwd: Friday43\n",
      "Thursday90\n",
      "\n",
      "660f6657\n",
      "\n",
      "ed ogni volta mi danno il numero con 6 cifre.\n",
      "\n",
      "#SIKTE\n",
      "\n",
      "admalbber\n",
      "\n",
      "0Medim@tic110Medim@tic11\n",
      "0Medim@tic120Medim@tic12\n",
      "\n",
      "\n",
      "#SAN PAOLO\n",
      "\n",
      "Name: lo.giacomo\n",
      "Password: Gcmlo11!-> Giacomolo11! ->  GcmLox11! ->  GcmLox111! -> GcmLox1234567! \n",
      "\n",
      "#BUGNET\n",
      "\n",
      "http://mmbugnetserv01.medimatic.locale/BugNET/\n",
      "\n",
      "\n",
      "#PADOVA\n",
      "r005730\n",
      "Giacomolo11\n",
      "\n",
      "\n",
      "NIG:\n",
      "glo\tGcmLox111!\n",
      "        \n",
      "\n",
      "NORDCOM  https://arweb.nord-com.it/arsys/shared/login.jsp?/arsys/:\n",
      "\n",
      "Username: glo\n",
      "Password: Nordcom2$\n",
      "\n",
      "\n",
      "\n",
      "#VICENZA:\n",
      "\n",
      "https://dpm.aulss8.veneto.it/\n",
      "\n",
      "Username: ass_medimatic\n",
      "Password: medimatic_123\n",
      "\n",
      "\n",
      "#VPN MEDIMATIC\n",
      "\n",
      "\n",
      "Accesso in VPN alla rete MediMatic:\n",
      "\n",
      "pwd: LoxGcm11!\n",
      "\n",
      "\n",
      "##TRANSFER\n",
      "\n",
      "gialo\t9qnbllYlCAf6z274kHst\n",
      "\n",
      "\n",
      "#Fighali:\n",
      "\n",
      "thumble 1308\n",
      "\n",
      "\n",
      "#Avicenne:\n",
      "7010943  Demavc93\n",
      "\n",
      "#MEDSTAR\n",
      "\n",
      "\n",
      "User name GXL128\n",
      "Password 1Medstar!\n",
      "\n",
      "\n",
      "\n",
      "#MONZINO:\n",
      "\n",
      "glo\n",
      "GcmLox11! -> GcmLox12345! -> LaVespa123456!\n",
      "assistenza.ieo.it\n",
      "\n",
      "#MISERICORDIA\n",
      "\n",
      "specializzandi spe\n",
      "\n",
      "#REMEDY\n",
      "\n",
      "glo\n",
      "GcmLox1234!\n",
      "\n",
      "#MAUGERI\n",
      "\n",
      "glo\n",
      "GcmLox1234567! -> GcmLox12345678!\n",
      "\n",
      "\n",
      "PERTINI:\n",
      "giacomo.lo \n",
      "GcmLox11!\n",
      "\n",
      "\n",
      "SAN DONATO:\n",
      "\n",
      "glo\tGcmLox12345678!\n",
      "\n"
     ]
    }
   ],
   "source": [
    "print(leggo)"
   ]
  },
  {
   "cell_type": "code",
   "execution_count": null,
   "metadata": {
    "colab": {
     "base_uri": "https://localhost:8080/",
     "height": 195
    },
    "colab_type": "code",
    "executionInfo": {
     "elapsed": 540,
     "status": "error",
     "timestamp": 1592663057861,
     "user": {
      "displayName": "Giacomo Lo",
      "photoUrl": "https://lh3.googleusercontent.com/a-/AOh14GhA26_Ey8AA96r7kF_QUv9pDKdl650vHdTT6w-h=s64",
      "userId": "02756650299822741221"
     },
     "user_tz": -120
    },
    "id": "bpbVOWso3kc7",
    "outputId": "ab82040a-0da4-4018-a70d-a1c055f104e1"
   },
   "outputs": [
    {
     "ename": "AttributeError",
     "evalue": "ignored",
     "output_type": "error",
     "traceback": [
      "\u001b[0;31m---------------------------------------------------------------------------\u001b[0m",
      "\u001b[0;31mAttributeError\u001b[0m                            Traceback (most recent call last)",
      "\u001b[0;32m<ipython-input-32-fbee7dcde7a2>\u001b[0m in \u001b[0;36m<module>\u001b[0;34m()\u001b[0m\n\u001b[0;32m----> 1\u001b[0;31m \u001b[0mleggo\u001b[0m\u001b[0;34m=\u001b[0m\u001b[0mf\u001b[0m\u001b[0;34m.\u001b[0m\u001b[0mread\u001b[0m\u001b[0;34m(\u001b[0m\u001b[0;34m)\u001b[0m\u001b[0;34m\u001b[0m\u001b[0;34m\u001b[0m\u001b[0m\n\u001b[0m\u001b[1;32m      2\u001b[0m \u001b[0mtype\u001b[0m\u001b[0;34m(\u001b[0m\u001b[0mleggo\u001b[0m\u001b[0;34m)\u001b[0m\u001b[0;34m\u001b[0m\u001b[0;34m\u001b[0m\u001b[0m\n\u001b[1;32m      3\u001b[0m \u001b[0mprint\u001b[0m\u001b[0;34m(\u001b[0m\u001b[0mleggo\u001b[0m\u001b[0;34m)\u001b[0m\u001b[0;34m\u001b[0m\u001b[0;34m\u001b[0m\u001b[0m\n",
      "\u001b[0;31mAttributeError\u001b[0m: 'str' object has no attribute 'read'"
     ]
    }
   ],
   "source": [
    "leggo=f.read()\n",
    "type(leggo)\n",
    "print(leggo)"
   ]
  },
  {
   "cell_type": "markdown",
   "metadata": {
    "colab_type": "text",
    "id": "7x7bljC9_7Jn"
   },
   "source": [
    "Se ripetiamo il tutto, otterremo una stringa vuota!\n",
    "\n",
    "Il motivo è perchè l'oggetto files tiene al suo interno un cursore che viene posizionato fino dove abbiamo letto il file, alla fine.\n",
    "Quindi il cursore da li, va in avanti ed ovviamente non trovando piu nulla, avremo nulla.\n",
    "\n",
    "\n",
    "Ma se usiamo:\n",
    "\n",
    "\n",
    "\n",
    "```\n",
    ".seek()\n",
    "```\n",
    "\n"
   ]
  },
  {
   "cell_type": "code",
   "execution_count": null,
   "metadata": {
    "colab": {
     "base_uri": "https://localhost:8080/",
     "height": 34
    },
    "colab_type": "code",
    "executionInfo": {
     "elapsed": 559,
     "status": "ok",
     "timestamp": 1592662712601,
     "user": {
      "displayName": "Giacomo Lo",
      "photoUrl": "https://lh3.googleusercontent.com/a-/AOh14GhA26_Ey8AA96r7kF_QUv9pDKdl650vHdTT6w-h=s64",
      "userId": "02756650299822741221"
     },
     "user_tz": -120
    },
    "id": "EnVdfZgOA1F4",
    "outputId": "6d2258bc-43b5-4b35-bab4-fbee94f63a83"
   },
   "outputs": [
    {
     "data": {
      "text/plain": [
       "0"
      ]
     },
     "execution_count": 18,
     "metadata": {
      "tags": []
     },
     "output_type": "execute_result"
    }
   ],
   "source": [
    "f.seek(0)"
   ]
  },
  {
   "cell_type": "code",
   "execution_count": null,
   "metadata": {
    "colab": {
     "base_uri": "https://localhost:8080/",
     "height": 1000
    },
    "colab_type": "code",
    "executionInfo": {
     "elapsed": 589,
     "status": "ok",
     "timestamp": 1592663219641,
     "user": {
      "displayName": "Giacomo Lo",
      "photoUrl": "https://lh3.googleusercontent.com/a-/AOh14GhA26_Ey8AA96r7kF_QUv9pDKdl650vHdTT6w-h=s64",
      "userId": "02756650299822741221"
     },
     "user_tz": -120
    },
    "id": "jMIuBVtsBDgX",
    "outputId": "20db300d-14cc-4062-a8c7-e12882b5345a"
   },
   "outputs": [
    {
     "name": "stdout",
     "output_type": "stream",
     "text": [
      "GcmLox12345678!\n",
      "\n",
      "CRM: http://192.168.4.60/\n",
      "\n",
      " https://mmvsvcenter:9443\n",
      "\n",
      "MACCHINA TEST: 192.168.6.192\n",
      "\n",
      "http://crm.compacs.org\n",
      "\n",
      "NEW PASS: GcmLox123456!\n",
      "\n",
      "IP FISICO: 192.168.7.3\n",
      "\n",
      "Share (192.168.4.15) - Shortcut\n",
      "\n",
      "MANUALI : \\\\192.168.4.15\\Share\\ComPACS-PACS\\\n",
      "\n",
      "TeamViewer:  09-31204-477090-981844\n",
      "    \n",
      "             glo@MEDIMATIC.com\n",
      "             Gcmlo11!\n",
      "\n",
      "    \n",
      "            rockettoman@msn.com\n",
      "            Gcmlo11!\n",
      "\n",
      "\n",
      "\n",
      "CELL ALBERTO : 9582\n",
      "\n",
      "PADOVA:\n",
      "\n",
      "\n",
      "Massimiliano Rossi\n",
      "Username:    r001609\n",
      "Password:     cedr5gtu\n",
      "Servizio: ASSISTENZA_ESTERNA\n",
      "\n",
      "\n",
      "\n",
      "\n",
      "NEGRI:\n",
      "mvisciola\n",
      "0medimatic3\n",
      "\n",
      "aberruti\n",
      "0medimatic9\n",
      "\n",
      "\n",
      "NIGUARDA:\n",
      "\n",
      "masrossi\n",
      "0medimatic15\n",
      "\n",
      "mvisciola\n",
      "0medimatic9\n",
      "\n",
      "\n",
      "aberruti\n",
      "0medimatic9\n",
      "\n",
      "glo\n",
      "LaVespa1234567! -> LaVespa123456789!\n",
      "\n",
      "\n",
      "\n",
      "SERVER TEST: 192.168.6.190\n",
      "                       189\n",
      "SITO PER TESTARE CON SQL: https://www.w3schools.com/sql/\n",
      "\n",
      "\n",
      "Gcmlox11!\n",
      "\n",
      "\n",
      "SAN GIOVANNI:\n",
      "\n",
      "\n",
      "VPN0284\n",
      "TN7ZM9T6\n",
      "\n",
      "\n",
      "\n",
      "\n",
      "#HELSE NORD:\n",
      "\n",
      "- mvi0707eks\n",
      "- R2XftDuF\n",
      "\n",
      "\n",
      "Haut Leveque  WIN PPTP\n",
      "\n",
      "\n",
      "\n",
      "https.email.medimatic.con\\owa\n",
      "\n",
      "\n",
      "MARIO NEGRI:\n",
      "\n",
      "glo\n",
      "\n",
      "Giacomolo11! -> GcmLox11!\n",
      "\n",
      "\n",
      "magliano \n",
      "0medimatic3 -> 0medimatic4\n",
      "\n",
      "#BUGnet\n",
      "http://mmbugnetserv01.medimatic.locale/bugnet\n",
      "USER:glo, \n",
      "Password: Giacomo1\n",
      "\n",
      "\n",
      "#OUS\n",
      "Norway1234\n",
      "GcmLox11!\n",
      "username: extgiacol\n",
      "pwd: Friday43\n",
      "Thursday90\n",
      "\n",
      "660f6657\n",
      "\n",
      "ed ogni volta mi danno il numero con 6 cifre.\n",
      "\n",
      "#SIKTE\n",
      "\n",
      "admalbber\n",
      "\n",
      "0Medim@tic110Medim@tic11\n",
      "0Medim@tic120Medim@tic12\n",
      "\n",
      "\n",
      "#SAN PAOLO\n",
      "\n",
      "Name: lo.giacomo\n",
      "Password: Gcmlo11!-> Giacomolo11! ->  GcmLox11! ->  GcmLox111! -> GcmLox1234567! \n",
      "\n",
      "#BUGNET\n",
      "\n",
      "http://mmbugnetserv01.medimatic.locale/BugNET/\n",
      "\n",
      "\n",
      "#PADOVA\n",
      "r005730\n",
      "Giacomolo11\n",
      "\n",
      "\n",
      "NIG:\n",
      "glo\tGcmLox111!\n",
      "        \n",
      "\n",
      "NORDCOM  https://arweb.nord-com.it/arsys/shared/login.jsp?/arsys/:\n",
      "\n",
      "Username: glo\n",
      "Password: Nordcom2$\n",
      "\n",
      "\n",
      "\n",
      "#VICENZA:\n",
      "\n",
      "https://dpm.aulss8.veneto.it/\n",
      "\n",
      "Username: ass_medimatic\n",
      "Password: medimatic_123\n",
      "\n",
      "\n",
      "#VPN MEDIMATIC\n",
      "\n",
      "\n",
      "Accesso in VPN alla rete MediMatic:\n",
      "\n",
      "pwd: LoxGcm11!\n",
      "\n",
      "\n",
      "##TRANSFER\n",
      "\n",
      "gialo\t9qnbllYlCAf6z274kHst\n",
      "\n",
      "\n",
      "#Fighali:\n",
      "\n",
      "thumble 1308\n",
      "\n",
      "\n",
      "#Avicenne:\n",
      "7010943  Demavc93\n",
      "\n",
      "#MEDSTAR\n",
      "\n",
      "\n",
      "User name GXL128\n",
      "Password 1Medstar!\n",
      "\n",
      "\n",
      "\n",
      "#MONZINO:\n",
      "\n",
      "glo\n",
      "GcmLox11! -> GcmLox12345! -> LaVespa123456!\n",
      "assistenza.ieo.it\n",
      "\n",
      "#MISERICORDIA\n",
      "\n",
      "specializzandi spe\n",
      "\n",
      "#REMEDY\n",
      "\n",
      "glo\n",
      "GcmLox1234!\n",
      "\n",
      "#MAUGERI\n",
      "\n",
      "glo\n",
      "GcmLox1234567! -> GcmLox12345678!\n",
      "\n",
      "\n",
      "PERTINI:\n",
      "giacomo.lo \n",
      "GcmLox11!\n",
      "\n",
      "\n",
      "SAN DONATO:\n",
      "\n",
      "glo\tGcmLox12345678!\n",
      "\n"
     ]
    }
   ],
   "source": [
    "leggo=f.read()\n",
    "print(leggo)"
   ]
  },
  {
   "cell_type": "markdown",
   "metadata": {
    "colab_type": "text",
    "id": "lvWQGohkF3Ev"
   },
   "source": [
    "Possiamo leggere il files anche riga per riga:"
   ]
  },
  {
   "cell_type": "code",
   "execution_count": null,
   "metadata": {
    "colab": {
     "base_uri": "https://localhost:8080/",
     "height": 1000
    },
    "colab_type": "code",
    "executionInfo": {
     "elapsed": 625,
     "status": "ok",
     "timestamp": 1592663235545,
     "user": {
      "displayName": "Giacomo Lo",
      "photoUrl": "https://lh3.googleusercontent.com/a-/AOh14GhA26_Ey8AA96r7kF_QUv9pDKdl650vHdTT6w-h=s64",
      "userId": "02756650299822741221"
     },
     "user_tz": -120
    },
    "id": "hnlQiExSGQ-D",
    "outputId": "05d6aeca-704f-4bb3-c600-5f478e6f254a"
   },
   "outputs": [
    {
     "data": {
      "text/plain": [
       "['GcmLox12345678!\\n',\n",
       " '\\n',\n",
       " 'CRM: http://192.168.4.60/\\n',\n",
       " '\\n',\n",
       " ' https://mmvsvcenter:9443\\n',\n",
       " '\\n',\n",
       " 'MACCHINA TEST: 192.168.6.192\\n',\n",
       " '\\n',\n",
       " 'http://crm.compacs.org\\n',\n",
       " '\\n',\n",
       " 'NEW PASS: GcmLox123456!\\n',\n",
       " '\\n',\n",
       " 'IP FISICO: 192.168.7.3\\n',\n",
       " '\\n',\n",
       " 'Share (192.168.4.15) - Shortcut\\n',\n",
       " '\\n',\n",
       " 'MANUALI : \\\\\\\\192.168.4.15\\\\Share\\\\ComPACS-PACS\\\\\\n',\n",
       " '\\n',\n",
       " 'TeamViewer:  09-31204-477090-981844\\n',\n",
       " '    \\n',\n",
       " '             glo@MEDIMATIC.com\\n',\n",
       " '             Gcmlo11!\\n',\n",
       " '\\n',\n",
       " '    \\n',\n",
       " '            rockettoman@msn.com\\n',\n",
       " '            Gcmlo11!\\n',\n",
       " '\\n',\n",
       " '\\n',\n",
       " '\\n',\n",
       " 'CELL ALBERTO : 9582\\n',\n",
       " '\\n',\n",
       " 'PADOVA:\\n',\n",
       " '\\n',\n",
       " '\\n',\n",
       " 'Massimiliano Rossi\\n',\n",
       " 'Username:    r001609\\n',\n",
       " 'Password:     cedr5gtu\\n',\n",
       " 'Servizio: ASSISTENZA_ESTERNA\\n',\n",
       " '\\n',\n",
       " '\\n',\n",
       " '\\n',\n",
       " '\\n',\n",
       " 'NEGRI:\\n',\n",
       " 'mvisciola\\n',\n",
       " '0medimatic3\\n',\n",
       " '\\n',\n",
       " 'aberruti\\n',\n",
       " '0medimatic9\\n',\n",
       " '\\n',\n",
       " '\\n',\n",
       " 'NIGUARDA:\\n',\n",
       " '\\n',\n",
       " 'masrossi\\n',\n",
       " '0medimatic15\\n',\n",
       " '\\n',\n",
       " 'mvisciola\\n',\n",
       " '0medimatic9\\n',\n",
       " '\\n',\n",
       " '\\n',\n",
       " 'aberruti\\n',\n",
       " '0medimatic9\\n',\n",
       " '\\n',\n",
       " 'glo\\n',\n",
       " 'LaVespa1234567! -> LaVespa123456789!\\n',\n",
       " '\\n',\n",
       " '\\n',\n",
       " '\\n',\n",
       " 'SERVER TEST: 192.168.6.190\\n',\n",
       " '                       189\\n',\n",
       " 'SITO PER TESTARE CON SQL: https://www.w3schools.com/sql/\\n',\n",
       " '\\n',\n",
       " '\\n',\n",
       " 'Gcmlox11!\\n',\n",
       " '\\n',\n",
       " '\\n',\n",
       " 'SAN GIOVANNI:\\n',\n",
       " '\\n',\n",
       " '\\n',\n",
       " 'VPN0284\\n',\n",
       " 'TN7ZM9T6\\n',\n",
       " '\\n',\n",
       " '\\n',\n",
       " '\\n',\n",
       " '\\n',\n",
       " '#HELSE NORD:\\n',\n",
       " '\\n',\n",
       " '- mvi0707eks\\n',\n",
       " '- R2XftDuF\\n',\n",
       " '\\n',\n",
       " '\\n',\n",
       " 'Haut Leveque  WIN PPTP\\n',\n",
       " '\\n',\n",
       " '\\n',\n",
       " '\\n',\n",
       " 'https.email.medimatic.con\\\\owa\\n',\n",
       " '\\n',\n",
       " '\\n',\n",
       " 'MARIO NEGRI:\\n',\n",
       " '\\n',\n",
       " 'glo\\n',\n",
       " '\\n',\n",
       " 'Giacomolo11! -> GcmLox11!\\n',\n",
       " '\\n',\n",
       " '\\n',\n",
       " 'magliano \\n',\n",
       " '0medimatic3 -> 0medimatic4\\n',\n",
       " '\\n',\n",
       " '#BUGnet\\n',\n",
       " 'http://mmbugnetserv01.medimatic.locale/bugnet\\n',\n",
       " 'USER:glo, \\n',\n",
       " 'Password: Giacomo1\\n',\n",
       " '\\n',\n",
       " '\\n',\n",
       " '#OUS\\n',\n",
       " 'Norway1234\\n',\n",
       " 'GcmLox11!\\n',\n",
       " 'username: extgiacol\\n',\n",
       " 'pwd: Friday43\\n',\n",
       " 'Thursday90\\n',\n",
       " '\\n',\n",
       " '660f6657\\n',\n",
       " '\\n',\n",
       " 'ed ogni volta mi danno il numero con 6 cifre.\\n',\n",
       " '\\n',\n",
       " '#SIKTE\\n',\n",
       " '\\n',\n",
       " 'admalbber\\n',\n",
       " '\\n',\n",
       " '0Medim@tic110Medim@tic11\\n',\n",
       " '0Medim@tic120Medim@tic12\\n',\n",
       " '\\n',\n",
       " '\\n',\n",
       " '#SAN PAOLO\\n',\n",
       " '\\n',\n",
       " 'Name: lo.giacomo\\n',\n",
       " 'Password: Gcmlo11!-> Giacomolo11! ->  GcmLox11! ->  GcmLox111! -> GcmLox1234567! \\n',\n",
       " '\\n',\n",
       " '#BUGNET\\n',\n",
       " '\\n',\n",
       " 'http://mmbugnetserv01.medimatic.locale/BugNET/\\n',\n",
       " '\\n',\n",
       " '\\n',\n",
       " '#PADOVA\\n',\n",
       " 'r005730\\n',\n",
       " 'Giacomolo11\\n',\n",
       " '\\n',\n",
       " '\\n',\n",
       " 'NIG:\\n',\n",
       " 'glo\\tGcmLox111!\\n',\n",
       " '        \\n',\n",
       " '\\n',\n",
       " 'NORDCOM  https://arweb.nord-com.it/arsys/shared/login.jsp?/arsys/:\\n',\n",
       " '\\n',\n",
       " 'Username: glo\\n',\n",
       " 'Password: Nordcom2$\\n',\n",
       " '\\n',\n",
       " '\\n',\n",
       " '\\n',\n",
       " '#VICENZA:\\n',\n",
       " '\\n',\n",
       " 'https://dpm.aulss8.veneto.it/\\n',\n",
       " '\\n',\n",
       " 'Username: ass_medimatic\\n',\n",
       " 'Password: medimatic_123\\n',\n",
       " '\\n',\n",
       " '\\n',\n",
       " '#VPN MEDIMATIC\\n',\n",
       " '\\n',\n",
       " '\\n',\n",
       " 'Accesso in VPN alla rete MediMatic:\\n',\n",
       " '\\n',\n",
       " 'pwd: LoxGcm11!\\n',\n",
       " '\\n',\n",
       " '\\n',\n",
       " '##TRANSFER\\n',\n",
       " '\\n',\n",
       " 'gialo\\t9qnbllYlCAf6z274kHst\\n',\n",
       " '\\n',\n",
       " '\\n',\n",
       " '#Fighali:\\n',\n",
       " '\\n',\n",
       " 'thumble 1308\\n',\n",
       " '\\n',\n",
       " '\\n',\n",
       " '#Avicenne:\\n',\n",
       " '7010943  Demavc93\\n',\n",
       " '\\n',\n",
       " '#MEDSTAR\\n',\n",
       " '\\n',\n",
       " '\\n',\n",
       " 'User name GXL128\\n',\n",
       " 'Password 1Medstar!\\n',\n",
       " '\\n',\n",
       " '\\n',\n",
       " '\\n',\n",
       " '#MONZINO:\\n',\n",
       " '\\n',\n",
       " 'glo\\n',\n",
       " 'GcmLox11! -> GcmLox12345! -> LaVespa123456!\\n',\n",
       " 'assistenza.ieo.it\\n',\n",
       " '\\n',\n",
       " '#MISERICORDIA\\n',\n",
       " '\\n',\n",
       " 'specializzandi spe\\n',\n",
       " '\\n',\n",
       " '#REMEDY\\n',\n",
       " '\\n',\n",
       " 'glo\\n',\n",
       " 'GcmLox1234!\\n',\n",
       " '\\n',\n",
       " '#MAUGERI\\n',\n",
       " '\\n',\n",
       " 'glo\\n',\n",
       " 'GcmLox1234567! -> GcmLox12345678!\\n',\n",
       " '\\n',\n",
       " '\\n',\n",
       " 'PERTINI:\\n',\n",
       " 'giacomo.lo \\n',\n",
       " 'GcmLox11!\\n',\n",
       " '\\n',\n",
       " '\\n',\n",
       " 'SAN DONATO:\\n',\n",
       " '\\n',\n",
       " 'glo\\tGcmLox12345678!\\n']"
      ]
     },
     "execution_count": 47,
     "metadata": {
      "tags": []
     },
     "output_type": "execute_result"
    }
   ],
   "source": [
    "f.seek(0)\n",
    "f.readlines()"
   ]
  },
  {
   "cell_type": "markdown",
   "metadata": {
    "colab_type": "text",
    "id": "uzcUstVnGZ0u"
   },
   "source": [
    "Possiamo utilizzare questo metodo se volessimo iterare in un ciclo delle righe:"
   ]
  },
  {
   "cell_type": "code",
   "execution_count": null,
   "metadata": {
    "colab": {
     "base_uri": "https://localhost:8080/",
     "height": 1000
    },
    "colab_type": "code",
    "executionInfo": {
     "elapsed": 564,
     "status": "ok",
     "timestamp": 1592663120477,
     "user": {
      "displayName": "Giacomo Lo",
      "photoUrl": "https://lh3.googleusercontent.com/a-/AOh14GhA26_Ey8AA96r7kF_QUv9pDKdl650vHdTT6w-h=s64",
      "userId": "02756650299822741221"
     },
     "user_tz": -120
    },
    "id": "spRM8qFzGg3l",
    "outputId": "b27e369e-2766-45c2-d386-8d0caecdc47a"
   },
   "outputs": [
    {
     "name": "stdout",
     "output_type": "stream",
     "text": [
      "Prova: GcmLox1234567\n",
      "Prova: \n",
      "Prova: CRM: http://192.168.4.6\n",
      "Prova: \n",
      "Prova:  https://mmvsvcenter:94\n",
      "Prova: \n",
      "Prova: MACCHINA TEST: 192.168.6.1\n",
      "Prova: \n",
      "Prova: http://crm.compacs.o\n",
      "Prova: \n",
      "Prova: NEW PASS: GcmLox12345\n",
      "Prova: \n",
      "Prova: IP FISICO: 192.168.7\n",
      "Prova: \n",
      "Prova: Share (192.168.4.15) - Shortc\n",
      "Prova: \n",
      "Prova: MANUALI : \\\\192.168.4.15\\Share\\ComPACS-PAC\n",
      "Prova: \n",
      "Prova: TeamViewer:  09-31204-477090-9818\n",
      "Prova:   \n",
      "Prova:              glo@MEDIMATIC.c\n",
      "Prova:              Gcmlo1\n",
      "Prova: \n",
      "Prova:   \n",
      "Prova:             rockettoman@msn.c\n",
      "Prova:             Gcmlo1\n",
      "Prova: \n",
      "Prova: \n",
      "Prova: \n",
      "Prova: CELL ALBERTO : 95\n",
      "Prova: \n",
      "Prova: PADOV\n",
      "Prova: \n",
      "Prova: \n",
      "Prova: Massimiliano Ros\n",
      "Prova: Username:    r0016\n",
      "Prova: Password:     cedr5g\n",
      "Prova: Servizio: ASSISTENZA_ESTER\n",
      "Prova: \n",
      "Prova: \n",
      "Prova: \n",
      "Prova: \n",
      "Prova: NEGR\n",
      "Prova: mviscio\n",
      "Prova: 0medimati\n",
      "Prova: \n",
      "Prova: aberru\n",
      "Prova: 0medimati\n",
      "Prova: \n",
      "Prova: \n",
      "Prova: NIGUARD\n",
      "Prova: \n",
      "Prova: masros\n",
      "Prova: 0medimatic\n",
      "Prova: \n",
      "Prova: mviscio\n",
      "Prova: 0medimati\n",
      "Prova: \n",
      "Prova: \n",
      "Prova: aberru\n",
      "Prova: 0medimati\n",
      "Prova: \n",
      "Prova: g\n",
      "Prova: LaVespa1234567! -> LaVespa12345678\n",
      "Prova: \n",
      "Prova: \n",
      "Prova: \n",
      "Prova: SERVER TEST: 192.168.6.1\n",
      "Prova:                        1\n",
      "Prova: SITO PER TESTARE CON SQL: https://www.w3schools.com/sq\n",
      "Prova: \n",
      "Prova: \n",
      "Prova: Gcmlox1\n",
      "Prova: \n",
      "Prova: \n",
      "Prova: SAN GIOVANN\n",
      "Prova: \n",
      "Prova: \n",
      "Prova: VPN02\n",
      "Prova: TN7ZM9\n",
      "Prova: \n",
      "Prova: \n",
      "Prova: \n",
      "Prova: \n",
      "Prova: #HELSE NOR\n",
      "Prova: \n",
      "Prova: - mvi0707e\n",
      "Prova: - R2XftD\n",
      "Prova: \n",
      "Prova: \n",
      "Prova: Haut Leveque  WIN PP\n",
      "Prova: \n",
      "Prova: \n",
      "Prova: \n",
      "Prova: https.email.medimatic.con\\o\n",
      "Prova: \n",
      "Prova: \n",
      "Prova: MARIO NEGR\n",
      "Prova: \n",
      "Prova: g\n",
      "Prova: \n",
      "Prova: Giacomolo11! -> GcmLox1\n",
      "Prova: \n",
      "Prova: \n",
      "Prova: maglian\n",
      "Prova: 0medimatic3 -> 0medimati\n",
      "Prova: \n",
      "Prova: #BUGn\n",
      "Prova: http://mmbugnetserv01.medimatic.locale/bugn\n",
      "Prova: USER:glo\n",
      "Prova: Password: Giacom\n",
      "Prova: \n",
      "Prova: \n",
      "Prova: #O\n",
      "Prova: Norway12\n",
      "Prova: GcmLox1\n",
      "Prova: username: extgiac\n",
      "Prova: pwd: Friday\n",
      "Prova: Thursday\n",
      "Prova: \n",
      "Prova: 660f66\n",
      "Prova: \n",
      "Prova: ed ogni volta mi danno il numero con 6 cifr\n",
      "Prova: \n",
      "Prova: #SIK\n",
      "Prova: \n",
      "Prova: admalbb\n",
      "Prova: \n",
      "Prova: 0Medim@tic110Medim@tic\n",
      "Prova: 0Medim@tic120Medim@tic\n",
      "Prova: \n",
      "Prova: \n",
      "Prova: #SAN PAO\n",
      "Prova: \n",
      "Prova: Name: lo.giaco\n",
      "Prova: Password: Gcmlo11!-> Giacomolo11! ->  GcmLox11! ->  GcmLox111! -> GcmLox1234567\n",
      "Prova: \n",
      "Prova: #BUGN\n",
      "Prova: \n",
      "Prova: http://mmbugnetserv01.medimatic.locale/BugNE\n",
      "Prova: \n",
      "Prova: \n",
      "Prova: #PADO\n",
      "Prova: r0057\n",
      "Prova: Giacomolo\n",
      "Prova: \n",
      "Prova: \n",
      "Prova: NI\n",
      "Prova: glo\tGcmLox11\n",
      "Prova:       \n",
      "Prova: \n",
      "Prova: NORDCOM  https://arweb.nord-com.it/arsys/shared/login.jsp?/arsys\n",
      "Prova: \n",
      "Prova: Username: g\n",
      "Prova: Password: Nordcom\n",
      "Prova: \n",
      "Prova: \n",
      "Prova: \n",
      "Prova: #VICENZ\n",
      "Prova: \n",
      "Prova: https://dpm.aulss8.veneto.i\n",
      "Prova: \n",
      "Prova: Username: ass_medimat\n",
      "Prova: Password: medimatic_1\n",
      "Prova: \n",
      "Prova: \n",
      "Prova: #VPN MEDIMAT\n",
      "Prova: \n",
      "Prova: \n",
      "Prova: Accesso in VPN alla rete MediMati\n",
      "Prova: \n",
      "Prova: pwd: LoxGcm1\n",
      "Prova: \n",
      "Prova: \n",
      "Prova: ##TRANSF\n",
      "Prova: \n",
      "Prova: gialo\t9qnbllYlCAf6z274kH\n",
      "Prova: \n",
      "Prova: \n",
      "Prova: #Fighal\n",
      "Prova: \n",
      "Prova: thumble 13\n",
      "Prova: \n",
      "Prova: \n",
      "Prova: #Avicenn\n",
      "Prova: 7010943  Demavc\n",
      "Prova: \n",
      "Prova: #MEDST\n",
      "Prova: \n",
      "Prova: \n",
      "Prova: User name GXL1\n",
      "Prova: Password 1Medsta\n",
      "Prova: \n",
      "Prova: \n",
      "Prova: \n",
      "Prova: #MONZIN\n",
      "Prova: \n",
      "Prova: g\n",
      "Prova: GcmLox11! -> GcmLox12345! -> LaVespa12345\n",
      "Prova: assistenza.ieo.\n",
      "Prova: \n",
      "Prova: #MISERICORD\n",
      "Prova: \n",
      "Prova: specializzandi s\n",
      "Prova: \n",
      "Prova: #REME\n",
      "Prova: \n",
      "Prova: g\n",
      "Prova: GcmLox123\n",
      "Prova: \n",
      "Prova: #MAUGE\n",
      "Prova: \n",
      "Prova: g\n",
      "Prova: GcmLox1234567! -> GcmLox1234567\n",
      "Prova: \n",
      "Prova: \n",
      "Prova: PERTIN\n",
      "Prova: giacomo.l\n",
      "Prova: GcmLox1\n",
      "Prova: \n",
      "Prova: \n",
      "Prova: SAN DONAT\n",
      "Prova: \n",
      "Prova: glo\tGcmLox1234567\n"
     ]
    }
   ],
   "source": [
    "f.seek(0)\n",
    "for f in f.readlines():\n",
    "    print(\"Prova: %s\" % f[:-3])    ## per andare ad annullare l'andare a capo automatico portato da \\n del readlins\n",
    "    print(\"Prova: %s\" % f, end='') ## per non passare nulla alla fine di ogni riga"
   ]
  },
  {
   "cell_type": "markdown",
   "metadata": {
    "colab_type": "text",
    "id": "CC7dHHuSIvdx"
   },
   "source": [
    "##***Chiusura del file***\n",
    "\n",
    "Ogni volta che finiamo di lavorare su un file, è consigliato la sua chiusura per non andare ad intralciare altre possibili aperture.\n",
    "Una volta chiuso, questo non è possibile più aprirlo"
   ]
  },
  {
   "cell_type": "code",
   "execution_count": null,
   "metadata": {
    "colab": {},
    "colab_type": "code",
    "id": "lNN89XeJJKNj"
   },
   "outputs": [],
   "source": [
    "f.close()"
   ]
  },
  {
   "cell_type": "markdown",
   "metadata": {
    "colab_type": "text",
    "id": "pEvKyCHiJaxm"
   },
   "source": [
    "##***Codifica di un file***\n",
    "\n",
    "Qualche volta è possibile che durante la stampa, qualche carattere non venga in qualche modo stampato in modo corretto.\n",
    "\n",
    "Il problema è dovuto alla codifica che l'SO utilizza per la stampa dei caratteri e per ovviare questo, basta in qualche modo sovrascrivere la codifica che l'SO utilizza durante l'apertura del file:"
   ]
  },
  {
   "cell_type": "code",
   "execution_count": null,
   "metadata": {
    "colab": {},
    "colab_type": "code",
    "id": "wBwPXP6SNMRS"
   },
   "outputs": [],
   "source": [
    "f = open(\"PASS.txt\", encoding=\"utf-8\")  "
   ]
  },
  {
   "cell_type": "markdown",
   "metadata": {
    "colab_type": "text",
    "id": "3lXv9oiKNU8U"
   },
   "source": [
    "In questo caso l'econding va bene per le lingua italiana."
   ]
  },
  {
   "cell_type": "markdown",
   "metadata": {
    "colab_type": "text",
    "id": "RYXg237RNe3C"
   },
   "source": [
    "##***Scrivere su File***\n",
    "\n",
    "Cosa importante è avere tutti i diritti per fare questa cosa.\n",
    "I permessi che possiamo ottenere sono i questi:\n",
    "\n",
    "\n",
    "\n",
    "*   ***r***: apre il file in sola lettura (modalità di default)\n",
    "*   ***r+***: apre il file in lettura e scrittura, il puntatore viene posizionato all'inizio del file\n",
    "*   ***w***: apre il file in sola scrittura, se il file esiste lo sovrascrive, se non esiste lo crea\n",
    "*   ***w+***: apre il file in sola scrittura, se il file esiste lo sovrascrive, se non esiste lo crea\n",
    "*   ***a***: apre il file in scrittura senza sovrascrivere il contenuto corrente\n",
    "*   ***a+***: apre il file in scrittura senza sovrascrivere il contenuto corrente. Se il file non esiste lo crea\n",
    "\n",
    "\n",
    "\n",
    "\n",
    "\n",
    "\n"
   ]
  },
  {
   "cell_type": "code",
   "execution_count": 6,
   "metadata": {
    "colab": {},
    "colab_type": "code",
    "executionInfo": {
     "elapsed": 1023,
     "status": "ok",
     "timestamp": 1592813989458,
     "user": {
      "displayName": "Giacomo Lo",
      "photoUrl": "https://lh3.googleusercontent.com/a-/AOh14GhA26_Ey8AA96r7kF_QUv9pDKdl650vHdTT6w-h=s64",
      "userId": "02756650299822741221"
     },
     "user_tz": -120
    },
    "id": "OFf2GTOVAx3s"
   },
   "outputs": [],
   "source": [
    "prova_files=open(\"PASS.txt\",'a')"
   ]
  },
  {
   "cell_type": "code",
   "execution_count": 4,
   "metadata": {
    "colab": {
     "base_uri": "https://localhost:8080/",
     "height": 162
    },
    "colab_type": "code",
    "executionInfo": {
     "elapsed": 640,
     "status": "error",
     "timestamp": 1592812496435,
     "user": {
      "displayName": "Giacomo Lo",
      "photoUrl": "https://lh3.googleusercontent.com/a-/AOh14GhA26_Ey8AA96r7kF_QUv9pDKdl650vHdTT6w-h=s64",
      "userId": "02756650299822741221"
     },
     "user_tz": -120
    },
    "id": "DavS_FgKBabm",
    "outputId": "432a71f6-8153-4c56-e45b-15c49b5f866d"
   },
   "outputs": [
    {
     "ename": "UnsupportedOperation",
     "evalue": "ignored",
     "output_type": "error",
     "traceback": [
      "\u001b[0;31m---------------------------------------------------------------------------\u001b[0m",
      "\u001b[0;31mUnsupportedOperation\u001b[0m                      Traceback (most recent call last)",
      "\u001b[0;32m<ipython-input-4-5923310a5039>\u001b[0m in \u001b[0;36m<module>\u001b[0;34m()\u001b[0m\n\u001b[0;32m----> 1\u001b[0;31m \u001b[0mprova_files\u001b[0m\u001b[0;34m.\u001b[0m\u001b[0mread\u001b[0m\u001b[0;34m(\u001b[0m\u001b[0;34m)\u001b[0m\u001b[0;34m\u001b[0m\u001b[0;34m\u001b[0m\u001b[0m\n\u001b[0m",
      "\u001b[0;31mUnsupportedOperation\u001b[0m: not readable"
     ]
    }
   ],
   "source": [
    "prova_files.read()"
   ]
  },
  {
   "cell_type": "markdown",
   "metadata": {
    "colab_type": "text",
    "id": "weBLail0Ga-j"
   },
   "source": [
    "\n",
    "\n",
    "```\n",
    "---------------------------------------------------------------------------\n",
    "UnsupportedOperation                      Traceback (most recent call last)\n",
    "<ipython-input-4-5923310a5039> in <module>()\n",
    "----> 1 prova_files.read()\n",
    "\n",
    "UnsupportedOperation: not readable\n",
    "```\n",
    "\n"
   ]
  },
  {
   "cell_type": "markdown",
   "metadata": {
    "colab_type": "text",
    "id": "UILh56VGGgKV"
   },
   "source": [
    "Giustamente dato che abbiamo dato i diritti per la sola scrittura.\n",
    "\n"
   ]
  },
  {
   "cell_type": "code",
   "execution_count": 5,
   "metadata": {
    "colab": {},
    "colab_type": "code",
    "executionInfo": {
     "elapsed": 1196,
     "status": "ok",
     "timestamp": 1592813957648,
     "user": {
      "displayName": "Giacomo Lo",
      "photoUrl": "https://lh3.googleusercontent.com/a-/AOh14GhA26_Ey8AA96r7kF_QUv9pDKdl650vHdTT6w-h=s64",
      "userId": "02756650299822741221"
     },
     "user_tz": -120
    },
    "id": "uZhcDNhgG7pg"
   },
   "outputs": [],
   "source": [
    "prova=\"\\nIl vino buono sta nelle botti piccole\""
   ]
  },
  {
   "cell_type": "markdown",
   "metadata": {
    "colab_type": "text",
    "id": "Ams0sUB3HEvM"
   },
   "source": [
    "Per scrivere la riga dentro al file:"
   ]
  },
  {
   "cell_type": "code",
   "execution_count": 7,
   "metadata": {
    "colab": {
     "base_uri": "https://localhost:8080/",
     "height": 34
    },
    "colab_type": "code",
    "executionInfo": {
     "elapsed": 801,
     "status": "ok",
     "timestamp": 1592814002012,
     "user": {
      "displayName": "Giacomo Lo",
      "photoUrl": "https://lh3.googleusercontent.com/a-/AOh14GhA26_Ey8AA96r7kF_QUv9pDKdl650vHdTT6w-h=s64",
      "userId": "02756650299822741221"
     },
     "user_tz": -120
    },
    "id": "5_iuXs9QHHHT",
    "outputId": "5c5cb722-184f-4b76-bcea-7a2c5845b83e"
   },
   "outputs": [
    {
     "data": {
      "text/plain": [
       "38"
      ]
     },
     "execution_count": 7,
     "metadata": {
      "tags": []
     },
     "output_type": "execute_result"
    }
   ],
   "source": [
    "prova_files.write(prova)"
   ]
  },
  {
   "cell_type": "markdown",
   "metadata": {
    "colab_type": "text",
    "id": "muOR3V7GHQL6"
   },
   "source": [
    "Ci torna il numero dei caratteri aggiunti."
   ]
  },
  {
   "cell_type": "code",
   "execution_count": null,
   "metadata": {
    "colab": {},
    "colab_type": "code",
    "id": "VjkqGKv3HTlN"
   },
   "outputs": [],
   "source": [
    "prova_files.close()"
   ]
  },
  {
   "cell_type": "code",
   "execution_count": 10,
   "metadata": {
    "colab": {},
    "colab_type": "code",
    "executionInfo": {
     "elapsed": 1062,
     "status": "ok",
     "timestamp": 1592814365831,
     "user": {
      "displayName": "Giacomo Lo",
      "photoUrl": "https://lh3.googleusercontent.com/a-/AOh14GhA26_Ey8AA96r7kF_QUv9pDKdl650vHdTT6w-h=s64",
      "userId": "02756650299822741221"
     },
     "user_tz": -120
    },
    "id": "3TQpHQ30HWrk"
   },
   "outputs": [],
   "source": [
    "prova_files=open(\"PASS.txt\",'a+')     #lettura e scrittura"
   ]
  },
  {
   "cell_type": "code",
   "execution_count": 11,
   "metadata": {
    "colab": {
     "base_uri": "https://localhost:8080/",
     "height": 34
    },
    "colab_type": "code",
    "executionInfo": {
     "elapsed": 532,
     "status": "ok",
     "timestamp": 1592814369697,
     "user": {
      "displayName": "Giacomo Lo",
      "photoUrl": "https://lh3.googleusercontent.com/a-/AOh14GhA26_Ey8AA96r7kF_QUv9pDKdl650vHdTT6w-h=s64",
      "userId": "02756650299822741221"
     },
     "user_tz": -120
    },
    "id": "NW_ga_2pIc2V",
    "outputId": "92a9d3f5-4c1f-463c-e568-32d7a12c9d5b"
   },
   "outputs": [
    {
     "data": {
      "text/plain": [
       "''"
      ]
     },
     "execution_count": 11,
     "metadata": {
      "tags": []
     },
     "output_type": "execute_result"
    }
   ],
   "source": [
    "prova_files.read()"
   ]
  },
  {
   "cell_type": "markdown",
   "metadata": {
    "colab_type": "text",
    "id": "2GYD7YIKIpX7"
   },
   "source": [
    "Vediamo che il risultato è vuoto ma questo è dovuto al fatto che il puntatore viene posizionato alla fine del file.\n",
    "Allora:"
   ]
  },
  {
   "cell_type": "code",
   "execution_count": 12,
   "metadata": {
    "colab": {
     "base_uri": "https://localhost:8080/",
     "height": 34
    },
    "colab_type": "code",
    "executionInfo": {
     "elapsed": 561,
     "status": "ok",
     "timestamp": 1592814427309,
     "user": {
      "displayName": "Giacomo Lo",
      "photoUrl": "https://lh3.googleusercontent.com/a-/AOh14GhA26_Ey8AA96r7kF_QUv9pDKdl650vHdTT6w-h=s64",
      "userId": "02756650299822741221"
     },
     "user_tz": -120
    },
    "id": "IU6Kt_2VIwtj",
    "outputId": "aa2f7883-1a1d-4344-874c-2b343de0a1e2"
   },
   "outputs": [
    {
     "data": {
      "text/plain": [
       "0"
      ]
     },
     "execution_count": 12,
     "metadata": {
      "tags": []
     },
     "output_type": "execute_result"
    }
   ],
   "source": [
    "prova_files.seek(0)"
   ]
  },
  {
   "cell_type": "code",
   "execution_count": 13,
   "metadata": {
    "colab": {
     "base_uri": "https://localhost:8080/",
     "height": 1000
    },
    "colab_type": "code",
    "executionInfo": {
     "elapsed": 582,
     "status": "ok",
     "timestamp": 1592814452002,
     "user": {
      "displayName": "Giacomo Lo",
      "photoUrl": "https://lh3.googleusercontent.com/a-/AOh14GhA26_Ey8AA96r7kF_QUv9pDKdl650vHdTT6w-h=s64",
      "userId": "02756650299822741221"
     },
     "user_tz": -120
    },
    "id": "R8eNFTqFI29z",
    "outputId": "7755af2c-7da7-43cd-ec17-3d663e58d82d"
   },
   "outputs": [
    {
     "name": "stdout",
     "output_type": "stream",
     "text": [
      "GcmLox12345678!\n",
      "\n",
      "CRM: http://192.168.4.60/\n",
      "\n",
      " https://mmvsvcenter:9443\n",
      "\n",
      "MACCHINA TEST: 192.168.6.192\n",
      "\n",
      "http://crm.compacs.org\n",
      "\n",
      "NEW PASS: GcmLox123456!\n",
      "\n",
      "IP FISICO: 192.168.7.3\n",
      "\n",
      "Share (192.168.4.15) - Shortcut\n",
      "\n",
      "MANUALI : \\\\192.168.4.15\\Share\\ComPACS-PACS\\\n",
      "\n",
      "TeamViewer:  09-31204-477090-981844\n",
      "    \n",
      "             glo@MEDIMATIC.com\n",
      "             Gcmlo11!\n",
      "\n",
      "    \n",
      "            rockettoman@msn.com\n",
      "            Gcmlo11!\n",
      "\n",
      "\n",
      "\n",
      "CELL ALBERTO : 9582\n",
      "\n",
      "PADOVA:\n",
      "\n",
      "\n",
      "Massimiliano Rossi\n",
      "Username:    r001609\n",
      "Password:     cedr5gtu\n",
      "Servizio: ASSISTENZA_ESTERNA\n",
      "\n",
      "\n",
      "\n",
      "\n",
      "NEGRI:\n",
      "mvisciola\n",
      "0medimatic3\n",
      "\n",
      "aberruti\n",
      "0medimatic9\n",
      "\n",
      "\n",
      "NIGUARDA:\n",
      "\n",
      "masrossi\n",
      "0medimatic15\n",
      "\n",
      "mvisciola\n",
      "0medimatic9\n",
      "\n",
      "\n",
      "aberruti\n",
      "0medimatic9\n",
      "\n",
      "glo\n",
      "LaVespa1234567! -> LaVespa123456789!\n",
      "\n",
      "\n",
      "\n",
      "SERVER TEST: 192.168.6.190\n",
      "                       189\n",
      "SITO PER TESTARE CON SQL: https://www.w3schools.com/sql/\n",
      "\n",
      "\n",
      "Gcmlox11!\n",
      "\n",
      "\n",
      "SAN GIOVANNI:\n",
      "\n",
      "\n",
      "VPN0284\n",
      "TN7ZM9T6\n",
      "\n",
      "\n",
      "\n",
      "\n",
      "#HELSE NORD:\n",
      "\n",
      "- mvi0707eks\n",
      "- R2XftDuF\n",
      "\n",
      "\n",
      "Haut Leveque  WIN PPTP\n",
      "\n",
      "\n",
      "\n",
      "https.email.medimatic.con\\owa\n",
      "\n",
      "\n",
      "MARIO NEGRI:\n",
      "\n",
      "glo\n",
      "\n",
      "Giacomolo11! -> GcmLox11!\n",
      "\n",
      "\n",
      "magliano \n",
      "0medimatic3 -> 0medimatic4\n",
      "\n",
      "#BUGnet\n",
      "http://mmbugnetserv01.medimatic.locale/bugnet\n",
      "USER:glo, \n",
      "Password: Giacomo1\n",
      "\n",
      "\n",
      "#OUS\n",
      "Norway1234\n",
      "GcmLox11!\n",
      "username: extgiacol\n",
      "pwd: Friday43\n",
      "Thursday90\n",
      "\n",
      "660f6657\n",
      "\n",
      "ed ogni volta mi danno il numero con 6 cifre.\n",
      "\n",
      "#SIKTE\n",
      "\n",
      "admalbber\n",
      "\n",
      "0Medim@tic110Medim@tic11\n",
      "0Medim@tic120Medim@tic12\n",
      "\n",
      "\n",
      "#SAN PAOLO\n",
      "\n",
      "Name: lo.giacomo\n",
      "Password: Gcmlo11!-> Giacomolo11! ->  GcmLox11! ->  GcmLox111! -> GcmLox1234567! \n",
      "\n",
      "#BUGNET\n",
      "\n",
      "http://mmbugnetserv01.medimatic.locale/BugNET/\n",
      "\n",
      "\n",
      "#PADOVA\n",
      "r005730\n",
      "Giacomolo11\n",
      "\n",
      "\n",
      "NIG:\n",
      "glo\tGcmLox111!\n",
      "        \n",
      "\n",
      "NORDCOM  https://arweb.nord-com.it/arsys/shared/login.jsp?/arsys/:\n",
      "\n",
      "Username: glo\n",
      "Password: Nordcom2$\n",
      "\n",
      "\n",
      "\n",
      "#VICENZA:\n",
      "\n",
      "https://dpm.aulss8.veneto.it/\n",
      "\n",
      "Username: ass_medimatic\n",
      "Password: medimatic_123\n",
      "\n",
      "\n",
      "#VPN MEDIMATIC\n",
      "\n",
      "\n",
      "Accesso in VPN alla rete MediMatic:\n",
      "\n",
      "pwd: LoxGcm11!\n",
      "\n",
      "\n",
      "##TRANSFER\n",
      "\n",
      "gialo\t9qnbllYlCAf6z274kHst\n",
      "\n",
      "\n",
      "#Fighali:\n",
      "\n",
      "thumble 1308\n",
      "\n",
      "\n",
      "#Avicenne:\n",
      "7010943  Demavc93\n",
      "\n",
      "#MEDSTAR\n",
      "\n",
      "\n",
      "User name GXL128\n",
      "Password 1Medstar!\n",
      "\n",
      "\n",
      "\n",
      "#MONZINO:\n",
      "\n",
      "glo\n",
      "GcmLox11! -> GcmLox12345! -> LaVespa123456!\n",
      "assistenza.ieo.it\n",
      "\n",
      "#MISERICORDIA\n",
      "\n",
      "specializzandi spe\n",
      "\n",
      "#REMEDY\n",
      "\n",
      "glo\n",
      "GcmLox1234!\n",
      "\n",
      "#MAUGERI\n",
      "\n",
      "glo\n",
      "GcmLox1234567! -> GcmLox12345678!\n",
      "\n",
      "\n",
      "PERTINI:\n",
      "giacomo.lo \n",
      "GcmLox11!\n",
      "\n",
      "\n",
      "SAN DONATO:\n",
      "\n",
      "glo\tGcmLox12345678!\n",
      "\n",
      "Il vino buono sta nelle botti piccole\n"
     ]
    }
   ],
   "source": [
    "print(prova_files.read())"
   ]
  },
  {
   "cell_type": "markdown",
   "metadata": {
    "colab_type": "text",
    "id": "AW0aEwqnJBy7"
   },
   "source": [
    "\n",
    "\n",
    "```\n",
    "GcmLox12345678!\n",
    "\n",
    "CRM: http://192.168.4.60/\n",
    "\n",
    " https://mmvsvcenter:9443\n",
    "\n",
    "MACCHINA TEST: 192.168.6.192\n",
    "\n",
    "http://crm.compacs.org\n",
    "\n",
    "NEW PASS: GcmLox123456!\n",
    "\n",
    "IP FISICO: 192.168.7.3\n",
    "\n",
    "Share (192.168.4.15) - Shortcut\n",
    "\n",
    "MANUALI : \\\\192.168.4.15\\Share\\ComPACS-PACS\\\n",
    "\n",
    "TeamViewer:  09-31204-477090-981844\n",
    "    \n",
    "             glo@MEDIMATIC.com\n",
    "             Gcmlo11!\n",
    "\n",
    "    \n",
    "            rockettoman@msn.com\n",
    "            Gcmlo11!\n",
    "\n",
    "\n",
    "\n",
    "CELL ALBERTO : 9582\n",
    "\n",
    "PADOVA:\n",
    "\n",
    "\n",
    "Massimiliano Rossi\n",
    "Username:    r001609\n",
    "Password:     cedr5gtu\n",
    "Servizio: ASSISTENZA_ESTERNA\n",
    "\n",
    "\n",
    "\n",
    "\n",
    "NEGRI:\n",
    "mvisciola\n",
    "0medimatic3\n",
    "\n",
    "aberruti\n",
    "0medimatic9\n",
    "\n",
    "\n",
    "NIGUARDA:\n",
    "\n",
    "masrossi\n",
    "0medimatic15\n",
    "\n",
    "mvisciola\n",
    "0medimatic9\n",
    "\n",
    "\n",
    "aberruti\n",
    "0medimatic9\n",
    "\n",
    "glo\n",
    "LaVespa1234567! -> LaVespa123456789!\n",
    "\n",
    "\n",
    "\n",
    "SERVER TEST: 192.168.6.190\n",
    "                       189\n",
    "SITO PER TESTARE CON SQL: https://www.w3schools.com/sql/\n",
    "\n",
    "\n",
    "Gcmlox11!\n",
    "\n",
    "\n",
    "SAN GIOVANNI:\n",
    "\n",
    "\n",
    "VPN0284\n",
    "TN7ZM9T6\n",
    "\n",
    "\n",
    "\n",
    "\n",
    "#HELSE NORD:\n",
    "\n",
    "- mvi0707eks\n",
    "- R2XftDuF\n",
    "\n",
    "\n",
    "Haut Leveque  WIN PPTP\n",
    "\n",
    "\n",
    "\n",
    "https.email.medimatic.con\\owa\n",
    "\n",
    "\n",
    "MARIO NEGRI:\n",
    "\n",
    "glo\n",
    "\n",
    "Giacomolo11! -> GcmLox11!\n",
    "\n",
    "\n",
    "magliano \n",
    "0medimatic3 -> 0medimatic4\n",
    "\n",
    "#BUGnet\n",
    "http://mmbugnetserv01.medimatic.locale/bugnet\n",
    "USER:glo, \n",
    "Password: Giacomo1\n",
    "\n",
    "\n",
    "#OUS\n",
    "Norway1234\n",
    "GcmLox11!\n",
    "username: extgiacol\n",
    "pwd: Friday43\n",
    "Thursday90\n",
    "\n",
    "660f6657\n",
    "\n",
    "ed ogni volta mi danno il numero con 6 cifre.\n",
    "\n",
    "#SIKTE\n",
    "\n",
    "admalbber\n",
    "\n",
    "0Medim@tic110Medim@tic11\n",
    "0Medim@tic120Medim@tic12\n",
    "\n",
    "\n",
    "#SAN PAOLO\n",
    "\n",
    "Name: lo.giacomo\n",
    "Password: Gcmlo11!-> Giacomolo11! ->  GcmLox11! ->  GcmLox111! -> GcmLox1234567! \n",
    "\n",
    "#BUGNET\n",
    "\n",
    "http://mmbugnetserv01.medimatic.locale/BugNET/\n",
    "\n",
    "\n",
    "#PADOVA\n",
    "r005730\n",
    "Giacomolo11\n",
    "\n",
    "\n",
    "NIG:\n",
    "glo\tGcmLox111!\n",
    "        \n",
    "\n",
    "NORDCOM  https://arweb.nord-com.it/arsys/shared/login.jsp?/arsys/:\n",
    "\n",
    "Username: glo\n",
    "Password: Nordcom2$\n",
    "\n",
    "\n",
    "\n",
    "#VICENZA:\n",
    "\n",
    "https://dpm.aulss8.veneto.it/\n",
    "\n",
    "Username: ass_medimatic\n",
    "Password: medimatic_123\n",
    "\n",
    "\n",
    "#VPN MEDIMATIC\n",
    "\n",
    "\n",
    "Accesso in VPN alla rete MediMatic:\n",
    "\n",
    "pwd: LoxGcm11!\n",
    "\n",
    "\n",
    "##TRANSFER\n",
    "\n",
    "gialo\t9qnbllYlCAf6z274kHst\n",
    "\n",
    "\n",
    "#Fighali:\n",
    "\n",
    "thumble 1308\n",
    "\n",
    "\n",
    "#Avicenne:\n",
    "7010943  Demavc93\n",
    "\n",
    "#MEDSTAR\n",
    "\n",
    "\n",
    "User name GXL128\n",
    "Password 1Medstar!\n",
    "\n",
    "\n",
    "\n",
    "#MONZINO:\n",
    "\n",
    "glo\n",
    "GcmLox11! -> GcmLox12345! -> LaVespa123456!\n",
    "assistenza.ieo.it\n",
    "\n",
    "#MISERICORDIA\n",
    "\n",
    "specializzandi spe\n",
    "\n",
    "#REMEDY\n",
    "\n",
    "glo\n",
    "GcmLox1234!\n",
    "\n",
    "#MAUGERI\n",
    "\n",
    "glo\n",
    "GcmLox1234567! -> GcmLox12345678!\n",
    "\n",
    "\n",
    "PERTINI:\n",
    "giacomo.lo \n",
    "GcmLox11!\n",
    "\n",
    "\n",
    "SAN DONATO:\n",
    "\n",
    "glo\tGcmLox12345678!\n",
    "\n",
    "Il vino buono sta nelle botti piccole\n",
    "```\n",
    "\n"
   ]
  },
  {
   "cell_type": "markdown",
   "metadata": {
    "colab_type": "text",
    "id": "4aEgIsNQKIVP"
   },
   "source": [
    "Vediamo la riga aggiunta al file!"
   ]
  },
  {
   "cell_type": "markdown",
   "metadata": {
    "colab_type": "text",
    "id": "GnSpAsCyKwkD"
   },
   "source": [
    "Nel caso non si leggessero dei caratteri, possiamo aggiungere anche la codifica corretta.\n",
    "\n",
    "\n",
    "Andiamo a scrivere un'altra cosa:\n"
   ]
  },
  {
   "cell_type": "code",
   "execution_count": 14,
   "metadata": {
    "colab": {
     "base_uri": "https://localhost:8080/",
     "height": 34
    },
    "colab_type": "code",
    "executionInfo": {
     "elapsed": 574,
     "status": "ok",
     "timestamp": 1592815018308,
     "user": {
      "displayName": "Giacomo Lo",
      "photoUrl": "https://lh3.googleusercontent.com/a-/AOh14GhA26_Ey8AA96r7kF_QUv9pDKdl650vHdTT6w-h=s64",
      "userId": "02756650299822741221"
     },
     "user_tz": -120
    },
    "id": "gIAB4ua7LB7a",
    "outputId": "9a0027fb-edc6-422a-aa09-1c262f46beb8"
   },
   "outputs": [
    {
     "data": {
      "text/plain": [
       "14"
      ]
     },
     "execution_count": 14,
     "metadata": {
      "tags": []
     },
     "output_type": "execute_result"
    }
   ],
   "source": [
    "prova_files.write(\"\\nSUCCAAAAAAAAA\")"
   ]
  },
  {
   "cell_type": "markdown",
   "metadata": {
    "colab": {
     "base_uri": "https://localhost:8080/",
     "height": 1000
    },
    "colab_type": "code",
    "executionInfo": {
     "elapsed": 1272,
     "status": "ok",
     "timestamp": 1592815065016,
     "user": {
      "displayName": "Giacomo Lo",
      "photoUrl": "https://lh3.googleusercontent.com/a-/AOh14GhA26_Ey8AA96r7kF_QUv9pDKdl650vHdTT6w-h=s64",
      "userId": "02756650299822741221"
     },
     "user_tz": -120
    },
    "id": "zri4F1EOLKgc",
    "outputId": "10143512-d6fd-4d16-ad19-843e1bd8b2ed"
   },
   "source": [
    "prova_files.seek(0)\n",
    "print(prova_files.read())"
   ]
  },
  {
   "cell_type": "code",
   "execution_count": null,
   "metadata": {},
   "outputs": [],
   "source": []
  },
  {
   "cell_type": "markdown",
   "metadata": {
    "colab_type": "text",
    "id": "ahC93a19LUEr"
   },
   "source": [
    "Alla fine, chiudiamo il file!"
   ]
  },
  {
   "cell_type": "code",
   "execution_count": 17,
   "metadata": {
    "colab": {},
    "colab_type": "code",
    "executionInfo": {
     "elapsed": 598,
     "status": "ok",
     "timestamp": 1592815104176,
     "user": {
      "displayName": "Giacomo Lo",
      "photoUrl": "https://lh3.googleusercontent.com/a-/AOh14GhA26_Ey8AA96r7kF_QUv9pDKdl650vHdTT6w-h=s64",
      "userId": "02756650299822741221"
     },
     "user_tz": -120
    },
    "id": "ihOVMSJELXn0"
   },
   "outputs": [],
   "source": [
    "prova_files.close()"
   ]
  },
  {
   "cell_type": "raw",
   "metadata": {
    "colab_type": "text",
    "id": "keHVdY1iMxnl"
   },
   "source": [
    "##***Creare un nuovo File***\n",
    "\n",
    "Facciamo un esempio:"
   ]
  },
  {
   "cell_type": "code",
   "execution_count": null,
   "metadata": {},
   "outputs": [],
   "source": []
  },
  {
   "cell_type": "code",
   "execution_count": null,
   "metadata": {},
   "outputs": [],
   "source": []
  },
  {
   "cell_type": "code",
   "execution_count": null,
   "metadata": {},
   "outputs": [],
   "source": []
  },
  {
   "cell_type": "code",
   "execution_count": 20,
   "metadata": {
    "colab": {},
    "colab_type": "code",
    "executionInfo": {
     "elapsed": 753,
     "status": "ok",
     "timestamp": 1592816061806,
     "user": {
      "displayName": "Giacomo Lo",
      "photoUrl": "https://lh3.googleusercontent.com/a-/AOh14GhA26_Ey8AA96r7kF_QUv9pDKdl650vHdTT6w-h=s64",
      "userId": "02756650299822741221"
     },
     "user_tz": -120
    },
    "id": "ypjzxyLANDno"
   },
   "outputs": [],
   "source": [
    "prova_files= open(\"PASS.txt\")\n",
    "nuove_prove_files=open(\"NUOVE_PASS.txt\",'w+')"
   ]
  },
  {
   "cell_type": "markdown",
   "metadata": {
    "colab_type": "text",
    "id": "3M9wRJ__PXbc"
   },
   "source": [
    "Andiamo a prendere le prime tre righe presenti in PASS e copiamole nel nuovo file."
   ]
  },
  {
   "cell_type": "code",
   "execution_count": 2,
   "metadata": {
    "colab": {},
    "colab_type": "code",
    "id": "Ba6ITnn9QzjF"
   },
   "outputs": [
    {
     "ename": "SyntaxError",
     "evalue": "invalid syntax (<ipython-input-2-56c6bda5a8ac>, line 1)",
     "output_type": "error",
     "traceback": [
      "\u001b[1;36m  File \u001b[1;32m\"<ipython-input-2-56c6bda5a8ac>\"\u001b[1;36m, line \u001b[1;32m1\u001b[0m\n\u001b[1;33m    jt -t monokai -f fira -fs 13 -nf ptsans -nfs 11 -N -kl -cursw 5 -cursc r -cellw 95% -T\u001b[0m\n\u001b[1;37m                ^\u001b[0m\n\u001b[1;31mSyntaxError\u001b[0m\u001b[1;31m:\u001b[0m invalid syntax\n"
     ]
    }
   ],
   "source": [
    "jt -t monokai -f fira -fs 13 -nf ptsans -nfs 11 -N -kl -cursw 5 -cursc r -cellw 95% -T"
   ]
  },
  {
   "cell_type": "raw",
   "metadata": {},
   "source": [
    "##***Creare un nuovo File***\n",
    "\n",
    "Come già detto, utilizzando:\n",
    "*   ***w***: apre il file in sola scrittura, se il file esiste lo sovrascrive, se non esiste lo crea\n",
    "*   ***w+***: apre il file in sola scrittura, se il file esiste lo sovrascrive, se non esiste lo crea\n",
    "\n",
    "Possiamo creare nuovi files!\n"
   ]
  },
  {
   "cell_type": "code",
   "execution_count": 10,
   "metadata": {},
   "outputs": [],
   "source": [
    "prova = open('C:\\\\Users\\\\MediMatic\\\\Downloads\\prova.txt')\n",
    "new_prova=open('C:\\\\Users\\\\MediMatic\\\\Downloads\\prova2.txt','w+')"
   ]
  },
  {
   "cell_type": "raw",
   "metadata": {},
   "source": [
    "Vediamo che il secondo file è vuoto con diritti di scrittura."
   ]
  },
  {
   "cell_type": "code",
   "execution_count": 9,
   "metadata": {},
   "outputs": [],
   "source": [
    "prova.close()"
   ]
  },
  {
   "cell_type": "raw",
   "metadata": {},
   "source": [
    "Ora nel nuovo file andiamo a scrivere le prime 3 righe del file vecchio:"
   ]
  },
  {
   "cell_type": "code",
   "execution_count": 13,
   "metadata": {},
   "outputs": [
    {
     "name": "stdout",
     "output_type": "stream",
     "text": [
      "cambiare\n",
      "\n",
      "voglio cambiare\n",
      "\n",
      "musica\n",
      "\n",
      "bello\n",
      "\n"
     ]
    }
   ],
   "source": [
    "for i, provascritto in enumerate(prova.readlines()):\n",
    "    if(i >= 4):\n",
    "        break\n",
    "    print(provascritto)\n",
    "    new_prova.write(provascritto)"
   ]
  },
  {
   "cell_type": "code",
   "execution_count": 14,
   "metadata": {},
   "outputs": [
    {
     "name": "stdout",
     "output_type": "stream",
     "text": [
      "ciamarecambiare\n",
      "voglio cambiare\n",
      "musica\n",
      "bello\n",
      "\n"
     ]
    }
   ],
   "source": [
    "new_prova.seek(0)\n",
    "print(new_prova.read())"
   ]
  },
  {
   "cell_type": "code",
   "execution_count": 16,
   "metadata": {},
   "outputs": [],
   "source": [
    "new_prova.close()\n",
    "prova.close()"
   ]
  },
  {
   "cell_type": "raw",
   "metadata": {},
   "source": [
    "##***Apertura di files in un contesto***\n",
    "\n",
    "Ricordiamo quanto sia utile chiudere un file alla fine della sua scrittura.\n",
    "Proprio per questo è utile chiuderlo automaticamente.\n",
    "\n",
    "Se usiamo lo *statement* \"with\": "
   ]
  },
  {
   "cell_type": "code",
   "execution_count": 19,
   "metadata": {},
   "outputs": [],
   "source": [
    "with open('C:\\\\Users\\\\MediMatic\\\\Downloads\\\\prova.txt') as prova_online:\n",
    "    online = prova_online.readlines()"
   ]
  },
  {
   "cell_type": "code",
   "execution_count": 20,
   "metadata": {},
   "outputs": [
    {
     "data": {
      "text/plain": [
       "'ciao\\n'"
      ]
     },
     "execution_count": 20,
     "metadata": {},
     "output_type": "execute_result"
    }
   ],
   "source": [
    "online[0]"
   ]
  },
  {
   "cell_type": "raw",
   "metadata": {},
   "source": [
    "Ma se propviamo a stampare ancora questo, vediamo che il file è già stato chiuso automaticamente:"
   ]
  },
  {
   "cell_type": "code",
   "execution_count": 21,
   "metadata": {},
   "outputs": [
    {
     "ename": "ValueError",
     "evalue": "I/O operation on closed file.",
     "output_type": "error",
     "traceback": [
      "\u001b[1;31m---------------------------------------------------------------------------\u001b[0m",
      "\u001b[1;31mValueError\u001b[0m                                Traceback (most recent call last)",
      "\u001b[1;32m<ipython-input-21-f02541ba1df3>\u001b[0m in \u001b[0;36m<module>\u001b[1;34m\u001b[0m\n\u001b[1;32m----> 1\u001b[1;33m \u001b[0mprova_online\u001b[0m\u001b[1;33m.\u001b[0m\u001b[0mreadlines\u001b[0m\u001b[1;33m(\u001b[0m\u001b[1;33m)\u001b[0m\u001b[1;33m\u001b[0m\u001b[1;33m\u001b[0m\u001b[0m\n\u001b[0m",
      "\u001b[1;31mValueError\u001b[0m: I/O operation on closed file."
     ]
    }
   ],
   "source": [
    "prova_online.readlines()"
   ]
  },
  {
   "cell_type": "code",
   "execution_count": null,
   "metadata": {},
   "outputs": [],
   "source": [
    "\n"
   ]
  }
 ],
 "metadata": {
  "colab": {
   "authorship_tag": "ABX9TyMWl3dldjj+f5RAt1gfqZaM",
   "collapsed_sections": [],
   "name": "Sezione8: Operazioni su File.ipynb",
   "provenance": []
  },
  "kernelspec": {
   "display_name": "Python 3",
   "language": "python",
   "name": "python3"
  },
  "language_info": {
   "codemirror_mode": {
    "name": "ipython",
    "version": 3
   },
   "file_extension": ".py",
   "mimetype": "text/x-python",
   "name": "python",
   "nbconvert_exporter": "python",
   "pygments_lexer": "ipython3",
   "version": "3.7.6"
  }
 },
 "nbformat": 4,
 "nbformat_minor": 4
}
