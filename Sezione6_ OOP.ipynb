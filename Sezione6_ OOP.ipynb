{
 "cells": [
  {
   "cell_type": "markdown",
   "metadata": {
    "colab_type": "text",
    "id": "BCKI9lRlGF_V"
   },
   "source": [
    "#***Introduzione a Classi ed Oggetti***\n",
    "Paradigma di programmazione in cui le parti del programma vengono suddivise in oggetti che possono essere usate in sinergia per risolvere un problema.\n",
    "\n",
    "\n",
    "\n",
    "*   *Attributi*: sono i dati\n",
    "*   *Metodi*: sono le procedure\n",
    "\n",
    "\n",
    "\n",
    "Questo modo di programmare ha diverse caratteristiche/meccanismi.\n",
    "\n",
    "\n",
    "\n",
    "1.   *Incapsulamento*:  vediamo due funzioni per il calcolo di perimetro ed area del quadrato\n",
    "\n",
    "\n"
   ]
  },
  {
   "cell_type": "code",
   "execution_count": null,
   "metadata": {
    "colab": {},
    "colab_type": "code",
    "id": "x--dXNk1FxZ9"
   },
   "outputs": [],
   "source": [
    "def square_area(l):\n",
    "    return l*l\n",
    "\n",
    "def square_perimetro(l):\n",
    "    return l*4"
   ]
  },
  {
   "cell_type": "code",
   "execution_count": null,
   "metadata": {
    "colab": {
     "base_uri": "https://localhost:8080/",
     "height": 67
    },
    "colab_type": "code",
    "executionInfo": {
     "elapsed": 4805,
     "status": "ok",
     "timestamp": 1592304816806,
     "user": {
      "displayName": "Giacomo Lo",
      "photoUrl": "https://lh3.googleusercontent.com/a-/AOh14GhA26_Ey8AA96r7kF_QUv9pDKdl650vHdTT6w-h=s64",
      "userId": "02756650299822741221"
     },
     "user_tz": -120
    },
    "id": "yj50VNT1vqfQ",
    "outputId": "e707a415-d6cd-4662-dc93-065aa5c93167"
   },
   "outputs": [
    {
     "name": "stdout",
     "output_type": "stream",
     "text": [
      "inserire il lato del quadrato: 2\n",
      "Il perimetro del quadrato con lato 2.00 è di 8.00\n",
      "L'area del quadrato con lato 2.00 è di 4.00\n"
     ]
    }
   ],
   "source": [
    "l=float(input(\"inserire il lato del quadrato: \"))\n",
    "\n",
    "print(\"Il perimetro del quadrato con lato %.2f è di %.2f\" %(l,square_perimetro(l)))\n",
    "print(\"L'area del quadrato con lato %.2f è di %.2f\" %(l,square_area(l)))"
   ]
  },
  {
   "cell_type": "markdown",
   "metadata": {
    "colab_type": "text",
    "id": "NhjCxpEgJk3h"
   },
   "source": [
    "Queste sono due funzioni che si riferiscono ad un'unica entità ossia il quadrato.\n",
    "Quindi possiamo utilizzare queste due funzioni come Metodi di una classe,\n",
    "la *classe Quadrato*!"
   ]
  },
  {
   "cell_type": "code",
   "execution_count": null,
   "metadata": {
    "colab": {},
    "colab_type": "code",
    "id": "xDDVz3b6J_jP"
   },
   "outputs": [],
   "source": [
    "class Square:\n",
    "    \n",
    "    def __init__(self,l):\n",
    "        self.l=l\n",
    "\n",
    "    \n",
    "    def area(self):\n",
    "        return self.l**2\n",
    "\n",
    "    def perimetro(self):\n",
    "        return self.l*4\n",
    "\n"
   ]
  },
  {
   "cell_type": "code",
   "execution_count": null,
   "metadata": {
    "colab": {
     "base_uri": "https://localhost:8080/",
     "height": 50
    },
    "colab_type": "code",
    "executionInfo": {
     "elapsed": 969,
     "status": "ok",
     "timestamp": 1592329666997,
     "user": {
      "displayName": "Giacomo Lo",
      "photoUrl": "https://lh3.googleusercontent.com/a-/AOh14GhA26_Ey8AA96r7kF_QUv9pDKdl650vHdTT6w-h=s64",
      "userId": "02756650299822741221"
     },
     "user_tz": -120
    },
    "id": "tmz76RPEMABm",
    "outputId": "771a0fb9-1cd1-4f04-a39e-721171ef1761"
   },
   "outputs": [
    {
     "name": "stdout",
     "output_type": "stream",
     "text": [
      "l'area è di 21.16 \n",
      "Il perimetro è di  18.40 \n"
     ]
    }
   ],
   "source": [
    "square = Square(4.6)\n",
    "print(\"l'area è di %.2f \" % (square.area()))\n",
    "print(\"Il perimetro è di  %.2f \" % (square.perimetro()))"
   ]
  },
  {
   "cell_type": "markdown",
   "metadata": {
    "colab_type": "text",
    "id": "EerN1363K7Vc"
   },
   "source": [
    "Vediamo:\n",
    "\n",
    "\n",
    "*   *Costruttore*: metodo che si va ad invocare ogni volta che si va                            instanziare la classe.\n",
    "*   *Metodo*: le funzioni della classe\n",
    "*   *Variabili Membro\\Attributo*: le variabili dichiarate all'interno della classe\n",
    "\n",
    "\n",
    "\n",
    "\n",
    "\n",
    "\n",
    "\n",
    "\n",
    "\n"
   ]
  },
  {
   "cell_type": "markdown",
   "metadata": {
    "colab_type": "text",
    "id": "0z-3o0XvUAdW"
   },
   "source": [
    "\n",
    "\n",
    "\n",
    ">2.      *Ereditarietà*:particolarità che si può associare alle diverse classi; questo permette ad alcune classi di ereditare capacità da altre classi (*Parent Class, Child Class*)\n",
    "\n",
    "\n",
    "\n",
    "\n",
    "\n",
    "\n",
    "\n",
    "\n",
    "\n",
    "\n",
    "\n",
    "\n",
    "\n",
    "\n",
    "\n",
    "\n",
    "\n"
   ]
  },
  {
   "cell_type": "code",
   "execution_count": null,
   "metadata": {
    "colab": {},
    "colab_type": "code",
    "id": "exDzx_ymeH1w"
   },
   "outputs": [],
   "source": [
    "class Person:\n",
    "\n",
    "    def __init__(self,name):\n",
    "        self.name=name\n",
    "\n",
    "    def get_name(self):\n",
    "        return self.name"
   ]
  },
  {
   "cell_type": "code",
   "execution_count": null,
   "metadata": {
    "colab": {
     "base_uri": "https://localhost:8080/",
     "height": 34
    },
    "colab_type": "code",
    "executionInfo": {
     "elapsed": 788,
     "status": "ok",
     "timestamp": 1592333750790,
     "user": {
      "displayName": "Giacomo Lo",
      "photoUrl": "https://lh3.googleusercontent.com/a-/AOh14GhA26_Ey8AA96r7kF_QUv9pDKdl650vHdTT6w-h=s64",
      "userId": "02756650299822741221"
     },
     "user_tz": -120
    },
    "id": "dWOQCQcmebAX",
    "outputId": "9afc593a-3a4a-4826-8cdb-71d9613622a9"
   },
   "outputs": [
    {
     "name": "stdout",
     "output_type": "stream",
     "text": [
      "Giacomoaaaaaaaaa\n"
     ]
    }
   ],
   "source": [
    "person = Person(\"Giacomo\")\n",
    "print(person.get_name())"
   ]
  },
  {
   "cell_type": "code",
   "execution_count": null,
   "metadata": {
    "colab": {},
    "colab_type": "code",
    "id": "nZXthc9xeqPv"
   },
   "outputs": [],
   "source": [
    "class Child(Person):\n",
    "\n",
    "    def is_minor(self):\n",
    "        return True\n",
    "\n",
    "     "
   ]
  },
  {
   "cell_type": "code",
   "execution_count": null,
   "metadata": {
    "colab": {
     "base_uri": "https://localhost:8080/",
     "height": 50
    },
    "colab_type": "code",
    "executionInfo": {
     "elapsed": 856,
     "status": "ok",
     "timestamp": 1592333768492,
     "user": {
      "displayName": "Giacomo Lo",
      "photoUrl": "https://lh3.googleusercontent.com/a-/AOh14GhA26_Ey8AA96r7kF_QUv9pDKdl650vHdTT6w-h=s64",
      "userId": "02756650299822741221"
     },
     "user_tz": -120
    },
    "id": "RWRe_Bxpe8ON",
    "outputId": "a68d2f2f-008c-4b36-cedc-a344c1bfe322"
   },
   "outputs": [
    {
     "name": "stdout",
     "output_type": "stream",
     "text": [
      "Giacomino\n",
      "True\n"
     ]
    }
   ],
   "source": [
    "child=Child(\"Giacomino\")\n",
    "print(child.get_name())\n",
    "print(child.is_minor())"
   ]
  },
  {
   "cell_type": "markdown",
   "metadata": {
    "colab_type": "text",
    "id": "DlJbF6sGuFVP"
   },
   "source": [
    "Questo esempio, il metodo non da nulla di controllato ma era solamente per fare vedere come si creava."
   ]
  },
  {
   "cell_type": "markdown",
   "metadata": {
    "colab_type": "text",
    "id": "6OWrnW_pfeif"
   },
   "source": [
    "\n",
    "\n",
    "\n",
    "\n",
    "> 3.   *Polimorfismo*: quando una *classe figlia* riesce a sovrascrivere metodi e/o attributi di una *classe padre*\n",
    "\n",
    "\n",
    "Rispetto a prima aggiungeremo un nuovo metodo per impostare il nome di una persona dopo aver istanziato la classe.\n",
    "\n",
    "\n"
   ]
  },
  {
   "cell_type": "code",
   "execution_count": null,
   "metadata": {
    "colab": {},
    "colab_type": "code",
    "id": "PknC-b1Jf3Qf"
   },
   "outputs": [],
   "source": [
    "class Person:\n",
    "\n",
    "    def __init__(self,name):\n",
    "        self.name=name\n",
    "\n",
    "    def get_name(self):\n",
    "        return self.name\n",
    "    \n",
    "    def set_name(self,name):\n",
    "        self.name=name"
   ]
  },
  {
   "cell_type": "markdown",
   "metadata": {
    "colab_type": "text",
    "id": "qJbRYgYtuLXE"
   },
   "source": [
    "Adesso dobbiamo in qualche modo andare a potenziare il metodo per andare a vedere se il nome che si passa è di un bambino o no:"
   ]
  },
  {
   "cell_type": "code",
   "execution_count": null,
   "metadata": {
    "colab": {},
    "colab_type": "code",
    "id": "wsuhuQWCtuUl"
   },
   "outputs": [],
   "source": [
    "class Child(Person):\n",
    "\n",
    "    def is_minor(self):\n",
    "        return True\n",
    "\n",
    "    def set_name1(self,name):\n",
    "        print(\"Printo le ultime tre lettere del nome: \" + name[-3:])\n",
    "        if(name[-3:] not in [\"ino\",\"ina\"]):\n",
    "            print(name+\" non è un bambino\")\n",
    "        else:\n",
    "            self.name=name       #lo mette come nuovo valore dell'attributo name"
   ]
  },
  {
   "cell_type": "code",
   "execution_count": null,
   "metadata": {
    "colab": {
     "base_uri": "https://localhost:8080/",
     "height": 118
    },
    "colab_type": "code",
    "executionInfo": {
     "elapsed": 652,
     "status": "ok",
     "timestamp": 1592428306750,
     "user": {
      "displayName": "Giacomo Lo",
      "photoUrl": "https://lh3.googleusercontent.com/a-/AOh14GhA26_Ey8AA96r7kF_QUv9pDKdl650vHdTT6w-h=s64",
      "userId": "02756650299822741221"
     },
     "user_tz": -120
    },
    "id": "owkrjSbKu02C",
    "outputId": "8b96d708-d986-4e62-c9f5-11c6c5f96efa"
   },
   "outputs": [
    {
     "name": "stdout",
     "output_type": "stream",
     "text": [
      "Nome primo: Giacomo\n",
      "Nome secondo: zio\n",
      "Printo le ultime tre lettere del nome: tto\n",
      "zioetto non è un bambino\n",
      "Printo le ultime tre lettere del nome: zio\n",
      "zio non è un bambino\n"
     ]
    }
   ],
   "source": [
    "child=Child(\"Giacomo\")\n",
    "print(\"Nome primo: \" + child.get_name())\n",
    "child.set_name(\"zio\")\n",
    "print(\"Nome secondo: \" + child.get_name())\n",
    "child.is_minor()\n",
    "child.set_name1(\"zioetto\")\n",
    "child.set_name1(\"zio\")       "
   ]
  },
  {
   "cell_type": "markdown",
   "metadata": {
    "colab_type": "text",
    "id": "OdMF7ZwbJK0b"
   },
   "source": [
    "##Programmazione ad Oggetti\n",
    "\n",
    "Vediamo come si andrà ad imparare a programmare ad oggetti utilizzando le classi\n",
    "\n",
    "###Le Classi\n",
    "\n",
    "Vediamo dei metodi per il calcolo dell'aria e perimetro"
   ]
  },
  {
   "cell_type": "code",
   "execution_count": 12,
   "metadata": {
    "colab": {},
    "colab_type": "code",
    "executionInfo": {
     "elapsed": 575,
     "status": "ok",
     "timestamp": 1592459363410,
     "user": {
      "displayName": "Giacomo Lo",
      "photoUrl": "https://lh3.googleusercontent.com/a-/AOh14GhA26_Ey8AA96r7kF_QUv9pDKdl650vHdTT6w-h=s64",
      "userId": "02756650299822741221"
     },
     "user_tz": -120
    },
    "id": "m2lhxj8TKB_6"
   },
   "outputs": [],
   "source": [
    "class Triangle:\n",
    "    \n",
    "    def area(self, b, h):       #la prima variabile argomento di ogni metodo deve essere Self\n",
    "        return b*h/2\n",
    "\n",
    "    def perimetro(self, a, b, c):\n",
    "        return a+b+c\n",
    "\n"
   ]
  },
  {
   "cell_type": "code",
   "execution_count": 14,
   "metadata": {
    "colab": {},
    "colab_type": "code",
    "executionInfo": {
     "elapsed": 590,
     "status": "ok",
     "timestamp": 1592459365905,
     "user": {
      "displayName": "Giacomo Lo",
      "photoUrl": "https://lh3.googleusercontent.com/a-/AOh14GhA26_Ey8AA96r7kF_QUv9pDKdl650vHdTT6w-h=s64",
      "userId": "02756650299822741221"
     },
     "user_tz": -120
    },
    "id": "B8NkaffvKglf"
   },
   "outputs": [],
   "source": [
    "triangle=Triangle()"
   ]
  },
  {
   "cell_type": "code",
   "execution_count": 19,
   "metadata": {
    "colab": {
     "base_uri": "https://localhost:8080/",
     "height": 34
    },
    "colab_type": "code",
    "executionInfo": {
     "elapsed": 543,
     "status": "ok",
     "timestamp": 1592459406894,
     "user": {
      "displayName": "Giacomo Lo",
      "photoUrl": "https://lh3.googleusercontent.com/a-/AOh14GhA26_Ey8AA96r7kF_QUv9pDKdl650vHdTT6w-h=s64",
      "userId": "02756650299822741221"
     },
     "user_tz": -120
    },
    "id": "T5yOTCW6Ko42",
    "outputId": "da577587-236a-44b9-d2f1-1998bbd1c020"
   },
   "outputs": [
    {
     "data": {
      "text/plain": [
       "15"
      ]
     },
     "execution_count": 19,
     "metadata": {
      "tags": []
     },
     "output_type": "execute_result"
    }
   ],
   "source": [
    "triangle.perimetro(5,3,7)\n"
   ]
  },
  {
   "cell_type": "code",
   "execution_count": 18,
   "metadata": {
    "colab": {
     "base_uri": "https://localhost:8080/",
     "height": 34
    },
    "colab_type": "code",
    "executionInfo": {
     "elapsed": 533,
     "status": "ok",
     "timestamp": 1592459403165,
     "user": {
      "displayName": "Giacomo Lo",
      "photoUrl": "https://lh3.googleusercontent.com/a-/AOh14GhA26_Ey8AA96r7kF_QUv9pDKdl650vHdTT6w-h=s64",
      "userId": "02756650299822741221"
     },
     "user_tz": -120
    },
    "id": "jD_LCWqw-bQo",
    "outputId": "b81a6971-5d7e-4416-9bee-5a32dd613798"
   },
   "outputs": [
    {
     "data": {
      "text/plain": [
       "6.0"
      ]
     },
     "execution_count": 18,
     "metadata": {
      "tags": []
     },
     "output_type": "execute_result"
    }
   ],
   "source": [
    "triangle.area(3,4)"
   ]
  },
  {
   "cell_type": "markdown",
   "metadata": {
    "colab_type": "text",
    "id": "fUIefQKtSvn8"
   },
   "source": [
    "Ma concettualemnte, il discorso è sbagliato: un oggetto deve contenere le proprie informazioni nella classe -> *Attributi*.\n",
    "Tramite questi, noi riusciamo a chiamare le funzioni membro senza dover passare ogni volta argomenti.\n",
    "Ma questo ci deve far inserire ogni qual volta che si va ad inizializzare un nuovo oggetto, i parametri."
   ]
  },
  {
   "cell_type": "code",
   "execution_count": 6,
   "metadata": {
    "colab": {},
    "colab_type": "code",
    "executionInfo": {
     "elapsed": 580,
     "status": "ok",
     "timestamp": 1592459282632,
     "user": {
      "displayName": "Giacomo Lo",
      "photoUrl": "https://lh3.googleusercontent.com/a-/AOh14GhA26_Ey8AA96r7kF_QUv9pDKdl650vHdTT6w-h=s64",
      "userId": "02756650299822741221"
     },
     "user_tz": -120
    },
    "id": "xIzc4H_jS9Vg"
   },
   "outputs": [],
   "source": [
    "class Triangle:\n",
    "    def __init__(self, a, b, c, h):\n",
    "        self.a=a\n",
    "        self.b=b\n",
    "        self.c=c\n",
    "        self.h=h\n",
    "        #self.a,self.b,self.c,self.h = a,b,c,h\n",
    "    \n",
    "    def area(self):       #la prima variabile argomento di ogni metodo deve essere Self\n",
    "        return self.b*self.h/2\n",
    "\n",
    "    def perimetro(self):\n",
    "        return self.a+self.b+self.c"
   ]
  },
  {
   "cell_type": "code",
   "execution_count": 7,
   "metadata": {
    "colab": {},
    "colab_type": "code",
    "executionInfo": {
     "elapsed": 566,
     "status": "ok",
     "timestamp": 1592459284868,
     "user": {
      "displayName": "Giacomo Lo",
      "photoUrl": "https://lh3.googleusercontent.com/a-/AOh14GhA26_Ey8AA96r7kF_QUv9pDKdl650vHdTT6w-h=s64",
      "userId": "02756650299822741221"
     },
     "user_tz": -120
    },
    "id": "sYTbjebW9WWg"
   },
   "outputs": [],
   "source": [
    "triangle= Triangle(5,3,7,4)"
   ]
  },
  {
   "cell_type": "code",
   "execution_count": 9,
   "metadata": {
    "colab": {
     "base_uri": "https://localhost:8080/",
     "height": 34
    },
    "colab_type": "code",
    "executionInfo": {
     "elapsed": 559,
     "status": "ok",
     "timestamp": 1592459311041,
     "user": {
      "displayName": "Giacomo Lo",
      "photoUrl": "https://lh3.googleusercontent.com/a-/AOh14GhA26_Ey8AA96r7kF_QUv9pDKdl650vHdTT6w-h=s64",
      "userId": "02756650299822741221"
     },
     "user_tz": -120
    },
    "id": "aR-EYG2p-GjU",
    "outputId": "516cc482-96d4-432c-ed91-9fc61c11d245"
   },
   "outputs": [
    {
     "data": {
      "text/plain": [
       "15"
      ]
     },
     "execution_count": 9,
     "metadata": {
      "tags": []
     },
     "output_type": "execute_result"
    }
   ],
   "source": [
    "triangle.perimetro()"
   ]
  },
  {
   "cell_type": "code",
   "execution_count": 10,
   "metadata": {
    "colab": {
     "base_uri": "https://localhost:8080/",
     "height": 34
    },
    "colab_type": "code",
    "executionInfo": {
     "elapsed": 595,
     "status": "ok",
     "timestamp": 1592459322130,
     "user": {
      "displayName": "Giacomo Lo",
      "photoUrl": "https://lh3.googleusercontent.com/a-/AOh14GhA26_Ey8AA96r7kF_QUv9pDKdl650vHdTT6w-h=s64",
      "userId": "02756650299822741221"
     },
     "user_tz": -120
    },
    "id": "FcSS6E0r-M_A",
    "outputId": "236557bb-0d18-4bad-8e02-bd3a6a096650"
   },
   "outputs": [
    {
     "data": {
      "text/plain": [
       "6.0"
      ]
     },
     "execution_count": 10,
     "metadata": {
      "tags": []
     },
     "output_type": "execute_result"
    }
   ],
   "source": [
    "triangle.area()"
   ]
  },
  {
   "cell_type": "markdown",
   "metadata": {
    "colab_type": "text",
    "id": "fSro9vGyBv_d"
   },
   "source": [
    "###Overloading\n",
    "\n",
    "Adesso andiamo a creare delle Funzioni Membro ad hoc.\n",
    "ANdiamo a creare questo metodo che ci da le info del triangolo:\n"
   ]
  },
  {
   "cell_type": "code",
   "execution_count": 27,
   "metadata": {
    "colab": {},
    "colab_type": "code",
    "executionInfo": {
     "elapsed": 586,
     "status": "ok",
     "timestamp": 1592461121625,
     "user": {
      "displayName": "Giacomo Lo",
      "photoUrl": "https://lh3.googleusercontent.com/a-/AOh14GhA26_Ey8AA96r7kF_QUv9pDKdl650vHdTT6w-h=s64",
      "userId": "02756650299822741221"
     },
     "user_tz": -120
    },
    "id": "ZVeB0bmUDAcp"
   },
   "outputs": [],
   "source": [
    "class Triangle:\n",
    "    def __init__(self, a, b, c, h):\n",
    "        self.a=a\n",
    "        self.b=b\n",
    "        self.c=c\n",
    "        self.h=h\n",
    "        #self.a,self.b,self.c,self.h = a,b,c,h\n",
    "    \n",
    "    def area(self):       #la prima variabile argomento di ogni metodo deve essere Self\n",
    "        return self.b*self.h/2\n",
    "\n",
    "    def perimetro(self):\n",
    "        return self.a+self.b+self.c\n",
    "\n",
    "    def get_info(self):              #ecco la funzione membro ad hoc\n",
    "        print(f\"Lunghezza dei tre lati {self.a}, {self.b}, {self.c}\")\n",
    "        print(f\"L'altezza del triangolo {self.h}\")\n",
    "        print(f\"Perimetro: {self.perimetro()}\")\n",
    "        print(f\"Area: {self.area()}\")"
   ]
  },
  {
   "cell_type": "code",
   "execution_count": 25,
   "metadata": {
    "colab": {},
    "colab_type": "code",
    "executionInfo": {
     "elapsed": 546,
     "status": "ok",
     "timestamp": 1592461103868,
     "user": {
      "displayName": "Giacomo Lo",
      "photoUrl": "https://lh3.googleusercontent.com/a-/AOh14GhA26_Ey8AA96r7kF_QUv9pDKdl650vHdTT6w-h=s64",
      "userId": "02756650299822741221"
     },
     "user_tz": -120
    },
    "id": "Qk_OaeN-EnUb"
   },
   "outputs": [],
   "source": [
    "triangle= Triangle(5,3,7,4)"
   ]
  },
  {
   "cell_type": "code",
   "execution_count": 26,
   "metadata": {
    "colab": {
     "base_uri": "https://localhost:8080/",
     "height": 67
    },
    "colab_type": "code",
    "executionInfo": {
     "elapsed": 531,
     "status": "ok",
     "timestamp": 1592461105003,
     "user": {
      "displayName": "Giacomo Lo",
      "photoUrl": "https://lh3.googleusercontent.com/a-/AOh14GhA26_Ey8AA96r7kF_QUv9pDKdl650vHdTT6w-h=s64",
      "userId": "02756650299822741221"
     },
     "user_tz": -120
    },
    "id": "g-piexR3ErMa",
    "outputId": "5fd3aa3b-a5b2-4235-b660-53e4144d9e22"
   },
   "outputs": [
    {
     "name": "stdout",
     "output_type": "stream",
     "text": [
      "Lunghezza dei tre lati 5, 3, 7\n",
      "L'altezza del triangolo 4\n",
      "Area: 6.0\n"
     ]
    }
   ],
   "source": [
    "triangle.get_info()"
   ]
  },
  {
   "cell_type": "markdown",
   "metadata": {
    "colab_type": "text",
    "id": "53XXnIqEeWh8"
   },
   "source": [
    "Una cosa interessante di Python, ci permette di sovrascrivere anche le funzioni pre compilate le cosi dette Built-In.\n",
    "\n",
    "Ad esempio, invece di creare la funzione \"get_info\", potremmo utilizzare la funzione \"print\" per fare tutto questo: per farlo si può utilizzare il metodo \"repr\":\n"
   ]
  },
  {
   "cell_type": "code",
   "execution_count": 29,
   "metadata": {
    "colab": {},
    "colab_type": "code",
    "executionInfo": {
     "elapsed": 623,
     "status": "ok",
     "timestamp": 1592468452032,
     "user": {
      "displayName": "Giacomo Lo",
      "photoUrl": "https://lh3.googleusercontent.com/a-/AOh14GhA26_Ey8AA96r7kF_QUv9pDKdl650vHdTT6w-h=s64",
      "userId": "02756650299822741221"
     },
     "user_tz": -120
    },
    "id": "gyfQTloSfOcF"
   },
   "outputs": [],
   "source": [
    "class Triangle:\n",
    "    def __init__(self, a, b, c, h):\n",
    "        self.a=a\n",
    "        self.b=b\n",
    "        self.c=c\n",
    "        self.h=h\n",
    "        #self.a,self.b,self.c,self.h = a,b,c,h\n",
    "    \n",
    "    def area(self):       #la prima variabile argomento di ogni metodo deve essere Self\n",
    "        return self.b*self.h/2\n",
    "\n",
    "    def perimetro(self):\n",
    "        return self.a+self.b+self.c\n",
    "\n",
    "    def __repr__(self):              #ecco la funzione membro ad hoc\n",
    "        info = f\"Lunghezza dei tre lati {self.a}, {self.b}, {self.c}\\n\"\n",
    "        info +=f\"Altezza del triangolo: {self.h}\\n\"        \n",
    "        info +=f\"Perimetro: {self.perimetro()}\\n\"\n",
    "        info +=f\"Area: {self.area()}\\n\"\n",
    "        return info"
   ]
  },
  {
   "cell_type": "code",
   "execution_count": 30,
   "metadata": {
    "colab": {},
    "colab_type": "code",
    "executionInfo": {
     "elapsed": 598,
     "status": "ok",
     "timestamp": 1592468454957,
     "user": {
      "displayName": "Giacomo Lo",
      "photoUrl": "https://lh3.googleusercontent.com/a-/AOh14GhA26_Ey8AA96r7kF_QUv9pDKdl650vHdTT6w-h=s64",
      "userId": "02756650299822741221"
     },
     "user_tz": -120
    },
    "id": "aX3gGyHJgp3f"
   },
   "outputs": [],
   "source": [
    "triangle= Triangle(5,3,7,4)"
   ]
  },
  {
   "cell_type": "code",
   "execution_count": 31,
   "metadata": {
    "colab": {
     "base_uri": "https://localhost:8080/",
     "height": 101
    },
    "colab_type": "code",
    "executionInfo": {
     "elapsed": 547,
     "status": "ok",
     "timestamp": 1592468459458,
     "user": {
      "displayName": "Giacomo Lo",
      "photoUrl": "https://lh3.googleusercontent.com/a-/AOh14GhA26_Ey8AA96r7kF_QUv9pDKdl650vHdTT6w-h=s64",
      "userId": "02756650299822741221"
     },
     "user_tz": -120
    },
    "id": "29JOaMi1gsgm",
    "outputId": "266551e6-8aa5-44d3-f916-962e1ca797c6"
   },
   "outputs": [
    {
     "name": "stdout",
     "output_type": "stream",
     "text": [
      "Lunghezza dei tre lati 5, 3, 7\n",
      "Altezza del triangolo: 4\n",
      "Perimetro: 15\n",
      "Area: 6.0\n",
      "\n"
     ]
    }
   ],
   "source": [
    "print(triangle)"
   ]
  },
  {
   "cell_type": "markdown",
   "metadata": {
    "colab_type": "text",
    "id": "GbE7FBgUhsSP"
   },
   "source": [
    "Le funzioni che possiamo sovrascrivere con questo metodo sono moltissime, se si va sulle documentazioni di Python, possiamo trovare i metodi da utilizzare per sovrascrivere le varie funzioni.\n",
    "\n"
   ]
  },
  {
   "cell_type": "code",
   "execution_count": 33,
   "metadata": {
    "colab": {
     "base_uri": "https://localhost:8080/",
     "height": 420
    },
    "colab_type": "code",
    "executionInfo": {
     "elapsed": 574,
     "status": "ok",
     "timestamp": 1592468888993,
     "user": {
      "displayName": "Giacomo Lo",
      "photoUrl": "https://lh3.googleusercontent.com/a-/AOh14GhA26_Ey8AA96r7kF_QUv9pDKdl650vHdTT6w-h=s64",
      "userId": "02756650299822741221"
     },
     "user_tz": -120
    },
    "id": "XPpo5dHMij_D",
    "outputId": "b92953a6-1a82-475c-ce66-6f2584067ee0"
   },
   "outputs": [
    {
     "name": "stdout",
     "output_type": "stream",
     "text": [
      "Help on Triangle in module __main__ object:\n",
      "\n",
      "class Triangle(builtins.object)\n",
      " |  Methods defined here:\n",
      " |  \n",
      " |  __init__(self, a, b, c, h)\n",
      " |      Initialize self.  See help(type(self)) for accurate signature.\n",
      " |  \n",
      " |  __repr__(self)\n",
      " |      Return repr(self).\n",
      " |  \n",
      " |  area(self)\n",
      " |  \n",
      " |  perimetro(self)\n",
      " |  \n",
      " |  ----------------------------------------------------------------------\n",
      " |  Data descriptors defined here:\n",
      " |  \n",
      " |  __dict__\n",
      " |      dictionary for instance variables (if defined)\n",
      " |  \n",
      " |  __weakref__\n",
      " |      list of weak references to the object (if defined)\n",
      "\n"
     ]
    }
   ],
   "source": [
    "help(triangle)"
   ]
  },
  {
   "cell_type": "markdown",
   "metadata": {
    "colab_type": "text",
    "id": "53FMvp7NjVCG"
   },
   "source": [
    "Vediamo che inseriamo il nome della classe creata come argomento, Python ci ri da i metodi&attributi creati al suo interno.\n",
    "\n",
    "Una classe può contenere molti metodi differenti ed è molto utile documentarli tutti.\n",
    "\n",
    "\n"
   ]
  },
  {
   "cell_type": "markdown",
   "metadata": {
    "colab_type": "text",
    "id": "UfvWOMXN0MM3"
   },
   "source": [
    "##Le Docstring\n",
    "\n",
    "Se andiamo a lanciare il comando:"
   ]
  },
  {
   "cell_type": "code",
   "execution_count": 39,
   "metadata": {
    "colab": {},
    "colab_type": "code",
    "executionInfo": {
     "elapsed": 604,
     "status": "ok",
     "timestamp": 1592477316589,
     "user": {
      "displayName": "Giacomo Lo",
      "photoUrl": "https://lh3.googleusercontent.com/a-/AOh14GhA26_Ey8AA96r7kF_QUv9pDKdl650vHdTT6w-h=s64",
      "userId": "02756650299822741221"
     },
     "user_tz": -120
    },
    "id": "PmMODcHflzPI"
   },
   "outputs": [],
   "source": [
    "class Triangle:\n",
    "    \n",
    "    \"\"\"\n",
    "    Questa Rappresenta un triangolo\n",
    "    \"\"\"\n",
    "    \n",
    "    \n",
    "    def __init__(self, a, b, c, h):\n",
    "        self.a=a\n",
    "        self.b=b\n",
    "        self.c=c\n",
    "        self.h=h\n",
    "        #self.a,self.b,self.c,self.h = a,b,c,h\n",
    "\n",
    "    \"\"\"\n",
    "    Costruttore della classe\n",
    "    \"\"\"\n",
    "\n",
    "    def area(self):       #la prima variabile argomento di ogni metodo deve essere Self\n",
    "        return self.b*self.h/2\n",
    "\n",
    "    def perimetro(self):\n",
    "        return self.a+self.b+self.c\n",
    "\n",
    "    def __repr__(self):              #ecco la funzione membro ad hoc\n",
    "        info = f\"Lunghezza dei tre lati {self.a}, {self.b}, {self.c}\\n\"\n",
    "        info +=f\"Altezza del triangolo: {self.h}\\n\"        \n",
    "        info +=f\"Perimetro: {self.perimetro()}\\n\"\n",
    "        info +=f\"Area: {self.area()}\\n\"\n",
    "\n",
    "\n",
    "        return info"
   ]
  },
  {
   "cell_type": "code",
   "execution_count": 42,
   "metadata": {
    "colab": {
     "base_uri": "https://localhost:8080/",
     "height": 454
    },
    "colab_type": "code",
    "executionInfo": {
     "elapsed": 614,
     "status": "ok",
     "timestamp": 1592481676615,
     "user": {
      "displayName": "Giacomo Lo",
      "photoUrl": "https://lh3.googleusercontent.com/a-/AOh14GhA26_Ey8AA96r7kF_QUv9pDKdl650vHdTT6w-h=s64",
      "userId": "02756650299822741221"
     },
     "user_tz": -120
    },
    "id": "2_TLKhc07Z-j",
    "outputId": "6453ae16-c49d-44b7-acb8-1a33d21f5bc3"
   },
   "outputs": [
    {
     "name": "stdout",
     "output_type": "stream",
     "text": [
      "Help on class Triangle in module __main__:\n",
      "\n",
      "class Triangle(builtins.object)\n",
      " |  Questa Rappresenta un triangolo\n",
      " |  \n",
      " |  Methods defined here:\n",
      " |  \n",
      " |  __init__(self, a, b, c, h)\n",
      " |      Initialize self.  See help(type(self)) for accurate signature.\n",
      " |  \n",
      " |  __repr__(self)\n",
      " |      Return repr(self).\n",
      " |  \n",
      " |  area(self)\n",
      " |  \n",
      " |  perimetro(self)\n",
      " |  \n",
      " |  ----------------------------------------------------------------------\n",
      " |  Data descriptors defined here:\n",
      " |  \n",
      " |  __dict__\n",
      " |      dictionary for instance variables (if defined)\n",
      " |  \n",
      " |  __weakref__\n",
      " |      list of weak references to the object (if defined)\n",
      "\n"
     ]
    }
   ],
   "source": [
    "help(Triangle)"
   ]
  },
  {
   "cell_type": "markdown",
   "metadata": {
    "colab_type": "text",
    "id": "Y6Mb-0Jw5NqM"
   },
   "source": [
    "Mettendo tra tripli \" sopra e sotto, andando runnare vedremo i nostri commenti nel help.\n",
    "\n",
    "\n",
    "Per concludere questo strumento è molto utile per segnare un po l'utilità e funzione del codice.\n",
    "\n",
    "\n"
   ]
  }
 ],
 "metadata": {
  "colab": {
   "authorship_tag": "ABX9TyPynrNaG8mBniNySH49pZvv",
   "collapsed_sections": [],
   "name": "Sezione6: OOP.ipynb",
   "provenance": [
    {
     "file_id": "14uy-MmI0F1-Sjt1JTjXZ8HfNscDZ5xGH",
     "timestamp": 1592293617024
    }
   ]
  },
  "kernelspec": {
   "display_name": "Python 3",
   "language": "python",
   "name": "python3"
  },
  "language_info": {
   "codemirror_mode": {
    "name": "ipython",
    "version": 3
   },
   "file_extension": ".py",
   "mimetype": "text/x-python",
   "name": "python",
   "nbconvert_exporter": "python",
   "pygments_lexer": "ipython3",
   "version": "3.7.6"
  }
 },
 "nbformat": 4,
 "nbformat_minor": 4
}
