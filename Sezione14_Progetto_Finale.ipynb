{
  "nbformat": 4,
  "nbformat_minor": 0,
  "metadata": {
    "colab": {
      "name": "Sezione14_Progetto_Finale.ipynb",
      "provenance": [],
      "collapsed_sections": [],
      "toc_visible": true,
      "include_colab_link": true
    },
    "kernelspec": {
      "display_name": "Python 3",
      "language": "python",
      "name": "python3"
    },
    "language_info": {
      "codemirror_mode": {
        "name": "ipython",
        "version": 3
      },
      "file_extension": ".py",
      "mimetype": "text/x-python",
      "name": "python",
      "nbconvert_exporter": "python",
      "pygments_lexer": "ipython3",
      "version": "3.8.3"
    }
  },
  "cells": [
    {
      "cell_type": "markdown",
      "metadata": {
        "id": "view-in-github",
        "colab_type": "text"
      },
      "source": [
        "<a href=\"https://colab.research.google.com/github/RoCkEtToMaN/Python/blob/master/Sezione14_Progetto_Finale.ipynb\" target=\"_parent\"><img src=\"https://colab.research.google.com/assets/colab-badge.svg\" alt=\"Open In Colab\"/></a>"
      ]
    },
    {
      "cell_type": "markdown",
      "metadata": {
        "colab_type": "text",
        "id": "9NeoqW_W-5AL"
      },
      "source": [
        "#***Progetto Finale***\n",
        "\n",
        "Andremo ad implementare una Rete Neurale Artificiale.\n",
        "Questa sarà una classe con struttura simile alle implementazione dei modelli di SIGHT DEEP LEARNING.\n",
        "\n",
        "Useremo puramente Numpy e  svilupperemo una Rete Neurale Artificiale, senza utilizzare utilizzare delle classi già fatte tramite Scikit-Learn o Tensorflow, ma sviluppando la nostra classe da zero, utilizzando soltanto Numpy per il Calcolo Scientifico.\n",
        "\n",
        "\n",
        "\n",
        "\n",
        "*   ***Discriminazione in un set di immagini il numero 0 o 1***\n",
        "\n"
      ]
    },
    {
      "cell_type": "markdown",
      "metadata": {
        "id": "uIU-Izr8RCln",
        "colab_type": "text"
      },
      "source": [
        "## ***Premsesse***\n",
        "- In questo tutorial creeremo una Shallow Neural Network, cioè una Rete Neurale con un’unico strato nascosto. Ampliare la Rete Neurale al caso di strati nascosti multipli non è per nulla complesso, a livello matematico non cambia nulla, a livello di codice bisogna lavorare un po’ di più. Prova a farlo come esercizio, oppure se vuoi vedere una mia implementazione fammelo sapere nei commenti.\n",
        "\n",
        "- La rete che andremo a creare è per problemi di classificazione binaria, quindi quando dobbiamo distinguere un caso positivo da uno negativo (es. distinguere uomo da donna), se vogliamo utilizzarla per altri tipi di problemi, come la classificazione multiclasse o la regressione, dobbiamo soltanto modificare la funzione di attivazione sullo strato di output e la funzione di costo che utilizziamo. Anche qui, se vuoi vedere degli esempi ad-hoc, fammelo sapere.\n"
      ]
    },
    {
      "cell_type": "code",
      "metadata": {
        "colab_type": "code",
        "id": "L0pRY9q1-wlD",
        "colab": {}
      },
      "source": [
        "import numpy as np\n",
        " \n",
        "class NeuralNetwork:\n",
        " \n",
        "    \"\"\"\n",
        "    Questa classe rappresenta una Rete Neurale Artificiale\n",
        "    Per eseguire l'addestramento utilizzare .fix(X,y)\n",
        "    Per eseguire delle previsioni usare .predict(X)\n",
        "    \"\"\"\n",
        " \n",
        "    def __init__(self, hidden_layer_size = 100):\n",
        "        \n",
        "        \"\"\"\n",
        "        Args:\n",
        "             hidden_layer_size(int, optionale): numero di nodi dello strato nascosto\n",
        "        \"\"\"\n",
        "        self.hidden_layer_size = hidden_layer_size\n",
        " \n",
        "# In python non vi è a differenza tra metodi pubblici e privati e quindi per renderli privati \"_\"\n",
        "    def _init_weights(self, input_size, hidden_size):\n",
        "        \n",
        "        \"\"\" \n",
        "        Questa inizializza i pesi a valori casuali ed il bias a zero\n",
        " \n",
        "        Args:\n",
        "            input_size(int): numero di nodi dello strato di input\n",
        "            hidde_size(int): numero di nodi dello strato nascosto\n",
        "        \"\"\"\n",
        " \n",
        "        self._W1 = np.random.randn(input_size, hidden_size)\n",
        "        self._b1 = np.zeros(hidden_size)\n",
        "        self._W2 = np.random.randn(hidden_size, 1)\n",
        "        self._b2 = np.zeros(1)\n",
        " \n",
        " \n",
        " \n",
        "    def _accuracy(self, y_true, y_pred):    \n",
        "        \"\"\"Calcolo dell'accuracy \n",
        "        L'accuracy è una funzione di costo che ritorna la % di classificazione\n",
        "        eseguite correttamente. \n",
        "\n",
        "        Args:\n",
        "            y_true (nparray): valori corretti delle osservazioni/esempi\n",
        "            y_pred (nparray): le predizioni fornite dalla rete \n",
        "        Return:\n",
        "            (float): valore dell'accuracy\n",
        "        \"\"\"\n",
        "        return np.sum(y_true == y_pred)/len(y_true)\n",
        " \n",
        " \n",
        " \n",
        " \n",
        "    def _log_loss(self, y_true, y_proba):\n",
        " \n",
        "        \"\"\"Calcolo della Log Loss ( o Cross Entropy)\n",
        "            \n",
        "        Questa funzione è una f di costo che tiene in considerazione anche\n",
        "        della probabilità\n",
        " \n",
        "        Args:\n",
        "            y_true (ndarray): valori corretti delle osservazioni\n",
        "            y_proba (ndarray): probabilità di appartenenza\n",
        " \n",
        "        Return:\n",
        "            (float): valore della Log Loss\n",
        "        \"\"\"\n",
        "        ##\"multiply\" è un modo piu veloce di fare il prodotto vettoriale\n",
        "        return -np.sum(np.multiply(y_true, np.log(y_proba)) + np.multiply((1.0001-y_true), np.log(1.00001-y_proba) ))/len(y_true)\n",
        " \n",
        "         \n",
        "    def _sigmoid(self, Z):\n",
        "                \n",
        "        \"\"\"Calcolo della Sigmoide \n",
        "                \n",
        "        Questa è una funzione di attivazione utilizzata negli strati \n",
        "        di output per problemi di classificazione binaria.\n",
        " \n",
        "        Args:\n",
        "            Z(ndarray): output lineare di uno strato\n",
        " \n",
        "        Returns:\n",
        "            (ndarray): output post-attivazione dello strato               \n",
        "                \n",
        "        \"\"\"\n",
        "                 \n",
        "        return 1/(1 + np.exp(-Z))\n",
        " \n",
        " \n",
        "                      \n",
        "    def _relu(self, Z):   \n",
        "        \"\"\"Calcolo della Relù                   \n",
        " \n",
        "        Questa è una funzione di attivazione utilizzata per gli\n",
        "        strati nascosti.\n",
        " \n",
        "        Args:\n",
        "            Z(ndarray): output post-attivazione dello strato\n",
        "                  \n",
        "        \"\"\"           \n",
        "        return np.maximum(Z, 0)\n",
        " \n",
        " \n",
        "            \n",
        "    def _relu_derivative(self, Z):\n",
        "        \"\"\" Derivative Relu\n",
        "\n",
        "        Derivata della Relu fondamentale alla backpropagataion\n",
        "\n",
        "        Args:\n",
        "            Z (ndarray): output lineare di uno strato\n",
        "        Output:\n",
        "            dZ(ndarray): derivate parziali rispetto la Z\n",
        "\n",
        "        \"\"\"\n",
        "        dZ = np.zeros(Z.shape) \n",
        "        dZ[Z>0]= 1\n",
        "        return dZ\n",
        "            \n",
        "    def _forward_propagation(self, X):\n",
        " \n",
        "        \"\"\" Funzione che esegue la Propagazione in Avanti\n",
        "                \n",
        "        Args:                   \n",
        "            X (ndarray): matrice con le features\n",
        " \n",
        "        Returns:\n",
        "            A2 (ndarray): array con l'output della rete\n",
        " \n",
        "        \"\"\"\n",
        "                \n",
        "        Z1 = np.dot(X, self._W1) + self._b1\n",
        "        A1 = self._relu(Z1)\n",
        "        Z2 = np.dot(A1, self._W2) + self._b2\n",
        "        A2 = self._sigmoid(Z2)\n",
        " \n",
        "        self._forward_cache = (Z1, A1, Z2, A2)\n",
        "               \n",
        "        return A2.flatten()   #Per essere sicuri che sia un vettore \n",
        "                                      #Usiamo \"flatten\"\n",
        " \n",
        " \n",
        "    def predict(self, X, return_proba=False):\n",
        "                    \n",
        "        \"\"\" Funzione che esegue la predizione \n",
        "                    \n",
        "        Args:\n",
        "            X (ndarray): matrice con le features degli esempi\n",
        "            return_proba (bool, option): se True, questa funziona \n",
        "                        ritorna anche la probabilità\n",
        " \n",
        "        Returns:\n",
        "            y (ndarray): array con le predizioni\n",
        "            proba (ndrarray, optional): array con le probabilità \n",
        "            delle predizioni\n",
        "                    \n",
        "        \"\"\"\n",
        " \n",
        "        proba = self._forward_propagation(X) \n",
        "        y = np.zeros(X.shape[0])\n",
        "        y[proba>=0.5] = 1\n",
        "        y[proba<0.5] = 0\n",
        " \n",
        "        if (return_proba == True):\n",
        "            return (y, proba)\n",
        "                    \n",
        " \n",
        "        return (y)\n",
        " \n",
        " \n",
        " \n",
        "    def _back_propagation(self, X, y):\n",
        "                    \n",
        "        \"\"\" Funzione che esegue la Back Propagation \n",
        "                    \n",
        "        Args: \n",
        "            X (ndarray): matrice con le features degli esempi\n",
        "            y (ndarray): vettore con il target degli esempi\n",
        " \n",
        "        Return:\n",
        "                           \n",
        "            - tutte le derivate parziali della funzione di costo \n",
        "             rispetto ai pesi strato input, bias strato input,\n",
        "             pesi strato nascosto, bias strato nascosto\n",
        "                    \n",
        "         \"\"\"\n",
        " \n",
        "        (Z1, A1, Z2, A2) = self._forward_cache \n",
        "        m = A1.shape[1]\n",
        " \n",
        "        dJ_dz2 = A2 - y.reshape(-1,1)        #reshape per essere sicuri che y ed A2 siano delle stesse dimensioni\n",
        "        dJ_dW2 = np.dot(A1.T, dJ_dz2)/m\n",
        "        dJ_db2 = -np.sum(dJ_dz2, axis=0)/m\n",
        "        dJ_dz1 = np.dot(dJ_dz2,  self._W2.T)* self._relu_derivative(Z1)\n",
        "        dJ_dW1 = np.dot(X.T, dJ_dz1)/m\n",
        "        dJ_db1 = np.sum(dJ_dz1 , axis=0)/m\n",
        " \n",
        " \n",
        "        return dJ_dz2,  dJ_dW2,  dJ_db2, dJ_dz1, dJ_dW1, dJ_db1\n",
        " \n",
        " \n",
        "    def fit (self,  X,  y,  epochs = 200, lr = 0.01):\n",
        " \n",
        "        \"\"\" Funzione che esegue il Gradient Descent\n",
        " \n",
        "        Args:                                 \n",
        "            X (ndarray): matrici con le features degli ingressi\n",
        "            y(ndarray): matrici con i target degli esempi\n",
        "                    epoches (int, optional): numero di epoche per il training\n",
        "            lr (float, optional): learning rate, costante che rappresenta la condizione\\velocità di ogni passo \n",
        "                                            del Gradient Descent\n",
        " \n",
        "        Output: \n",
        " \n",
        "        \"\"\"\n",
        "                      \n",
        "        self._init_weights( X.shape[1],  self.hidden_layer_size)      #decido di reinizializzare i pesi ogni qualvolta che faccio partire l'addestramento.\n",
        " \n",
        "        for _ in range(epochs):\n",
        "                          \n",
        "            #Calcolo l'output con la Forward Prop Y (A2)\n",
        "            Y = self._forward_propagation(X)\n",
        " \n",
        "            #Calcolo le Derivate Parziali tramite la BackWard Prop:\n",
        " \n",
        "            dJ_dz2,  dJ_dW2,  dJ_db2, dJ_dz1, dJ_dW1, dJ_db1 = self._back_propagation(X, y)\n",
        " \n",
        "            #Gradient Descent: vediamo come andiamo ad aggiornare i pesi \n",
        "            self._W1 -=  lr*dJ_dW1\n",
        "            self._b1 -= lr*dJ_db1\n",
        "            self._W2 -= lr*dJ_dW2\n",
        "            self._b2 -= lr*dJ_db2\n",
        "                          \n",
        "                          \n",
        "    def evaluate(self, X, y):\n",
        "\n",
        "        \"\"\" Funzione di Valutazione del modello \n",
        "        Args:                                 \n",
        "            X (ndarray): matrici con le features degli ingressi\n",
        "            y(ndarray): matrici con i target degli esempi \n",
        "        \"\"\"\n",
        "        y_pred,  y_prob = self.predict(X, return_proba=True) \n",
        "        accuracy = self._accuracy(y, y_pred)\n",
        "        log_loss = self._log_loss(y, y_prob) \n",
        "                        \n",
        "        return (accuracy, log_loss)"
      ],
      "execution_count": null,
      "outputs": []
    },
    {
      "cell_type": "markdown",
      "metadata": {
        "colab_type": "text",
        "id": "lcD2uEnkr3tc"
      },
      "source": [
        "## ***Testiamo***"
      ]
    },
    {
      "cell_type": "markdown",
      "metadata": {
        "colab_type": "text",
        "id": "HAISlRQssUkJ"
      },
      "source": [
        "### ***Caricare il DataSet***"
      ]
    },
    {
      "cell_type": "code",
      "metadata": {
        "colab_type": "code",
        "id": "77A5r72Qr9NX",
        "colab": {}
      },
      "source": [
        "from PIL import Image\n",
        "from matplotlib.pyplot import imshow"
      ],
      "execution_count": null,
      "outputs": []
    },
    {
      "cell_type": "code",
      "metadata": {
        "colab_type": "code",
        "id": "ZzTCEijbtRIO",
        "colab": {
          "base_uri": "https://localhost:8080/",
          "height": 282
        },
        "outputId": "770c703e-4dcc-4079-9352-e04234e1c7d6"
      },
      "source": [
        "img = Image.open(\"/content/drive/My Drive/mnist/0/1.jpg\")\n",
        "\n",
        "imshow(img)"
      ],
      "execution_count": null,
      "outputs": [
        {
          "output_type": "error",
          "ename": "FileNotFoundError",
          "evalue": "[Errno 2] No such file or directory: '/content/drive/My Drive/mnist/0/1.jpg'",
          "traceback": [
            "\u001b[1;31m---------------------------------------------------------------------------\u001b[0m",
            "\u001b[1;31mFileNotFoundError\u001b[0m                         Traceback (most recent call last)",
            "\u001b[1;32m<ipython-input-17-440a11104104>\u001b[0m in \u001b[0;36m<module>\u001b[1;34m\u001b[0m\n\u001b[1;32m----> 1\u001b[1;33m \u001b[0mimg\u001b[0m \u001b[1;33m=\u001b[0m \u001b[0mImage\u001b[0m\u001b[1;33m.\u001b[0m\u001b[0mopen\u001b[0m\u001b[1;33m(\u001b[0m\u001b[1;34m\"/content/drive/My Drive/mnist/0/1.jpg\"\u001b[0m\u001b[1;33m)\u001b[0m\u001b[1;33m\u001b[0m\u001b[1;33m\u001b[0m\u001b[0m\n\u001b[0m\u001b[0;32m      2\u001b[0m \u001b[1;33m\u001b[0m\u001b[0m\n\u001b[0;32m      3\u001b[0m \u001b[0mimshow\u001b[0m\u001b[1;33m(\u001b[0m\u001b[0mimg\u001b[0m\u001b[1;33m)\u001b[0m\u001b[1;33m\u001b[0m\u001b[1;33m\u001b[0m\u001b[0m\n",
            "\u001b[1;32mC:\\ProgramData\\Anaconda3\\lib\\site-packages\\PIL\\Image.py\u001b[0m in \u001b[0;36mopen\u001b[1;34m(fp, mode)\u001b[0m\n\u001b[0;32m   2876\u001b[0m \u001b[1;33m\u001b[0m\u001b[0m\n\u001b[0;32m   2877\u001b[0m     \u001b[1;32mif\u001b[0m \u001b[0mfilename\u001b[0m\u001b[1;33m:\u001b[0m\u001b[1;33m\u001b[0m\u001b[1;33m\u001b[0m\u001b[0m\n\u001b[1;32m-> 2878\u001b[1;33m         \u001b[0mfp\u001b[0m \u001b[1;33m=\u001b[0m \u001b[0mbuiltins\u001b[0m\u001b[1;33m.\u001b[0m\u001b[0mopen\u001b[0m\u001b[1;33m(\u001b[0m\u001b[0mfilename\u001b[0m\u001b[1;33m,\u001b[0m \u001b[1;34m\"rb\"\u001b[0m\u001b[1;33m)\u001b[0m\u001b[1;33m\u001b[0m\u001b[1;33m\u001b[0m\u001b[0m\n\u001b[0m\u001b[0;32m   2879\u001b[0m         \u001b[0mexclusive_fp\u001b[0m \u001b[1;33m=\u001b[0m \u001b[1;32mTrue\u001b[0m\u001b[1;33m\u001b[0m\u001b[1;33m\u001b[0m\u001b[0m\n\u001b[0;32m   2880\u001b[0m \u001b[1;33m\u001b[0m\u001b[0m\n",
            "\u001b[1;31mFileNotFoundError\u001b[0m: [Errno 2] No such file or directory: '/content/drive/My Drive/mnist/0/1.jpg'"
          ]
        }
      ]
    },
    {
      "cell_type": "markdown",
      "metadata": {
        "colab_type": "text",
        "id": "CKlAYcMQQ6bB"
      },
      "source": [
        "\n",
        "\n",
        "*   Carichiamo il modulo *OS* ed in particolare la funzione *Listdir*\n",
        "\n"
      ]
    },
    {
      "cell_type": "code",
      "metadata": {
        "colab_type": "code",
        "id": "piT2lj0AQ59Q",
        "colab": {}
      },
      "source": [
        "from os import listdir\n",
        "\n",
        "\n",
        "labels = [0,1]\n",
        "\n",
        "# Array con le info\n",
        "X = np.array([])     #immagini\n",
        "y = np.array([])     #label\n",
        "\n",
        "for label in labels:\n",
        "    for f in listdir(\"/content/drive/My Drive/mnist/%d\" % label):\n",
        "        if (\".jpg\" in f):\n",
        "            img = Image.open(\"/content/drive/My Drive/mnist/%d/%s\"  % (label , f ))\n",
        "            tmp = np.array(img)\n",
        "            tmp = tmp.reshape(1, 28*28)\n",
        "\n",
        "            if ( X .size == 0):   ## Capire perchè fa il check se è vuoto o no\n",
        "                X=tmp\n",
        "            else:\n",
        "                X = np.concatenate((X, tmp))\n",
        "\n",
        "\n",
        "\n",
        "            y = np.append(y, label)\n",
        "\n",
        "\n",
        "    \n",
        "         "
      ],
      "execution_count": null,
      "outputs": []
    },
    {
      "cell_type": "code",
      "metadata": {
        "colab_type": "code",
        "id": "2uLEtdGc1Pe8",
        "colab": {}
      },
      "source": [
        "X.shape\n",
        "X\n"
      ],
      "execution_count": null,
      "outputs": []
    },
    {
      "cell_type": "code",
      "metadata": {
        "colab_type": "code",
        "id": "VqOb9Is9qFBS",
        "colab": {}
      },
      "source": [
        "y"
      ],
      "execution_count": null,
      "outputs": []
    },
    {
      "cell_type": "markdown",
      "metadata": {
        "colab_type": "text",
        "id": "BRVOx-iP2wr6"
      },
      "source": [
        "2000 come le immagini contenute nelle due cartelle e 784=28*28 colonne"
      ]
    },
    {
      "cell_type": "markdown",
      "metadata": {
        "colab_type": "text",
        "id": "PzEcvV-H5CgV"
      },
      "source": [
        "###  ***Creazione  Data Set & Train Set ***\n",
        "\n",
        "\n",
        "Questa divisione serve per andare a determinare la qualità del modello, si determina un eventuale *overfitting*: condizione che si verifica quando un modello invece di apprendere dei dati, gli memorizza andando poi a sbagliare quando i dati si presentano leggermente diverso."
      ]
    },
    {
      "cell_type": "code",
      "metadata": {
        "colab_type": "code",
        "id": "XltQhlyZ5qWu",
        "colab": {}
      },
      "source": [
        "def train_test_split(X, y, test_size = 0.3, random_state = None): ##Random State per lo stato del seed del generatore di numeri casuali\n",
        "\n",
        "    if (random_state != None): ## nel caso non fosse settato a \"None\", noi ogni volta facciamo si che ogni volta siano diversi per evitare l'overfitting\n",
        "        np.random.seed(random_state)\n",
        "\n",
        "\n",
        "    n = X.shape[0]\n",
        "\n",
        "    test_indicies = np.random.choice(n, int(n*test_size), replace = False)\n",
        "\n",
        "    X_test = X[test_indicies]\n",
        "    y_test = y[test_indicies]\n",
        "\n",
        "    X_train = np.delete(X, test_indicies, axis = 0)\n",
        "    y_train = np.delete(y, test_indicies, axis = 0)\n",
        "\n",
        "    return (X_test, y_test, X_train, y_train)   "
      ],
      "execution_count": null,
      "outputs": []
    },
    {
      "cell_type": "code",
      "metadata": {
        "colab_type": "code",
        "id": "vS3sMwQinv8V",
        "colab": {}
      },
      "source": [
        "X_test, y_test, X_train, y_train = train_test_split(X, y)"
      ],
      "execution_count": null,
      "outputs": []
    },
    {
      "cell_type": "code",
      "metadata": {
        "colab_type": "code",
        "id": "m-ItUaRDrhWN",
        "colab": {
          "base_uri": "https://localhost:8080/",
          "height": 884
        },
        "outputId": "dfd41112-9cfd-4766-e3f0-c17c04ff1bf3"
      },
      "source": [
        "X_test, y_test, X_train, y_train "
      ],
      "execution_count": null,
      "outputs": [
        {
          "output_type": "execute_result",
          "data": {
            "text/plain": [
              "(array([[0, 0, 0, ..., 0, 0, 0],\n",
              "        [2, 4, 2, ..., 0, 0, 0],\n",
              "        [0, 0, 0, ..., 0, 0, 0],\n",
              "        ...,\n",
              "        [0, 0, 0, ..., 0, 0, 0],\n",
              "        [0, 0, 0, ..., 0, 0, 0],\n",
              "        [0, 0, 0, ..., 0, 0, 0]], dtype=uint8),\n",
              " array([1., 0., 1., 0., 0., 1., 1., 1., 1., 0., 0., 1., 1., 0., 0., 1., 0.,\n",
              "        0., 1., 0., 0., 1., 1., 1., 1., 1., 1., 0., 1., 0., 1., 0., 0., 0.,\n",
              "        1., 1., 1., 0., 1., 1., 1., 0., 1., 1., 0., 1., 0., 0., 0., 1., 1.,\n",
              "        1., 1., 0., 0., 0., 0., 1., 1., 1., 1., 0., 1., 0., 0., 0., 1., 0.,\n",
              "        0., 0., 1., 1., 1., 1., 0., 0., 0., 0., 1., 0., 0., 0., 1., 1., 0.,\n",
              "        1., 1., 0., 0., 1., 0., 0., 0., 0., 1., 1., 0., 1., 0., 1., 1., 0.,\n",
              "        0., 1., 0., 1., 1., 1., 1., 0., 1., 0., 1., 1., 0., 1., 0., 1., 1.,\n",
              "        1., 0., 1., 1., 1., 0., 0., 0., 1., 1., 1., 1., 1., 1., 0., 0., 0.,\n",
              "        0., 1., 1., 0., 1., 0., 1., 0., 0., 1., 1., 1., 0., 0., 0., 0., 1.,\n",
              "        0., 0., 0., 1., 1., 1., 1., 0., 0., 0., 0., 1., 0., 1., 0., 0., 0.,\n",
              "        0., 0., 1., 1., 1., 1., 0., 1., 1., 1., 1., 1., 1., 1., 0., 1., 1.,\n",
              "        0., 1., 1., 0., 0., 1., 0., 1., 0., 1., 1., 0., 0., 1., 0., 0., 0.,\n",
              "        0., 1., 1., 0., 0., 0., 1., 1., 1., 0., 0., 0., 0., 0., 0., 0., 1.,\n",
              "        0., 0., 1., 1., 1., 1., 1., 0., 0., 0., 0., 0., 1., 1., 1., 0., 1.,\n",
              "        0., 0., 1., 0., 0., 0., 1., 1., 0., 1., 0., 1., 1., 0., 1., 1., 1.,\n",
              "        1., 0., 0., 1., 0., 1., 1., 1., 0., 0., 0., 0., 1., 1., 1., 1., 1.,\n",
              "        1., 1., 1., 1., 0., 0., 0., 0., 0., 1., 1., 0., 1., 1., 0., 0., 1.,\n",
              "        0., 0., 1., 1., 1., 1., 0., 1., 0., 0., 0., 1., 1., 1., 1., 1., 0.,\n",
              "        0., 1., 1., 0., 0., 1., 0., 1., 1., 1., 1., 1., 0., 1., 1., 1., 1.,\n",
              "        1., 0., 0., 0., 0., 0., 1., 0., 1., 0., 1., 0., 0., 1., 0., 0., 0.,\n",
              "        1., 1., 0., 1., 1., 0., 1., 1., 1., 1., 0., 0., 0., 0., 1., 1., 0.,\n",
              "        0., 0., 1., 0., 1., 1., 1., 1., 0., 1., 1., 1., 0., 0., 1., 0., 0.,\n",
              "        1., 1., 1., 0., 1., 1., 0., 1., 1., 0., 1., 0., 1., 0., 1., 1., 1.,\n",
              "        0., 0., 0., 1., 1., 1., 0., 1., 0., 1., 1., 1., 0., 0., 1., 1., 0.,\n",
              "        1., 0., 1., 1., 0., 0., 1., 0., 0., 1., 0., 0., 1., 1., 0., 0., 0.,\n",
              "        0., 1., 1., 1., 1., 1., 1., 0., 0., 0., 0., 1., 0., 1., 1., 1., 0.,\n",
              "        0., 0., 0., 1., 0., 1., 0., 1., 0., 0., 0., 1., 1., 0., 1., 0., 0.,\n",
              "        0., 0., 1., 1., 0., 0., 0., 1., 0., 1., 0., 0., 0., 1., 0., 0., 0.,\n",
              "        1., 1., 0., 0., 0., 0., 1., 0., 1., 0., 0., 0., 1., 1., 1., 1., 0.,\n",
              "        0., 1., 1., 0., 0., 1., 1., 1., 1., 0., 1., 0., 1., 0., 0., 1., 0.,\n",
              "        1., 1., 0., 0., 0., 1., 0., 0., 0., 1., 0., 1., 1., 0., 1., 0., 0.,\n",
              "        0., 1., 1., 1., 1., 0., 0., 0., 0., 0., 0., 0., 1., 1., 0., 0., 1.,\n",
              "        1., 0., 1., 0., 0., 1., 0., 1., 1., 0., 1., 1., 0., 1., 1., 0., 0.,\n",
              "        1., 1., 0., 1., 1., 0., 0., 0., 1., 0., 1., 1., 0., 1., 0., 0., 0.,\n",
              "        1., 1., 1., 0., 0., 1., 0., 1., 1., 0., 1., 1., 1., 1., 1., 0., 0.,\n",
              "        0., 1., 0., 1., 1.]),\n",
              " array([[0, 0, 0, ..., 0, 0, 0],\n",
              "        [0, 0, 0, ..., 0, 0, 0],\n",
              "        [0, 0, 0, ..., 0, 0, 0],\n",
              "        ...,\n",
              "        [0, 0, 0, ..., 0, 0, 0],\n",
              "        [0, 0, 0, ..., 0, 0, 0],\n",
              "        [0, 0, 0, ..., 0, 0, 0]], dtype=uint8),\n",
              " array([0., 0., 0., ..., 1., 1., 1.]))"
            ]
          },
          "metadata": {
            "tags": []
          },
          "execution_count": 9
        }
      ]
    },
    {
      "cell_type": "markdown",
      "metadata": {
        "colab_type": "text",
        "id": "QfGnjwxG2i_3"
      },
      "source": [
        "Possiamo vedere le dimensioni dei due Set:"
      ]
    },
    {
      "cell_type": "code",
      "metadata": {
        "colab_type": "code",
        "id": "Yof4cyhCs3E6",
        "colab": {
          "base_uri": "https://localhost:8080/",
          "height": 34
        },
        "outputId": "2f675331-16d3-4928-f10b-1afa92eee40b"
      },
      "source": [
        "X_train.shape"
      ],
      "execution_count": null,
      "outputs": [
        {
          "output_type": "execute_result",
          "data": {
            "text/plain": [
              "(1400, 784)"
            ]
          },
          "metadata": {
            "tags": []
          },
          "execution_count": 10
        }
      ]
    },
    {
      "cell_type": "code",
      "metadata": {
        "colab_type": "code",
        "id": "Wa9tw_lg2MW2",
        "colab": {
          "base_uri": "https://localhost:8080/",
          "height": 34
        },
        "outputId": "908751d7-5626-4bcc-8c9e-75917e34dd95"
      },
      "source": [
        "X_test.shape"
      ],
      "execution_count": null,
      "outputs": [
        {
          "output_type": "execute_result",
          "data": {
            "text/plain": [
              "(600, 784)"
            ]
          },
          "metadata": {
            "tags": []
          },
          "execution_count": 11
        }
      ]
    },
    {
      "cell_type": "markdown",
      "metadata": {
        "colab_type": "text",
        "id": "10eZ3ZOe35hH"
      },
      "source": [
        "### ***Normalizzazione Dati***"
      ]
    },
    {
      "cell_type": "markdown",
      "metadata": {
        "colab_type": "text",
        "id": "7GG9buqq3_5Z"
      },
      "source": [
        "Prima di adoperare la rete, bisogna normalizzare i dati che abbiamo.\n",
        "Questo permette una velocizzazione della fase di addestramento."
      ]
    },
    {
      "cell_type": "code",
      "metadata": {
        "colab_type": "code",
        "id": "ukbsWTJf6EJ2",
        "colab": {}
      },
      "source": [
        "X_train = X_train/255\n",
        "X_test = X_test/255\n"
      ],
      "execution_count": null,
      "outputs": []
    },
    {
      "cell_type": "code",
      "metadata": {
        "colab_type": "code",
        "id": "jRA_JCGz6VZW",
        "colab": {
          "base_uri": "https://localhost:8080/",
          "height": 34
        },
        "outputId": "82c40d13-14c3-4280-b7ad-e920c129f8c5"
      },
      "source": [
        "X_train.min()\n",
        "X_train.max()"
      ],
      "execution_count": null,
      "outputs": [
        {
          "output_type": "execute_result",
          "data": {
            "text/plain": [
              "1.0"
            ]
          },
          "metadata": {
            "tags": []
          },
          "execution_count": 13
        }
      ]
    },
    {
      "cell_type": "markdown",
      "metadata": {
        "colab_type": "text",
        "id": "0F0fMp5H7Z2J"
      },
      "source": [
        "### ***Addestramento e Valutazione Rete***\n"
      ]
    },
    {
      "cell_type": "markdown",
      "metadata": {
        "colab_type": "text",
        "id": "sIVxjaId7mgq"
      },
      "source": [
        ""
      ]
    },
    {
      "cell_type": "code",
      "metadata": {
        "colab_type": "code",
        "id": "w1CRh47E_OS5",
        "colab": {}
      },
      "source": [
        "help(NeuralNetwork)"
      ],
      "execution_count": null,
      "outputs": []
    },
    {
      "cell_type": "markdown",
      "metadata": {
        "colab_type": "text",
        "id": "dS2mvnrzIXqB"
      },
      "source": [
        "Vediamo che tra i commenti vediamo solamente le *funzioni Pubbliche*"
      ]
    },
    {
      "cell_type": "markdown",
      "metadata": {
        "colab_type": "text",
        "id": "of-2qVtwJjhY"
      },
      "source": [
        "Impongo a 10 il numero dei neuroni contenuti nello strato Hidden Size, dovrebbe essere suff.\n",
        "Nel caso lo cambiamo."
      ]
    },
    {
      "cell_type": "code",
      "metadata": {
        "colab_type": "code",
        "id": "BsEpPm7-FlAn",
        "colab": {}
      },
      "source": [
        "model = NeuralNetwork(hidden_layer_size = 10)   #Imposto a 10 dato che di default è di 100"
      ],
      "execution_count": null,
      "outputs": []
    },
    {
      "cell_type": "markdown",
      "metadata": {
        "colab_type": "text",
        "id": "g0LyArrcJzn5"
      },
      "source": [
        "Per l'addestramento, utilizziamo la funzione Fit:\n",
        "\n",
        "\n",
        "*   #epoche 500\n",
        "\n",
        "\n"
      ]
    },
    {
      "cell_type": "code",
      "metadata": {
        "colab_type": "code",
        "id": "8QU-mVxCKFTQ",
        "colab": {}
      },
      "source": [
        "model.fit(X_train, y_train, epochs = 500)"
      ],
      "execution_count": null,
      "outputs": []
    },
    {
      "cell_type": "markdown",
      "metadata": {
        "colab_type": "text",
        "id": "rrFhAVwlUkJ5"
      },
      "source": [
        "Valutiamo il modello:"
      ]
    },
    {
      "cell_type": "code",
      "metadata": {
        "colab_type": "code",
        "id": "f2ozmTPqUlsZ",
        "colab": {
          "base_uri": "https://localhost:8080/",
          "height": 34
        },
        "outputId": "5f2f5ec8-6c80-4de4-ba41-b8218fd9d2bf"
      },
      "source": [
        "model.evaluate(X_test, y_test)"
      ],
      "execution_count": null,
      "outputs": [
        {
          "output_type": "execute_result",
          "data": {
            "text/plain": [
              "(0.9966666666666667, 0.014593042875956386)"
            ]
          },
          "metadata": {
            "tags": []
          },
          "execution_count": 15
        }
      ]
    },
    {
      "cell_type": "markdown",
      "metadata": {
        "colab_type": "text",
        "id": "AEMe_ljOmhM3"
      },
      "source": [
        "### ***Visualizzazione degli Errori della Rete***\n",
        "\n",
        "Proviamo a plottare le immagini che non hanno avuto una corretta classificazione.\n",
        "\n"
      ]
    },
    {
      "cell_type": "markdown",
      "metadata": {
        "colab_type": "text",
        "id": "Sny009HUq1m7"
      },
      "source": [
        "\n",
        "\n",
        "1.   Determiniamo le y_i predette\n",
        "2.   confrontiamo le predette con quelle oggettive e plottiamo quelle diverse\n"
      ]
    },
    {
      "cell_type": "code",
      "metadata": {
        "colab_type": "code",
        "id": "MyrSl64LmvIs",
        "colab": {}
      },
      "source": [
        "y_pred = model.predict(X_test)\n"
      ],
      "execution_count": null,
      "outputs": []
    },
    {
      "cell_type": "code",
      "metadata": {
        "colab_type": "code",
        "id": "Btfmkq_etRJn",
        "colab": {
          "base_uri": "https://localhost:8080/",
          "height": 629
        },
        "outputId": "1aa425dd-0586-4874-d097-6c5265391e88"
      },
      "source": [
        "y_pred"
      ],
      "execution_count": null,
      "outputs": [
        {
          "output_type": "execute_result",
          "data": {
            "text/plain": [
              "array([1., 0., 1., 0., 0., 1., 1., 1., 1., 0., 0., 1., 1., 0., 0., 1., 0.,\n",
              "       0., 1., 0., 0., 1., 1., 1., 1., 1., 1., 0., 1., 0., 1., 0., 0., 0.,\n",
              "       1., 1., 1., 0., 1., 1., 1., 0., 1., 1., 0., 1., 0., 0., 0., 1., 1.,\n",
              "       1., 1., 0., 0., 0., 0., 1., 1., 1., 1., 0., 1., 0., 0., 0., 1., 0.,\n",
              "       0., 0., 1., 0., 1., 1., 0., 0., 0., 0., 1., 0., 0., 0., 1., 1., 0.,\n",
              "       1., 1., 0., 0., 1., 0., 0., 0., 0., 1., 1., 0., 1., 0., 1., 1., 0.,\n",
              "       0., 1., 0., 1., 1., 1., 1., 0., 1., 0., 1., 1., 0., 1., 0., 1., 1.,\n",
              "       1., 0., 1., 1., 1., 0., 0., 0., 1., 1., 1., 1., 1., 1., 0., 0., 0.,\n",
              "       0., 1., 1., 0., 1., 0., 1., 0., 0., 1., 1., 1., 0., 0., 0., 0., 1.,\n",
              "       0., 0., 0., 1., 1., 1., 1., 0., 0., 0., 0., 1., 0., 1., 0., 1., 0.,\n",
              "       0., 0., 1., 1., 1., 1., 0., 1., 1., 1., 1., 1., 1., 1., 0., 1., 1.,\n",
              "       0., 1., 1., 0., 0., 1., 0., 1., 0., 1., 1., 0., 0., 1., 0., 0., 0.,\n",
              "       0., 1., 1., 0., 0., 0., 1., 1., 1., 0., 0., 0., 0., 0., 0., 0., 1.,\n",
              "       0., 0., 1., 1., 1., 1., 1., 0., 0., 0., 0., 0., 1., 1., 1., 0., 1.,\n",
              "       0., 0., 1., 0., 0., 0., 1., 1., 0., 1., 0., 1., 1., 0., 1., 1., 1.,\n",
              "       1., 0., 0., 1., 0., 1., 1., 1., 0., 0., 0., 0., 1., 1., 1., 1., 1.,\n",
              "       1., 1., 1., 1., 0., 0., 0., 0., 0., 1., 1., 0., 1., 1., 0., 0., 1.,\n",
              "       0., 0., 1., 1., 1., 1., 0., 1., 0., 0., 0., 1., 1., 1., 1., 1., 0.,\n",
              "       0., 1., 1., 0., 0., 1., 0., 1., 1., 1., 1., 1., 0., 1., 1., 1., 1.,\n",
              "       1., 0., 0., 0., 0., 0., 1., 0., 1., 0., 1., 0., 0., 1., 0., 0., 0.,\n",
              "       1., 1., 0., 1., 1., 0., 1., 1., 1., 1., 0., 0., 0., 0., 1., 1., 0.,\n",
              "       0., 0., 1., 0., 1., 1., 1., 1., 0., 1., 1., 1., 0., 0., 1., 0., 0.,\n",
              "       1., 1., 1., 0., 1., 1., 0., 1., 1., 0., 1., 0., 1., 0., 1., 1., 1.,\n",
              "       0., 0., 0., 1., 1., 1., 0., 1., 0., 1., 1., 1., 0., 0., 1., 1., 0.,\n",
              "       1., 0., 1., 1., 0., 0., 1., 0., 0., 1., 0., 0., 1., 1., 0., 0., 0.,\n",
              "       0., 1., 1., 1., 1., 1., 1., 0., 0., 0., 0., 1., 0., 1., 1., 1., 0.,\n",
              "       0., 0., 0., 1., 0., 1., 0., 1., 0., 0., 0., 1., 1., 0., 1., 0., 0.,\n",
              "       0., 0., 1., 1., 0., 0., 0., 1., 0., 1., 0., 0., 0., 1., 0., 0., 0.,\n",
              "       1., 1., 0., 0., 0., 0., 1., 0., 1., 0., 0., 0., 1., 1., 1., 1., 0.,\n",
              "       0., 1., 1., 0., 0., 1., 1., 1., 1., 0., 1., 0., 1., 0., 0., 1., 0.,\n",
              "       1., 1., 0., 0., 0., 1., 0., 0., 0., 1., 0., 1., 1., 0., 1., 0., 0.,\n",
              "       0., 1., 1., 1., 1., 0., 0., 0., 0., 0., 0., 0., 1., 1., 0., 0., 1.,\n",
              "       1., 0., 1., 0., 0., 1., 0., 1., 1., 0., 1., 1., 0., 1., 1., 0., 0.,\n",
              "       1., 1., 0., 1., 1., 0., 0., 0., 1., 0., 1., 1., 0., 1., 0., 0., 0.,\n",
              "       1., 1., 1., 0., 0., 1., 0., 1., 1., 0., 1., 1., 1., 1., 1., 0., 0.,\n",
              "       0., 1., 0., 1., 1.])"
            ]
          },
          "metadata": {
            "tags": []
          },
          "execution_count": 17
        }
      ]
    },
    {
      "cell_type": "markdown",
      "metadata": {
        "colab_type": "text",
        "id": "MCSqR0Ud_-MF"
      },
      "source": [
        "Carichiamo il *modulo show* per stampare tutte le immagini dal ciclo for tutte contemporaneamente.\n"
      ]
    },
    {
      "cell_type": "code",
      "metadata": {
        "colab_type": "code",
        "id": "DbiVnmjD4cI6",
        "colab": {
          "base_uri": "https://localhost:8080/",
          "height": 513
        },
        "outputId": "04f2ab81-b202-4de1-fbe4-c847c4177ad1"
      },
      "source": [
        "\n",
        "from matplotlib.pyplot import show\n",
        "count=0\n",
        "for i in range(y_test.shape[0]):\n",
        "    if ( y_pred[i] != y_test[i]):\n",
        "        imshow(X_test[i].reshape(28,28))\n",
        "        show()\n",
        "        #print(\"ciao and count %s\" %count)\n",
        "        count += 1\n",
        "\n",
        "  \n"
      ],
      "execution_count": null,
      "outputs": [
        {
          "output_type": "display_data",
          "data": {
            "image/png": "[encoded data removed]",
            "text/plain": [
              "<Figure size 432x288 with 1 Axes>"
            ]
          },
          "metadata": {
            "tags": [],
            "needs_background": "light"
          }
        },
        {
          "output_type": "display_data",
          "data": {
            "image/png": "[encoded data removed]",
            "text/plain": [
              "<Figure size 432x288 with 1 Axes>"
            ]
          },
          "metadata": {
            "tags": [],
            "needs_background": "light"
          }
        }
      ]
    },
    {
      "cell_type": "markdown",
      "metadata": {
        "colab_type": "text",
        "id": "l8zdBRFWJZKK"
      },
      "source": [
        "Vediamo le immagini che sono state classificate in modo errato!\n",
        "\n",
        "Ovviamente questo risultato può variare a seconda delle inzializzazioni!"
      ]
    }
  ]
}