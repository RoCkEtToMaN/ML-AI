{
  "nbformat": 4,
  "nbformat_minor": 0,
  "metadata": {
    "colab": {
      "name": "Sezione4: Cicli For e While.ipynb",
      "provenance": [],
      "collapsed_sections": [],
      "toc_visible": true,
      "authorship_tag": "ABX9TyOGIiHu1XcEkVzfYXnDIqTs",
      "include_colab_link": true
    },
    "kernelspec": {
      "name": "python3",
      "display_name": "Python 3"
    }
  },
  "cells": [
    {
      "cell_type": "markdown",
      "metadata": {
        "id": "view-in-github",
        "colab_type": "text"
      },
      "source": [
        "<a href=\"https://colab.research.google.com/github/RoCkEtToMaN/Python/blob/master/Sezione4_Cicli_For_e_While.ipynb\" target=\"_parent\"><img src=\"https://colab.research.google.com/assets/colab-badge.svg\" alt=\"Open In Colab\"/></a>"
      ]
    },
    {
      "cell_type": "markdown",
      "metadata": {
        "id": "Wa9Kx16i4fb-",
        "colab_type": "text"
      },
      "source": [
        "#Sezione4: Cicli For e While\n",
        "\n",
        "Ci permettono di eseguire delle operazioni in maniera ciclica.\n",
        "\n",
        "\n",
        "\n",
        "*   Fattoriale di un numero\n",
        "\n",
        "\n",
        "Per effettuare questo algoritmo, noi dobbiamo utilizzare questi cicli:\n",
        "\n",
        "\n",
        "\n",
        "*   WHILE\n",
        "*   FOR\n",
        "\n",
        "\n",
        "\n"
      ]
    },
    {
      "cell_type": "markdown",
      "metadata": {
        "id": "bGrXVkiw4zoy",
        "colab_type": "text"
      },
      "source": [
        "##Il Ciclo WHILE\n",
        "\n",
        "Come già visto con altri linguaggi e ci permette di effettuare un'instruzione fin quando una condizione viene verificata.\n",
        "\n",
        "Es:"
      ]
    },
    {
      "cell_type": "code",
      "metadata": {
        "id": "O9aeA83N5WHS",
        "colab_type": "code",
        "colab": {
          "base_uri": "https://localhost:8080/",
          "height": 84
        },
        "outputId": "7253ca29-f7ec-42ac-f874-4d16d51399c1"
      },
      "source": [
        "msg=\"\"\n",
        "while(msg != \"esci\"):\n",
        "    msg = input(\"Giuseppe: \")\n",
        "\n",
        "print(\"Ciao Ciao\")"
      ],
      "execution_count": null,
      "outputs": [
        {
          "output_type": "stream",
          "text": [
            "Giuseppe: ciao\n",
            "Giuseppe: come stai?\n",
            "Giuseppe: esci\n",
            "Ciao Ciao\n"
          ],
          "name": "stdout"
        }
      ]
    },
    {
      "cell_type": "markdown",
      "metadata": {
        "id": "l7HRXmJH7R8v",
        "colab_type": "text"
      },
      "source": [
        "Altro esempio:\n"
      ]
    },
    {
      "cell_type": "code",
      "metadata": {
        "id": "JdJ67cQ-7VRv",
        "colab_type": "code",
        "colab": {
          "base_uri": "https://localhost:8080/",
          "height": 118
        },
        "outputId": "38dc0586-aca2-4e39-fe8f-593588756229"
      },
      "source": [
        "n=int(input(\"Fino a che numero vuoi stampare?: \"))\n",
        "i=0;\n",
        "\n",
        "while(i<=n):\n",
        "    print(i)\n",
        "    i+=1\n",
        "\n",
        "\n",
        "\n",
        "\n"
      ],
      "execution_count": null,
      "outputs": [
        {
          "output_type": "stream",
          "text": [
            "Fino a che numero vuoi stampare?: 4\n",
            "0\n",
            "1\n",
            "2\n",
            "3\n",
            "4\n"
          ],
          "name": "stdout"
        }
      ]
    },
    {
      "cell_type": "markdown",
      "metadata": {
        "id": "1sKjP-_c9bkj",
        "colab_type": "text"
      },
      "source": [
        "Possiamo fare un ciclo condizionale anche lo Statement IF:"
      ]
    },
    {
      "cell_type": "code",
      "metadata": {
        "id": "85JRKmNVEDse",
        "colab_type": "code",
        "colab": {
          "base_uri": "https://localhost:8080/",
          "height": 134
        },
        "outputId": "205d988a-8985-4d11-f478-9b6222734d21"
      },
      "source": [
        "n = int(input(\"Fino a che numero vuoi stampare?: \"))\n",
        "z = 0\n",
        "while(z<=n):\n",
        "    if(z%2 == 0):\n",
        "        print(\"%d è un num pari\" %z)\n",
        "    else:\n",
        "        print(\"%d è un num dispari\" %z)\n",
        "    z+=1"
      ],
      "execution_count": null,
      "outputs": [
        {
          "output_type": "stream",
          "text": [
            "Fino a che numero vuoi stampare?: 5\n",
            "0 è un num pari\n",
            "1 è un num dispari\n",
            "2 è un num pari\n",
            "3 è un num dispari\n",
            "4 è un num pari\n",
            "5 è un num dispari\n"
          ],
          "name": "stdout"
        }
      ]
    },
    {
      "cell_type": "markdown",
      "metadata": {
        "id": "Zl6LVpUaTnB7",
        "colab_type": "text"
      },
      "source": [
        "Vediamo la stessa cosa con l'Espressione IF:"
      ]
    },
    {
      "cell_type": "code",
      "metadata": {
        "id": "yOqgqXbnTqhV",
        "colab_type": "code",
        "colab": {
          "base_uri": "https://localhost:8080/",
          "height": 118
        },
        "outputId": "2231eec8-bceb-4a09-e803-8f7feb1221df"
      },
      "source": [
        "n = int(input(\"Fino a che numero vuoi stampare?: \"))\n",
        "z = 0\n",
        "while(z<=n):\n",
        "    print(\"%d e %s \" %(z, \"dispari\" if z% 2 else \"pari\"))\n",
        "     \n",
        "    z+=1"
      ],
      "execution_count": null,
      "outputs": [
        {
          "output_type": "stream",
          "text": [
            "Fino a che numero vuoi stampare?: 4\n",
            "0 e pari \n",
            "1 e dispari \n",
            "2 e pari \n",
            "3 e dispari \n",
            "4 e pari \n"
          ],
          "name": "stdout"
        }
      ]
    },
    {
      "cell_type": "markdown",
      "metadata": {
        "id": "UtsUbVaFXOHY",
        "colab_type": "text"
      },
      "source": [
        "Si è risparmiato molto codice.\n",
        "\n",
        "\n",
        "\n",
        "\n",
        "\n",
        "L'utilizzo piu popolare della variabile indice è di accedere agli elementi di una collezione durante un ciclo.\n",
        "\n",
        "\n",
        "\n",
        "*   **ES**: creiamo una lista della spesa\n",
        "\n"
      ]
    },
    {
      "cell_type": "code",
      "metadata": {
        "id": "4dW-x1P-Xn4D",
        "colab_type": "code",
        "colab": {
          "base_uri": "https://localhost:8080/",
          "height": 101
        },
        "outputId": "76f063ed-729a-40d9-dc66-2737f6c00ce6"
      },
      "source": [
        "shopping_list=[\"tofu\",\"latte di soia\",\"riso basmati\",\"yogurt\"]\n",
        "i=0\n",
        "\n",
        "print(\"La lista della spesa: \")\n",
        "\n",
        "while(i<len(shopping_list)):\n",
        "    print(\"%d) %s\" % (i+1,shopping_list[i]))\n",
        "    i+=1"
      ],
      "execution_count": null,
      "outputs": [
        {
          "output_type": "stream",
          "text": [
            "La lista della spesa: \n",
            "1) tofu\n",
            "2) latte di soia\n",
            "3) riso basmati\n",
            "4) yogurt\n"
          ],
          "name": "stdout"
        }
      ]
    },
    {
      "cell_type": "markdown",
      "metadata": {
        "id": "9s1yjR6WAWfY",
        "colab_type": "text"
      },
      "source": [
        "##Il Ciclo FOR\n",
        "\n",
        "SI differenzia da quello prima dal fatto che la variabile indice è gestita automaticamente.\n",
        "\n"
      ]
    },
    {
      "cell_type": "code",
      "metadata": {
        "id": "3Tx-m-eaAsSZ",
        "colab_type": "code",
        "colab": {
          "base_uri": "https://localhost:8080/",
          "height": 202
        },
        "outputId": "79245f04-adfd-4e48-bcc0-a4cefad426c3"
      },
      "source": [
        "n=int(input(\"Inserire un numero: \"))\n",
        "\n",
        "for i in range(0,n):\n",
        "    print(\"%d è %s\" % (i, \"dispari\" if i%2 else \"pari\"))"
      ],
      "execution_count": null,
      "outputs": [
        {
          "output_type": "stream",
          "text": [
            "Inserire un numero: 10\n",
            "0 è pari\n",
            "1 è dispari\n",
            "2 è pari\n",
            "3 è dispari\n",
            "4 è pari\n",
            "5 è dispari\n",
            "6 è pari\n",
            "7 è dispari\n",
            "8 è pari\n",
            "9 è dispari\n"
          ],
          "name": "stdout"
        }
      ]
    },
    {
      "cell_type": "markdown",
      "metadata": {
        "id": "aYxAF_V8BE0k",
        "colab_type": "text"
      },
      "source": [
        "Risultato identico fatto con While ma qui la variabile indice \"i\" non è stata definita all'inizio (i=0) ma direttamente dopo il for con *range*, se parte dallo 0, possiamo non metterlo.\n",
        "\n",
        "Facciamo l'esempio della lista di prima:"
      ]
    },
    {
      "cell_type": "code",
      "metadata": {
        "id": "ZcTylzxKBcJL",
        "colab_type": "code",
        "colab": {
          "base_uri": "https://localhost:8080/",
          "height": 101
        },
        "outputId": "5713ecfe-7019-4041-a494-2ec24d8fcf75"
      },
      "source": [
        "shopping_list=[\"tofu\",\"latte di soia\",\"riso basmati\",\"yogurt\"]\n",
        "\n",
        "\n",
        "print(\"La lista della spesa: \")\n",
        "\n",
        "for i in range(len(shopping_list)):\n",
        "    print(\"%d) %s\" % (i+1,shopping_list[i]))\n",
        "  "
      ],
      "execution_count": null,
      "outputs": [
        {
          "output_type": "stream",
          "text": [
            "La lista della spesa: \n",
            "1) tofu\n",
            "2) latte di soia\n",
            "3) riso basmati\n",
            "4) yogurt\n"
          ],
          "name": "stdout"
        }
      ]
    },
    {
      "cell_type": "markdown",
      "metadata": {
        "id": "CfG5jDOwB75n",
        "colab_type": "text"
      },
      "source": [
        "Ma a differenza di molti linguaggi di prog., qui possiamo anche non utilizzare l'indice per iterare:"
      ]
    },
    {
      "cell_type": "code",
      "metadata": {
        "id": "cO4GOvm6COAz",
        "colab_type": "code",
        "colab": {
          "base_uri": "https://localhost:8080/",
          "height": 101
        },
        "outputId": "fb476636-0e78-46a3-8f2a-d972695a4181"
      },
      "source": [
        "shopping_list=[\"tofu\",\"latte di soia\",\"riso basmati\",\"yogurt\"]\n",
        "\n",
        "\n",
        "print(\"La lista della spesa: \")\n",
        "\n",
        "for product in shopping_list:\n",
        "    print(\"-\"+product)"
      ],
      "execution_count": null,
      "outputs": [
        {
          "output_type": "stream",
          "text": [
            "La lista della spesa: \n",
            "-tofu\n",
            "-latte di soia\n",
            "-riso basmati\n",
            "-yogurt\n"
          ],
          "name": "stdout"
        }
      ]
    },
    {
      "cell_type": "markdown",
      "metadata": {
        "id": "du5VBG6WC7h6",
        "colab_type": "text"
      },
      "source": [
        "Facendo cosi però abbiamo perso l'indice: per ottenerlo possiamo usare la funzione *Enumerate*:"
      ]
    },
    {
      "cell_type": "code",
      "metadata": {
        "id": "r-G7YeFyDFLt",
        "colab_type": "code",
        "colab": {
          "base_uri": "https://localhost:8080/",
          "height": 101
        },
        "outputId": "d6061a76-d5e2-4ffc-c8bd-ac7d9e0b1788"
      },
      "source": [
        "shopping_list=[\"tofu\",\"latte di soia\",\"riso basmati\",\"yogurt\"]\n",
        "\n",
        "\n",
        "print(\"La lista della spesa: \")\n",
        "\n",
        "for i,product in enumerate(shopping_list):\n",
        "    print(\"%d) %s \" %(i+1,product))"
      ],
      "execution_count": null,
      "outputs": [
        {
          "output_type": "stream",
          "text": [
            "La lista della spesa: \n",
            "1) tofu \n",
            "2) latte di soia \n",
            "3) riso basmati \n",
            "4) yogurt \n"
          ],
          "name": "stdout"
        }
      ]
    },
    {
      "cell_type": "markdown",
      "metadata": {
        "id": "-upZJk3bZd-Q",
        "colab_type": "text"
      },
      "source": [
        "### ***Gli Intervalli del For***\n",
        "\n",
        "Durante gli esercizi, ho trovato differenti modi di gestire l'intervallo dei cicli for.\n",
        "Oltre al classico *in* possiamo vedere *range, enumerate*....\n",
        "\n",
        "\n",
        "\n",
        "*   ***Range***: si mette in argomento *start,stop* ed opzionale quanti *step* si vogliono fare\n",
        "*   ***Enumarate***: permette di iterare e quindi anche di stampare oltre agli indici anche gli oggetti della lista \n",
        "*   ***Zip***: Permette di iterare piu di 2 liste contemporaneamente.\n",
        "\n"
      ]
    },
    {
      "cell_type": "markdown",
      "metadata": {
        "id": "yg09Eh3tDa1F",
        "colab_type": "text"
      },
      "source": [
        "##Statement BREAK e CONTINUE\n",
        "\n",
        "Molte volte ci capita che dobbiamo interrompere un ciclo.\n",
        "Facciamo un esempio:"
      ]
    },
    {
      "cell_type": "code",
      "metadata": {
        "id": "uiALvb37DjoY",
        "colab_type": "code",
        "colab": {
          "base_uri": "https://localhost:8080/",
          "height": 67
        },
        "outputId": "e75b8a33-b7c9-449e-de80-f97bec2171e8"
      },
      "source": [
        "shopping_list=[\"tofu\",\"latte di soia\",\"riso basmati\",\"yogurt\",\"gelato\",\"pesce\",\"detersivo\",\"frutta\",\"pane\"]\n",
        "\n",
        "print(\"La lista della spesa: \")\n",
        "\n",
        "for i,product in enumerate(shopping_list):\n",
        "    if(\"bas\" in product):\n",
        "        break\n",
        "\n",
        "    print(\"%d) %s \" %(i+1,product))"
      ],
      "execution_count": null,
      "outputs": [
        {
          "output_type": "stream",
          "text": [
            "La lista della spesa: \n",
            "1) tofu \n",
            "2) latte di soia \n"
          ],
          "name": "stdout"
        }
      ]
    },
    {
      "cell_type": "markdown",
      "metadata": {
        "id": "PN8Ro1H9EQW-",
        "colab_type": "text"
      },
      "source": [
        "Se non volessimo bloccare il ciclo ma solamente saltare la parola che si vuole bypassare:"
      ]
    },
    {
      "cell_type": "code",
      "metadata": {
        "id": "i6f1G0f-EZGX",
        "colab_type": "code",
        "colab": {
          "base_uri": "https://localhost:8080/",
          "height": 168
        },
        "outputId": "6d40756c-16ce-408c-ba8b-2c1db6a066a1"
      },
      "source": [
        "shopping_list=[\"tofu\",\"latte di soia\",\"riso basmati\",\"yogurt\",\"gelato\",\"pesce\",\"detersivo\",\"frutta\",\"pane\"]\n",
        "\n",
        "print(\"La lista della spesa: \")\n",
        "\n",
        "for i,product in enumerate(shopping_list):\n",
        "    if(\"bas\" in product):\n",
        "        continue\n",
        "\n",
        "    print(\"%d) %s \" %(i+1,product))"
      ],
      "execution_count": null,
      "outputs": [
        {
          "output_type": "stream",
          "text": [
            "La lista della spesa: \n",
            "1) tofu \n",
            "2) latte di soia \n",
            "4) yogurt \n",
            "5) gelato \n",
            "6) pesce \n",
            "7) detersivo \n",
            "8) frutta \n",
            "9) pane \n"
          ],
          "name": "stdout"
        }
      ]
    },
    {
      "cell_type": "markdown",
      "metadata": {
        "id": "0HYPgHyhEgcN",
        "colab_type": "text"
      },
      "source": [
        "Questo è il loro funzionamento e capacità!"
      ]
    },
    {
      "cell_type": "markdown",
      "metadata": {
        "id": "KRCcIDWN2s5J",
        "colab_type": "text"
      },
      "source": [
        "FARE GLI ESERCIZI!!!!!"
      ]
    }
  ]
}