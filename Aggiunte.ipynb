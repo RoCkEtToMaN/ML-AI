{
  "nbformat": 4,
  "nbformat_minor": 0,
  "metadata": {
    "colab": {
      "name": "Aggiunte.ipynb",
      "provenance": [],
      "collapsed_sections": [],
      "toc_visible": true,
      "authorship_tag": "ABX9TyMVqwk5S04WH8ZNabAlHJv9",
      "include_colab_link": true
    },
    "kernelspec": {
      "name": "python3",
      "display_name": "Python 3"
    }
  },
  "cells": [
    {
      "cell_type": "markdown",
      "metadata": {
        "id": "view-in-github",
        "colab_type": "text"
      },
      "source": [
        "<a href=\"https://colab.research.google.com/github/RoCkEtToMaN/Python/blob/master/Aggiunte.ipynb\" target=\"_parent\"><img src=\"https://colab.research.google.com/assets/colab-badge.svg\" alt=\"Open In Colab\"/></a>"
      ]
    },
    {
      "cell_type": "markdown",
      "metadata": {
        "id": "ptdSC6-dDG9p",
        "colab_type": "text"
      },
      "source": [
        "# ***Aggiunte***\n",
        "\n",
        "\n",
        "\n"
      ]
    },
    {
      "cell_type": "markdown",
      "metadata": {
        "id": "Zw9blXAsEvr1",
        "colab_type": "text"
      },
      "source": [
        "\n",
        "\n",
        "## ***Map***\n",
        "\n",
        "Questa funzione permette di dare in pasto ad una funzione terza, se questa lo permette, una lista o tupla ed ottenere un elenco con caratteristiche della funziane messa come argomento."
      ]
    },
    {
      "cell_type": "code",
      "metadata": {
        "id": "bYtOecp7EvAU",
        "colab_type": "code",
        "colab": {
          "base_uri": "https://localhost:8080/",
          "height": 435
        },
        "outputId": "e2f36f14-685c-4586-9ab7-07cc459d3a8a"
      },
      "source": [
        "help(map)"
      ],
      "execution_count": 2,
      "outputs": [
        {
          "output_type": "stream",
          "text": [
            "Help on class map in module builtins:\n",
            "\n",
            "class map(object)\n",
            " |  map(func, *iterables) --> map object\n",
            " |  \n",
            " |  Make an iterator that computes the function using arguments from\n",
            " |  each of the iterables.  Stops when the shortest iterable is exhausted.\n",
            " |  \n",
            " |  Methods defined here:\n",
            " |  \n",
            " |  __getattribute__(self, name, /)\n",
            " |      Return getattr(self, name).\n",
            " |  \n",
            " |  __iter__(self, /)\n",
            " |      Implement iter(self).\n",
            " |  \n",
            " |  __new__(*args, **kwargs) from builtins.type\n",
            " |      Create and return a new object.  See help(type) for accurate signature.\n",
            " |  \n",
            " |  __next__(self, /)\n",
            " |      Implement next(self).\n",
            " |  \n",
            " |  __reduce__(...)\n",
            " |      Return state information for pickling.\n",
            "\n"
          ],
          "name": "stdout"
        }
      ]
    },
    {
      "cell_type": "markdown",
      "metadata": {
        "id": "CLRN1MQIGU0_",
        "colab_type": "text"
      },
      "source": [
        "\n",
        "\n",
        "*   Es:\n",
        "\n"
      ]
    },
    {
      "cell_type": "code",
      "metadata": {
        "id": "O-jaKDwRC_KV",
        "colab_type": "code",
        "colab": {
          "base_uri": "https://localhost:8080/",
          "height": 50
        },
        "outputId": "cd483b6e-b49a-43bb-93cc-50f477f36fcb"
      },
      "source": [
        "n, m = map(int, input().split())\n",
        "type(n)"
      ],
      "execution_count": 4,
      "outputs": [
        {
          "output_type": "stream",
          "text": [
            "1 2\n"
          ],
          "name": "stdout"
        },
        {
          "output_type": "execute_result",
          "data": {
            "text/plain": [
              "int"
            ]
          },
          "metadata": {
            "tags": []
          },
          "execution_count": 4
        }
      ]
    },
    {
      "cell_type": "markdown",
      "metadata": {
        "id": "LQmUj6-CILU6",
        "colab_type": "text"
      },
      "source": [
        "##***With statement***"
      ]
    },
    {
      "cell_type": "markdown",
      "metadata": {
        "id": "laWOTE2VILIg",
        "colab_type": "text"
      },
      "source": [
        "With statement\n",
        "\n",
        "Con lo statement si prendono e si gestiscono meglio le sintassi e le eccezioni.\n",
        "\n",
        "In più, il file verrà chiuso in automatico e lo statement è provvisto di diverse vie per accertarsi che la \"pulizia\" di memoria allocata sia sempre usata.\n",
        "\n",
        "Senza lo statement, il codice risulterebbe :\n",
        "\n",
        "file = open(\"welcome.txt\")\n",
        "data = file.read()\n",
        "print data\n",
        "file.close()\n",
        "Molto importante chiudere sempre il file quando si finisce di lavorarci!\n",
        "\n",
        "Invece con lo statement, il file viene chiuso in automatico\n",
        "\n",
        "Utilizzando il \"with\":\n",
        "\n",
        "\n",
        "with open(\"welcome.txt\") as file: # Use file to refer to the file object\n",
        "\n",
        "   data = file.read()\n",
        "\n",
        "   do something with data\n",
        "   Opens output.txt in write mode\n",
        "\n",
        "with open('output.txt', 'w') as file:  # Use file to refer to the file object\n",
        "\n",
        "    file.write('Hi there!')\n",
        "Il close non c'è perchè fatto in automatico"
      ]
    }
  ]
}