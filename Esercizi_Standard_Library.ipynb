{
  "nbformat": 4,
  "nbformat_minor": 0,
  "metadata": {
    "colab": {
      "name": "Esercizi Standard Library.ipynb",
      "provenance": [],
      "collapsed_sections": [],
      "toc_visible": true,
      "authorship_tag": "ABX9TyNwAg+osRPL1oYXX/kbutUO",
      "include_colab_link": true
    },
    "kernelspec": {
      "name": "python3",
      "display_name": "Python 3"
    }
  },
  "cells": [
    {
      "cell_type": "markdown",
      "metadata": {
        "id": "view-in-github",
        "colab_type": "text"
      },
      "source": [
        "<a href=\"https://colab.research.google.com/github/RoCkEtToMaN/Python/blob/master/Esercizi_Standard_Library.ipynb\" target=\"_parent\"><img src=\"https://colab.research.google.com/assets/colab-badge.svg\" alt=\"Open In Colab\"/></a>"
      ]
    },
    {
      "cell_type": "markdown",
      "metadata": {
        "id": "70cTM0CE7cAa",
        "colab_type": "text"
      },
      "source": [
        "#***ESERCIZI***"
      ]
    },
    {
      "cell_type": "markdown",
      "metadata": {
        "id": "qOt-Otge7jxK",
        "colab_type": "text"
      },
      "source": [
        "## 1. ***OS Library***: poesie su un file\n",
        "\n",
        "Leggere tutte le poesie nella directory e salvale in unico file \"raccolta_poesie.txt\" che si trova in una nuova directory chiamata \"raccolta\".\n",
        "\n",
        "Prima di ogni poesia mettere un contatore (es POESIA 1).\n",
        "\n",
        "\n",
        "\n",
        "\n",
        "\n",
        "\n"
      ]
    },
    {
      "cell_type": "markdown",
      "metadata": {
        "id": "lReJWlyqY_7Q",
        "colab_type": "text"
      },
      "source": [
        "### 2. ***Mia soluzione***"
      ]
    },
    {
      "cell_type": "code",
      "metadata": {
        "id": "mBN_h4gA7LJA",
        "colab_type": "code",
        "colab": {
          "base_uri": "https://localhost:8080/",
          "height": 748
        },
        "outputId": "c66e7e60-8f71-4df2-a3e4-f7ba4633aaa2"
      },
      "source": [
        "import os, pathlib\n",
        "PATH_CURRENT=pathlib.Path().absolute()\n",
        "PATH_ADDED=\"raccolta\"\n",
        "os.makedirs(PATH_ADDED)\n",
        "FILE_NAME=\"raccolta_poesie.txt\"\n",
        "path = os.path.join(PATH_CURRENT, PATH_ADDED) \n",
        "FILE_AND_PATH=os.path.join(path, FILE_NAME) \n",
        "FILE=open(FILE_AND_PATH,'w+')\n",
        "count=1\n",
        "for i,lista in enumerate(os.listdir()):\n",
        "    if ( lista[-3:] == 'txt'):\n",
        "        FILE.write(\"POESIA \"+str(count))      \n",
        "        open_i=open(lista)\n",
        "        open_i.seek(0)\n",
        "        poesia_i=open_i.read()\n",
        "        print(poesia_i)\n",
        "        FILE.write(\"\\n\"+str(poesia_i)+\"\\n\")      \n",
        "        count =count +1\n",
        "FILE.close()"
      ],
      "execution_count": null,
      "outputs": [
        {
          "output_type": "stream",
          "text": [
            "Sei la mia schiavitù sei la mia libertà di Nazim Hikmet\n",
            "\n",
            "Sei la mia schiavitù sei la mia libertà\n",
            "sei la mia carne che brucia\n",
            "come la nuda carne delle notti d'estate\n",
            "sei la mia patria\n",
            "tu, coi riflessi verdi dei tuoi occhi\n",
            "tu, alta e vittoriosa\n",
            "sei la mia nostalgia\n",
            "di saperti inaccessibile\n",
            "nel momento stesso\n",
            "in cui ti afferro.\n",
            "Felicità di Trilussa\n",
            "\n",
            "C'è un'ape che se posa\n",
            "su un bottone de rosa:\n",
            "lo succhia e se ne va...\n",
            "Tutto sommato, la felicità\n",
            "è una piccola cosa. \n",
            "Se durassimo in eterno di Bertolt Brecht\n",
            "\n",
            "Se durassimo in eterno\n",
            "Tutto cambierebbe\n",
            "Dato che siamo mortali\n",
            "Molto rimane come prima.\n",
            "Bacio di Alda Merini\n",
            "\n",
            "Bacio che sopporti il peso\n",
            "della mia anima breve\n",
            "in te il mondo del mio discorso\n",
            "diventa suono e paura.\n",
            "Il più bello dei mari di Nazim Hikmet\n",
            "\n",
            "Il più bello dei mari\n",
            "è quello che non navigammo.\n",
            "Il più bello dei nostri figli\n",
            "non è ancora cresciuto.\n",
            "I più belli dei nostri giorni\n",
            "non li abbiamo ancora vissuti.\n",
            "E quello\n",
            "che vorrei dirti di più bello\n",
            "non te l'ho ancora detto.\n",
            "\n"
          ],
          "name": "stdout"
        }
      ]
    },
    {
      "cell_type": "markdown",
      "metadata": {
        "id": "yTxOboxTf4Ii",
        "colab_type": "text"
      },
      "source": [
        "### 2. ***Sua soluzione***"
      ]
    },
    {
      "cell_type": "code",
      "metadata": {
        "id": "iAasqchNiLRR",
        "colab_type": "code",
        "colab": {}
      },
      "source": [
        "import os, pathlib\n",
        "PATH_CURRENT=pathlib.Path().absolute()\n",
        "#PATH_CURRENT=os.path.join(PATH_CURRENT,\"/\")\n",
        "PATH_ADDED=\"raccolta\"\n",
        "os.makedirs(PATH_ADDED)\n",
        "FILE_NAME=\"raccolta_poesie.txt\"\n",
        "path = os.path.join(PATH_CURRENT, PATH_ADDED) \n",
        "FILE_AND_PATH=os.path.join(path, FILE_NAME) \n",
        "print(FILE_AND_PATH)\n",
        "FILE=open(FILE_AND_PATH,'w+')\n",
        "i=1\n",
        "for txt in (os.listdir()) :\n",
        "\n",
        "    if(not \".txt\" in txt):\n",
        "        continue\n",
        "    print(txt)\n",
        "    print(PATH_CURRENT)\n",
        "    with open(str(PATH_CURRENT )+\"/\"+ txt) as file:\n",
        "        FILE.write(\"POESIA %d\\n\"  %i)\n",
        "        FILE.write(file.read()+\"\\n\\n\")\n",
        "        i+=1\n",
        "\n",
        "FILE.close()\n"
      ],
      "execution_count": null,
      "outputs": []
    },
    {
      "cell_type": "markdown",
      "metadata": {
        "id": "qDt6chO1x9kz",
        "colab_type": "text"
      },
      "source": [
        "## 2. ***Date Time***: quanto manca al tuo compleanno?\n",
        "\n",
        "Inserisci in input la data del tuo compleanno in formato 24/01.\n",
        "Scrivere un programma che calcoli i giorni mancanti al compleanno.\n",
        "\n",
        "\n"
      ]
    },
    {
      "cell_type": "markdown",
      "metadata": {
        "id": "srBYjemTDBw2",
        "colab_type": "text"
      },
      "source": [
        "### 2. ***Mia soluzione***"
      ]
    },
    {
      "cell_type": "code",
      "metadata": {
        "id": "0kcGnifFfRvj",
        "colab_type": "code",
        "colab": {
          "base_uri": "https://localhost:8080/",
          "height": 50
        },
        "outputId": "d69364b4-735c-42c4-9eac-ad2a7f265147"
      },
      "source": [
        "import time, datetime\n",
        "\n",
        "now = datetime.datetime.now()\n",
        "#print(now)\n",
        "IN=str(input(\"Inserire giorno e mese: \"))\n",
        "day_b=int(IN[:2])\n",
        "month_b=int(IN[3:])\n",
        "year_b=now.year\n",
        "\n",
        "if ((now.day > day_b  and now.month >= month_b) or now.month > month_b):\n",
        "    #print(\"AUMENTO\")\n",
        "    year_b=now.year + 1\n",
        "\n",
        "birthday=now.replace(year=year_b, month=month_b, day = day_b)\n",
        "delta=birthday - now\n",
        "print(\"Mancano %s giorni al compleanno\" %(str(delta.days)))\n"
      ],
      "execution_count": null,
      "outputs": [
        {
          "output_type": "stream",
          "text": [
            "Inserire giorno e mese: 01/09\n",
            "Mancano 17 giorni al compleanno\n"
          ],
          "name": "stdout"
        }
      ]
    },
    {
      "cell_type": "markdown",
      "metadata": {
        "id": "3lAwA7Shtl_G",
        "colab_type": "text"
      },
      "source": [
        "### 2. ***Sua soluzione***"
      ]
    },
    {
      "cell_type": "markdown",
      "metadata": {
        "id": "gKolucLXAMsA",
        "colab_type": "text"
      },
      "source": [
        "Lui ha messo in confronto la data con l'anno evitando il controllo piu contorto che ho fatto!\n",
        "COn quache mia modifica (vedi riga 10)"
      ]
    },
    {
      "cell_type": "code",
      "metadata": {
        "id": "6sICXKVJtxn1",
        "colab_type": "code",
        "colab": {
          "base_uri": "https://localhost:8080/",
          "height": 50
        },
        "outputId": "638b6e61-19aa-4862-b5e8-e9f48defd4c3"
      },
      "source": [
        "import time, datetime\n",
        "\n",
        "now = datetime.datetime.now()\n",
        "\n",
        "IN=str(input(\"Inserire giorno e mese: \"))\n",
        "data_datef=datetime.datetime.strptime(IN, \"%d/%m\")\n",
        "data_datef=data_datef.replace(year=now.year)\n",
        "\n",
        "if (now > data_datef):\n",
        "    data_datef=data_datef.replace(year=now.year+1)\n",
        "\n",
        "gap=data_datef-now\n",
        "print(\"Giorni che rimangono: \" + str(gap.days))"
      ],
      "execution_count": null,
      "outputs": [
        {
          "output_type": "stream",
          "text": [
            "Inserire giorno e mese: 24/01\n",
            "Giorni che rimangono: 160\n"
          ],
          "name": "stdout"
        }
      ]
    },
    {
      "cell_type": "markdown",
      "metadata": {
        "id": "GvtTHjnPcMyY",
        "colab_type": "text"
      },
      "source": [
        "## 3. ***Analisi Magazzino***: statistiche dei prodotti nel magazzino\n",
        "\n",
        "Aprire il file con dentro i prodotti e:\n",
        "\n",
        "1.   Numero totale di prodotti presenti:**OK**\n",
        "2.   Valore totale del magazzino (prezzo totale dei pezzi):**OK**\n",
        "3.   Prezzo medio dei prodotti:**OK**\n",
        "4.   Numero dei pezzi suddiviso per colori:**OK**\n",
        "5.   Numero di pezzi suddivisi per taglia\n",
        "\n",
        "\n",
        "Salvare le statistiche all'interno di un dizionario e stamparlo a schermo.\n",
        "\n",
        "\n",
        "**N.B**: output di questo tipo\n",
        "\n",
        "{'prodotti': numero, 'valore totale': num, 'taglie': {S,M,..}, colori:{'rosso':33...}, 'valore medio': num}\n",
        "\n",
        "\n",
        "\n",
        "\n",
        "\n",
        "\n",
        "\n"
      ]
    },
    {
      "cell_type": "markdown",
      "metadata": {
        "id": "m3BISoH_mGZu",
        "colab_type": "text"
      },
      "source": [
        "### 1. ***Mia soluzione***"
      ]
    },
    {
      "cell_type": "code",
      "metadata": {
        "id": "TocHHFV3Jyw3",
        "colab_type": "code",
        "colab": {
          "base_uri": "https://localhost:8080/",
          "height": 54
        },
        "outputId": "aafd4d4f-fa67-4192-8392-c46d6d31876f"
      },
      "source": [
        "import csv\n",
        "b=0\n",
        "v=0\n",
        "r=0\n",
        "x=0\n",
        "m=0\n",
        "s=0\n",
        "magazzino=open(\"/content/shirts.csv\")\n",
        "magazzino.seek(0)\n",
        "leggo=magazzino.read()\n",
        "csv_magazzino = csv.DictReader(magazzino)\n",
        "csv_magazzino.fieldnames\n",
        "magazzino.seek(0)\n",
        "total=0\n",
        "for i,row in enumerate(csv_magazzino):\n",
        "   \n",
        "    if (row[\"colore\"] == \"bianco\"):\n",
        "        #print(\"UN BIANCO\")\n",
        "        b += 1\n",
        "    elif (row[\"colore\"] == \"verde\"):\n",
        "       # print(\"UN VERDE\")\n",
        "        v += 1\n",
        "    elif (row[\"colore\"] == \"rosso\"):\n",
        "        #print(\"UN ROSSO\")\n",
        "        r += 1\n",
        "    \n",
        "    if (row[\"taglia\"] == \"XL\"):\n",
        "       # print(\"EXTRA\")\n",
        "        x += 1\n",
        "    elif (row[\"taglia\"] == \"M\"):\n",
        "      #  print(\"MEDIA\")\n",
        "        m += 1\n",
        "    elif (row[\"taglia\"] == \"S\"):\n",
        "       # print(\"SMALL\")\n",
        "        s += 1\n",
        " \n",
        "    total += float(row[\"prezzo\"])\n",
        "\n",
        "report={'prodotti': i+1, 'valore totale': total, 'taglie':{'S':s,'M':m,'XL':x},'colori':{'rosso':r,'verde':v,'bianco':b},'valore medio': (total)/(i+1) }\n",
        "print(report)"
      ],
      "execution_count": null,
      "outputs": [
        {
          "output_type": "stream",
          "text": [
            "{'prodotti': 100, 'valore totale': 1247.5000000000007, 'taglie': {'S': 25, 'M': 25, 'XL': 24}, 'colori': {'rosso': 20, 'verde': 33, 'bianco': 47}, 'valore medio': 12.475000000000007}\n"
          ],
          "name": "stdout"
        }
      ]
    },
    {
      "cell_type": "markdown",
      "metadata": {
        "id": "Xf-m1FOcMJ1f",
        "colab_type": "text"
      },
      "source": [
        "### 2. ***Sua soluzione***"
      ]
    },
    {
      "cell_type": "code",
      "metadata": {
        "id": "LGKvhuFGMM6-",
        "colab_type": "code",
        "colab": {
          "base_uri": "https://localhost:8080/",
          "height": 54
        },
        "outputId": "01d1070c-3e31-43e6-e4d9-72fb8657b946"
      },
      "source": [
        "import csv\n",
        "\n",
        "report={\"prodotti\": 0, \"valore totale\": 0, \"taglia\":{},\"colore\":{},\"valore medio\":0 }\n",
        "\n",
        "with open(\"/content/shirts.csv\") as csv_file:\n",
        "\n",
        "    csv_reader = csv.DictReader(csv_file)    \n",
        "    for row in csv_reader:\n",
        "\n",
        "        report[\"prodotti\"]+= 1\n",
        "        report[\"valore totale\"]+= float(row[\"prezzo\"])\n",
        "\n",
        "        if (row[\"taglia\"] in report[\"taglia\"]):\n",
        "            report[\"taglia\"][row[\"taglia\"]]+= 1\n",
        "        else:\n",
        "            report[\"taglia\"][row[\"taglia\"]]= 1\n",
        "\n",
        "\n",
        "\n",
        "        if (row[\"colore\"] in report[\"colore\"]):\n",
        "            report[\"colore\"][row[\"colore\"]]+= 1\n",
        "        else:\n",
        "            report[\"colore\"][row[\"colore\"]]= 1\n",
        "\n",
        "\n",
        "report[\"valore totale\"]=round(report[\"valore totale\"],2) \n",
        "report[\"valore medio\"]=round(report[\"valore totale\"]/report[\"prodotti\"],2)          \n",
        "\n",
        "print(report)        \n"
      ],
      "execution_count": null,
      "outputs": [
        {
          "output_type": "stream",
          "text": [
            "{'prodotti': 100, 'valore totale': 1247.5, 'taglia': {'S': 25, 'M': 25, 'XL': 24, 'L': 26}, 'colore': {'bianco': 47, 'verde': 33, 'rosso': 20}, 'valore medio': 12.47}\n"
          ],
          "name": "stdout"
        }
      ]
    },
    {
      "cell_type": "markdown",
      "metadata": {
        "id": "QHZIIwXcZHL9",
        "colab_type": "text"
      },
      "source": [
        "\n",
        "\n",
        "```\n",
        "# Ques`to è formattato come codice`\n",
        "```\n",
        "\n",
        "In generale per avere accesso ad un file, bisogna aprirlo.\n",
        "Lo si puo fare con la funzione *open()*: questo metodo ritorna un oggetto avente diversi metodi e attributi per ottenere tutte le informazioni del file.\n",
        "\n",
        "\n",
        "***With statement***\n",
        "\n",
        "Con lo statement si prendono e si gestiscono meglio le sintassi e le eccezioni.\n",
        "\n",
        "In più, il file verrà chiuso in automatico e lo statement è provvisto di diverse vie per accertarsi che la \"pulizia\" di memoria allocata sia sempre usata.\n",
        "\n",
        "Senza lo statement, il codice risulterebbe :\n",
        "\n",
        "\n",
        "\n",
        "```\n",
        "file = open(\"welcome.txt\")\n",
        "data = file.read()\n",
        "print data\n",
        "file.close() \n",
        "```\n",
        "Molto importante chiudere sempre il file quando si finisce di lavorarci!\n",
        "\n",
        "\n",
        "Invece con lo statement, il file viene chiuso in automatico\n",
        "\n",
        "Utilizzando il \"with\":\n",
        "\n",
        "\n",
        "\n",
        "```\n",
        "\n",
        "with open(\"welcome.txt\") as file: # Use file to refer to the file object\n",
        "\n",
        "   data = file.read()\n",
        "\n",
        "   do something with data\n",
        "   Opens output.txt in write mode\n",
        "\n",
        "with open('output.txt', 'w') as file:  # Use file to refer to the file object\n",
        "\n",
        "    file.write('Hi there!')\n",
        "```\n",
        "\n",
        "\n",
        "Il close non c'è perchè fatto in automatico.\n"
      ]
    },
    {
      "cell_type": "markdown",
      "metadata": {
        "id": "3cMuKIoJdI7z",
        "colab_type": "text"
      },
      "source": [
        "## 4. ***Funzioni di una Rete Neurale***"
      ]
    },
    {
      "cell_type": "markdown",
      "metadata": {
        "id": "P9nCXOXsfSdB",
        "colab_type": "text"
      },
      "source": [
        "Le funzioni di attivazione sono una parte fondamentale delle reti neurali artificiali, implementiamo le seguenti funzioni di attivazione usando ovunque è possibile il modulo math di Python.\n",
        "\n",
        "**Sigmoide**\n",
        "\n",
        "$ \\sigma(z) = \\frac{1}{1+e^{-z}} $\n",
        "\n",
        "\n",
        "**Rectified Linear Unit (ReLU)**\n",
        "\n",
        "\n",
        "$ g(z) = \\begin{Bmatrix}\n",
        "0 \\ \\ \\ se \\ \\ z &lt; 0\n",
        "\\\\\n",
        "z \\ \\ \\ se \\ \\ z \\geq 0\n",
        "\\end{Bmatrix}\n",
        "$\n",
        "\n",
        "**Tangente iperbolica**\n",
        "\n",
        "$ \\tanh(z) = \\frac{1-e^{-2z}}{1+e^{-2z}} $\n",
        "\n",
        "Per valutare la qualità di un qualsiasi modello di machine learning è necessario usare una funzione di costo, implementiamo la log loss utilizzando dove è possibile il modulo math di Python\n",
        "\n",
        "**Log Loss**\n",
        "\n",
        "$ \\text{J}(y, \\hat{y}) ) = -\\frac{1}{N}\\sum_{i=1}^N(y_i\\cdot log(a_i) + (1-y_i)\\cdot log(1-a_i)) $\n",
        "\n"
      ]
    },
    {
      "cell_type": "markdown",
      "metadata": {
        "id": "kUZgZEeAjfrk",
        "colab_type": "text"
      },
      "source": [
        "Andiamo ad implementare queste funzioni!\n"
      ]
    },
    {
      "cell_type": "markdown",
      "metadata": {
        "id": "TeKWA2DRpnHq",
        "colab_type": "text"
      },
      "source": [
        "### 1. ***Mia soluzione***"
      ]
    },
    {
      "cell_type": "code",
      "metadata": {
        "id": "nMzlRjHXfwAA",
        "colab_type": "code",
        "colab": {}
      },
      "source": [
        "import math"
      ],
      "execution_count": null,
      "outputs": []
    },
    {
      "cell_type": "markdown",
      "metadata": {
        "id": "ZAaXXU-ppePo",
        "colab_type": "text"
      },
      "source": [
        "#### 1. ***Sigmoide***\n"
      ]
    },
    {
      "cell_type": "code",
      "metadata": {
        "id": "vRTcwIowoQFb",
        "colab_type": "code",
        "colab": {}
      },
      "source": [
        "def sigmoide(z):\n",
        "    \n",
        "    return (1+math.exp(-z))**(-1)"
      ],
      "execution_count": null,
      "outputs": []
    },
    {
      "cell_type": "code",
      "metadata": {
        "id": "4JgU5YxopYrL",
        "colab_type": "code",
        "colab": {
          "base_uri": "https://localhost:8080/",
          "height": 34
        },
        "outputId": "533bea42-0add-4f12-e278-f15d22cd50f4"
      },
      "source": [
        "sigmoide(2)"
      ],
      "execution_count": null,
      "outputs": [
        {
          "output_type": "execute_result",
          "data": {
            "text/plain": [
              "0.8807970779778823"
            ]
          },
          "metadata": {
            "tags": []
          },
          "execution_count": 172
        }
      ]
    },
    {
      "cell_type": "markdown",
      "metadata": {
        "id": "DOK2QHnIpu4z",
        "colab_type": "text"
      },
      "source": [
        "#### 2. ***ReLu***\n",
        "\n"
      ]
    },
    {
      "cell_type": "code",
      "metadata": {
        "id": "g6T8DlA7ptzp",
        "colab_type": "code",
        "colab": {}
      },
      "source": [
        "def relu(z):\n",
        "    \n",
        "    if (z < 0):\n",
        "        return 0\n",
        "    elif ( z >= 0):\n",
        "        return z"
      ],
      "execution_count": null,
      "outputs": []
    },
    {
      "cell_type": "code",
      "metadata": {
        "id": "a8fIcYeNq9HD",
        "colab_type": "code",
        "colab": {
          "base_uri": "https://localhost:8080/",
          "height": 34
        },
        "outputId": "369d0fbf-a7b5-4f84-cc6f-996e3aa0e282"
      },
      "source": [
        "relu(4)"
      ],
      "execution_count": null,
      "outputs": [
        {
          "output_type": "execute_result",
          "data": {
            "text/plain": [
              "4"
            ]
          },
          "metadata": {
            "tags": []
          },
          "execution_count": 5
        }
      ]
    },
    {
      "cell_type": "markdown",
      "metadata": {
        "id": "dHvEUSRxrLhA",
        "colab_type": "text"
      },
      "source": [
        "#### 3. ***Tgz***"
      ]
    },
    {
      "cell_type": "code",
      "metadata": {
        "id": "JqaN3XDUrQ-C",
        "colab_type": "code",
        "colab": {}
      },
      "source": [
        "def tgh(z):\n",
        "\n",
        "    return (1-math.exp(-2*z))/(1+math.exp(-2*z))"
      ],
      "execution_count": null,
      "outputs": []
    },
    {
      "cell_type": "code",
      "metadata": {
        "id": "nFOWUi7pseqK",
        "colab_type": "code",
        "colab": {
          "base_uri": "https://localhost:8080/",
          "height": 34
        },
        "outputId": "0bdcf87f-cc94-4df9-bea2-61ddff42688d"
      },
      "source": [
        "tgh(2)"
      ],
      "execution_count": null,
      "outputs": [
        {
          "output_type": "execute_result",
          "data": {
            "text/plain": [
              "0.9640275800758168"
            ]
          },
          "metadata": {
            "tags": []
          },
          "execution_count": 9
        }
      ]
    },
    {
      "cell_type": "markdown",
      "metadata": {
        "id": "SSr1bsPWsoNp",
        "colab_type": "text"
      },
      "source": [
        "#### 4. ***Log Loss***\n",
        "\n",
        "y,a come liste\n",
        "\n"
      ]
    },
    {
      "cell_type": "code",
      "metadata": {
        "id": "P8kCmoJbsqoN",
        "colab_type": "code",
        "colab": {}
      },
      "source": [
        "def LogLoss(y,a):\n",
        "    J=[]\n",
        "    if ( len(y) == len(a)):\n",
        "        for j in range(0,len(y)):\n",
        "            J.append((float(y[j])*math.log(float(a[j]),10)) + (1 - int(y[j]))*math.log((1-float(a[j])),10))\n",
        "    \n",
        "    return -sum(J)/len(y)"
      ],
      "execution_count": null,
      "outputs": []
    },
    {
      "cell_type": "code",
      "metadata": {
        "id": "V8enasWSMwhF",
        "colab_type": "code",
        "colab": {
          "base_uri": "https://localhost:8080/",
          "height": 84
        },
        "outputId": "e41e7341-c826-4189-d50e-88712968214e"
      },
      "source": [
        "ric = print(\"Inserire i due vettori:\" )\n",
        "y = input(\"y: \").split()\n",
        "a = input(\"a: \").split()\n",
        "LogLoss(y,a)"
      ],
      "execution_count": null,
      "outputs": [
        {
          "output_type": "stream",
          "text": [
            "Inserire i due vettori:\n",
            "y: 1 2 3\n",
            "a: .1 .2 .3\n"
          ],
          "name": "stdout"
        },
        {
          "output_type": "execute_result",
          "data": {
            "text/plain": [
              "1.186620770511169"
            ]
          },
          "metadata": {
            "tags": []
          },
          "execution_count": 89
        }
      ]
    },
    {
      "cell_type": "markdown",
      "metadata": {
        "id": "4USSHym8x5J7",
        "colab_type": "text"
      },
      "source": [
        "### 2. ***Sua soluzione***\n",
        "\n",
        "L'unico esercizio da segnalare è l'ultimo, non tanto per la formula ma per lo \"zip\" che ha usato permettendo di utilizzare il for in parallelo in modo da utilizzare direttamente il valore preso dal for e non convertito dalla forumula!"
      ]
    },
    {
      "cell_type": "code",
      "metadata": {
        "id": "_ATNdrXj0ZQk",
        "colab_type": "code",
        "colab": {}
      },
      "source": [
        "def LogLoss(y,a):\n",
        "    J=[]\n",
        "    if ( len(y) == len(a)):\n",
        "        for y_i, a_i in zip(y,a):\n",
        "            J.append((float(y_i)*math.log(float(a_i),10)) + (1 - int(y_i))*math.log((1-float(a_i)),10))\n",
        "    \n",
        "    return -sum(J)/len(y)"
      ],
      "execution_count": null,
      "outputs": []
    },
    {
      "cell_type": "code",
      "metadata": {
        "id": "eBkXiF1Q0Zy4",
        "colab_type": "code",
        "colab": {
          "base_uri": "https://localhost:8080/",
          "height": 84
        },
        "outputId": "4ee5c276-be79-4fa3-fd4d-2fba317d5026"
      },
      "source": [
        "ric = print(\"Inserire i due vettori:\" )\n",
        "y = input(\"y: \").split()\n",
        "a = input(\"a: \").split()\n",
        "LogLoss(y,a)"
      ],
      "execution_count": null,
      "outputs": [
        {
          "output_type": "stream",
          "text": [
            "Inserire i due vettori:\n",
            "y: 1 2 3\n",
            "a: .1 .2 .3\n"
          ],
          "name": "stdout"
        },
        {
          "output_type": "execute_result",
          "data": {
            "text/plain": [
              "1.186620770511169"
            ]
          },
          "metadata": {
            "tags": []
          },
          "execution_count": 85
        }
      ]
    }
  ]
}