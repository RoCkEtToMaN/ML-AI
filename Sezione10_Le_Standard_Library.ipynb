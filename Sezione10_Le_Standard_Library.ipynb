{
  "nbformat": 4,
  "nbformat_minor": 0,
  "metadata": {
    "colab": {
      "name": "Sezione10: Le Standard Library.ipynb",
      "provenance": [],
      "collapsed_sections": [],
      "toc_visible": true,
      "mount_file_id": "19u0SsmE_G-tCcWUXXUKLeTH4QaBT676q",
      "authorship_tag": "ABX9TyNVo+UFqFgr5/EB6/Iubs7V",
      "include_colab_link": true
    },
    "kernelspec": {
      "name": "python3",
      "display_name": "Python 3"
    }
  },
  "cells": [
    {
      "cell_type": "markdown",
      "metadata": {
        "id": "view-in-github",
        "colab_type": "text"
      },
      "source": [
        "<a href=\"https://colab.research.google.com/github/RoCkEtToMaN/Python/blob/master/Sezione10_Le_Standard_Library.ipynb\" target=\"_parent\"><img src=\"https://colab.research.google.com/assets/colab-badge.svg\" alt=\"Open In Colab\"/></a>"
      ]
    },
    {
      "cell_type": "markdown",
      "metadata": {
        "id": "9QzrMuScyMIg",
        "colab_type": "text"
      },
      "source": [
        "#***Sezione10: Le Standard Library***\n",
        "\n",
        "Consiste in una raccolta di moduli che possono essere utilizzati in vari ambiti.\n",
        "Ora vedremo alcuni fondamentali per ML e AI.\n",
        "\n",
        "\n",
        "##***Il Modulo OS***\n",
        "\n",
        "Ci permette di utilizzare molte funzioni de SO, indipendente da quale sia."
      ]
    },
    {
      "cell_type": "code",
      "metadata": {
        "id": "kTEYPCM31FFc",
        "colab_type": "code",
        "colab": {}
      },
      "source": [
        "import os"
      ],
      "execution_count": null,
      "outputs": []
    },
    {
      "cell_type": "markdown",
      "metadata": {
        "id": "bo-pylQw1ImJ",
        "colab_type": "text"
      },
      "source": [
        "Vediamo che questo modulo non è presente nella cartella dove vi è il file ma Python verifica nelle cartelle di installazione sua e tutti questi moduli, di questo tipo, sono presenti in questa cartella.\n",
        "\n",
        "\n",
        "\n",
        "\n",
        "*   *name* è un attributo che ci ridà un codice identificativo del sistema operativo\n",
        "\n",
        "\n"
      ]
    },
    {
      "cell_type": "code",
      "metadata": {
        "id": "C25aExfb1YHH",
        "colab_type": "code",
        "colab": {
          "base_uri": "https://localhost:8080/",
          "height": 35
        },
        "outputId": "4811b157-c821-4cf4-ace8-5e2483fd282c"
      },
      "source": [
        "os.name"
      ],
      "execution_count": null,
      "outputs": [
        {
          "output_type": "execute_result",
          "data": {
            "application/vnd.google.colaboratory.intrinsic": {
              "type": "string"
            },
            "text/plain": [
              "'posix'"
            ]
          },
          "metadata": {
            "tags": []
          },
          "execution_count": 5
        }
      ]
    },
    {
      "cell_type": "markdown",
      "metadata": {
        "id": "ps-IVuKM2XYq",
        "colab_type": "text"
      },
      "source": [
        "\n",
        "\n",
        "*   *getlogin()* ci da il nome dell'utente corrente\n",
        "\n",
        "\n"
      ]
    },
    {
      "cell_type": "code",
      "metadata": {
        "id": "rMUx0Op62lki",
        "colab_type": "code",
        "colab": {
          "base_uri": "https://localhost:8080/",
          "height": 162
        },
        "outputId": "fc9107de-ab0a-4704-f074-c241cf2c5e3e"
      },
      "source": [
        "os.getlogin()"
      ],
      "execution_count": null,
      "outputs": [
        {
          "output_type": "error",
          "ename": "OSError",
          "evalue": "ignored",
          "traceback": [
            "\u001b[0;31m---------------------------------------------------------------------------\u001b[0m",
            "\u001b[0;31mOSError\u001b[0m                                   Traceback (most recent call last)",
            "\u001b[0;32m<ipython-input-8-0f8aa747d9ad>\u001b[0m in \u001b[0;36m<module>\u001b[0;34m()\u001b[0m\n\u001b[0;32m----> 1\u001b[0;31m \u001b[0mos\u001b[0m\u001b[0;34m.\u001b[0m\u001b[0mgetlogin\u001b[0m\u001b[0;34m(\u001b[0m\u001b[0;34m)\u001b[0m\u001b[0;34m\u001b[0m\u001b[0;34m\u001b[0m\u001b[0m\n\u001b[0m",
            "\u001b[0;31mOSError\u001b[0m: [Errno 25] Inappropriate ioctl for device"
          ]
        }
      ]
    },
    {
      "cell_type": "markdown",
      "metadata": {
        "id": "Czc2edMz23bS",
        "colab_type": "text"
      },
      "source": [
        "\n",
        "\n",
        "*   *getcwd()* ci dà il percorso della directory corrente\n",
        "\n",
        "\n",
        "\n"
      ]
    },
    {
      "cell_type": "code",
      "metadata": {
        "id": "5eJkW5QN3BMS",
        "colab_type": "code",
        "colab": {
          "base_uri": "https://localhost:8080/",
          "height": 34
        },
        "outputId": "f0ddce74-b0de-4c37-fb99-91889036aa76"
      },
      "source": [
        "cwd=os.getcwd()\n",
        "print(cwd)"
      ],
      "execution_count": null,
      "outputs": [
        {
          "output_type": "stream",
          "text": [
            "/content\n"
          ],
          "name": "stdout"
        }
      ]
    },
    {
      "cell_type": "markdown",
      "metadata": {
        "id": "Lume945b3Lei",
        "colab_type": "text"
      },
      "source": [
        "\n",
        "\n",
        "*   *listdir* ci da la lista dei files contenuti nella directory di una cartella; molto utile per il ML\n",
        "\n",
        "\n",
        "\n"
      ]
    },
    {
      "cell_type": "code",
      "metadata": {
        "id": "iOjATRAO3dqx",
        "colab_type": "code",
        "colab": {
          "base_uri": "https://localhost:8080/",
          "height": 118
        },
        "outputId": "87b91d75-afcf-4e9e-ab10-5d4172028f6f"
      },
      "source": [
        "os.listdir(\"sample_data\")"
      ],
      "execution_count": null,
      "outputs": [
        {
          "output_type": "execute_result",
          "data": {
            "text/plain": [
              "['anscombe.json',\n",
              " 'README.md',\n",
              " 'mnist_test.csv',\n",
              " 'mnist_train_small.csv',\n",
              " 'california_housing_test.csv',\n",
              " 'california_housing_train.csv']"
            ]
          },
          "metadata": {
            "tags": []
          },
          "execution_count": 10
        }
      ]
    },
    {
      "cell_type": "markdown",
      "metadata": {
        "id": "ZjYtVYLu3tLs",
        "colab_type": "text"
      },
      "source": [
        "\n",
        "\n",
        "*   *makedir* ci permette di creare una nuova cartella\n"
      ]
    },
    {
      "cell_type": "code",
      "metadata": {
        "id": "6F7ZkoVW4DPJ",
        "colab_type": "code",
        "colab": {
          "base_uri": "https://localhost:8080/",
          "height": 34
        },
        "outputId": "049b2893-84ad-4ae9-9029-692ac9d707b9"
      },
      "source": [
        "os.listdir()       "
      ],
      "execution_count": null,
      "outputs": [
        {
          "output_type": "execute_result",
          "data": {
            "text/plain": [
              "['.config', 'cartella_provaprova', 'sample_data']"
            ]
          },
          "metadata": {
            "tags": []
          },
          "execution_count": 14
        }
      ]
    },
    {
      "cell_type": "code",
      "metadata": {
        "id": "OToV85sl3r75",
        "colab_type": "code",
        "colab": {}
      },
      "source": [
        "os.mkdir(\"cartella_prova\")"
      ],
      "execution_count": null,
      "outputs": []
    },
    {
      "cell_type": "markdown",
      "metadata": {
        "id": "OwiSJ14p4J2B",
        "colab_type": "text"
      },
      "source": [
        "\n",
        "\n",
        "*   *os.rename* per rinominare una cartella; al primo argomento old_name al secondo new_name\n",
        "\n",
        "\n"
      ]
    },
    {
      "cell_type": "code",
      "metadata": {
        "id": "LNxNSOua4d86",
        "colab_type": "code",
        "colab": {
          "base_uri": "https://localhost:8080/",
          "height": 162
        },
        "outputId": "dbe72866-95be-4e07-a098-db12f583c059"
      },
      "source": [
        "os.rename(\"cartella_prova\",\"cartella_provaprova\")"
      ],
      "execution_count": null,
      "outputs": [
        {
          "output_type": "error",
          "ename": "FileNotFoundError",
          "evalue": "ignored",
          "traceback": [
            "\u001b[0;31m---------------------------------------------------------------------------\u001b[0m",
            "\u001b[0;31mFileNotFoundError\u001b[0m                         Traceback (most recent call last)",
            "\u001b[0;32m<ipython-input-15-713dd3781c26>\u001b[0m in \u001b[0;36m<module>\u001b[0;34m()\u001b[0m\n\u001b[0;32m----> 1\u001b[0;31m \u001b[0mos\u001b[0m\u001b[0;34m.\u001b[0m\u001b[0mrename\u001b[0m\u001b[0;34m(\u001b[0m\u001b[0;34m\"cartella_prova\"\u001b[0m\u001b[0;34m,\u001b[0m\u001b[0;34m\"cartella_provaprova\"\u001b[0m\u001b[0;34m)\u001b[0m\u001b[0;34m\u001b[0m\u001b[0;34m\u001b[0m\u001b[0m\n\u001b[0m",
            "\u001b[0;31mFileNotFoundError\u001b[0m: [Errno 2] No such file or directory: 'cartella_prova' -> 'cartella_provaprova'"
          ]
        }
      ]
    },
    {
      "cell_type": "markdown",
      "metadata": {
        "id": "mUoOpmJ54pwC",
        "colab_type": "text"
      },
      "source": [
        "\n",
        "\n",
        "*  *os.rmdir*  per rimuovare una cartella\n",
        "\n",
        "\n"
      ]
    },
    {
      "cell_type": "code",
      "metadata": {
        "id": "xLbNGk_U4wAa",
        "colab_type": "code",
        "colab": {}
      },
      "source": [
        "os.rmdir(\"cartella_provaprova\")"
      ],
      "execution_count": null,
      "outputs": []
    },
    {
      "cell_type": "markdown",
      "metadata": {
        "id": "qtNM5I0C420b",
        "colab_type": "text"
      },
      "source": [
        "\n",
        "\n",
        "*   *os.remove*  per rimuovere un file!\n",
        "\n"
      ]
    },
    {
      "cell_type": "code",
      "metadata": {
        "id": "_ffAf5tz5BM6",
        "colab_type": "code",
        "colab": {}
      },
      "source": [
        "f = open(\"tmp.txt\",\"w+\")"
      ],
      "execution_count": null,
      "outputs": []
    },
    {
      "cell_type": "code",
      "metadata": {
        "id": "oaJASq7D5I37",
        "colab_type": "code",
        "colab": {
          "base_uri": "https://localhost:8080/",
          "height": 162
        },
        "outputId": "e33398c0-a6ca-442d-bff9-adc99de2531f"
      },
      "source": [
        "os.remove(\"tmp.txt\")"
      ],
      "execution_count": null,
      "outputs": [
        {
          "output_type": "error",
          "ename": "FileNotFoundError",
          "evalue": "ignored",
          "traceback": [
            "\u001b[0;31m---------------------------------------------------------------------------\u001b[0m",
            "\u001b[0;31mFileNotFoundError\u001b[0m                         Traceback (most recent call last)",
            "\u001b[0;32m<ipython-input-23-1221b90e416b>\u001b[0m in \u001b[0;36m<module>\u001b[0;34m()\u001b[0m\n\u001b[0;32m----> 1\u001b[0;31m \u001b[0mos\u001b[0m\u001b[0;34m.\u001b[0m\u001b[0mremove\u001b[0m\u001b[0;34m(\u001b[0m\u001b[0;34m\"tmp.txt\"\u001b[0m\u001b[0;34m)\u001b[0m\u001b[0;34m\u001b[0m\u001b[0;34m\u001b[0m\u001b[0m\n\u001b[0m",
            "\u001b[0;31mFileNotFoundError\u001b[0m: [Errno 2] No such file or directory: 'tmp.txt'"
          ]
        }
      ]
    },
    {
      "cell_type": "markdown",
      "metadata": {
        "id": "AgAI6ySAvrxr",
        "colab_type": "text"
      },
      "source": [
        "##***Il Modulo TIME***\n",
        "\n",
        "Questo modulo fornisce una serie di funzioni legati tempo.\n",
        "La cosa piu comune è quello del cronometro per calcolare quanto ci mette un computer a runnare una funzione."
      ]
    },
    {
      "cell_type": "code",
      "metadata": {
        "id": "RVTIHBVGv7eN",
        "colab_type": "code",
        "colab": {
          "base_uri": "https://localhost:8080/",
          "height": 34
        },
        "outputId": "0834b3b9-4aee-40a9-ad05-7221bf99ea99"
      },
      "source": [
        "from time import time\n",
        "time()"
      ],
      "execution_count": null,
      "outputs": [
        {
          "output_type": "execute_result",
          "data": {
            "text/plain": [
              "1593428677.7376509"
            ]
          },
          "metadata": {
            "tags": []
          },
          "execution_count": 1
        }
      ]
    },
    {
      "cell_type": "markdown",
      "metadata": {
        "id": "_DQL5rBBwRzx",
        "colab_type": "text"
      },
      "source": [
        "Viene stampato il time stamp del computer dal 1/01/1970 ed è un una data che si tiene in considerazione per fare dei confronti.\n",
        "\n",
        "* ***ES***"
      ]
    },
    {
      "cell_type": "code",
      "metadata": {
        "id": "MzpRh8Ekw2pm",
        "colab_type": "code",
        "colab": {
          "base_uri": "https://localhost:8080/",
          "height": 50
        },
        "outputId": "f265f2f3-3c96-4948-a29a-4f8807dc98d5"
      },
      "source": [
        "n = 2\n",
        "pow = 100\n",
        "tick = time()\n",
        "\n",
        "for i in range(1000):\n",
        "    n_pow = n\n",
        "    for _ in range(pow):\n",
        "        n_pow*=n\n",
        "\n",
        "duration = time()-tick\n",
        "\n",
        "print(\"La %d potenza di %d è %d\" %(pow, n, n_pow))\n",
        "print(\"Tempo di esecuzione: %.10f secondi\" % duration)"
      ],
      "execution_count": null,
      "outputs": [
        {
          "output_type": "stream",
          "text": [
            "La 100 potenza di 2 è 2535301200456458802993406410752\n",
            "Tempo di esecuzione: 0.0210962296 secondi\n"
          ],
          "name": "stdout"
        }
      ]
    },
    {
      "cell_type": "markdown",
      "metadata": {
        "id": "d78AO9nEyEd4",
        "colab_type": "text"
      },
      "source": [
        "Vediamo in un range di 1000, quanto la funzione ci ha messo."
      ]
    },
    {
      "cell_type": "markdown",
      "metadata": {
        "id": "eJKusZwoyLJT",
        "colab_type": "text"
      },
      "source": [
        "##***Il Modulo DATATIME***\n",
        "\n",
        "Con questo modulo possiamo giocare con le date."
      ]
    },
    {
      "cell_type": "code",
      "metadata": {
        "id": "Sbqq7KMnzGON",
        "colab_type": "code",
        "colab": {
          "base_uri": "https://localhost:8080/",
          "height": 34
        },
        "outputId": "865f4c0b-6811-4bf6-ca57-2433d0b734f7"
      },
      "source": [
        "import datetime\n",
        "now = datetime.datetime.now()\n",
        "print(now)"
      ],
      "execution_count": null,
      "outputs": [
        {
          "output_type": "stream",
          "text": [
            "2020-06-29 11:18:43.742771\n"
          ],
          "name": "stdout"
        }
      ]
    },
    {
      "cell_type": "markdown",
      "metadata": {
        "id": "Ntkbs9oEzQ7C",
        "colab_type": "text"
      },
      "source": [
        "Vediamo la data di oggi!"
      ]
    },
    {
      "cell_type": "code",
      "metadata": {
        "id": "8oP1rO8R3KOV",
        "colab_type": "code",
        "colab": {
          "base_uri": "https://localhost:8080/",
          "height": 34
        },
        "outputId": "04619b44-6635-42ce-c863-4b80fd06321a"
      },
      "source": [
        "now.year"
      ],
      "execution_count": null,
      "outputs": [
        {
          "output_type": "execute_result",
          "data": {
            "text/plain": [
              "2020"
            ]
          },
          "metadata": {
            "tags": []
          },
          "execution_count": 6
        }
      ]
    },
    {
      "cell_type": "code",
      "metadata": {
        "id": "qmei5qpr3PV5",
        "colab_type": "code",
        "colab": {
          "base_uri": "https://localhost:8080/",
          "height": 34
        },
        "outputId": "ece32918-5773-487b-dc66-84ae2e631845"
      },
      "source": [
        "now.month"
      ],
      "execution_count": null,
      "outputs": [
        {
          "output_type": "execute_result",
          "data": {
            "text/plain": [
              "6"
            ]
          },
          "metadata": {
            "tags": []
          },
          "execution_count": 7
        }
      ]
    },
    {
      "cell_type": "code",
      "metadata": {
        "id": "eVuqv9nWErOB",
        "colab_type": "code",
        "colab": {
          "base_uri": "https://localhost:8080/",
          "height": 34
        },
        "outputId": "fb88de19-b684-45ba-c790-d441f0cb082b"
      },
      "source": [
        "now.minute"
      ],
      "execution_count": null,
      "outputs": [
        {
          "output_type": "execute_result",
          "data": {
            "text/plain": [
              "18"
            ]
          },
          "metadata": {
            "tags": []
          },
          "execution_count": 8
        }
      ]
    },
    {
      "cell_type": "code",
      "metadata": {
        "id": "MDCUPo0GEu9h",
        "colab_type": "code",
        "colab": {
          "base_uri": "https://localhost:8080/",
          "height": 34
        },
        "outputId": "ab8574a5-217a-423b-c728-2485fff50230"
      },
      "source": [
        "now.second"
      ],
      "execution_count": null,
      "outputs": [
        {
          "output_type": "execute_result",
          "data": {
            "text/plain": [
              "43"
            ]
          },
          "metadata": {
            "tags": []
          },
          "execution_count": 9
        }
      ]
    },
    {
      "cell_type": "code",
      "metadata": {
        "id": "Sauy5FpaE2DB",
        "colab_type": "code",
        "colab": {}
      },
      "source": [
        "now.microsecond"
      ],
      "execution_count": null,
      "outputs": []
    },
    {
      "cell_type": "markdown",
      "metadata": {
        "id": "rJKKG6DcFTYV",
        "colab_type": "text"
      },
      "source": [
        "Vediamo come andare a modificare la data:"
      ]
    },
    {
      "cell_type": "code",
      "metadata": {
        "id": "-vP2eZYoE4WQ",
        "colab_type": "code",
        "colab": {}
      },
      "source": [
        "past = now.replace(year=2000, month=6, day=11)"
      ],
      "execution_count": null,
      "outputs": []
    },
    {
      "cell_type": "code",
      "metadata": {
        "id": "vyfIUqHIFMyW",
        "colab_type": "code",
        "colab": {
          "base_uri": "https://localhost:8080/",
          "height": 34
        },
        "outputId": "df4ad0d9-48fe-434b-f408-9bbbca640e18"
      },
      "source": [
        "past"
      ],
      "execution_count": null,
      "outputs": [
        {
          "output_type": "execute_result",
          "data": {
            "text/plain": [
              "datetime.datetime(2000, 6, 11, 11, 18, 43, 742771)"
            ]
          },
          "metadata": {
            "tags": []
          },
          "execution_count": 11
        }
      ]
    },
    {
      "cell_type": "markdown",
      "metadata": {
        "id": "XhDiztoPEoaF",
        "colab_type": "text"
      },
      "source": [
        "Possiamo fare delle operazioni aritmetiche sulle date:"
      ]
    },
    {
      "cell_type": "code",
      "metadata": {
        "id": "rAU1EsXhp1_Z",
        "colab_type": "code",
        "colab": {
          "base_uri": "https://localhost:8080/",
          "height": 34
        },
        "outputId": "b0ba8a16-7f1d-4f78-d950-f3d75cc1a8ea"
      },
      "source": [
        "tomorrow = now + datetime.timedelta(3)\n",
        "print(tomorrow)"
      ],
      "execution_count": null,
      "outputs": [
        {
          "output_type": "stream",
          "text": [
            "2020-07-02 11:18:43.742771\n"
          ],
          "name": "stdout"
        }
      ]
    },
    {
      "cell_type": "markdown",
      "metadata": {
        "id": "xjEUvYf2qSA7",
        "colab_type": "text"
      },
      "source": [
        "ecco che andiamo avanti di 3 giorni.\n",
        "\n",
        "\n",
        "Spesso abbiamo necessità di convertire una *data stringa* in una data, per farlo vi è una funzione:\n",
        "\n"
      ]
    },
    {
      "cell_type": "code",
      "metadata": {
        "id": "MdSPWFpSqfT0",
        "colab_type": "code",
        "colab": {
          "base_uri": "https://localhost:8080/",
          "height": 34
        },
        "outputId": "6d45435d-6848-41ef-c9d4-c8afc1d353ad"
      },
      "source": [
        "data_str=\"11/06/95 23:45:12\"\n",
        "pattern = \"%d/%m/%y %H:%M:%S\"\n",
        "\n",
        "date_date=datetime.datetime.strptime(data_str,pattern)\n",
        "print(date_date)"
      ],
      "execution_count": null,
      "outputs": [
        {
          "output_type": "stream",
          "text": [
            "1995-06-11 23:45:12\n"
          ],
          "name": "stdout"
        }
      ]
    },
    {
      "cell_type": "markdown",
      "metadata": {
        "id": "0m1JCjgItgtW",
        "colab_type": "text"
      },
      "source": [
        "Si può anche procedere al contrario:"
      ]
    },
    {
      "cell_type": "code",
      "metadata": {
        "id": "md-jkgTPttuq",
        "colab_type": "code",
        "colab": {
          "base_uri": "https://localhost:8080/",
          "height": 34
        },
        "outputId": "aff5c36b-b199-414b-9ade-510a8f71e7ae"
      },
      "source": [
        "data_str = datetime.datetime.strftime(date_date, \"%m-%d-%Y %H.%M.%S\")\n",
        "print(data_str)"
      ],
      "execution_count": null,
      "outputs": [
        {
          "output_type": "stream",
          "text": [
            "06-11-1995 23.45.12\n"
          ],
          "name": "stdout"
        }
      ]
    },
    {
      "cell_type": "markdown",
      "metadata": {
        "id": "bdxMxg_DuPrI",
        "colab_type": "text"
      },
      "source": [
        "##***Il Modulo MATH***\n",
        "\n",
        "\n",
        "Ci da a disposizione una miriade di funzioni matematiche!\n",
        "Vediamoli elencati: "
      ]
    },
    {
      "cell_type": "code",
      "metadata": {
        "id": "TYeUnQWUutzh",
        "colab_type": "code",
        "colab": {}
      },
      "source": [
        "import math"
      ],
      "execution_count": null,
      "outputs": []
    },
    {
      "cell_type": "code",
      "metadata": {
        "id": "e02w9FNQuyOe",
        "colab_type": "code",
        "colab": {
          "base_uri": "https://localhost:8080/",
          "height": 34
        },
        "outputId": "f2ca85d9-1d51-4e03-df42-cc24b50b522b"
      },
      "source": [
        "math.pow(10,3)"
      ],
      "execution_count": null,
      "outputs": [
        {
          "output_type": "execute_result",
          "data": {
            "text/plain": [
              "1000.0"
            ]
          },
          "metadata": {
            "tags": []
          },
          "execution_count": 25
        }
      ]
    },
    {
      "cell_type": "code",
      "metadata": {
        "id": "DqM9oMqvu3CE",
        "colab_type": "code",
        "colab": {
          "base_uri": "https://localhost:8080/",
          "height": 34
        },
        "outputId": "bc6452c0-1144-42ca-b2c2-5793d157f4fa"
      },
      "source": [
        "math.exp(4)"
      ],
      "execution_count": null,
      "outputs": [
        {
          "output_type": "execute_result",
          "data": {
            "text/plain": [
              "54.598150033144236"
            ]
          },
          "metadata": {
            "tags": []
          },
          "execution_count": 27
        }
      ]
    },
    {
      "cell_type": "code",
      "metadata": {
        "id": "OLgkw65gu6GX",
        "colab_type": "code",
        "colab": {
          "base_uri": "https://localhost:8080/",
          "height": 34
        },
        "outputId": "17ab8d01-b2c2-4b4f-d491-946a0ff0dddd"
      },
      "source": [
        "math.log(100,10)"
      ],
      "execution_count": null,
      "outputs": [
        {
          "output_type": "execute_result",
          "data": {
            "text/plain": [
              "2.0"
            ]
          },
          "metadata": {
            "tags": []
          },
          "execution_count": 29
        }
      ]
    },
    {
      "cell_type": "code",
      "metadata": {
        "id": "Y0izRXluvQl2",
        "colab_type": "code",
        "colab": {
          "base_uri": "https://localhost:8080/",
          "height": 34
        },
        "outputId": "fbd09b3d-adc8-4397-997f-ed43242a015e"
      },
      "source": [
        "math.factorial(6)"
      ],
      "execution_count": null,
      "outputs": [
        {
          "output_type": "execute_result",
          "data": {
            "text/plain": [
              "720"
            ]
          },
          "metadata": {
            "tags": []
          },
          "execution_count": 31
        }
      ]
    },
    {
      "cell_type": "code",
      "metadata": {
        "id": "GjRfi2TrvY0e",
        "colab_type": "code",
        "colab": {
          "base_uri": "https://localhost:8080/",
          "height": 34
        },
        "outputId": "1c4417ec-a8b0-46d8-d2eb-412da15046eb"
      },
      "source": [
        "math.fabs(-1)"
      ],
      "execution_count": null,
      "outputs": [
        {
          "output_type": "execute_result",
          "data": {
            "text/plain": [
              "1.0"
            ]
          },
          "metadata": {
            "tags": []
          },
          "execution_count": 33
        }
      ]
    },
    {
      "cell_type": "code",
      "metadata": {
        "id": "GhIUmoCPvjL_",
        "colab_type": "code",
        "colab": {
          "base_uri": "https://localhost:8080/",
          "height": 34
        },
        "outputId": "79233e07-dfee-4fcb-9dc7-6ca7ce8910ee"
      },
      "source": [
        "math.ceil(4.4)"
      ],
      "execution_count": null,
      "outputs": [
        {
          "output_type": "execute_result",
          "data": {
            "text/plain": [
              "5"
            ]
          },
          "metadata": {
            "tags": []
          },
          "execution_count": 36
        }
      ]
    },
    {
      "cell_type": "code",
      "metadata": {
        "id": "1edmJajpvm2v",
        "colab_type": "code",
        "colab": {
          "base_uri": "https://localhost:8080/",
          "height": 34
        },
        "outputId": "b3d99acc-c126-4b24-bfc2-c0a31abe9d1c"
      },
      "source": [
        "math.floor(4.4)"
      ],
      "execution_count": null,
      "outputs": [
        {
          "output_type": "execute_result",
          "data": {
            "text/plain": [
              "4"
            ]
          },
          "metadata": {
            "tags": []
          },
          "execution_count": 37
        }
      ]
    },
    {
      "cell_type": "markdown",
      "metadata": {
        "id": "M8eEFJSVvrsu",
        "colab_type": "text"
      },
      "source": [
        "Oltre alle funzioni, il modulo ci fornisce anche il numero di diverse costanti:\n"
      ]
    },
    {
      "cell_type": "code",
      "metadata": {
        "id": "m8fCIaknvwmN",
        "colab_type": "code",
        "colab": {
          "base_uri": "https://localhost:8080/",
          "height": 34
        },
        "outputId": "d8b53f2a-347f-42c9-b40b-c665d723f87b"
      },
      "source": [
        "math.pi"
      ],
      "execution_count": null,
      "outputs": [
        {
          "output_type": "execute_result",
          "data": {
            "text/plain": [
              "3.141592653589793"
            ]
          },
          "metadata": {
            "tags": []
          },
          "execution_count": 39
        }
      ]
    },
    {
      "cell_type": "code",
      "metadata": {
        "id": "rwKUD6Gvvyuz",
        "colab_type": "code",
        "colab": {
          "base_uri": "https://localhost:8080/",
          "height": 34
        },
        "outputId": "b378d0c6-874e-4a75-f732-b4505e26c9d1"
      },
      "source": [
        "math.e"
      ],
      "execution_count": null,
      "outputs": [
        {
          "output_type": "execute_result",
          "data": {
            "text/plain": [
              "2.718281828459045"
            ]
          },
          "metadata": {
            "tags": []
          },
          "execution_count": 41
        }
      ]
    },
    {
      "cell_type": "code",
      "metadata": {
        "id": "Fv7UBOF_v0M6",
        "colab_type": "code",
        "colab": {
          "base_uri": "https://localhost:8080/",
          "height": 34
        },
        "outputId": "bb01c773-f787-4966-8f07-9a8c5a70bf73"
      },
      "source": [
        "math.inf"
      ],
      "execution_count": null,
      "outputs": [
        {
          "output_type": "execute_result",
          "data": {
            "text/plain": [
              "inf"
            ]
          },
          "metadata": {
            "tags": []
          },
          "execution_count": 42
        }
      ]
    },
    {
      "cell_type": "code",
      "metadata": {
        "id": "vHu4i0QCv1q2",
        "colab_type": "code",
        "colab": {
          "base_uri": "https://localhost:8080/",
          "height": 34
        },
        "outputId": "62d97944-7747-4ea4-dec8-03c79a29b8af"
      },
      "source": [
        "math.nan"
      ],
      "execution_count": null,
      "outputs": [
        {
          "output_type": "execute_result",
          "data": {
            "text/plain": [
              "nan"
            ]
          },
          "metadata": {
            "tags": []
          },
          "execution_count": 43
        }
      ]
    },
    {
      "cell_type": "markdown",
      "metadata": {
        "id": "dCmxrohzwbUY",
        "colab_type": "text"
      },
      "source": [
        "##***Il Modulo CSV***\n",
        "\n",
        "Utilizzeremo tanto questi files: *Comma separated values*.\n",
        "è un file tabulare dove per ogni riga abbiamo una determinata osservazione e per ogni colonna abbiamo una features.\n",
        "\n",
        "Proviamo ad importare un determinato file:\n",
        "\n",
        "\n",
        "\n",
        "*   Carichiamo il modulo CSV\n",
        "*   Apro il file csv\n",
        "*   Leggo il csv\n",
        "*   Esploro le colonne\n",
        "\n",
        "\n",
        "\n"
      ]
    },
    {
      "cell_type": "code",
      "metadata": {
        "id": "jFDm2Q_GvEIV",
        "colab_type": "code",
        "colab": {}
      },
      "source": [
        "import csv"
      ],
      "execution_count": null,
      "outputs": []
    },
    {
      "cell_type": "code",
      "metadata": {
        "id": "ZwCPCyOcvJGw",
        "colab_type": "code",
        "colab": {}
      },
      "source": [
        "csv_file = open(\"shirts.csv\")"
      ],
      "execution_count": null,
      "outputs": []
    },
    {
      "cell_type": "code",
      "metadata": {
        "id": "pzECOo6dvNpD",
        "colab_type": "code",
        "colab": {}
      },
      "source": [
        "csv_reader = csv.DictReader(csv_file)"
      ],
      "execution_count": null,
      "outputs": []
    },
    {
      "cell_type": "code",
      "metadata": {
        "id": "uVhovGzjwCia",
        "colab_type": "code",
        "colab": {
          "base_uri": "https://localhost:8080/",
          "height": 34
        },
        "outputId": "70d4d816-93e4-4848-822d-348a483f33c7"
      },
      "source": [
        "csv_reader.fieldnames"
      ],
      "execution_count": null,
      "outputs": [
        {
          "output_type": "execute_result",
          "data": {
            "text/plain": [
              "['', 'taglia', 'colore', 'prezzo']"
            ]
          },
          "metadata": {
            "tags": []
          },
          "execution_count": 6
        }
      ]
    },
    {
      "cell_type": "markdown",
      "metadata": {
        "id": "ibWZi2BPxVk2",
        "colab_type": "text"
      },
      "source": [
        "Proviamo a stampare ogni riga:\n"
      ]
    },
    {
      "cell_type": "code",
      "metadata": {
        "id": "JMHlEMYPxZGC",
        "colab_type": "code",
        "colab": {
          "base_uri": "https://localhost:8080/",
          "height": 1000
        },
        "outputId": "fa2a5355-09c0-4e3b-98b7-5922689196bc"
      },
      "source": [
        "for row in csv_reader:\n",
        "    print(row)"
      ],
      "execution_count": null,
      "outputs": [
        {
          "output_type": "stream",
          "text": [
            "OrderedDict([('', '0'), ('taglia', 'S'), ('colore', 'bianco'), ('prezzo', '4.99')])\n",
            "OrderedDict([('', '1'), ('taglia', 'M'), ('colore', 'bianco'), ('prezzo', '19.99')])\n",
            "OrderedDict([('', '2'), ('taglia', 'XL'), ('colore', 'bianco'), ('prezzo', '12.49')])\n",
            "OrderedDict([('', '3'), ('taglia', 'XL'), ('colore', 'bianco'), ('prezzo', '14.99')])\n",
            "OrderedDict([('', '4'), ('taglia', 'S'), ('colore', 'bianco'), ('prezzo', '14.99')])\n",
            "OrderedDict([('', '5'), ('taglia', 'S'), ('colore', 'verde'), ('prezzo', '7.99')])\n",
            "OrderedDict([('', '6'), ('taglia', 'M'), ('colore', 'verde'), ('prezzo', '4.99')])\n",
            "OrderedDict([('', '7'), ('taglia', 'L'), ('colore', 'verde'), ('prezzo', '12.49')])\n",
            "OrderedDict([('', '8'), ('taglia', 'XL'), ('colore', 'bianco'), ('prezzo', '12.49')])\n",
            "OrderedDict([('', '9'), ('taglia', 'M'), ('colore', 'verde'), ('prezzo', '19.99')])\n",
            "OrderedDict([('', '10'), ('taglia', 'L'), ('colore', 'bianco'), ('prezzo', '14.99')])\n",
            "OrderedDict([('', '11'), ('taglia', 'XL'), ('colore', 'bianco'), ('prezzo', '19.99')])\n",
            "OrderedDict([('', '12'), ('taglia', 'M'), ('colore', 'bianco'), ('prezzo', '4.99')])\n",
            "OrderedDict([('', '13'), ('taglia', 'L'), ('colore', 'bianco'), ('prezzo', '7.99')])\n",
            "OrderedDict([('', '14'), ('taglia', 'M'), ('colore', 'bianco'), ('prezzo', '14.99')])\n",
            "OrderedDict([('', '15'), ('taglia', 'XL'), ('colore', 'rosso'), ('prezzo', '9.99')])\n",
            "OrderedDict([('', '16'), ('taglia', 'S'), ('colore', 'rosso'), ('prezzo', '12.49')])\n",
            "OrderedDict([('', '17'), ('taglia', 'L'), ('colore', 'bianco'), ('prezzo', '7.99')])\n",
            "OrderedDict([('', '18'), ('taglia', 'XL'), ('colore', 'bianco'), ('prezzo', '4.99')])\n",
            "OrderedDict([('', '19'), ('taglia', 'M'), ('colore', 'verde'), ('prezzo', '14.99')])\n",
            "OrderedDict([('', '20'), ('taglia', 'S'), ('colore', 'verde'), ('prezzo', '14.99')])\n",
            "OrderedDict([('', '21'), ('taglia', 'XL'), ('colore', 'bianco'), ('prezzo', '7.99')])\n",
            "OrderedDict([('', '22'), ('taglia', 'S'), ('colore', 'verde'), ('prezzo', '9.99')])\n",
            "OrderedDict([('', '23'), ('taglia', 'XL'), ('colore', 'bianco'), ('prezzo', '14.99')])\n",
            "OrderedDict([('', '24'), ('taglia', 'S'), ('colore', 'rosso'), ('prezzo', '14.99')])\n",
            "OrderedDict([('', '25'), ('taglia', 'XL'), ('colore', 'bianco'), ('prezzo', '9.99')])\n",
            "OrderedDict([('', '26'), ('taglia', 'M'), ('colore', 'verde'), ('prezzo', '7.99')])\n",
            "OrderedDict([('', '27'), ('taglia', 'XL'), ('colore', 'bianco'), ('prezzo', '4.99')])\n",
            "OrderedDict([('', '28'), ('taglia', 'S'), ('colore', 'verde'), ('prezzo', '14.99')])\n",
            "OrderedDict([('', '29'), ('taglia', 'L'), ('colore', 'bianco'), ('prezzo', '12.49')])\n",
            "OrderedDict([('', '30'), ('taglia', 'M'), ('colore', 'rosso'), ('prezzo', '9.99')])\n",
            "OrderedDict([('', '31'), ('taglia', 'L'), ('colore', 'verde'), ('prezzo', '9.99')])\n",
            "OrderedDict([('', '32'), ('taglia', 'XL'), ('colore', 'rosso'), ('prezzo', '7.99')])\n",
            "OrderedDict([('', '33'), ('taglia', 'M'), ('colore', 'bianco'), ('prezzo', '19.99')])\n",
            "OrderedDict([('', '34'), ('taglia', 'L'), ('colore', 'verde'), ('prezzo', '12.49')])\n",
            "OrderedDict([('', '35'), ('taglia', 'L'), ('colore', 'bianco'), ('prezzo', '12.49')])\n",
            "OrderedDict([('', '36'), ('taglia', 'L'), ('colore', 'bianco'), ('prezzo', '9.99')])\n",
            "OrderedDict([('', '37'), ('taglia', 'XL'), ('colore', 'bianco'), ('prezzo', '14.99')])\n",
            "OrderedDict([('', '38'), ('taglia', 'L'), ('colore', 'verde'), ('prezzo', '14.99')])\n",
            "OrderedDict([('', '39'), ('taglia', 'XL'), ('colore', 'verde'), ('prezzo', '9.99')])\n",
            "OrderedDict([('', '40'), ('taglia', 'M'), ('colore', 'bianco'), ('prezzo', '14.99')])\n",
            "OrderedDict([('', '41'), ('taglia', 'L'), ('colore', 'verde'), ('prezzo', '19.99')])\n",
            "OrderedDict([('', '42'), ('taglia', 'XL'), ('colore', 'verde'), ('prezzo', '7.99')])\n",
            "OrderedDict([('', '43'), ('taglia', 'M'), ('colore', 'verde'), ('prezzo', '19.99')])\n",
            "OrderedDict([('', '44'), ('taglia', 'L'), ('colore', 'rosso'), ('prezzo', '19.99')])\n",
            "OrderedDict([('', '45'), ('taglia', 'XL'), ('colore', 'bianco'), ('prezzo', '9.99')])\n",
            "OrderedDict([('', '46'), ('taglia', 'M'), ('colore', 'rosso'), ('prezzo', '12.49')])\n",
            "OrderedDict([('', '47'), ('taglia', 'S'), ('colore', 'bianco'), ('prezzo', '7.99')])\n",
            "OrderedDict([('', '48'), ('taglia', 'S'), ('colore', 'rosso'), ('prezzo', '14.99')])\n",
            "OrderedDict([('', '49'), ('taglia', 'S'), ('colore', 'verde'), ('prezzo', '12.49')])\n",
            "OrderedDict([('', '50'), ('taglia', 'XL'), ('colore', 'bianco'), ('prezzo', '19.99')])\n",
            "OrderedDict([('', '51'), ('taglia', 'S'), ('colore', 'verde'), ('prezzo', '14.99')])\n",
            "OrderedDict([('', '52'), ('taglia', 'S'), ('colore', 'bianco'), ('prezzo', '19.99')])\n",
            "OrderedDict([('', '53'), ('taglia', 'M'), ('colore', 'verde'), ('prezzo', '9.99')])\n",
            "OrderedDict([('', '54'), ('taglia', 'L'), ('colore', 'verde'), ('prezzo', '4.99')])\n",
            "OrderedDict([('', '55'), ('taglia', 'M'), ('colore', 'verde'), ('prezzo', '12.49')])\n",
            "OrderedDict([('', '56'), ('taglia', 'L'), ('colore', 'bianco'), ('prezzo', '12.49')])\n",
            "OrderedDict([('', '57'), ('taglia', 'S'), ('colore', 'verde'), ('prezzo', '7.99')])\n",
            "OrderedDict([('', '58'), ('taglia', 'S'), ('colore', 'verde'), ('prezzo', '19.99')])\n",
            "OrderedDict([('', '59'), ('taglia', 'L'), ('colore', 'bianco'), ('prezzo', '9.99')])\n",
            "OrderedDict([('', '60'), ('taglia', 'XL'), ('colore', 'rosso'), ('prezzo', '14.99')])\n",
            "OrderedDict([('', '61'), ('taglia', 'M'), ('colore', 'bianco'), ('prezzo', '12.49')])\n",
            "OrderedDict([('', '62'), ('taglia', 'XL'), ('colore', 'bianco'), ('prezzo', '14.99')])\n",
            "OrderedDict([('', '63'), ('taglia', 'L'), ('colore', 'bianco'), ('prezzo', '9.99')])\n",
            "OrderedDict([('', '64'), ('taglia', 'XL'), ('colore', 'verde'), ('prezzo', '14.99')])\n",
            "OrderedDict([('', '65'), ('taglia', 'L'), ('colore', 'bianco'), ('prezzo', '12.49')])\n",
            "OrderedDict([('', '66'), ('taglia', 'XL'), ('colore', 'bianco'), ('prezzo', '4.99')])\n",
            "OrderedDict([('', '67'), ('taglia', 'L'), ('colore', 'bianco'), ('prezzo', '14.99')])\n",
            "OrderedDict([('', '68'), ('taglia', 'L'), ('colore', 'verde'), ('prezzo', '9.99')])\n",
            "OrderedDict([('', '69'), ('taglia', 'S'), ('colore', 'rosso'), ('prezzo', '14.99')])\n",
            "OrderedDict([('', '70'), ('taglia', 'S'), ('colore', 'rosso'), ('prezzo', '19.99')])\n",
            "OrderedDict([('', '71'), ('taglia', 'XL'), ('colore', 'rosso'), ('prezzo', '14.99')])\n",
            "OrderedDict([('', '72'), ('taglia', 'S'), ('colore', 'bianco'), ('prezzo', '9.99')])\n",
            "OrderedDict([('', '73'), ('taglia', 'S'), ('colore', 'rosso'), ('prezzo', '14.99')])\n",
            "OrderedDict([('', '74'), ('taglia', 'L'), ('colore', 'bianco'), ('prezzo', '9.99')])\n",
            "OrderedDict([('', '75'), ('taglia', 'XL'), ('colore', 'bianco'), ('prezzo', '9.99')])\n",
            "OrderedDict([('', '76'), ('taglia', 'L'), ('colore', 'verde'), ('prezzo', '19.99')])\n",
            "OrderedDict([('', '77'), ('taglia', 'XL'), ('colore', 'bianco'), ('prezzo', '19.99')])\n",
            "OrderedDict([('', '78'), ('taglia', 'M'), ('colore', 'bianco'), ('prezzo', '4.99')])\n",
            "OrderedDict([('', '79'), ('taglia', 'M'), ('colore', 'bianco'), ('prezzo', '9.99')])\n",
            "OrderedDict([('', '80'), ('taglia', 'S'), ('colore', 'bianco'), ('prezzo', '14.99')])\n",
            "OrderedDict([('', '81'), ('taglia', 'L'), ('colore', 'bianco'), ('prezzo', '19.99')])\n",
            "OrderedDict([('', '82'), ('taglia', 'S'), ('colore', 'verde'), ('prezzo', '7.99')])\n",
            "OrderedDict([('', '83'), ('taglia', 'XL'), ('colore', 'verde'), ('prezzo', '9.99')])\n",
            "OrderedDict([('', '84'), ('taglia', 'M'), ('colore', 'bianco'), ('prezzo', '12.49')])\n",
            "OrderedDict([('', '85'), ('taglia', 'L'), ('colore', 'verde'), ('prezzo', '4.99')])\n",
            "OrderedDict([('', '86'), ('taglia', 'M'), ('colore', 'bianco'), ('prezzo', '7.99')])\n",
            "OrderedDict([('', '87'), ('taglia', 'M'), ('colore', 'rosso'), ('prezzo', '14.99')])\n",
            "OrderedDict([('', '88'), ('taglia', 'S'), ('colore', 'rosso'), ('prezzo', '9.99')])\n",
            "OrderedDict([('', '89'), ('taglia', 'M'), ('colore', 'verde'), ('prezzo', '4.99')])\n",
            "OrderedDict([('', '90'), ('taglia', 'M'), ('colore', 'bianco'), ('prezzo', '12.49')])\n",
            "OrderedDict([('', '91'), ('taglia', 'M'), ('colore', 'rosso'), ('prezzo', '14.99')])\n",
            "OrderedDict([('', '92'), ('taglia', 'L'), ('colore', 'verde'), ('prezzo', '19.99')])\n",
            "OrderedDict([('', '93'), ('taglia', 'M'), ('colore', 'rosso'), ('prezzo', '7.99')])\n",
            "OrderedDict([('', '94'), ('taglia', 'S'), ('colore', 'verde'), ('prezzo', '4.99')])\n",
            "OrderedDict([('', '95'), ('taglia', 'L'), ('colore', 'bianco'), ('prezzo', '9.99')])\n",
            "OrderedDict([('', '96'), ('taglia', 'M'), ('colore', 'verde'), ('prezzo', '14.99')])\n",
            "OrderedDict([('', '97'), ('taglia', 'S'), ('colore', 'rosso'), ('prezzo', '12.49')])\n",
            "OrderedDict([('', '98'), ('taglia', 'L'), ('colore', 'rosso'), ('prezzo', '12.49')])\n",
            "OrderedDict([('', '99'), ('taglia', 'S'), ('colore', 'rosso'), ('prezzo', '19.99')])\n"
          ],
          "name": "stdout"
        }
      ]
    },
    {
      "cell_type": "markdown",
      "metadata": {
        "id": "6RIy5B802nUq",
        "colab_type": "text"
      },
      "source": [
        "Vediamo che all'interno della lista vi sono diverse tuple, 4, dove al primo valore vi è il nome della colonna (proprietà) e poi il contenuto.\n",
        "\n",
        "Possiamo stampare anche una detarminata proprietà:"
      ]
    },
    {
      "cell_type": "code",
      "metadata": {
        "id": "mdN4mxam3B_2",
        "colab_type": "code",
        "colab": {
          "base_uri": "https://localhost:8080/",
          "height": 1000
        },
        "outputId": "ab4c550e-fd77-4c92-e356-b0bad3e07a40"
      },
      "source": [
        "csv_file.seek(0)\n",
        "for row in csv_reader:\n",
        "    print(row[\"prezzo\"])\n",
        "   "
      ],
      "execution_count": null,
      "outputs": [
        {
          "output_type": "stream",
          "text": [
            "taglia\tcolore\tprezzo\n",
            "S\tbianco\t4.99\n",
            "M\tbianco\t19.99\n",
            "XL\tbianco\t12.49\n",
            "XL\tbianco\t14.99\n",
            "S\tbianco\t14.99\n",
            "S\tverde\t7.99\n",
            "M\tverde\t4.99\n",
            "L\tverde\t12.49\n",
            "XL\tbianco\t12.49\n",
            "M\tverde\t19.99\n",
            "L\tbianco\t14.99\n",
            "XL\tbianco\t19.99\n",
            "M\tbianco\t4.99\n",
            "L\tbianco\t7.99\n",
            "M\tbianco\t14.99\n",
            "XL\trosso\t9.99\n",
            "S\trosso\t12.49\n",
            "L\tbianco\t7.99\n",
            "XL\tbianco\t4.99\n",
            "M\tverde\t14.99\n",
            "S\tverde\t14.99\n",
            "XL\tbianco\t7.99\n",
            "S\tverde\t9.99\n",
            "XL\tbianco\t14.99\n",
            "S\trosso\t14.99\n",
            "XL\tbianco\t9.99\n",
            "M\tverde\t7.99\n",
            "XL\tbianco\t4.99\n",
            "S\tverde\t14.99\n",
            "L\tbianco\t12.49\n",
            "M\trosso\t9.99\n",
            "L\tverde\t9.99\n",
            "XL\trosso\t7.99\n",
            "M\tbianco\t19.99\n",
            "L\tverde\t12.49\n",
            "L\tbianco\t12.49\n",
            "L\tbianco\t9.99\n",
            "XL\tbianco\t14.99\n",
            "L\tverde\t14.99\n",
            "XL\tverde\t9.99\n",
            "M\tbianco\t14.99\n",
            "L\tverde\t19.99\n",
            "XL\tverde\t7.99\n",
            "M\tverde\t19.99\n",
            "L\trosso\t19.99\n",
            "XL\tbianco\t9.99\n",
            "M\trosso\t12.49\n",
            "S\tbianco\t7.99\n",
            "S\trosso\t14.99\n",
            "S\tverde\t12.49\n",
            "XL\tbianco\t19.99\n",
            "S\tverde\t14.99\n",
            "S\tbianco\t19.99\n",
            "M\tverde\t9.99\n",
            "L\tverde\t4.99\n",
            "M\tverde\t12.49\n",
            "L\tbianco\t12.49\n",
            "S\tverde\t7.99\n",
            "S\tverde\t19.99\n",
            "L\tbianco\t9.99\n",
            "XL\trosso\t14.99\n",
            "M\tbianco\t12.49\n",
            "XL\tbianco\t14.99\n",
            "L\tbianco\t9.99\n",
            "XL\tverde\t14.99\n",
            "L\tbianco\t12.49\n",
            "XL\tbianco\t4.99\n",
            "L\tbianco\t14.99\n",
            "L\tverde\t9.99\n",
            "S\trosso\t14.99\n",
            "S\trosso\t19.99\n",
            "XL\trosso\t14.99\n",
            "S\tbianco\t9.99\n",
            "S\trosso\t14.99\n",
            "L\tbianco\t9.99\n",
            "XL\tbianco\t9.99\n",
            "L\tverde\t19.99\n",
            "XL\tbianco\t19.99\n",
            "M\tbianco\t4.99\n",
            "M\tbianco\t9.99\n",
            "S\tbianco\t14.99\n",
            "L\tbianco\t19.99\n",
            "S\tverde\t7.99\n",
            "XL\tverde\t9.99\n",
            "M\tbianco\t12.49\n",
            "L\tverde\t4.99\n",
            "M\tbianco\t7.99\n",
            "M\trosso\t14.99\n",
            "S\trosso\t9.99\n",
            "M\tverde\t4.99\n",
            "M\tbianco\t12.49\n",
            "M\trosso\t14.99\n",
            "L\tverde\t19.99\n",
            "M\trosso\t7.99\n",
            "S\tverde\t4.99\n",
            "L\tbianco\t9.99\n",
            "M\tverde\t14.99\n",
            "S\trosso\t12.49\n",
            "L\trosso\t12.49\n",
            "S\trosso\t19.99\n"
          ],
          "name": "stdout"
        }
      ]
    },
    {
      "cell_type": "markdown",
      "metadata": {
        "id": "qQ_sT8R_4Niv",
        "colab_type": "text"
      },
      "source": [
        "O stampare tutto file in modo ordinato:"
      ]
    },
    {
      "cell_type": "code",
      "metadata": {
        "id": "i4yUfZDi4RnX",
        "colab_type": "code",
        "colab": {
          "base_uri": "https://localhost:8080/",
          "height": 1000
        },
        "outputId": "2fadae20-6a75-4f58-e5d1-1251c4ff22ec"
      },
      "source": [
        "csv_file.seek(0)\n",
        "for row in csv_reader:\n",
        "    print(\"%s\\t%s\\t%s\" %(row[\"taglia\"], row[\"colore\"], row[\"prezzo\"]))"
      ],
      "execution_count": null,
      "outputs": [
        {
          "output_type": "stream",
          "text": [
            "taglia\tcolore\tprezzo\n",
            "S\tbianco\t4.99\n",
            "M\tbianco\t19.99\n",
            "XL\tbianco\t12.49\n",
            "XL\tbianco\t14.99\n",
            "S\tbianco\t14.99\n",
            "S\tverde\t7.99\n",
            "M\tverde\t4.99\n",
            "L\tverde\t12.49\n",
            "XL\tbianco\t12.49\n",
            "M\tverde\t19.99\n",
            "L\tbianco\t14.99\n",
            "XL\tbianco\t19.99\n",
            "M\tbianco\t4.99\n",
            "L\tbianco\t7.99\n",
            "M\tbianco\t14.99\n",
            "XL\trosso\t9.99\n",
            "S\trosso\t12.49\n",
            "L\tbianco\t7.99\n",
            "XL\tbianco\t4.99\n",
            "M\tverde\t14.99\n",
            "S\tverde\t14.99\n",
            "XL\tbianco\t7.99\n",
            "S\tverde\t9.99\n",
            "XL\tbianco\t14.99\n",
            "S\trosso\t14.99\n",
            "XL\tbianco\t9.99\n",
            "M\tverde\t7.99\n",
            "XL\tbianco\t4.99\n",
            "S\tverde\t14.99\n",
            "L\tbianco\t12.49\n",
            "M\trosso\t9.99\n",
            "L\tverde\t9.99\n",
            "XL\trosso\t7.99\n",
            "M\tbianco\t19.99\n",
            "L\tverde\t12.49\n",
            "L\tbianco\t12.49\n",
            "L\tbianco\t9.99\n",
            "XL\tbianco\t14.99\n",
            "L\tverde\t14.99\n",
            "XL\tverde\t9.99\n",
            "M\tbianco\t14.99\n",
            "L\tverde\t19.99\n",
            "XL\tverde\t7.99\n",
            "M\tverde\t19.99\n",
            "L\trosso\t19.99\n",
            "XL\tbianco\t9.99\n",
            "M\trosso\t12.49\n",
            "S\tbianco\t7.99\n",
            "S\trosso\t14.99\n",
            "S\tverde\t12.49\n",
            "XL\tbianco\t19.99\n",
            "S\tverde\t14.99\n",
            "S\tbianco\t19.99\n",
            "M\tverde\t9.99\n",
            "L\tverde\t4.99\n",
            "M\tverde\t12.49\n",
            "L\tbianco\t12.49\n",
            "S\tverde\t7.99\n",
            "S\tverde\t19.99\n",
            "L\tbianco\t9.99\n",
            "XL\trosso\t14.99\n",
            "M\tbianco\t12.49\n",
            "XL\tbianco\t14.99\n",
            "L\tbianco\t9.99\n",
            "XL\tverde\t14.99\n",
            "L\tbianco\t12.49\n",
            "XL\tbianco\t4.99\n",
            "L\tbianco\t14.99\n",
            "L\tverde\t9.99\n",
            "S\trosso\t14.99\n",
            "S\trosso\t19.99\n",
            "XL\trosso\t14.99\n",
            "S\tbianco\t9.99\n",
            "S\trosso\t14.99\n",
            "L\tbianco\t9.99\n",
            "XL\tbianco\t9.99\n",
            "L\tverde\t19.99\n",
            "XL\tbianco\t19.99\n",
            "M\tbianco\t4.99\n",
            "M\tbianco\t9.99\n",
            "S\tbianco\t14.99\n",
            "L\tbianco\t19.99\n",
            "S\tverde\t7.99\n",
            "XL\tverde\t9.99\n",
            "M\tbianco\t12.49\n",
            "L\tverde\t4.99\n",
            "M\tbianco\t7.99\n",
            "M\trosso\t14.99\n",
            "S\trosso\t9.99\n",
            "M\tverde\t4.99\n",
            "M\tbianco\t12.49\n",
            "M\trosso\t14.99\n",
            "L\tverde\t19.99\n",
            "M\trosso\t7.99\n",
            "S\tverde\t4.99\n",
            "L\tbianco\t9.99\n",
            "M\tverde\t14.99\n",
            "S\trosso\t12.49\n",
            "L\trosso\t12.49\n",
            "S\trosso\t19.99\n"
          ],
          "name": "stdout"
        }
      ]
    }
  ]
}