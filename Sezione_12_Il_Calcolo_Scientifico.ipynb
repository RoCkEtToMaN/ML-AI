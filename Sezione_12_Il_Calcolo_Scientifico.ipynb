{
  "nbformat": 4,
  "nbformat_minor": 0,
  "metadata": {
    "colab": {
      "name": "Sezione 12: Il Calcolo Scientifico.ipynb",
      "provenance": [],
      "collapsed_sections": [],
      "authorship_tag": "ABX9TyMeMz4OBXBYz6cQag8bwOeN",
      "include_colab_link": true
    },
    "kernelspec": {
      "name": "python3",
      "display_name": "Python 3"
    }
  },
  "cells": [
    {
      "cell_type": "markdown",
      "metadata": {
        "id": "view-in-github",
        "colab_type": "text"
      },
      "source": [
        "<a href=\"https://colab.research.google.com/github/RoCkEtToMaN/Python/blob/master/Sezione_12_Il_Calcolo_Scientifico.ipynb\" target=\"_parent\"><img src=\"https://colab.research.google.com/assets/colab-badge.svg\" alt=\"Open In Colab\"/></a>"
      ]
    },
    {
      "cell_type": "markdown",
      "metadata": {
        "id": "IBcGqXnub-ae",
        "colab_type": "text"
      },
      "source": [
        "#***Sezione 12: Il Calcolo Scientifico***\n",
        "\n",
        "Il modulo che si vedrà è de-facto che darà vita a Scikit-Learn, Tensorflow, Pandas ed altri che vengono utilizzati in ambito ML e AI:\n",
        "\n",
        "\n",
        "\n",
        "* *Numpy*\n",
        "\n",
        "\n",
        "Se si usa Anaconda, questo modulo dovrebbe essere già installato!\n",
        "\n",
        "\n",
        "\n",
        "```\n",
        "pip install numpy\n",
        "```\n",
        "\n",
        "\n",
        "\n",
        "\n"
      ]
    },
    {
      "cell_type": "markdown",
      "metadata": {
        "id": "xUsNQdGTd2a2",
        "colab_type": "text"
      },
      "source": [
        "##***Calcolo Scientifico con Numpy***\n",
        "\n",
        "Questo modulo è veramente calcolato ad hoc per questo, ha a disposizione molte funzioni fatte con C e quindi sono molto veloci!\n",
        "\n",
        "Come tutti i moduli, lo importiamo:\n"
      ]
    },
    {
      "cell_type": "code",
      "metadata": {
        "id": "b2KBWE9AfKbN",
        "colab_type": "code",
        "colab": {}
      },
      "source": [
        "import numpy as np"
      ],
      "execution_count": 8,
      "outputs": []
    },
    {
      "cell_type": "markdown",
      "metadata": {
        "id": "dIXj9qGYfVqL",
        "colab_type": "text"
      },
      "source": [
        "Ora affrontiamo a vedere i:\n",
        "\n",
        "####***I Vettori***\n",
        "\n",
        "Il calcolo tra vettori e matrici è un qualcosa molto importante in tutti i linguaggi di programmazione!\n",
        "\n",
        "I vettori possono essere di piu dimensioni e di piu tipi!"
      ]
    },
    {
      "cell_type": "code",
      "metadata": {
        "id": "P8deGdCdgd2p",
        "colab_type": "code",
        "colab": {}
      },
      "source": [
        "l=[10,2,76,1,3]\n",
        "v=np.array(l)"
      ],
      "execution_count": null,
      "outputs": []
    },
    {
      "cell_type": "code",
      "metadata": {
        "id": "wFW0UJw7gn9-",
        "colab_type": "code",
        "colab": {
          "base_uri": "https://localhost:8080/",
          "height": 34
        },
        "outputId": "def0634f-3efc-4707-8024-6920d2951b7e"
      },
      "source": [
        "print(v,type(v))"
      ],
      "execution_count": null,
      "outputs": [
        {
          "output_type": "stream",
          "text": [
            "[10  2 76  1  3] <class 'numpy.ndarray'>\n"
          ],
          "name": "stdout"
        }
      ]
    },
    {
      "cell_type": "markdown",
      "metadata": {
        "id": "r7px8pK-i6_E",
        "colab_type": "text"
      },
      "source": [
        "Vediamo che è di tipo array!\n",
        "\n",
        "Se vogliamo accedere agli indici, vale sempre il discorso dell'indexing!\n",
        "\n",
        "\n",
        "\n",
        "*  *Indexing*:\n",
        "\n",
        "\n"
      ]
    },
    {
      "cell_type": "code",
      "metadata": {
        "id": "wbLmtlopjEyU",
        "colab_type": "code",
        "colab": {
          "base_uri": "https://localhost:8080/",
          "height": 34
        },
        "outputId": "11a204f5-a785-4108-ae95-68b08c31d679"
      },
      "source": [
        "v[0]"
      ],
      "execution_count": null,
      "outputs": [
        {
          "output_type": "execute_result",
          "data": {
            "text/plain": [
              "10"
            ]
          },
          "metadata": {
            "tags": []
          },
          "execution_count": 8
        }
      ]
    },
    {
      "cell_type": "code",
      "metadata": {
        "id": "HLICbGmOjFPS",
        "colab_type": "code",
        "colab": {
          "base_uri": "https://localhost:8080/",
          "height": 34
        },
        "outputId": "2a0914d8-f32d-427e-cea9-750c86c39791"
      },
      "source": [
        "v[1]"
      ],
      "execution_count": null,
      "outputs": [
        {
          "output_type": "execute_result",
          "data": {
            "text/plain": [
              "2"
            ]
          },
          "metadata": {
            "tags": []
          },
          "execution_count": 9
        }
      ]
    },
    {
      "cell_type": "code",
      "metadata": {
        "id": "lWUW9u0wjF77",
        "colab_type": "code",
        "colab": {
          "base_uri": "https://localhost:8080/",
          "height": 34
        },
        "outputId": "6516bb53-dcda-4785-8892-8a72fa2542d5"
      },
      "source": [
        "v[-1]"
      ],
      "execution_count": null,
      "outputs": [
        {
          "output_type": "execute_result",
          "data": {
            "text/plain": [
              "3"
            ]
          },
          "metadata": {
            "tags": []
          },
          "execution_count": 7
        }
      ]
    },
    {
      "cell_type": "markdown",
      "metadata": {
        "id": "j3qr2ZeH5haw",
        "colab_type": "text"
      },
      "source": [
        "\n",
        "\n",
        "*   *Slicing*: per ritagliare una parte di array\n",
        "\n",
        "\n"
      ]
    },
    {
      "cell_type": "code",
      "metadata": {
        "id": "cDKQ-ZNr5wWd",
        "colab_type": "code",
        "colab": {
          "base_uri": "https://localhost:8080/",
          "height": 34
        },
        "outputId": "8b7828cb-886c-4407-a0f7-18e51efb51df"
      },
      "source": [
        "v[1:3]"
      ],
      "execution_count": null,
      "outputs": [
        {
          "output_type": "execute_result",
          "data": {
            "text/plain": [
              "array([ 2, 76])"
            ]
          },
          "metadata": {
            "tags": []
          },
          "execution_count": 10
        }
      ]
    },
    {
      "cell_type": "code",
      "metadata": {
        "id": "i0jGKSDY50Q1",
        "colab_type": "code",
        "colab": {
          "base_uri": "https://localhost:8080/",
          "height": 34
        },
        "outputId": "407f3490-5262-407e-ecf5-298d9fa7260f"
      },
      "source": [
        "v[:1]"
      ],
      "execution_count": null,
      "outputs": [
        {
          "output_type": "execute_result",
          "data": {
            "text/plain": [
              "array([10])"
            ]
          },
          "metadata": {
            "tags": []
          },
          "execution_count": 12
        }
      ]
    },
    {
      "cell_type": "code",
      "metadata": {
        "id": "ucKdU_iI6XyM",
        "colab_type": "code",
        "colab": {
          "base_uri": "https://localhost:8080/",
          "height": 34
        },
        "outputId": "de281b8f-cf57-40d6-b014-9f563fafd335"
      },
      "source": [
        "v[-1:]"
      ],
      "execution_count": null,
      "outputs": [
        {
          "output_type": "execute_result",
          "data": {
            "text/plain": [
              "array([3])"
            ]
          },
          "metadata": {
            "tags": []
          },
          "execution_count": 13
        }
      ]
    },
    {
      "cell_type": "markdown",
      "metadata": {
        "id": "GItUE96Q6jEV",
        "colab_type": "text"
      },
      "source": [
        "\n",
        "\n",
        "*   *Maschere*: andiamo a mascherare valori che non rispettano alcuni vincoli\n",
        "\n",
        "\n"
      ]
    },
    {
      "cell_type": "code",
      "metadata": {
        "id": "dbACHg0S7sJP",
        "colab_type": "code",
        "colab": {}
      },
      "source": [
        "mask = v >20"
      ],
      "execution_count": null,
      "outputs": []
    },
    {
      "cell_type": "code",
      "metadata": {
        "id": "h-j9RyEB8cQf",
        "colab_type": "code",
        "colab": {
          "base_uri": "https://localhost:8080/",
          "height": 34
        },
        "outputId": "3fe89852-5159-48e8-c8d9-923f9ba62c65"
      },
      "source": [
        "v\n",
        "mask"
      ],
      "execution_count": null,
      "outputs": [
        {
          "output_type": "execute_result",
          "data": {
            "text/plain": [
              "array([False, False,  True, False, False])"
            ]
          },
          "metadata": {
            "tags": []
          },
          "execution_count": 7
        }
      ]
    },
    {
      "cell_type": "markdown",
      "metadata": {
        "id": "UVICa_kIaxun",
        "colab_type": "text"
      },
      "source": [
        ""
      ]
    },
    {
      "cell_type": "code",
      "metadata": {
        "id": "m_QUGOJU8kvi",
        "colab_type": "code",
        "colab": {
          "base_uri": "https://localhost:8080/",
          "height": 34
        },
        "outputId": "f1da7b31-30d4-4b1e-ec47-0892a66e13c5"
      },
      "source": [
        "v2=v[mask]\n",
        "v2\n"
      ],
      "execution_count": null,
      "outputs": [
        {
          "output_type": "execute_result",
          "data": {
            "text/plain": [
              "array([76])"
            ]
          },
          "metadata": {
            "tags": []
          },
          "execution_count": 8
        }
      ]
    },
    {
      "cell_type": "markdown",
      "metadata": {
        "id": "5of4mKfZbGBc",
        "colab_type": "text"
      },
      "source": [
        "Questo passaggio lo si fa all'interno di un'unica operazione:"
      ]
    },
    {
      "cell_type": "code",
      "metadata": {
        "id": "wWC-CAJObE7C",
        "colab_type": "code",
        "colab": {
          "base_uri": "https://localhost:8080/",
          "height": 34
        },
        "outputId": "708c616e-f9b4-41fa-ef03-a158543dcb03"
      },
      "source": [
        "v_lm=v[v<v.mean()]\n",
        "v_lm"
      ],
      "execution_count": null,
      "outputs": [
        {
          "output_type": "execute_result",
          "data": {
            "text/plain": [
              "array([10,  2,  1,  3])"
            ]
          },
          "metadata": {
            "tags": []
          },
          "execution_count": 12
        }
      ]
    },
    {
      "cell_type": "markdown",
      "metadata": {
        "id": "OVFdQkchbXQt",
        "colab_type": "text"
      },
      "source": [
        "Se volessimo modificare gli elementi di un vettore:\n",
        "\n",
        "*   *Modificare* elementi di un vettore:\n",
        "\n",
        "\n"
      ]
    },
    {
      "cell_type": "code",
      "metadata": {
        "id": "4U4hfMNTbajj",
        "colab_type": "code",
        "colab": {}
      },
      "source": [
        "v=np.array([1,2,3,4,5])"
      ],
      "execution_count": null,
      "outputs": []
    },
    {
      "cell_type": "code",
      "metadata": {
        "id": "gXWtCEpLbgZz",
        "colab_type": "code",
        "colab": {
          "base_uri": "https://localhost:8080/",
          "height": 34
        },
        "outputId": "fc3ef4cf-4b8a-4d65-d607-e286d5c89a71"
      },
      "source": [
        "v"
      ],
      "execution_count": null,
      "outputs": [
        {
          "output_type": "execute_result",
          "data": {
            "text/plain": [
              "array([1, 2, 3, 4, 5])"
            ]
          },
          "metadata": {
            "tags": []
          },
          "execution_count": 14
        }
      ]
    },
    {
      "cell_type": "markdown",
      "metadata": {
        "id": "yQOcxo_Obn1C",
        "colab_type": "text"
      },
      "source": [
        "Come con le liste:"
      ]
    },
    {
      "cell_type": "code",
      "metadata": {
        "id": "0Hnyk3_Mbi1B",
        "colab_type": "code",
        "colab": {
          "base_uri": "https://localhost:8080/",
          "height": 34
        },
        "outputId": "093a01bb-a642-441d-cbea-d5b6f20a04b9"
      },
      "source": [
        "v[0]=10\n",
        "v"
      ],
      "execution_count": null,
      "outputs": [
        {
          "output_type": "execute_result",
          "data": {
            "text/plain": [
              "array([10,  2,  3,  4,  5])"
            ]
          },
          "metadata": {
            "tags": []
          },
          "execution_count": 15
        }
      ]
    },
    {
      "cell_type": "markdown",
      "metadata": {
        "id": "FTt6sWK5bmoj",
        "colab_type": "text"
      },
      "source": [
        ""
      ]
    },
    {
      "cell_type": "code",
      "metadata": {
        "id": "WEadiEH4cC9h",
        "colab_type": "code",
        "colab": {
          "base_uri": "https://localhost:8080/",
          "height": 34
        },
        "outputId": "eacf758a-be24-46ba-8325-8c76d78354ab"
      },
      "source": [
        "v[:2]\n"
      ],
      "execution_count": null,
      "outputs": [
        {
          "output_type": "execute_result",
          "data": {
            "text/plain": [
              "array([10,  2])"
            ]
          },
          "metadata": {
            "tags": []
          },
          "execution_count": 23
        }
      ]
    },
    {
      "cell_type": "code",
      "metadata": {
        "id": "pXXE2l0HcZiy",
        "colab_type": "code",
        "colab": {
          "base_uri": "https://localhost:8080/",
          "height": 34
        },
        "outputId": "da6cc102-2e01-40d4-8eaf-724290d1b5fd"
      },
      "source": [
        "v[-2:]"
      ],
      "execution_count": null,
      "outputs": [
        {
          "output_type": "execute_result",
          "data": {
            "text/plain": [
              "array([4, 5])"
            ]
          },
          "metadata": {
            "tags": []
          },
          "execution_count": 25
        }
      ]
    },
    {
      "cell_type": "code",
      "metadata": {
        "id": "xN0m0XwndBd1",
        "colab_type": "code",
        "colab": {
          "base_uri": "https://localhost:8080/",
          "height": 34
        },
        "outputId": "16f942da-1130-4a09-d06f-40289ce09818"
      },
      "source": [
        "v[:2]=v[-2:]\n",
        "v"
      ],
      "execution_count": null,
      "outputs": [
        {
          "output_type": "execute_result",
          "data": {
            "text/plain": [
              "array([4, 5, 3, 4, 5])"
            ]
          },
          "metadata": {
            "tags": []
          },
          "execution_count": 27
        }
      ]
    },
    {
      "cell_type": "markdown",
      "metadata": {
        "id": "7XWdvF-QAjbv",
        "colab_type": "text"
      },
      "source": [
        "####***Operazioni sui Vettori***\n",
        "\n",
        "Creiamo in primis due vettori:"
      ]
    },
    {
      "cell_type": "code",
      "metadata": {
        "id": "yuakPWCDBd12",
        "colab_type": "code",
        "colab": {}
      },
      "source": [
        "a=np.array([10,20,56,12,11])\n",
        "b=np.array([6,1,3,88,53])"
      ],
      "execution_count": null,
      "outputs": []
    },
    {
      "cell_type": "markdown",
      "metadata": {
        "id": "CQvDCr48B3n5",
        "colab_type": "text"
      },
      "source": [
        "Per tutte queste operazioni, abbiamo visto come creare le classi per fare questo!\n",
        "Limitiamoci ad utilizzare tutto ciò che è già pronto!\n",
        "\n",
        "*   *Somma*: \n",
        "\n",
        "\n"
      ]
    },
    {
      "cell_type": "code",
      "metadata": {
        "id": "HLosVBzrBq54",
        "colab_type": "code",
        "colab": {
          "base_uri": "https://localhost:8080/",
          "height": 34
        },
        "outputId": "380fe9bb-c00b-4dbc-bc1b-1b4c92ce2da2"
      },
      "source": [
        "c = a + b\n",
        "print(c)"
      ],
      "execution_count": null,
      "outputs": [
        {
          "output_type": "stream",
          "text": [
            "[ 16  21  59 100  64]\n"
          ],
          "name": "stdout"
        }
      ]
    },
    {
      "cell_type": "markdown",
      "metadata": {
        "id": "0ZKC4HYkCpCb",
        "colab_type": "text"
      },
      "source": [
        "*   *Differenza*: "
      ]
    },
    {
      "cell_type": "code",
      "metadata": {
        "id": "f8RE0IsTCre7",
        "colab_type": "code",
        "colab": {
          "base_uri": "https://localhost:8080/",
          "height": 34
        },
        "outputId": "250243cf-57e5-4f63-fd6f-442bb9546671"
      },
      "source": [
        "d=a-b\n",
        "print(d)"
      ],
      "execution_count": null,
      "outputs": [
        {
          "output_type": "stream",
          "text": [
            "[  4  19  53 -76 -42]\n"
          ],
          "name": "stdout"
        }
      ]
    },
    {
      "cell_type": "markdown",
      "metadata": {
        "id": "vtML9exxCr6k",
        "colab_type": "text"
      },
      "source": [
        "*   *Moltiplicazione*: \n",
        "\n",
        "\n",
        "\n",
        "\n",
        "> 1.  vettoriale:\n"
      ]
    },
    {
      "cell_type": "code",
      "metadata": {
        "id": "PROAK83XCsfd",
        "colab_type": "code",
        "colab": {
          "base_uri": "https://localhost:8080/",
          "height": 34
        },
        "outputId": "cc433004-5ae5-4a28-85b0-d5cc582668ce"
      },
      "source": [
        "e=a*b\n",
        "print(e)"
      ],
      "execution_count": null,
      "outputs": [
        {
          "output_type": "stream",
          "text": [
            "[  60   20  168 1056  583]\n"
          ],
          "name": "stdout"
        }
      ]
    },
    {
      "cell_type": "markdown",
      "metadata": {
        "id": "t2YZtZMgD0AE",
        "colab_type": "text"
      },
      "source": [
        "> 2.  scalare:"
      ]
    },
    {
      "cell_type": "code",
      "metadata": {
        "id": "z4ldtp6zD6i5",
        "colab_type": "code",
        "colab": {
          "base_uri": "https://localhost:8080/",
          "height": 34
        },
        "outputId": "8da4dbf4-eb3b-4da8-8ee6-8c7b115613d6"
      },
      "source": [
        "f=a.dot(b)\n",
        "print(f)"
      ],
      "execution_count": null,
      "outputs": [
        {
          "output_type": "stream",
          "text": [
            "1887\n"
          ],
          "name": "stdout"
        }
      ]
    },
    {
      "cell_type": "code",
      "metadata": {
        "id": "CjlajtXgEORc",
        "colab_type": "code",
        "colab": {}
      },
      "source": [
        ""
      ],
      "execution_count": null,
      "outputs": []
    },
    {
      "cell_type": "markdown",
      "metadata": {
        "id": "m4kr1HWIEmkM",
        "colab_type": "text"
      },
      "source": [
        "####***Operazioni su un singolo Vettore***\n",
        "\n",
        "Definisco un vettore:\n"
      ]
    },
    {
      "cell_type": "code",
      "metadata": {
        "id": "CKO2uVhoE4P1",
        "colab_type": "code",
        "colab": {
          "base_uri": "https://localhost:8080/",
          "height": 34
        },
        "outputId": "81142f51-66fb-4c67-c357-f23bd77f9f5c"
      },
      "source": [
        "v=np.array([1,2, 54,11, 43])\n",
        "v"
      ],
      "execution_count": null,
      "outputs": [
        {
          "output_type": "execute_result",
          "data": {
            "text/plain": [
              "array([ 1,  2, 54, 11, 43])"
            ]
          },
          "metadata": {
            "tags": []
          },
          "execution_count": 9
        }
      ]
    },
    {
      "cell_type": "markdown",
      "metadata": {
        "id": "Ijr3ASg9FI2y",
        "colab_type": "text"
      },
      "source": [
        "\n",
        "\n",
        "*   *Eliminazione*: \n",
        "\n",
        "\n"
      ]
    },
    {
      "cell_type": "code",
      "metadata": {
        "id": "8_kHOcgGFPJw",
        "colab_type": "code",
        "colab": {
          "base_uri": "https://localhost:8080/",
          "height": 34
        },
        "outputId": "3abe4cf2-da98-40e5-944f-dfefc85d6e09"
      },
      "source": [
        "v=np.delete(v,3)\n",
        "v"
      ],
      "execution_count": null,
      "outputs": [
        {
          "output_type": "execute_result",
          "data": {
            "text/plain": [
              "array([ 1,  2, 54, 43])"
            ]
          },
          "metadata": {
            "tags": []
          },
          "execution_count": 10
        }
      ]
    },
    {
      "cell_type": "markdown",
      "metadata": {
        "id": "-90M_pHDv-I3",
        "colab_type": "text"
      },
      "source": [
        "Vediamo come possiamo andare a scegliere se eliminare la colonna o riga:"
      ]
    },
    {
      "cell_type": "code",
      "metadata": {
        "id": "NeB6R5wZueJP",
        "colab_type": "code",
        "colab": {
          "base_uri": "https://localhost:8080/",
          "height": 67
        },
        "outputId": "c27e3f40-b263-44ef-cc8b-f1c628ab86cb"
      },
      "source": [
        "arr = np.array([[1,2,3,4], [5,6,7,8], [9,10,11,12]])\n",
        "arr\n",
        "np.delete(arr, 0, 1)"
      ],
      "execution_count": 17,
      "outputs": [
        {
          "output_type": "execute_result",
          "data": {
            "text/plain": [
              "array([[ 2,  3,  4],\n",
              "       [ 6,  7,  8],\n",
              "       [10, 11, 12]])"
            ]
          },
          "metadata": {
            "tags": []
          },
          "execution_count": 17
        }
      ]
    },
    {
      "cell_type": "code",
      "metadata": {
        "id": "q8rzx7vmui7p",
        "colab_type": "code",
        "colab": {}
      },
      "source": [
        ""
      ],
      "execution_count": null,
      "outputs": []
    },
    {
      "cell_type": "markdown",
      "metadata": {
        "id": "bLF6WiFdGaMy",
        "colab_type": "text"
      },
      "source": [
        "*   *Aggiunta*: "
      ]
    },
    {
      "cell_type": "code",
      "metadata": {
        "id": "U8iwAyQSGcNn",
        "colab_type": "code",
        "colab": {
          "base_uri": "https://localhost:8080/",
          "height": 34
        },
        "outputId": "7f12df2e-32ad-4ad7-950f-5024c57528c5"
      },
      "source": [
        "v=np.insert(v,3,13)\n",
        "v"
      ],
      "execution_count": null,
      "outputs": [
        {
          "output_type": "execute_result",
          "data": {
            "text/plain": [
              "array([ 1,  2, 54, 13, 43])"
            ]
          },
          "metadata": {
            "tags": []
          },
          "execution_count": 11
        }
      ]
    },
    {
      "cell_type": "markdown",
      "metadata": {
        "id": "AVKy0dZpwghD",
        "colab_type": "text"
      },
      "source": [
        "oppure con:"
      ]
    },
    {
      "cell_type": "code",
      "metadata": {
        "id": "jP_qkLozwmkN",
        "colab_type": "code",
        "colab": {
          "base_uri": "https://localhost:8080/",
          "height": 67
        },
        "outputId": "2ec89991-f1e7-4baf-bce1-e3a4c65fe612"
      },
      "source": [
        "a = np.array([[1, 2], [3, 4]])\n",
        "b = np.array([[5, 6]])\n",
        "np.concatenate((a, b), axis=0)"
      ],
      "execution_count": 20,
      "outputs": [
        {
          "output_type": "execute_result",
          "data": {
            "text/plain": [
              "array([[1, 2],\n",
              "       [3, 4],\n",
              "       [5, 6]])"
            ]
          },
          "metadata": {
            "tags": []
          },
          "execution_count": 20
        }
      ]
    },
    {
      "cell_type": "code",
      "metadata": {
        "id": "gu2_BDZqw8yV",
        "colab_type": "code",
        "colab": {
          "base_uri": "https://localhost:8080/",
          "height": 50
        },
        "outputId": "63293d19-188d-4451-dd1f-e64109d42945"
      },
      "source": [
        "np.concatenate((a, b.T), axis=1)\n"
      ],
      "execution_count": 22,
      "outputs": [
        {
          "output_type": "execute_result",
          "data": {
            "text/plain": [
              "array([[1, 2, 5],\n",
              "       [3, 4, 6]])"
            ]
          },
          "metadata": {
            "tags": []
          },
          "execution_count": 22
        }
      ]
    },
    {
      "cell_type": "markdown",
      "metadata": {
        "id": "D1XrDXVVGpej",
        "colab_type": "text"
      },
      "source": [
        "*   *Shuffle*: modifica il vettore e quindi non ci deve essere un'assegnazione e va a posizionare in modo random i componenti del vettore\n",
        "\n",
        "\n",
        "\n"
      ]
    },
    {
      "cell_type": "code",
      "metadata": {
        "id": "CNSgzXGhG5Tr",
        "colab_type": "code",
        "colab": {
          "base_uri": "https://localhost:8080/",
          "height": 34
        },
        "outputId": "bfa458dc-8f38-486f-e029-0c9aa7e57daa"
      },
      "source": [
        "v\n",
        "np.random.shuffle(v)\n",
        "v"
      ],
      "execution_count": null,
      "outputs": [
        {
          "output_type": "execute_result",
          "data": {
            "text/plain": [
              "array([13,  2, 43, 54,  1])"
            ]
          },
          "metadata": {
            "tags": []
          },
          "execution_count": 14
        }
      ]
    },
    {
      "cell_type": "markdown",
      "metadata": {
        "id": "DNAeQ0_HHeaL",
        "colab_type": "text"
      },
      "source": [
        "####***Funzioni Base***\n",
        "\n",
        "\n",
        "\n",
        "\n",
        "*   *Len*: quanti elementi vi sono all'interno del vettore\n",
        "*   *Sort*:va ad ordinare i componenti in ordine crescente\n",
        "*   *Sum* : fa la somma degli elementi del vettore, dando uno scalare\n",
        "\n",
        "\n",
        "\n",
        "\n"
      ]
    },
    {
      "cell_type": "markdown",
      "metadata": {
        "id": "veuiSVXLOStg",
        "colab_type": "text"
      },
      "source": [
        "####***Matrici con Numpy***\n",
        "\n",
        "Insime di numeri disposti su piu righe e colonne.\n",
        "Essendo un array bidimensionale:"
      ]
    },
    {
      "cell_type": "code",
      "metadata": {
        "id": "j9DGPtPUPUC_",
        "colab_type": "code",
        "colab": {}
      },
      "source": [
        "import numpy as np"
      ],
      "execution_count": null,
      "outputs": []
    },
    {
      "cell_type": "code",
      "metadata": {
        "id": "Pemf-zs7PUbV",
        "colab_type": "code",
        "colab": {
          "base_uri": "https://localhost:8080/",
          "height": 67
        },
        "outputId": "45f99b60-efa2-45ba-a825-dbb11c8ef758"
      },
      "source": [
        "m = np.array([[1,2,3],[4,5,6],[7,8,9]])\n",
        "print(m)"
      ],
      "execution_count": null,
      "outputs": [
        {
          "output_type": "stream",
          "text": [
            "[[1 2 3]\n",
            " [4 5 6]\n",
            " [7 8 9]]\n"
          ],
          "name": "stdout"
        }
      ]
    },
    {
      "cell_type": "markdown",
      "metadata": {
        "id": "9TcqkCNAtM1S",
        "colab_type": "text"
      },
      "source": [
        "Vediamo quanti elementi ha dentro:"
      ]
    },
    {
      "cell_type": "code",
      "metadata": {
        "id": "mFoVH9ViQMUg",
        "colab_type": "code",
        "colab": {
          "base_uri": "https://localhost:8080/",
          "height": 34
        },
        "outputId": "02714b70-5856-4228-c111-4fdfb37dab6f"
      },
      "source": [
        "m.size"
      ],
      "execution_count": null,
      "outputs": [
        {
          "output_type": "execute_result",
          "data": {
            "text/plain": [
              "9"
            ]
          },
          "metadata": {
            "tags": []
          },
          "execution_count": 7
        }
      ]
    },
    {
      "cell_type": "markdown",
      "metadata": {
        "id": "r2FW39TVtOqw",
        "colab_type": "text"
      },
      "source": [
        "Determiniamo il formato:"
      ]
    },
    {
      "cell_type": "code",
      "metadata": {
        "id": "oz9d3GTPQOke",
        "colab_type": "code",
        "colab": {
          "base_uri": "https://localhost:8080/",
          "height": 34
        },
        "outputId": "8c04604b-cc84-4299-e6d1-137f922a7720"
      },
      "source": [
        "m.shape"
      ],
      "execution_count": null,
      "outputs": [
        {
          "output_type": "execute_result",
          "data": {
            "text/plain": [
              "(3, 3)"
            ]
          },
          "metadata": {
            "tags": []
          },
          "execution_count": 8
        }
      ]
    },
    {
      "cell_type": "markdown",
      "metadata": {
        "id": "ryWfvCSSu4Zk",
        "colab_type": "text"
      },
      "source": [
        "Accedere agli elementi:"
      ]
    },
    {
      "cell_type": "code",
      "metadata": {
        "id": "PtBdpeMKvGvr",
        "colab_type": "code",
        "colab": {
          "base_uri": "https://localhost:8080/",
          "height": 34
        },
        "outputId": "ca1b9da3-7aa7-4753-f334-3427b371dc34"
      },
      "source": [
        "m[1]"
      ],
      "execution_count": null,
      "outputs": [
        {
          "output_type": "execute_result",
          "data": {
            "text/plain": [
              "array([4, 5, 6])"
            ]
          },
          "metadata": {
            "tags": []
          },
          "execution_count": 11
        }
      ]
    },
    {
      "cell_type": "code",
      "metadata": {
        "id": "s70mZjXnvPC9",
        "colab_type": "code",
        "colab": {
          "base_uri": "https://localhost:8080/",
          "height": 34
        },
        "outputId": "40f4d884-4411-4eb8-9579-238f94e97f7d"
      },
      "source": [
        "m[1,1]"
      ],
      "execution_count": null,
      "outputs": [
        {
          "output_type": "execute_result",
          "data": {
            "text/plain": [
              "5"
            ]
          },
          "metadata": {
            "tags": []
          },
          "execution_count": 12
        }
      ]
    },
    {
      "cell_type": "code",
      "metadata": {
        "id": "Ia2MSg0rvp6Y",
        "colab_type": "code",
        "colab": {
          "base_uri": "https://localhost:8080/",
          "height": 34
        },
        "outputId": "314c982a-4f57-45cd-ebf8-df3f3c609242"
      },
      "source": [
        "m[:-2,:2]"
      ],
      "execution_count": null,
      "outputs": [
        {
          "output_type": "execute_result",
          "data": {
            "text/plain": [
              "array([[1, 2]])"
            ]
          },
          "metadata": {
            "tags": []
          },
          "execution_count": 18
        }
      ]
    },
    {
      "cell_type": "markdown",
      "metadata": {
        "id": "fBLhPu4XxXn7",
        "colab_type": "text"
      },
      "source": [
        "####***Ridimensionamento con Numpy***\n",
        "\n",
        "\n",
        "\n",
        "\n",
        "\n",
        "Vediamo come procedere alla modifica:"
      ]
    },
    {
      "cell_type": "code",
      "metadata": {
        "id": "-HDYucsQyr24",
        "colab_type": "code",
        "colab": {
          "base_uri": "https://localhost:8080/",
          "height": 84
        },
        "outputId": "d2b12661-b541-45d7-d290-dcd75cb8a091"
      },
      "source": [
        "m = np.array([[1,2,3],[4,5,6],[7,8,9],[10,11,12]])\n",
        "print(m)"
      ],
      "execution_count": null,
      "outputs": [
        {
          "output_type": "stream",
          "text": [
            "[[ 1  2  3]\n",
            " [ 4  5  6]\n",
            " [ 7  8  9]\n",
            " [10 11 12]]\n"
          ],
          "name": "stdout"
        }
      ]
    },
    {
      "cell_type": "markdown",
      "metadata": {
        "id": "xsyhx-wwyzJ4",
        "colab_type": "text"
      },
      "source": [
        "\n",
        "\n",
        "*   *reshape*:da (4x3) la vogliamo far diventare (3x4)\n",
        "\n",
        "\n"
      ]
    },
    {
      "cell_type": "code",
      "metadata": {
        "id": "_5yKkPxVy5Wx",
        "colab_type": "code",
        "colab": {
          "base_uri": "https://localhost:8080/",
          "height": 67
        },
        "outputId": "e3eeb5d2-773c-4617-bd99-13d3068193f6"
      },
      "source": [
        "m=m.reshape(3,4)\n",
        "print(m)"
      ],
      "execution_count": null,
      "outputs": [
        {
          "output_type": "stream",
          "text": [
            "[[ 1  2  3  4]\n",
            " [ 5  6  7  8]\n",
            " [ 9 10 11 12]]\n"
          ],
          "name": "stdout"
        }
      ]
    },
    {
      "cell_type": "markdown",
      "metadata": {
        "id": "LI0RJxik0L9V",
        "colab_type": "text"
      },
      "source": [
        "\n",
        "\n",
        "*   *flattering*: consiste nel mettere su un'unica riga una matrice:\n",
        "\n",
        "\n"
      ]
    },
    {
      "cell_type": "code",
      "metadata": {
        "id": "NfBnJcRG0336",
        "colab_type": "code",
        "colab": {
          "base_uri": "https://localhost:8080/",
          "height": 34
        },
        "outputId": "9bf9ceba-e0a3-41a6-98b3-12be019e1893"
      },
      "source": [
        "m_flatten1 =m.reshape(1,m.size)\n",
        "print(m_flatten1)"
      ],
      "execution_count": null,
      "outputs": [
        {
          "output_type": "stream",
          "text": [
            "[[ 1  2  3  4  5  6  7  8  9 10 11 12]]\n"
          ],
          "name": "stdout"
        }
      ]
    },
    {
      "cell_type": "markdown",
      "metadata": {
        "id": "-Mw4zSPS1CbZ",
        "colab_type": "text"
      },
      "source": [
        "O in modo piu diretto:"
      ]
    },
    {
      "cell_type": "code",
      "metadata": {
        "id": "-PHOaOZC1B0n",
        "colab_type": "code",
        "colab": {
          "base_uri": "https://localhost:8080/",
          "height": 34
        },
        "outputId": "69fe24df-9f9d-4fd1-bd60-7852a018f038"
      },
      "source": [
        "m_flatten2=m.flatten()\n",
        "\n",
        "print(m_flatten2)"
      ],
      "execution_count": null,
      "outputs": [
        {
          "output_type": "stream",
          "text": [
            "[ 1  2  3  4  5  6  7  8  9 10 11 12]\n"
          ],
          "name": "stdout"
        }
      ]
    },
    {
      "cell_type": "markdown",
      "metadata": {
        "id": "iIbQbRsm2xHQ",
        "colab_type": "text"
      },
      "source": [
        "Ma nel primo caso si ottiene una matrice 1x12 e lo si può notare dalla doppia parentesi.\n",
        "Nel secondo caso, invece otteniamo un vettore vero e proprio!\n",
        "\n",
        "Con Shape, lo dimostriamo!"
      ]
    },
    {
      "cell_type": "markdown",
      "metadata": {
        "id": "pUA_lnebbsxR",
        "colab_type": "text"
      },
      "source": [
        "####***Broadcasting e Operazioni tra Matrici***\n",
        "\n",
        "Valgono gli stessi concetti degli array e possiamo utilizzare gli stessi operatori aritmetici:\n",
        "\n",
        "\n",
        "\n"
      ]
    },
    {
      "cell_type": "code",
      "metadata": {
        "id": "bKj0T8QHbrkp",
        "colab_type": "code",
        "colab": {}
      },
      "source": [
        "import numpy as np"
      ],
      "execution_count": 3,
      "outputs": []
    },
    {
      "cell_type": "code",
      "metadata": {
        "id": "ttmmDb0YhVQp",
        "colab_type": "code",
        "colab": {}
      },
      "source": [
        "m1 = np.array([[1,2,3],[4,5,6],[7,8,9]])\n",
        "m2 = np.array([[7,12,35],[34,25,16],[57,98,90]])"
      ],
      "execution_count": null,
      "outputs": []
    },
    {
      "cell_type": "markdown",
      "metadata": {
        "id": "0DmBy-jchtjm",
        "colab_type": "text"
      },
      "source": [
        "\n",
        "\n",
        "*   *somma*:\n",
        "\n"
      ]
    },
    {
      "cell_type": "code",
      "metadata": {
        "id": "DAGn4h_ohjwR",
        "colab_type": "code",
        "colab": {
          "base_uri": "https://localhost:8080/",
          "height": 67
        },
        "outputId": "fd7393bf-0fbe-47b7-c882-a0516a882ef0"
      },
      "source": [
        "m1+m2"
      ],
      "execution_count": null,
      "outputs": [
        {
          "output_type": "execute_result",
          "data": {
            "text/plain": [
              "array([[  8,  14,  38],\n",
              "       [ 38,  30,  22],\n",
              "       [ 64, 106,  99]])"
            ]
          },
          "metadata": {
            "tags": []
          },
          "execution_count": 5
        }
      ]
    },
    {
      "cell_type": "markdown",
      "metadata": {
        "id": "aIAwDT5GiFkP",
        "colab_type": "text"
      },
      "source": [
        "\n",
        "\n",
        "*   *differenza*:\n",
        "\n",
        "\n"
      ]
    },
    {
      "cell_type": "code",
      "metadata": {
        "id": "Xg2dFIS9iLTQ",
        "colab_type": "code",
        "colab": {
          "base_uri": "https://localhost:8080/",
          "height": 67
        },
        "outputId": "fa30b979-084d-4160-c99c-e0731d026188"
      },
      "source": [
        "m1-m2"
      ],
      "execution_count": null,
      "outputs": [
        {
          "output_type": "execute_result",
          "data": {
            "text/plain": [
              "array([[ -6, -10, -32],\n",
              "       [-30, -20, -10],\n",
              "       [-50, -90, -81]])"
            ]
          },
          "metadata": {
            "tags": []
          },
          "execution_count": 6
        }
      ]
    },
    {
      "cell_type": "markdown",
      "metadata": {
        "id": "z-dOef98isoQ",
        "colab_type": "text"
      },
      "source": [
        "\n",
        "\n",
        "*   *divisione valore per valore*:\n",
        "\n",
        "\n"
      ]
    },
    {
      "cell_type": "code",
      "metadata": {
        "id": "qSycLy7Rix1g",
        "colab_type": "code",
        "colab": {
          "base_uri": "https://localhost:8080/",
          "height": 67
        },
        "outputId": "8fdc943a-4fe9-4efc-9418-4585e28a0a5c"
      },
      "source": [
        "m1/m2"
      ],
      "execution_count": null,
      "outputs": [
        {
          "output_type": "execute_result",
          "data": {
            "text/plain": [
              "array([[0.14285714, 0.16666667, 0.08571429],\n",
              "       [0.11764706, 0.2       , 0.375     ],\n",
              "       [0.12280702, 0.08163265, 0.1       ]])"
            ]
          },
          "metadata": {
            "tags": []
          },
          "execution_count": 7
        }
      ]
    },
    {
      "cell_type": "markdown",
      "metadata": {
        "id": "LZmvoem-jACb",
        "colab_type": "text"
      },
      "source": [
        "\n",
        "\n",
        "*   *prodotto valore per valore*:\n",
        "\n",
        "\n"
      ]
    },
    {
      "cell_type": "code",
      "metadata": {
        "id": "9p0flDI5jEdr",
        "colab_type": "code",
        "colab": {
          "base_uri": "https://localhost:8080/",
          "height": 67
        },
        "outputId": "bd62fab6-bdb8-4fe8-92aa-eaa5a519909a"
      },
      "source": [
        "m1*m2"
      ],
      "execution_count": null,
      "outputs": [
        {
          "output_type": "execute_result",
          "data": {
            "text/plain": [
              "array([[  7,  24, 105],\n",
              "       [136, 125,  96],\n",
              "       [399, 784, 810]])"
            ]
          },
          "metadata": {
            "tags": []
          },
          "execution_count": 8
        }
      ]
    },
    {
      "cell_type": "markdown",
      "metadata": {
        "id": "U-3Cz6tamioL",
        "colab_type": "text"
      },
      "source": [
        "*   *prodotto scalare*:"
      ]
    },
    {
      "cell_type": "code",
      "metadata": {
        "id": "bRO6_hfempsI",
        "colab_type": "code",
        "colab": {}
      },
      "source": [
        "m3=np.array([[1,2],[6,7],[9,8]])"
      ],
      "execution_count": null,
      "outputs": []
    },
    {
      "cell_type": "markdown",
      "metadata": {
        "id": "u8AZVDPrnN-5",
        "colab_type": "text"
      },
      "source": [
        "Classico modo extra numpy"
      ]
    },
    {
      "cell_type": "code",
      "metadata": {
        "id": "TjemlvRqnDGR",
        "colab_type": "code",
        "colab": {
          "base_uri": "https://localhost:8080/",
          "height": 67
        },
        "outputId": "9bf1f241-9023-4233-83b3-8ac6818db1ba"
      },
      "source": [
        "m1.dot(m3)"
      ],
      "execution_count": null,
      "outputs": [
        {
          "output_type": "execute_result",
          "data": {
            "text/plain": [
              "array([[ 40,  40],\n",
              "       [ 88,  91],\n",
              "       [136, 142]])"
            ]
          },
          "metadata": {
            "tags": []
          },
          "execution_count": 12
        }
      ]
    },
    {
      "cell_type": "markdown",
      "metadata": {
        "id": "2TjqV0rWnQpR",
        "colab_type": "text"
      },
      "source": [
        "Utilizzando numpy"
      ]
    },
    {
      "cell_type": "code",
      "metadata": {
        "id": "SnKMr2pMnI-p",
        "colab_type": "code",
        "colab": {
          "base_uri": "https://localhost:8080/",
          "height": 67
        },
        "outputId": "bac58d8a-fdfd-410b-8603-b5a9e851b336"
      },
      "source": [
        "np.dot(m1,m3)"
      ],
      "execution_count": null,
      "outputs": [
        {
          "output_type": "execute_result",
          "data": {
            "text/plain": [
              "array([[ 40,  40],\n",
              "       [ 88,  91],\n",
              "       [136, 142]])"
            ]
          },
          "metadata": {
            "tags": []
          },
          "execution_count": 13
        }
      ]
    },
    {
      "cell_type": "markdown",
      "metadata": {
        "id": "2dNgMVymtj6M",
        "colab_type": "text"
      },
      "source": [
        "####***Operazioni tra Vettori e Matrici***\n",
        "\n",
        "Vediamo subito come questo modulo ci permette di fare:"
      ]
    },
    {
      "cell_type": "code",
      "metadata": {
        "id": "n9ENUGu8t3fi",
        "colab_type": "code",
        "colab": {}
      },
      "source": [
        "m = np.array([[4,5,9],[2,7,4],[7,9,8]])\n",
        "v = np.array([9,2,5])"
      ],
      "execution_count": null,
      "outputs": []
    },
    {
      "cell_type": "markdown",
      "metadata": {
        "id": "uCOWk8NltuvX",
        "colab_type": "text"
      },
      "source": [
        "Vediamo che abbiamo una *Matrice* ed un *Vettore* e se proviamo a fare una somma:"
      ]
    },
    {
      "cell_type": "code",
      "metadata": {
        "id": "Vim65qf2uLui",
        "colab_type": "code",
        "colab": {
          "base_uri": "https://localhost:8080/",
          "height": 67
        },
        "outputId": "83bcfb3e-c70f-416b-f0c6-696a73c60719"
      },
      "source": [
        "m+v"
      ],
      "execution_count": null,
      "outputs": [
        {
          "output_type": "execute_result",
          "data": {
            "text/plain": [
              "array([[13,  7, 14],\n",
              "       [11,  9,  9],\n",
              "       [16, 11, 13]])"
            ]
          },
          "metadata": {
            "tags": []
          },
          "execution_count": 15
        }
      ]
    },
    {
      "cell_type": "markdown",
      "metadata": {
        "id": "ZcrGyeVixhTZ",
        "colab_type": "text"
      },
      "source": [
        "Il modulo per poter fare questa operazione, è andato a replicare il vettore v nelle successive due righe create per poter sommare la matrice m.\n",
        "Questa operazione è detta *Broadcasting*.\n",
        "\n",
        "\n",
        "Anche per la matrici valgono gli stessi metodi visti con i vettori:\n",
        "\n"
      ]
    },
    {
      "cell_type": "code",
      "metadata": {
        "id": "F-K3_KsCzNIY",
        "colab_type": "code",
        "colab": {
          "base_uri": "https://localhost:8080/",
          "height": 34
        },
        "outputId": "7dac90b2-7a61-49be-cf9b-ad8b54197204"
      },
      "source": [
        "m.sum()"
      ],
      "execution_count": null,
      "outputs": [
        {
          "output_type": "execute_result",
          "data": {
            "text/plain": [
              "55"
            ]
          },
          "metadata": {
            "tags": []
          },
          "execution_count": 16
        }
      ]
    },
    {
      "cell_type": "code",
      "metadata": {
        "id": "HV5QaQjEznWo",
        "colab_type": "code",
        "colab": {
          "base_uri": "https://localhost:8080/",
          "height": 67
        },
        "outputId": "22d9ad90-78bc-474a-fc96-250e8b14440e"
      },
      "source": [
        "m"
      ],
      "execution_count": null,
      "outputs": [
        {
          "output_type": "execute_result",
          "data": {
            "text/plain": [
              "array([[4, 5, 9],\n",
              "       [2, 7, 4],\n",
              "       [7, 9, 8]])"
            ]
          },
          "metadata": {
            "tags": []
          },
          "execution_count": 19
        }
      ]
    },
    {
      "cell_type": "markdown",
      "metadata": {
        "id": "cFw9j0nkz0O-",
        "colab_type": "text"
      },
      "source": [
        "\n",
        "\n",
        "*   *somma tra colonne*:\n",
        "\n",
        "\n"
      ]
    },
    {
      "cell_type": "code",
      "metadata": {
        "id": "TrvbXXL5zUZ9",
        "colab_type": "code",
        "colab": {
          "base_uri": "https://localhost:8080/",
          "height": 34
        },
        "outputId": "160a2a98-56ef-431a-fadd-9476d25baa6d"
      },
      "source": [
        "m.sum(0)"
      ],
      "execution_count": null,
      "outputs": [
        {
          "output_type": "execute_result",
          "data": {
            "text/plain": [
              "array([13, 21, 21])"
            ]
          },
          "metadata": {
            "tags": []
          },
          "execution_count": 18
        }
      ]
    },
    {
      "cell_type": "markdown",
      "metadata": {
        "id": "FZHg5Zvbz-M1",
        "colab_type": "text"
      },
      "source": [
        "*   *somma tra righe*:"
      ]
    },
    {
      "cell_type": "code",
      "metadata": {
        "id": "jUMHU4SqzsjS",
        "colab_type": "code",
        "colab": {
          "base_uri": "https://localhost:8080/",
          "height": 34
        },
        "outputId": "8ed3aa49-b2d6-4175-cefb-0d068b19300a"
      },
      "source": [
        "m.sum(1)"
      ],
      "execution_count": null,
      "outputs": [
        {
          "output_type": "execute_result",
          "data": {
            "text/plain": [
              "array([18, 13, 24])"
            ]
          },
          "metadata": {
            "tags": []
          },
          "execution_count": 22
        }
      ]
    },
    {
      "cell_type": "markdown",
      "metadata": {
        "id": "QWseQFqQ1ONI",
        "colab_type": "text"
      },
      "source": [
        "*   *Valore MAX tra colonne*:"
      ]
    },
    {
      "cell_type": "code",
      "metadata": {
        "id": "GAGyhlsM1RSe",
        "colab_type": "code",
        "colab": {
          "base_uri": "https://localhost:8080/",
          "height": 34
        },
        "outputId": "48f6858d-07e0-4eea-d244-969d371a7f7f"
      },
      "source": [
        "m.max(0)"
      ],
      "execution_count": null,
      "outputs": [
        {
          "output_type": "execute_result",
          "data": {
            "text/plain": [
              "array([7, 9, 9])"
            ]
          },
          "metadata": {
            "tags": []
          },
          "execution_count": 23
        }
      ]
    },
    {
      "cell_type": "markdown",
      "metadata": {
        "id": "2zJnvrig1YAu",
        "colab_type": "text"
      },
      "source": [
        "*   *Valore MAX tra righe*:"
      ]
    },
    {
      "cell_type": "code",
      "metadata": {
        "id": "QdOMHC7h1Z0o",
        "colab_type": "code",
        "colab": {
          "base_uri": "https://localhost:8080/",
          "height": 34
        },
        "outputId": "26033203-d24a-4b7e-9e47-c7547100edab"
      },
      "source": [
        "m.max(1)"
      ],
      "execution_count": null,
      "outputs": [
        {
          "output_type": "execute_result",
          "data": {
            "text/plain": [
              "array([9, 7, 9])"
            ]
          },
          "metadata": {
            "tags": []
          },
          "execution_count": 24
        }
      ]
    },
    {
      "cell_type": "markdown",
      "metadata": {
        "id": "uWv2jz7D1kLz",
        "colab_type": "text"
      },
      "source": [
        "*   *Valore MEDIO tra colonne*:"
      ]
    },
    {
      "cell_type": "code",
      "metadata": {
        "id": "34doB63X1n2N",
        "colab_type": "code",
        "colab": {
          "base_uri": "https://localhost:8080/",
          "height": 34
        },
        "outputId": "a3c45d07-747d-45fe-82bf-0bff7bced9f1"
      },
      "source": [
        "m.mean(0)"
      ],
      "execution_count": null,
      "outputs": [
        {
          "output_type": "execute_result",
          "data": {
            "text/plain": [
              "array([4.33333333, 7.        , 7.        ])"
            ]
          },
          "metadata": {
            "tags": []
          },
          "execution_count": 25
        }
      ]
    },
    {
      "cell_type": "markdown",
      "metadata": {
        "id": "nUYwcfj310C2",
        "colab_type": "text"
      },
      "source": [
        "*   *Valore MEDIO tra righe*:"
      ]
    },
    {
      "cell_type": "code",
      "metadata": {
        "id": "54bJm_Lh1158",
        "colab_type": "code",
        "colab": {
          "base_uri": "https://localhost:8080/",
          "height": 34
        },
        "outputId": "8856af7d-9871-47a2-a35f-aeea4f0bf58c"
      },
      "source": [
        "m.mean(1)"
      ],
      "execution_count": null,
      "outputs": [
        {
          "output_type": "execute_result",
          "data": {
            "text/plain": [
              "array([6.        , 4.33333333, 8.        ])"
            ]
          },
          "metadata": {
            "tags": []
          },
          "execution_count": 26
        }
      ]
    },
    {
      "cell_type": "markdown",
      "metadata": {
        "id": "Hlwvi2mL8qn8",
        "colab_type": "text"
      },
      "source": [
        "####***Generazione di Array***\n",
        "\n",
        "Questo metodo da a disposizione anche tanti modi per creare Matrici/Vettori!"
      ]
    },
    {
      "cell_type": "code",
      "metadata": {
        "id": "KHJFwlls9gDZ",
        "colab_type": "code",
        "colab": {}
      },
      "source": [
        "import numpy as np"
      ],
      "execution_count": 4,
      "outputs": []
    },
    {
      "cell_type": "markdown",
      "metadata": {
        "id": "6A937Kzw9ntp",
        "colab_type": "text"
      },
      "source": [
        "\n",
        "\n",
        "*   *Matrici di Zeri*:\n",
        "\n",
        "\n"
      ]
    },
    {
      "cell_type": "code",
      "metadata": {
        "id": "NIqUqhq89jk4",
        "colab_type": "code",
        "colab": {
          "base_uri": "https://localhost:8080/",
          "height": 67
        },
        "outputId": "879369ef-e920-40d8-bec5-ec2763527eee"
      },
      "source": [
        "m = np.zeros([3,3])\n",
        "m"
      ],
      "execution_count": null,
      "outputs": [
        {
          "output_type": "execute_result",
          "data": {
            "text/plain": [
              "array([[0., 0., 0.],\n",
              "       [0., 0., 0.],\n",
              "       [0., 0., 0.]])"
            ]
          },
          "metadata": {
            "tags": []
          },
          "execution_count": 37
        }
      ]
    },
    {
      "cell_type": "markdown",
      "metadata": {
        "id": "jMYSDvs0-pxd",
        "colab_type": "text"
      },
      "source": [
        "\n",
        "*   *Vettori di Zeri*:"
      ]
    },
    {
      "cell_type": "code",
      "metadata": {
        "id": "KEE-ymWP-r7h",
        "colab_type": "code",
        "colab": {
          "base_uri": "https://localhost:8080/",
          "height": 34
        },
        "outputId": "04a0a88f-aeaa-49d5-e464-d6b5ae83388a"
      },
      "source": [
        "v=np.zeros([5])\n",
        "v"
      ],
      "execution_count": null,
      "outputs": [
        {
          "output_type": "execute_result",
          "data": {
            "text/plain": [
              "array([0., 0., 0., 0., 0.])"
            ]
          },
          "metadata": {
            "tags": []
          },
          "execution_count": 41
        }
      ]
    },
    {
      "cell_type": "markdown",
      "metadata": {
        "id": "wIyiemu3-5DP",
        "colab_type": "text"
      },
      "source": [
        "\n",
        "*   *Matrici Diagonali*:"
      ]
    },
    {
      "cell_type": "code",
      "metadata": {
        "id": "8sIq0mYf-4sc",
        "colab_type": "code",
        "colab": {
          "base_uri": "https://localhost:8080/",
          "height": 134
        },
        "outputId": "d2446224-8bdf-48cc-9c45-f63de0c13420"
      },
      "source": [
        "d=np.eye(7,7)\n",
        "d"
      ],
      "execution_count": null,
      "outputs": [
        {
          "output_type": "execute_result",
          "data": {
            "text/plain": [
              "array([[1., 0., 0., 0., 0., 0., 0.],\n",
              "       [0., 1., 0., 0., 0., 0., 0.],\n",
              "       [0., 0., 1., 0., 0., 0., 0.],\n",
              "       [0., 0., 0., 1., 0., 0., 0.],\n",
              "       [0., 0., 0., 0., 1., 0., 0.],\n",
              "       [0., 0., 0., 0., 0., 1., 0.],\n",
              "       [0., 0., 0., 0., 0., 0., 1.]])"
            ]
          },
          "metadata": {
            "tags": []
          },
          "execution_count": 45
        }
      ]
    },
    {
      "cell_type": "markdown",
      "metadata": {
        "id": "TD3vhLhh_Od6",
        "colab_type": "text"
      },
      "source": [
        "\n",
        "*   *Matrici\\Vettori Generati Casualmente [0-1]*:\n"
      ]
    },
    {
      "cell_type": "code",
      "metadata": {
        "id": "XWgJO1tE_UdL",
        "colab_type": "code",
        "colab": {
          "base_uri": "https://localhost:8080/",
          "height": 84
        },
        "outputId": "2a170a09-676e-4770-e03b-ed3b9540e92b"
      },
      "source": [
        "randomM=np.random.rand(4,4)\n",
        "randomM"
      ],
      "execution_count": 6,
      "outputs": [
        {
          "output_type": "execute_result",
          "data": {
            "text/plain": [
              "array([[0.71186821, 0.45370061, 0.8470907 , 0.79804733],\n",
              "       [0.11642843, 0.71684916, 0.92574946, 0.60461277],\n",
              "       [0.04403763, 0.53249436, 0.89741442, 0.64765879],\n",
              "       [0.84441235, 0.4271484 , 0.70294143, 0.05786175]])"
            ]
          },
          "metadata": {
            "tags": []
          },
          "execution_count": 6
        }
      ]
    },
    {
      "cell_type": "code",
      "metadata": {
        "id": "zURSWf-z_lEU",
        "colab_type": "code",
        "colab": {
          "base_uri": "https://localhost:8080/",
          "height": 34
        },
        "outputId": "731980a2-3476-4d0d-c645-bacd49076887"
      },
      "source": [
        "randomV=np.random.rand(4)\n",
        "randomV"
      ],
      "execution_count": null,
      "outputs": [
        {
          "output_type": "execute_result",
          "data": {
            "text/plain": [
              "array([0.43755936, 0.56327258, 0.91611699, 0.61968287])"
            ]
          },
          "metadata": {
            "tags": []
          },
          "execution_count": 49
        }
      ]
    },
    {
      "cell_type": "markdown",
      "metadata": {
        "id": "1j9rl8oM_rw4",
        "colab_type": "text"
      },
      "source": [
        "*   *Matrici\\Vettori Generati Casualmente Numeri Interi*:\n"
      ]
    },
    {
      "cell_type": "code",
      "metadata": {
        "id": "XP6oaB6M_xb_",
        "colab_type": "code",
        "colab": {
          "base_uri": "https://localhost:8080/",
          "height": 67
        },
        "outputId": "63d264d5-c48d-4128-a40b-3574ac887809"
      },
      "source": [
        "randomM=np.random.randint(6,size=[3,4])\n",
        "print(randomM)"
      ],
      "execution_count": null,
      "outputs": [
        {
          "output_type": "stream",
          "text": [
            "[[0 1 4 2]\n",
            " [5 0 3 3]\n",
            " [3 5 2 5]]\n"
          ],
          "name": "stdout"
        }
      ]
    },
    {
      "cell_type": "code",
      "metadata": {
        "id": "3PdXueQt_xU3",
        "colab_type": "code",
        "colab": {
          "base_uri": "https://localhost:8080/",
          "height": 34
        },
        "outputId": "ba6f3ca6-31d2-442b-9488-144dbce64dfe"
      },
      "source": [
        "randomV=np.random.randint(4,size=7)\n",
        "randomV"
      ],
      "execution_count": null,
      "outputs": [
        {
          "output_type": "execute_result",
          "data": {
            "text/plain": [
              "array([0, 3, 1, 2, 2, 2, 3])"
            ]
          },
          "metadata": {
            "tags": []
          },
          "execution_count": 66
        }
      ]
    },
    {
      "cell_type": "markdown",
      "metadata": {
        "id": "qs65CIn_BQwf",
        "colab_type": "text"
      },
      "source": [
        "*   *Matrici\\Vettori Generati Casualmente che seguono una distribuzione normale (media=0, dst=1)*:"
      ]
    },
    {
      "cell_type": "code",
      "metadata": {
        "id": "ASFm1kXoBP_e",
        "colab_type": "code",
        "colab": {
          "base_uri": "https://localhost:8080/",
          "height": 67
        },
        "outputId": "b144cac9-19c2-407c-cd0f-bf9ec674af87"
      },
      "source": [
        "norm=np.random.normal(0,1,(3,3))\n",
        "print(norm)"
      ],
      "execution_count": null,
      "outputs": [
        {
          "output_type": "stream",
          "text": [
            "[[ 0.09763959  0.60650635  0.17488348]\n",
            " [ 0.91092094 -0.28754585 -0.67287159]\n",
            " [-0.67490132  0.12265652  0.2607307 ]]\n"
          ],
          "name": "stdout"
        }
      ]
    },
    {
      "cell_type": "code",
      "metadata": {
        "id": "wsehGjGYFZ1C",
        "colab_type": "code",
        "colab": {
          "base_uri": "https://localhost:8080/",
          "height": 34
        },
        "outputId": "48b70681-67a6-40cc-e1c4-c7a30e494f58"
      },
      "source": [
        "norm=np.random.normal(0,1,5)\n",
        "print(norm)"
      ],
      "execution_count": null,
      "outputs": [
        {
          "output_type": "stream",
          "text": [
            "[ 0.02747111  0.09777795 -2.15912414  0.12979723  0.38303788]\n"
          ],
          "name": "stdout"
        }
      ]
    },
    {
      "cell_type": "markdown",
      "metadata": {
        "id": "uDLB4M5CGTN6",
        "colab_type": "text"
      },
      "source": [
        "Sono funzioni che generano tutto casualmente e quindi ogni volta che le generiamo, questo saranno diverse!\n",
        "\n",
        "\n",
        "Ma se volessimo che queste generazione random fossero in qualche modo fossero tali solo la prima volta:"
      ]
    },
    {
      "cell_type": "code",
      "metadata": {
        "id": "YQhi-wkpHlSs",
        "colab_type": "code",
        "colab": {
          "base_uri": "https://localhost:8080/",
          "height": 67
        },
        "outputId": "a490a945-1659-45bf-a19e-46e54d2df357"
      },
      "source": [
        "np.random.seed(1)\n",
        "norm_1volta=np.random.rand(3,3)\n",
        "print(norm_1volta)"
      ],
      "execution_count": null,
      "outputs": [
        {
          "output_type": "stream",
          "text": [
            "[[4.17022005e-01 7.20324493e-01 1.14374817e-04]\n",
            " [3.02332573e-01 1.46755891e-01 9.23385948e-02]\n",
            " [1.86260211e-01 3.45560727e-01 3.96767474e-01]]\n"
          ],
          "name": "stdout"
        }
      ]
    },
    {
      "cell_type": "markdown",
      "metadata": {
        "id": "fI4HDNGdjoxJ",
        "colab_type": "text"
      },
      "source": [
        "*   Vettori Generati Casualmente prendendo spunto da un 1-D Array "
      ]
    },
    {
      "cell_type": "code",
      "metadata": {
        "id": "bjrMiBxYkBwl",
        "colab_type": "code",
        "colab": {
          "base_uri": "https://localhost:8080/",
          "height": 33
        },
        "outputId": "4fb95cae-5640-47c4-ef58-c2dc6e363ab7"
      },
      "source": [
        "a = [1,2,3,4]\n",
        "np.random.choice(a, 5)"
      ],
      "execution_count": 13,
      "outputs": [
        {
          "output_type": "execute_result",
          "data": {
            "text/plain": [
              "array([3, 4, 1, 1, 1])"
            ]
          },
          "metadata": {
            "tags": []
          },
          "execution_count": 13
        }
      ]
    },
    {
      "cell_type": "markdown",
      "metadata": {
        "id": "AXMh6DjtIAQQ",
        "colab_type": "text"
      },
      "source": [
        "*Genrazioni di Intevalli Numerici*:\n",
        "\n",
        "Vediamo tra [0-10]"
      ]
    },
    {
      "cell_type": "code",
      "metadata": {
        "id": "n48Qhm_FInlM",
        "colab_type": "code",
        "colab": {
          "base_uri": "https://localhost:8080/",
          "height": 34
        },
        "outputId": "528e3ab5-8158-448d-e1a6-649128a2e5a7"
      },
      "source": [
        "np.arange(10)"
      ],
      "execution_count": null,
      "outputs": [
        {
          "output_type": "execute_result",
          "data": {
            "text/plain": [
              "array([0, 1, 2, 3, 4, 5, 6, 7, 8, 9])"
            ]
          },
          "metadata": {
            "tags": []
          },
          "execution_count": 79
        }
      ]
    },
    {
      "cell_type": "markdown",
      "metadata": {
        "id": "oRavbKqKJbWs",
        "colab_type": "text"
      },
      "source": [
        "Vediamo da un valore di partenza a quello finale"
      ]
    },
    {
      "cell_type": "code",
      "metadata": {
        "id": "0pPCkgksIu24",
        "colab_type": "code",
        "colab": {
          "base_uri": "https://localhost:8080/",
          "height": 34
        },
        "outputId": "34d7a804-d619-4ec3-ea63-67b78fbc36d1"
      },
      "source": [
        "np.arange(3,17)"
      ],
      "execution_count": null,
      "outputs": [
        {
          "output_type": "execute_result",
          "data": {
            "text/plain": [
              "array([ 3,  4,  5,  6,  7,  8,  9, 10, 11, 12, 13, 14, 15, 16])"
            ]
          },
          "metadata": {
            "tags": []
          },
          "execution_count": 81
        }
      ]
    },
    {
      "cell_type": "markdown",
      "metadata": {
        "id": "NSZFrr7Dr-_i",
        "colab_type": "text"
      },
      "source": [
        "* *Intervalli numeri di dimensione stabilita da noi, distribuiti uniformemente*: "
      ]
    },
    {
      "cell_type": "code",
      "metadata": {
        "id": "6IMwNJf0sXdD",
        "colab_type": "code",
        "colab": {
          "base_uri": "https://localhost:8080/",
          "height": 84
        },
        "outputId": "8f7312b4-cc8b-4401-da01-e2c264e897bb"
      },
      "source": [
        "np.linspace(0,10, num=20)"
      ],
      "execution_count": null,
      "outputs": [
        {
          "output_type": "execute_result",
          "data": {
            "text/plain": [
              "array([ 0.        ,  0.52631579,  1.05263158,  1.57894737,  2.10526316,\n",
              "        2.63157895,  3.15789474,  3.68421053,  4.21052632,  4.73684211,\n",
              "        5.26315789,  5.78947368,  6.31578947,  6.84210526,  7.36842105,\n",
              "        7.89473684,  8.42105263,  8.94736842,  9.47368421, 10.        ])"
            ]
          },
          "metadata": {
            "tags": []
          },
          "execution_count": 3
        }
      ]
    },
    {
      "cell_type": "code",
      "metadata": {
        "id": "wAbk7bjqswGu",
        "colab_type": "code",
        "colab": {
          "base_uri": "https://localhost:8080/",
          "height": 50
        },
        "outputId": "64285d84-d51b-4277-bb3e-d0d2cdc4d82b"
      },
      "source": [
        "np.linspace(0,10, num=20, endpoint=False)"
      ],
      "execution_count": null,
      "outputs": [
        {
          "output_type": "execute_result",
          "data": {
            "text/plain": [
              "array([0. , 0.5, 1. , 1.5, 2. , 2.5, 3. , 3.5, 4. , 4.5, 5. , 5.5, 6. ,\n",
              "       6.5, 7. , 7.5, 8. , 8.5, 9. , 9.5])"
            ]
          },
          "metadata": {
            "tags": []
          },
          "execution_count": 4
        }
      ]
    },
    {
      "cell_type": "markdown",
      "metadata": {
        "id": "nAQUeh8oxSGz",
        "colab_type": "text"
      },
      "source": [
        "\n",
        "\n",
        "*   Generazione di array diretta con Input:\n",
        "\n",
        "\n"
      ]
    },
    {
      "cell_type": "code",
      "metadata": {
        "id": "XOZpg8SWx9bl",
        "colab_type": "code",
        "colab": {}
      },
      "source": [
        "vettore = np.array([input(.strip().split() for _ in range(1))], int)"
      ],
      "execution_count": null,
      "outputs": []
    },
    {
      "cell_type": "markdown",
      "metadata": {
        "id": "Jz2uze5GuPPE",
        "colab_type": "text"
      },
      "source": [
        "####***Vettorizzazione***\n",
        "\n",
        "Concludiamo il discorso su Numpy con questo discorso che ci permettono di effettuare diverse task senza chiamare ad esempio i *cicli for*!\n",
        "\n",
        "Andiamo a vedere quanto può essere efficente rispetto alle normali procedure!\n",
        "\n",
        "\n",
        "\n",
        "\n",
        "*   ES: andiamo calcolare in funzione del tempo alcuni compiti\n",
        "\n",
        "\n"
      ]
    },
    {
      "cell_type": "code",
      "metadata": {
        "id": "OkqKVoAmunxs",
        "colab_type": "code",
        "colab": {}
      },
      "source": [
        "import numpy as np\n",
        "import timeit as Timer"
      ],
      "execution_count": null,
      "outputs": []
    },
    {
      "cell_type": "markdown",
      "metadata": {
        "id": "5kV7qPU_vQMh",
        "colab_type": "text"
      },
      "source": [
        "Creo un intervallo di un milione!"
      ]
    },
    {
      "cell_type": "code",
      "metadata": {
        "id": "Jd4CJK0BvEEV",
        "colab_type": "code",
        "colab": {}
      },
      "source": [
        "m = np.arange(1000000)"
      ],
      "execution_count": null,
      "outputs": []
    },
    {
      "cell_type": "markdown",
      "metadata": {
        "id": "NgeXwP18vXVL",
        "colab_type": "text"
      },
      "source": [
        "Vado a creare una funzione che sommerà \"1\" ad ogni elemento della nostra sequenza!\n",
        "\n",
        "Creo due funzioni che fanno quello che è stato prefissato e sopra "
      ]
    },
    {
      "cell_type": "code",
      "metadata": {
        "id": "vzU5Sc4-vOHl",
        "colab_type": "code",
        "colab": {}
      },
      "source": [
        "def loop_sum():\n",
        "    return [val+1 for val in m]  "
      ],
      "execution_count": null,
      "outputs": []
    },
    {
      "cell_type": "code",
      "metadata": {
        "id": "9PLnodmA_RPx",
        "colab_type": "code",
        "colab": {}
      },
      "source": [
        "timer_loop=min(Timer.repeat(repeat=10, number=10))"
      ],
      "execution_count": null,
      "outputs": []
    },
    {
      "cell_type": "code",
      "metadata": {
        "id": "xQtfHGQzvu4x",
        "colab_type": "code",
        "colab": {}
      },
      "source": [
        "def numpy_sum():\n",
        "    return m+1"
      ],
      "execution_count": null,
      "outputs": []
    },
    {
      "cell_type": "code",
      "metadata": {
        "id": "OatXxZkGAysA",
        "colab_type": "code",
        "colab": {}
      },
      "source": [
        "timer_numpy=min(Timer.repeat(repeat=10, number=10))"
      ],
      "execution_count": null,
      "outputs": []
    },
    {
      "cell_type": "markdown",
      "metadata": {
        "id": "r0Taz1QVw1Yk",
        "colab_type": "text"
      },
      "source": [
        "Ora eseguiamo questa funzione 10 volte di fila andandola a cronometrare per tutte le dieci volte e scoprendo chi va piu lenta tra quelle piu veloci!"
      ]
    },
    {
      "cell_type": "code",
      "metadata": {
        "id": "OI_Vilv-vWtB",
        "colab_type": "code",
        "colab": {
          "base_uri": "https://localhost:8080/",
          "height": 50
        },
        "outputId": "0828d563-4400-4bba-cb69-d0b64268b25e"
      },
      "source": [
        "print(timer_loop)\n",
        "print(timer_numpy)"
      ],
      "execution_count": null,
      "outputs": [
        {
          "output_type": "stream",
          "text": [
            "1.540000198474445e-07\n",
            "3.000000106112566e-07\n"
          ],
          "name": "stdout"
        }
      ]
    },
    {
      "cell_type": "markdown",
      "metadata": {
        "id": "O9F-HnevL2j2",
        "colab_type": "text"
      },
      "source": [
        "Possiamo vedere che con il modulo Numpy, lavori su indicizzazione sono piu veloci!!"
      ]
    }
  ]
}