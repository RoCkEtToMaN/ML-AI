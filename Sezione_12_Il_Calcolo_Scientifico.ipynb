{
  "nbformat": 4,
  "nbformat_minor": 0,
  "metadata": {
    "colab": {
      "name": "Sezione 12: Il Calcolo Scientifico.ipynb",
      "provenance": [],
      "collapsed_sections": [],
      "authorship_tag": "ABX9TyNakAJoSU4TnBBH7E+GDLFb",
      "include_colab_link": true
    },
    "kernelspec": {
      "name": "python3",
      "display_name": "Python 3"
    }
  },
  "cells": [
    {
      "cell_type": "markdown",
      "metadata": {
        "id": "view-in-github",
        "colab_type": "text"
      },
      "source": [
        "<a href=\"https://colab.research.google.com/github/RoCkEtToMaN/Python/blob/master/Sezione_12_Il_Calcolo_Scientifico.ipynb\" target=\"_parent\"><img src=\"https://colab.research.google.com/assets/colab-badge.svg\" alt=\"Open In Colab\"/></a>"
      ]
    },
    {
      "cell_type": "markdown",
      "metadata": {
        "id": "IBcGqXnub-ae",
        "colab_type": "text"
      },
      "source": [
        "#***Sezione 12: Il Calcolo Scientifico***\n",
        "\n",
        "Il modulo che si vedrà è de-facto che darà vita a Scikit-Learn, Tensorflow, Pandas ed altri che vengono utilizzati in ambito ML e AI:\n",
        "\n",
        "\n",
        "\n",
        "* *Numpy*\n",
        "\n",
        "\n",
        "Se si usa Anaconda, questo modulo dovrebbe essere già installato!\n",
        "\n",
        "\n",
        "\n",
        "```\n",
        "pip install numpy\n",
        "```\n",
        "\n",
        "\n",
        "\n",
        "\n"
      ]
    },
    {
      "cell_type": "markdown",
      "metadata": {
        "id": "xUsNQdGTd2a2",
        "colab_type": "text"
      },
      "source": [
        "##***Calcolo Scientifico con Numpy***\n",
        "\n",
        "Questo modulo è veramente calcolato ad hoc per questo, ha a disposizione molte funzioni fatte con C e quindi sono molto veloci!\n",
        "\n",
        "Come tutti i moduli, lo importiamo:\n"
      ]
    },
    {
      "cell_type": "code",
      "metadata": {
        "id": "b2KBWE9AfKbN",
        "colab_type": "code",
        "colab": {}
      },
      "source": [
        "import numpy as np"
      ],
      "execution_count": 3,
      "outputs": []
    },
    {
      "cell_type": "markdown",
      "metadata": {
        "id": "dIXj9qGYfVqL",
        "colab_type": "text"
      },
      "source": [
        "Ora affrontiamo a vedere i:\n",
        "\n",
        "####***I Vettori***\n",
        "\n",
        "Il calcolo tra vettori e matrici è un qualcosa molto importante in tutti i linguaggi di programmazione!\n",
        "\n",
        "I vettori possono essere di piu dimensioni e di piu tipi!"
      ]
    },
    {
      "cell_type": "code",
      "metadata": {
        "id": "P8deGdCdgd2p",
        "colab_type": "code",
        "colab": {}
      },
      "source": [
        "l=[10,2,76,1,3]\n",
        "v=np.array(l)"
      ],
      "execution_count": 4,
      "outputs": []
    },
    {
      "cell_type": "code",
      "metadata": {
        "id": "wFW0UJw7gn9-",
        "colab_type": "code",
        "colab": {
          "base_uri": "https://localhost:8080/",
          "height": 34
        },
        "outputId": "def0634f-3efc-4707-8024-6920d2951b7e"
      },
      "source": [
        "print(v,type(v))"
      ],
      "execution_count": 5,
      "outputs": [
        {
          "output_type": "stream",
          "text": [
            "[10  2 76  1  3] <class 'numpy.ndarray'>\n"
          ],
          "name": "stdout"
        }
      ]
    },
    {
      "cell_type": "markdown",
      "metadata": {
        "id": "r7px8pK-i6_E",
        "colab_type": "text"
      },
      "source": [
        "Vediamo che è di tipo array!\n",
        "\n",
        "Se vogliamo accedere agli indici, vale sempre il discorso dell'indexing!\n",
        "\n",
        "\n",
        "\n",
        "*  *Indexing*:\n",
        "\n",
        "\n"
      ]
    },
    {
      "cell_type": "code",
      "metadata": {
        "id": "wbLmtlopjEyU",
        "colab_type": "code",
        "colab": {
          "base_uri": "https://localhost:8080/",
          "height": 34
        },
        "outputId": "11a204f5-a785-4108-ae95-68b08c31d679"
      },
      "source": [
        "v[0]"
      ],
      "execution_count": null,
      "outputs": [
        {
          "output_type": "execute_result",
          "data": {
            "text/plain": [
              "10"
            ]
          },
          "metadata": {
            "tags": []
          },
          "execution_count": 8
        }
      ]
    },
    {
      "cell_type": "code",
      "metadata": {
        "id": "HLICbGmOjFPS",
        "colab_type": "code",
        "colab": {
          "base_uri": "https://localhost:8080/",
          "height": 34
        },
        "outputId": "2a0914d8-f32d-427e-cea9-750c86c39791"
      },
      "source": [
        "v[1]"
      ],
      "execution_count": null,
      "outputs": [
        {
          "output_type": "execute_result",
          "data": {
            "text/plain": [
              "2"
            ]
          },
          "metadata": {
            "tags": []
          },
          "execution_count": 9
        }
      ]
    },
    {
      "cell_type": "code",
      "metadata": {
        "id": "lWUW9u0wjF77",
        "colab_type": "code",
        "colab": {
          "base_uri": "https://localhost:8080/",
          "height": 34
        },
        "outputId": "6516bb53-dcda-4785-8892-8a72fa2542d5"
      },
      "source": [
        "v[-1]"
      ],
      "execution_count": null,
      "outputs": [
        {
          "output_type": "execute_result",
          "data": {
            "text/plain": [
              "3"
            ]
          },
          "metadata": {
            "tags": []
          },
          "execution_count": 7
        }
      ]
    },
    {
      "cell_type": "markdown",
      "metadata": {
        "id": "j3qr2ZeH5haw",
        "colab_type": "text"
      },
      "source": [
        "\n",
        "\n",
        "*   *Slicing*: per ritagliare una parte di array\n",
        "\n",
        "\n"
      ]
    },
    {
      "cell_type": "code",
      "metadata": {
        "id": "cDKQ-ZNr5wWd",
        "colab_type": "code",
        "colab": {
          "base_uri": "https://localhost:8080/",
          "height": 34
        },
        "outputId": "8b7828cb-886c-4407-a0f7-18e51efb51df"
      },
      "source": [
        "v[1:3]"
      ],
      "execution_count": null,
      "outputs": [
        {
          "output_type": "execute_result",
          "data": {
            "text/plain": [
              "array([ 2, 76])"
            ]
          },
          "metadata": {
            "tags": []
          },
          "execution_count": 10
        }
      ]
    },
    {
      "cell_type": "code",
      "metadata": {
        "id": "i0jGKSDY50Q1",
        "colab_type": "code",
        "colab": {
          "base_uri": "https://localhost:8080/",
          "height": 34
        },
        "outputId": "407f3490-5262-407e-ecf5-298d9fa7260f"
      },
      "source": [
        "v[:1]"
      ],
      "execution_count": null,
      "outputs": [
        {
          "output_type": "execute_result",
          "data": {
            "text/plain": [
              "array([10])"
            ]
          },
          "metadata": {
            "tags": []
          },
          "execution_count": 12
        }
      ]
    },
    {
      "cell_type": "code",
      "metadata": {
        "id": "ucKdU_iI6XyM",
        "colab_type": "code",
        "colab": {
          "base_uri": "https://localhost:8080/",
          "height": 34
        },
        "outputId": "de281b8f-cf57-40d6-b014-9f563fafd335"
      },
      "source": [
        "v[-1:]"
      ],
      "execution_count": null,
      "outputs": [
        {
          "output_type": "execute_result",
          "data": {
            "text/plain": [
              "array([3])"
            ]
          },
          "metadata": {
            "tags": []
          },
          "execution_count": 13
        }
      ]
    },
    {
      "cell_type": "markdown",
      "metadata": {
        "id": "GItUE96Q6jEV",
        "colab_type": "text"
      },
      "source": [
        "\n",
        "\n",
        "*   *Maschere*: andiamo a mascherare valori che non rispettano alcuni vincoli\n",
        "\n",
        "\n"
      ]
    },
    {
      "cell_type": "code",
      "metadata": {
        "id": "dbACHg0S7sJP",
        "colab_type": "code",
        "colab": {}
      },
      "source": [
        "mask = v >20"
      ],
      "execution_count": 6,
      "outputs": []
    },
    {
      "cell_type": "code",
      "metadata": {
        "id": "h-j9RyEB8cQf",
        "colab_type": "code",
        "colab": {
          "base_uri": "https://localhost:8080/",
          "height": 34
        },
        "outputId": "3fe89852-5159-48e8-c8d9-923f9ba62c65"
      },
      "source": [
        "v\n",
        "mask"
      ],
      "execution_count": 7,
      "outputs": [
        {
          "output_type": "execute_result",
          "data": {
            "text/plain": [
              "array([False, False,  True, False, False])"
            ]
          },
          "metadata": {
            "tags": []
          },
          "execution_count": 7
        }
      ]
    },
    {
      "cell_type": "markdown",
      "metadata": {
        "id": "UVICa_kIaxun",
        "colab_type": "text"
      },
      "source": [
        ""
      ]
    },
    {
      "cell_type": "code",
      "metadata": {
        "id": "m_QUGOJU8kvi",
        "colab_type": "code",
        "colab": {
          "base_uri": "https://localhost:8080/",
          "height": 34
        },
        "outputId": "f1da7b31-30d4-4b1e-ec47-0892a66e13c5"
      },
      "source": [
        "v2=v[mask]\n",
        "v2\n"
      ],
      "execution_count": 8,
      "outputs": [
        {
          "output_type": "execute_result",
          "data": {
            "text/plain": [
              "array([76])"
            ]
          },
          "metadata": {
            "tags": []
          },
          "execution_count": 8
        }
      ]
    },
    {
      "cell_type": "markdown",
      "metadata": {
        "id": "5of4mKfZbGBc",
        "colab_type": "text"
      },
      "source": [
        "Questo passaggio lo si fa all'interno di un'unica operazione:"
      ]
    },
    {
      "cell_type": "code",
      "metadata": {
        "id": "wWC-CAJObE7C",
        "colab_type": "code",
        "colab": {
          "base_uri": "https://localhost:8080/",
          "height": 34
        },
        "outputId": "708c616e-f9b4-41fa-ef03-a158543dcb03"
      },
      "source": [
        "v_lm=v[v<v.mean()]\n",
        "v_lm"
      ],
      "execution_count": 12,
      "outputs": [
        {
          "output_type": "execute_result",
          "data": {
            "text/plain": [
              "array([10,  2,  1,  3])"
            ]
          },
          "metadata": {
            "tags": []
          },
          "execution_count": 12
        }
      ]
    },
    {
      "cell_type": "markdown",
      "metadata": {
        "id": "OVFdQkchbXQt",
        "colab_type": "text"
      },
      "source": [
        "Se volessimo modificare gli elementi di un vettore:\n",
        "\n",
        "*   *Modificare* elementi di un vettore:\n",
        "\n",
        "\n"
      ]
    },
    {
      "cell_type": "code",
      "metadata": {
        "id": "4U4hfMNTbajj",
        "colab_type": "code",
        "colab": {}
      },
      "source": [
        "v=np.array([1,2,3,4,5])"
      ],
      "execution_count": 13,
      "outputs": []
    },
    {
      "cell_type": "code",
      "metadata": {
        "id": "gXWtCEpLbgZz",
        "colab_type": "code",
        "colab": {
          "base_uri": "https://localhost:8080/",
          "height": 34
        },
        "outputId": "fc3ef4cf-4b8a-4d65-d607-e286d5c89a71"
      },
      "source": [
        "v"
      ],
      "execution_count": 14,
      "outputs": [
        {
          "output_type": "execute_result",
          "data": {
            "text/plain": [
              "array([1, 2, 3, 4, 5])"
            ]
          },
          "metadata": {
            "tags": []
          },
          "execution_count": 14
        }
      ]
    },
    {
      "cell_type": "markdown",
      "metadata": {
        "id": "yQOcxo_Obn1C",
        "colab_type": "text"
      },
      "source": [
        "Come con le liste:"
      ]
    },
    {
      "cell_type": "code",
      "metadata": {
        "id": "0Hnyk3_Mbi1B",
        "colab_type": "code",
        "colab": {
          "base_uri": "https://localhost:8080/",
          "height": 34
        },
        "outputId": "093a01bb-a642-441d-cbea-d5b6f20a04b9"
      },
      "source": [
        "v[0]=10\n",
        "v"
      ],
      "execution_count": 15,
      "outputs": [
        {
          "output_type": "execute_result",
          "data": {
            "text/plain": [
              "array([10,  2,  3,  4,  5])"
            ]
          },
          "metadata": {
            "tags": []
          },
          "execution_count": 15
        }
      ]
    },
    {
      "cell_type": "markdown",
      "metadata": {
        "id": "FTt6sWK5bmoj",
        "colab_type": "text"
      },
      "source": [
        ""
      ]
    },
    {
      "cell_type": "code",
      "metadata": {
        "id": "WEadiEH4cC9h",
        "colab_type": "code",
        "colab": {
          "base_uri": "https://localhost:8080/",
          "height": 34
        },
        "outputId": "eacf758a-be24-46ba-8325-8c76d78354ab"
      },
      "source": [
        "v[:2]\n"
      ],
      "execution_count": 23,
      "outputs": [
        {
          "output_type": "execute_result",
          "data": {
            "text/plain": [
              "array([10,  2])"
            ]
          },
          "metadata": {
            "tags": []
          },
          "execution_count": 23
        }
      ]
    },
    {
      "cell_type": "code",
      "metadata": {
        "id": "pXXE2l0HcZiy",
        "colab_type": "code",
        "colab": {
          "base_uri": "https://localhost:8080/",
          "height": 34
        },
        "outputId": "da6cc102-2e01-40d4-8eaf-724290d1b5fd"
      },
      "source": [
        "v[-2:]"
      ],
      "execution_count": 25,
      "outputs": [
        {
          "output_type": "execute_result",
          "data": {
            "text/plain": [
              "array([4, 5])"
            ]
          },
          "metadata": {
            "tags": []
          },
          "execution_count": 25
        }
      ]
    },
    {
      "cell_type": "code",
      "metadata": {
        "id": "xN0m0XwndBd1",
        "colab_type": "code",
        "colab": {
          "base_uri": "https://localhost:8080/",
          "height": 34
        },
        "outputId": "16f942da-1130-4a09-d06f-40289ce09818"
      },
      "source": [
        "v[:2]=v[-2:]\n",
        "v"
      ],
      "execution_count": 27,
      "outputs": [
        {
          "output_type": "execute_result",
          "data": {
            "text/plain": [
              "array([4, 5, 3, 4, 5])"
            ]
          },
          "metadata": {
            "tags": []
          },
          "execution_count": 27
        }
      ]
    }
  ]
}